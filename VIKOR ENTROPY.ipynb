{
 "cells": [
  {
   "cell_type": "code",
   "execution_count": 22,
   "metadata": {},
   "outputs": [
    {
     "name": "stdout",
     "output_type": "stream",
     "text": [
      "Attribute Weights: \n",
      " PH                   0.126729\n",
      "EC                   0.031049\n",
      "Organinc Carbon      0.035077\n",
      "PHOSPHOROUS          0.089290\n",
      "POTASH               0.255349\n",
      "CALCIUM_CARBONATE    0.071593\n",
      "FERROUS              0.067544\n",
      "MANAGESE             0.107962\n",
      "ZINK                 0.072289\n",
      "COPPER               0.143118\n",
      "dtype: float64\n",
      "         PH    EC  Organinc Carbon  PHOSPHOROUS  POTASH  CALCIUM_CARBONATE  \\\n",
      "0      7.30  0.42           100.66       997.00     5.2               10.9   \n",
      "1      8.60  0.44             1.08        34.90   370.0               12.0   \n",
      "2      8.58  0.50             0.78        13.30   403.0                9.6   \n",
      "3      8.55  0.25             0.15        16.50   504.0                6.0   \n",
      "4      8.55  0.48             0.75         1.60   627.0               15.2   \n",
      "...     ...   ...              ...          ...     ...                ...   \n",
      "10573  4.42  0.07             0.40         1.60   224.0                1.6   \n",
      "10574  4.22  0.95             0.80        12.10   493.0               11.2   \n",
      "10575  4.00  0.12             0.98        38.40   582.0                2.0   \n",
      "10576  1.16  0.21             0.87         2.15   269.0                6.0   \n",
      "10577  0.60  0.68             0.78        52.00   582.0                6.4   \n",
      "\n",
      "       FERROUS  MANAGESE  ZINK  COPPER  VIKOR Score     Rank Quality  \n",
      "0         6.10      0.60  4.60     NaN     0.552992  10578.0    Good  \n",
      "1        13.30     18.50  1.60    6.30     0.683379  10155.0    Good  \n",
      "2        93.20     12.40  1.19    7.00     0.683286  10172.0    Good  \n",
      "3         5.50     14.30  1.33    7.88     0.691404   7943.0    Good  \n",
      "4         6.75     16.55  1.25    4.30     0.698192   5109.0    Good  \n",
      "...        ...       ...   ...     ...          ...      ...     ...  \n",
      "10573     5.40     11.00  2.60    0.80     0.703665   3234.0    Good  \n",
      "10574     6.04      8.88  0.08    2.24     0.716543   1044.0    Good  \n",
      "10575     4.30     18.70  0.40    1.60     0.721261    718.0    Good  \n",
      "10576    22.60     27.20  1.80   10.00     0.715158   1150.0    Good  \n",
      "10577     5.10      6.80  0.20    7.80     0.732607     60.0    Good  \n",
      "\n",
      "[10578 rows x 13 columns]\n"
     ]
    },
    {
     "name": "stderr",
     "output_type": "stream",
     "text": [
      "c:\\Users\\vedan\\AppData\\Local\\Programs\\Python\\Python39\\lib\\site-packages\\pandas\\core\\internals\\blocks.py:402: RuntimeWarning: divide by zero encountered in log\n",
      "  result = func(self.values, **kwargs)\n"
     ]
    }
   ],
   "source": [
    "import pandas as pd\n",
    "import numpy as np\n",
    "\n",
    "# Read the CSV file\n",
    "data = pd.read_csv('soil_fertility.csv')\n",
    "data = data.drop([\"SAMPLE_NO\",\"SEASON\",\"SAMPLE_DATE\",\"FARMER_ENGLISH_NAME\",\"VILLAGE_NAME_ENGLISH\",\"SURVEY_NO\",\"Unnamed: 7\"], axis=1)\n",
    "\n",
    "\n",
    "# Calculate normalized decision matrix\n",
    "norm_data = (data - data.min()) / (data.max() - data.min())\n",
    "\n",
    "# Calculate entropy of each attribute\n",
    "h = 0.621335\n",
    "entropy= -1 * (norm_data * np.log(norm_data)).sum() * h\n",
    "\n",
    "\n",
    "# Calculate weight of each attribute\n",
    "weight = (1 - entropy) / sum(1 - entropy)\n",
    "\n",
    "# Print the final weights\n",
    "print(\"Attribute Weights: \\n\", weight)\n",
    "\n",
    "# Normalize the data\n",
    "def normalize(df):\n",
    "    return (df - np.min(df)) / (np.max(df) - np.min(df))\n",
    "\n",
    "normalized_data = data.apply(normalize)\n",
    "\n",
    "# Calculate the weighted normalized decision matrix\n",
    "weighted_normalized_matrix = normalized_data * weight\n",
    "\n",
    "# Calculate the best and worst values for each criterion\n",
    "best_values = weighted_normalized_matrix.max()\n",
    "worst_values = weighted_normalized_matrix.min()\n",
    "\n",
    "# Calculate the VIKOR scores for each alternative\n",
    "s_values = np.sqrt(np.sum((weighted_normalized_matrix - best_values) ** 2, axis=1))\n",
    "r_values = np.max(np.abs(weighted_normalized_matrix - best_values), axis=1)\n",
    "q_values = np.abs(np.abs(weighted_normalized_matrix - best_values).sum(axis=1) - s_values)\n",
    "\n",
    "vikor_scores = q_values / (q_values + r_values)\n",
    "\n",
    "# Determine the rank of each alternative based on their VIKOR scores\n",
    "rank = vikor_scores.rank(ascending=False)\n",
    "\n",
    "# Add the VIKOR scores and ranks to the original data\n",
    "data['VIKOR Score'] = vikor_scores\n",
    "data['Rank'] = rank\n",
    "\n",
    "data['Quality'] = pd.cut(data[\"VIKOR Score\"],bins=[0,0.25,0.5,0.75,1],labels=['Poor','Medium','Good','Excellent'])\n",
    "\n",
    "\n",
    "\n",
    "print(data)\n",
    "# Write the output to a new CSV file\n",
    "#data.to_csv('output_file.csv', index=False)"
   ]
  },
  {
   "cell_type": "code",
   "execution_count": 23,
   "metadata": {},
   "outputs": [
    {
     "name": "stdout",
     "output_type": "stream",
     "text": [
      "      VILLAGE_NAME_ENGLISH    PH    EC  Organinc Carbon  PHOSPHOROUS  POTASH  \\\n",
      "0                KURUNDWAD  7.22  0.42             0.60         12.9   400.0   \n",
      "1                 ARJUNWAD  7.59  1.10             0.70         26.0   560.0   \n",
      "2                 ARJUNWAD  7.58  0.42             0.60         19.0   227.0   \n",
      "3                 ARJUNWAD  7.52  0.45             0.50          8.0   188.0   \n",
      "4                 ARJUNWAD  7.78  0.66             0.60          5.0   248.0   \n",
      "...                    ...   ...   ...              ...          ...     ...   \n",
      "10573               SHIROL  7.76  0.22             0.39         63.2   470.0   \n",
      "10574               SHIROL  7.20  0.28             0.36         93.8   717.0   \n",
      "10575          DATTANAGAR   8.08  0.38             0.72         83.2  3750.0   \n",
      "10576               SHIROL  8.08  0.30             0.87         98.5  4255.0   \n",
      "10577             ARJUNWAD  8.41  0.37             0.18         17.8   711.0   \n",
      "\n",
      "       CALCIUM_CARBONATE  FERROUS  MANAGESE  ZINK  COPPER  Total Rating Value  \n",
      "0                    5.6     14.4      38.0  0.04    2.14              481.32  \n",
      "1                    7.2     26.0      40.0  0.60    5.00              674.19  \n",
      "2                    6.8     23.0      38.0  0.40    4.00              326.80  \n",
      "3                    6.8     26.0      41.0  0.30    4.00              282.57  \n",
      "4                    7.2     25.0      33.0  0.30    4.00              331.54  \n",
      "...                  ...      ...       ...   ...     ...                 ...  \n",
      "10573                5.6     24.2      16.0  2.11   10.20              599.68  \n",
      "10574                4.4     25.2     171.8  1.80   10.00             1031.84  \n",
      "10575               11.2     31.8      15.6  1.26    9.98             3912.22  \n",
      "10576                7.2     26.5      16.9  1.64   16.40             4431.39  \n",
      "10577               14.0     20.0      14.4  0.98    9.11              796.25  \n",
      "\n",
      "[10578 rows x 12 columns]\n",
      "      VILLAGE_NAME_ENGLISH    PH    EC  Organinc Carbon  PHOSPHOROUS  POTASH  \\\n",
      "0                KURUNDWAD  7.22  0.42             0.60         12.9   400.0   \n",
      "1                 ARJUNWAD  7.59  1.10             0.70         26.0   560.0   \n",
      "2                 ARJUNWAD  7.58  0.42             0.60         19.0   227.0   \n",
      "3                 ARJUNWAD  7.52  0.45             0.50          8.0   188.0   \n",
      "4                 ARJUNWAD  7.78  0.66             0.60          5.0   248.0   \n",
      "...                    ...   ...   ...              ...          ...     ...   \n",
      "10573               SHIROL  7.76  0.22             0.39         63.2   470.0   \n",
      "10574               SHIROL  7.20  0.28             0.36         93.8   717.0   \n",
      "10575          DATTANAGAR   8.08  0.38             0.72         83.2  3750.0   \n",
      "10576               SHIROL  8.08  0.30             0.87         98.5  4255.0   \n",
      "10577             ARJUNWAD  8.41  0.37             0.18         17.8   711.0   \n",
      "\n",
      "       CALCIUM_CARBONATE  FERROUS  MANAGESE  ZINK  COPPER  Total Rating Value  \\\n",
      "0                    5.6     14.4      38.0  0.04    2.14              481.32   \n",
      "1                    7.2     26.0      40.0  0.60    5.00              674.19   \n",
      "2                    6.8     23.0      38.0  0.40    4.00              326.80   \n",
      "3                    6.8     26.0      41.0  0.30    4.00              282.57   \n",
      "4                    7.2     25.0      33.0  0.30    4.00              331.54   \n",
      "...                  ...      ...       ...   ...     ...                 ...   \n",
      "10573                5.6     24.2      16.0  2.11   10.20              599.68   \n",
      "10574                4.4     25.2     171.8  1.80   10.00             1031.84   \n",
      "10575               11.2     31.8      15.6  1.26    9.98             3912.22   \n",
      "10576                7.2     26.5      16.9  1.64   16.40             4431.39   \n",
      "10577               14.0     20.0      14.4  0.98    9.11              796.25   \n",
      "\n",
      "         Quality  \n",
      "0         Medium  \n",
      "1           Good  \n",
      "2           Poor  \n",
      "3           Poor  \n",
      "4           Poor  \n",
      "...          ...  \n",
      "10573       Good  \n",
      "10574  Excellent  \n",
      "10575  Excellent  \n",
      "10576  Excellent  \n",
      "10577  Excellent  \n",
      "\n",
      "[10578 rows x 13 columns]\n"
     ]
    },
    {
     "data": {
      "image/png": "[encoded data removed]",
      "text/plain": [
       "<Figure size 432x288 with 1 Axes>"
      ]
     },
     "metadata": {
      "needs_background": "light"
     },
     "output_type": "display_data"
    }
   ],
   "source": [
    "from matplotlib import pyplot as plt\n",
    "\n",
    "\n",
    "df = pd.read_csv('soil_dataset.csv')\n",
    "print(df)\n",
    "df['Quality'] = pd.cut(df[\"Total Rating Value\"],bins=[0,400,500,700,10000],labels=['Poor','Medium','Good','Excellent'])\n",
    "print(df)\n",
    "df['Quality'].value_counts().plot(kind='barh')\n",
    "plt.show()\n"
   ]
  },
  {
   "cell_type": "code",
   "execution_count": 25,
   "metadata": {},
   "outputs": [
    {
     "name": "stdout",
     "output_type": "stream",
     "text": [
      "-0.012240540054970201\n"
     ]
    }
   ],
   "source": [
    "print(data['Rank'].corr(df['Total Rating Value'].rank()))"
   ]
  }
 ],
 "metadata": {
  "kernelspec": {
   "display_name": "Python 3",
   "language": "python",
   "name": "python3"
  },
  "language_info": {
   "codemirror_mode": {
    "name": "ipython",
    "version": 3
   },
   "file_extension": ".py",
   "mimetype": "text/x-python",
   "name": "python",
   "nbconvert_exporter": "python",
   "pygments_lexer": "ipython3",
   "version": "3.9.6"
  },
  "orig_nbformat": 4
 },
 "nbformat": 4,
 "nbformat_minor": 2
}
