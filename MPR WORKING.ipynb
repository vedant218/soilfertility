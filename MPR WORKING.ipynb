{
 "cells": [
  {
   "cell_type": "code",
   "execution_count": 702,
   "metadata": {},
   "outputs": [],
   "source": [
    "import numpy as np\n",
    "import matplotlib.pyplot as plt\n",
    "import pandas as pd"
   ]
  },
  {
   "cell_type": "code",
   "execution_count": 703,
   "metadata": {},
   "outputs": [],
   "source": [
    "df = pd.read_csv('soil_fertility.csv')"
   ]
  },
  {
   "cell_type": "code",
   "execution_count": 704,
   "metadata": {},
   "outputs": [
    {
     "data": {
      "text/html": [
       "<div>\n",
       "<style scoped>\n",
       "    .dataframe tbody tr th:only-of-type {\n",
       "        vertical-align: middle;\n",
       "    }\n",
       "\n",
       "    .dataframe tbody tr th {\n",
       "        vertical-align: top;\n",
       "    }\n",
       "\n",
       "    .dataframe thead th {\n",
       "        text-align: right;\n",
       "    }\n",
       "</style>\n",
       "<table border=\"1\" class=\"dataframe\">\n",
       "  <thead>\n",
       "    <tr style=\"text-align: right;\">\n",
       "      <th></th>\n",
       "      <th>SAMPLE_NO</th>\n",
       "      <th>SEASON</th>\n",
       "      <th>SAMPLE_DATE</th>\n",
       "      <th>FARMER_ENGLISH_NAME</th>\n",
       "      <th>VILLAGE_NAME_ENGLISH</th>\n",
       "      <th>SURVEY_NO</th>\n",
       "      <th>PH</th>\n",
       "      <th>Unnamed: 7</th>\n",
       "      <th>EC</th>\n",
       "      <th>Organinc Carbon</th>\n",
       "      <th>PHOSPHOROUS</th>\n",
       "      <th>POTASH</th>\n",
       "      <th>CALCIUM_CARBONATE</th>\n",
       "      <th>FERROUS</th>\n",
       "      <th>MANAGESE</th>\n",
       "      <th>ZINK</th>\n",
       "      <th>COPPER</th>\n",
       "    </tr>\n",
       "  </thead>\n",
       "  <tbody>\n",
       "    <tr>\n",
       "      <th>0</th>\n",
       "      <td>35902</td>\n",
       "      <td>2019-2020</td>\n",
       "      <td>5/15/2019</td>\n",
       "      <td>ANNASAO  ALIS  KIRTIKUMAR  GUNDAPPA .DANOLE</td>\n",
       "      <td>SHIRDHON</td>\n",
       "      <td>172/75</td>\n",
       "      <td>7.30</td>\n",
       "      <td>0.36</td>\n",
       "      <td>0.42</td>\n",
       "      <td>100.66</td>\n",
       "      <td>997.00</td>\n",
       "      <td>5.2</td>\n",
       "      <td>10.9</td>\n",
       "      <td>6.10</td>\n",
       "      <td>0.60</td>\n",
       "      <td>4.60</td>\n",
       "      <td>NaN</td>\n",
       "    </tr>\n",
       "    <tr>\n",
       "      <th>1</th>\n",
       "      <td>21043</td>\n",
       "      <td>2015-2016</td>\n",
       "      <td>10/12/2015</td>\n",
       "      <td>MAHAVIR  BAPU  PATIL</td>\n",
       "      <td>SHIRATI</td>\n",
       "      <td>492</td>\n",
       "      <td>8.60</td>\n",
       "      <td>NaN</td>\n",
       "      <td>0.44</td>\n",
       "      <td>1.08</td>\n",
       "      <td>34.90</td>\n",
       "      <td>370.0</td>\n",
       "      <td>12.0</td>\n",
       "      <td>13.30</td>\n",
       "      <td>18.50</td>\n",
       "      <td>1.60</td>\n",
       "      <td>6.30</td>\n",
       "    </tr>\n",
       "    <tr>\n",
       "      <th>2</th>\n",
       "      <td>24651</td>\n",
       "      <td>2016-2017</td>\n",
       "      <td>12/22/2016</td>\n",
       "      <td>ADAPPA  DADA  LADGE</td>\n",
       "      <td>CHAND-SHIRADWAD</td>\n",
       "      <td>121/1</td>\n",
       "      <td>8.58</td>\n",
       "      <td>NaN</td>\n",
       "      <td>0.50</td>\n",
       "      <td>0.78</td>\n",
       "      <td>13.30</td>\n",
       "      <td>403.0</td>\n",
       "      <td>9.6</td>\n",
       "      <td>93.20</td>\n",
       "      <td>12.40</td>\n",
       "      <td>1.19</td>\n",
       "      <td>7.00</td>\n",
       "    </tr>\n",
       "    <tr>\n",
       "      <th>3</th>\n",
       "      <td>24976</td>\n",
       "      <td>2016-2017</td>\n",
       "      <td>1/3/2017</td>\n",
       "      <td>GANPATI  KESHAV  MANE</td>\n",
       "      <td>JAMBHALI</td>\n",
       "      <td>664</td>\n",
       "      <td>8.55</td>\n",
       "      <td>NaN</td>\n",
       "      <td>0.25</td>\n",
       "      <td>0.15</td>\n",
       "      <td>16.50</td>\n",
       "      <td>504.0</td>\n",
       "      <td>6.0</td>\n",
       "      <td>5.50</td>\n",
       "      <td>14.30</td>\n",
       "      <td>1.33</td>\n",
       "      <td>7.88</td>\n",
       "    </tr>\n",
       "    <tr>\n",
       "      <th>4</th>\n",
       "      <td>27525</td>\n",
       "      <td>2017-2018</td>\n",
       "      <td>9/18/2017</td>\n",
       "      <td>KUMAR APPA MURCHUTTE</td>\n",
       "      <td>SHEDBAL</td>\n",
       "      <td>797</td>\n",
       "      <td>8.55</td>\n",
       "      <td>NaN</td>\n",
       "      <td>0.48</td>\n",
       "      <td>0.75</td>\n",
       "      <td>1.60</td>\n",
       "      <td>627.0</td>\n",
       "      <td>15.2</td>\n",
       "      <td>6.75</td>\n",
       "      <td>16.55</td>\n",
       "      <td>1.25</td>\n",
       "      <td>4.30</td>\n",
       "    </tr>\n",
       "    <tr>\n",
       "      <th>...</th>\n",
       "      <td>...</td>\n",
       "      <td>...</td>\n",
       "      <td>...</td>\n",
       "      <td>...</td>\n",
       "      <td>...</td>\n",
       "      <td>...</td>\n",
       "      <td>...</td>\n",
       "      <td>...</td>\n",
       "      <td>...</td>\n",
       "      <td>...</td>\n",
       "      <td>...</td>\n",
       "      <td>...</td>\n",
       "      <td>...</td>\n",
       "      <td>...</td>\n",
       "      <td>...</td>\n",
       "      <td>...</td>\n",
       "      <td>...</td>\n",
       "    </tr>\n",
       "    <tr>\n",
       "      <th>10573</th>\n",
       "      <td>10038</td>\n",
       "      <td>2013-2014</td>\n",
       "      <td>4/13/2013</td>\n",
       "      <td>KARYAKARI  SANCHALAK  SHRI DATTA  S.S.S.K.LTD ...</td>\n",
       "      <td>SHIROL</td>\n",
       "      <td>NaN</td>\n",
       "      <td>4.42</td>\n",
       "      <td>NaN</td>\n",
       "      <td>0.07</td>\n",
       "      <td>0.40</td>\n",
       "      <td>1.60</td>\n",
       "      <td>224.0</td>\n",
       "      <td>1.6</td>\n",
       "      <td>5.40</td>\n",
       "      <td>11.00</td>\n",
       "      <td>2.60</td>\n",
       "      <td>0.80</td>\n",
       "    </tr>\n",
       "    <tr>\n",
       "      <th>10574</th>\n",
       "      <td>9888</td>\n",
       "      <td>2012-2013</td>\n",
       "      <td>2/5/2013</td>\n",
       "      <td>KARYAKARI  SANCHALAK  SHRI DATTA  S.S.S.K.LTD ...</td>\n",
       "      <td>SHIROL</td>\n",
       "      <td>NaN</td>\n",
       "      <td>4.22</td>\n",
       "      <td>NaN</td>\n",
       "      <td>0.95</td>\n",
       "      <td>0.80</td>\n",
       "      <td>12.10</td>\n",
       "      <td>493.0</td>\n",
       "      <td>11.2</td>\n",
       "      <td>6.04</td>\n",
       "      <td>8.88</td>\n",
       "      <td>0.08</td>\n",
       "      <td>2.24</td>\n",
       "    </tr>\n",
       "    <tr>\n",
       "      <th>10575</th>\n",
       "      <td>42168</td>\n",
       "      <td>2019-2020</td>\n",
       "      <td>1/27/2020</td>\n",
       "      <td>KARYAKARI  SANCHALAK  SHRI DATTA  S.S.S.K.LTD ...</td>\n",
       "      <td>SHIROL</td>\n",
       "      <td>V.S.H.</td>\n",
       "      <td>4.00</td>\n",
       "      <td>NaN</td>\n",
       "      <td>0.12</td>\n",
       "      <td>0.98</td>\n",
       "      <td>38.40</td>\n",
       "      <td>582.0</td>\n",
       "      <td>2.0</td>\n",
       "      <td>4.30</td>\n",
       "      <td>18.70</td>\n",
       "      <td>0.40</td>\n",
       "      <td>1.60</td>\n",
       "    </tr>\n",
       "    <tr>\n",
       "      <th>10576</th>\n",
       "      <td>20516</td>\n",
       "      <td>2015-2016</td>\n",
       "      <td>9/22/2015</td>\n",
       "      <td>BABU  PUNAPPA  GADAKARI</td>\n",
       "      <td>SADALGA</td>\n",
       "      <td>10319</td>\n",
       "      <td>1.16</td>\n",
       "      <td>NaN</td>\n",
       "      <td>0.21</td>\n",
       "      <td>0.87</td>\n",
       "      <td>2.15</td>\n",
       "      <td>269.0</td>\n",
       "      <td>6.0</td>\n",
       "      <td>22.60</td>\n",
       "      <td>27.20</td>\n",
       "      <td>1.80</td>\n",
       "      <td>10.00</td>\n",
       "    </tr>\n",
       "    <tr>\n",
       "      <th>10577</th>\n",
       "      <td>34414</td>\n",
       "      <td>2018-2019</td>\n",
       "      <td>11/22/2018</td>\n",
       "      <td>PRAMILA  DILIPRAO  KAMAT</td>\n",
       "      <td>DHARANGUTTI</td>\n",
       "      <td>370</td>\n",
       "      <td>0.60</td>\n",
       "      <td>NaN</td>\n",
       "      <td>0.68</td>\n",
       "      <td>0.78</td>\n",
       "      <td>52.00</td>\n",
       "      <td>582.0</td>\n",
       "      <td>6.4</td>\n",
       "      <td>5.10</td>\n",
       "      <td>6.80</td>\n",
       "      <td>0.20</td>\n",
       "      <td>7.80</td>\n",
       "    </tr>\n",
       "  </tbody>\n",
       "</table>\n",
       "<p>10578 rows × 17 columns</p>\n",
       "</div>"
      ],
      "text/plain": [
       "       SAMPLE_NO     SEASON SAMPLE_DATE  \\\n",
       "0          35902  2019-2020   5/15/2019   \n",
       "1          21043  2015-2016  10/12/2015   \n",
       "2          24651  2016-2017  12/22/2016   \n",
       "3          24976  2016-2017    1/3/2017   \n",
       "4          27525  2017-2018   9/18/2017   \n",
       "...          ...        ...         ...   \n",
       "10573      10038  2013-2014   4/13/2013   \n",
       "10574       9888  2012-2013    2/5/2013   \n",
       "10575      42168  2019-2020   1/27/2020   \n",
       "10576      20516  2015-2016   9/22/2015   \n",
       "10577      34414  2018-2019  11/22/2018   \n",
       "\n",
       "                                     FARMER_ENGLISH_NAME VILLAGE_NAME_ENGLISH  \\\n",
       "0            ANNASAO  ALIS  KIRTIKUMAR  GUNDAPPA .DANOLE             SHIRDHON   \n",
       "1                                   MAHAVIR  BAPU  PATIL              SHIRATI   \n",
       "2                                    ADAPPA  DADA  LADGE      CHAND-SHIRADWAD   \n",
       "3                                  GANPATI  KESHAV  MANE             JAMBHALI   \n",
       "4                                   KUMAR APPA MURCHUTTE              SHEDBAL   \n",
       "...                                                  ...                  ...   \n",
       "10573  KARYAKARI  SANCHALAK  SHRI DATTA  S.S.S.K.LTD ...               SHIROL   \n",
       "10574  KARYAKARI  SANCHALAK  SHRI DATTA  S.S.S.K.LTD ...               SHIROL   \n",
       "10575  KARYAKARI  SANCHALAK  SHRI DATTA  S.S.S.K.LTD ...               SHIROL   \n",
       "10576                            BABU  PUNAPPA  GADAKARI              SADALGA   \n",
       "10577                           PRAMILA  DILIPRAO  KAMAT          DHARANGUTTI   \n",
       "\n",
       "      SURVEY_NO    PH  Unnamed: 7    EC  Organinc Carbon  PHOSPHOROUS  POTASH  \\\n",
       "0        172/75  7.30        0.36  0.42           100.66       997.00     5.2   \n",
       "1           492  8.60         NaN  0.44             1.08        34.90   370.0   \n",
       "2         121/1  8.58         NaN  0.50             0.78        13.30   403.0   \n",
       "3           664  8.55         NaN  0.25             0.15        16.50   504.0   \n",
       "4           797  8.55         NaN  0.48             0.75         1.60   627.0   \n",
       "...         ...   ...         ...   ...              ...          ...     ...   \n",
       "10573       NaN  4.42         NaN  0.07             0.40         1.60   224.0   \n",
       "10574       NaN  4.22         NaN  0.95             0.80        12.10   493.0   \n",
       "10575    V.S.H.  4.00         NaN  0.12             0.98        38.40   582.0   \n",
       "10576     10319  1.16         NaN  0.21             0.87         2.15   269.0   \n",
       "10577       370  0.60         NaN  0.68             0.78        52.00   582.0   \n",
       "\n",
       "       CALCIUM_CARBONATE  FERROUS  MANAGESE  ZINK  COPPER  \n",
       "0                   10.9     6.10      0.60  4.60     NaN  \n",
       "1                   12.0    13.30     18.50  1.60    6.30  \n",
       "2                    9.6    93.20     12.40  1.19    7.00  \n",
       "3                    6.0     5.50     14.30  1.33    7.88  \n",
       "4                   15.2     6.75     16.55  1.25    4.30  \n",
       "...                  ...      ...       ...   ...     ...  \n",
       "10573                1.6     5.40     11.00  2.60    0.80  \n",
       "10574               11.2     6.04      8.88  0.08    2.24  \n",
       "10575                2.0     4.30     18.70  0.40    1.60  \n",
       "10576                6.0    22.60     27.20  1.80   10.00  \n",
       "10577                6.4     5.10      6.80  0.20    7.80  \n",
       "\n",
       "[10578 rows x 17 columns]"
      ]
     },
     "execution_count": 704,
     "metadata": {},
     "output_type": "execute_result"
    }
   ],
   "source": [
    "df\n"
   ]
  },
  {
   "cell_type": "code",
   "execution_count": 705,
   "metadata": {},
   "outputs": [
    {
     "data": {
      "text/plain": [
       "<AxesSubplot:>"
      ]
     },
     "execution_count": 705,
     "metadata": {},
     "output_type": "execute_result"
    },
    {
     "data": {
      "image/png": "[encoded data removed]",
      "text/plain": [
       "<Figure size 432x288 with 1 Axes>"
      ]
     },
     "metadata": {
      "needs_background": "light"
     },
     "output_type": "display_data"
    }
   ],
   "source": [
    "import seaborn as sns\n",
    "import matplotlib.pyplot as plt\n",
    "\n",
    "plt.ylim(0,1)\n",
    "sns.boxplot(df['EC'] )"
   ]
  },
  {
   "cell_type": "code",
   "execution_count": 706,
   "metadata": {},
   "outputs": [
    {
     "name": "stdout",
     "output_type": "stream",
     "text": [
      "       SAMPLE_NO     SEASON SAMPLE_DATE  \\\n",
      "0          35902  2019-2020   5/15/2019   \n",
      "1          21043  2015-2016  10/12/2015   \n",
      "2          24651  2016-2017  12/22/2016   \n",
      "3          24976  2016-2017    1/3/2017   \n",
      "4          27525  2017-2018   9/18/2017   \n",
      "...          ...        ...         ...   \n",
      "10573      10038  2013-2014   4/13/2013   \n",
      "10574       9888  2012-2013    2/5/2013   \n",
      "10575      42168  2019-2020   1/27/2020   \n",
      "10576      20516  2015-2016   9/22/2015   \n",
      "10577      34414  2018-2019  11/22/2018   \n",
      "\n",
      "                                     FARMER_ENGLISH_NAME VILLAGE_NAME_ENGLISH  \\\n",
      "0            ANNASAO  ALIS  KIRTIKUMAR  GUNDAPPA .DANOLE             SHIRDHON   \n",
      "1                                   MAHAVIR  BAPU  PATIL              SHIRATI   \n",
      "2                                    ADAPPA  DADA  LADGE      CHAND-SHIRADWAD   \n",
      "3                                  GANPATI  KESHAV  MANE             JAMBHALI   \n",
      "4                                   KUMAR APPA MURCHUTTE              SHEDBAL   \n",
      "...                                                  ...                  ...   \n",
      "10573  KARYAKARI  SANCHALAK  SHRI DATTA  S.S.S.K.LTD ...               SHIROL   \n",
      "10574  KARYAKARI  SANCHALAK  SHRI DATTA  S.S.S.K.LTD ...               SHIROL   \n",
      "10575  KARYAKARI  SANCHALAK  SHRI DATTA  S.S.S.K.LTD ...               SHIROL   \n",
      "10576                            BABU  PUNAPPA  GADAKARI              SADALGA   \n",
      "10577                           PRAMILA  DILIPRAO  KAMAT          DHARANGUTTI   \n",
      "\n",
      "      SURVEY_NO    PH  Unnamed: 7    EC  Organinc Carbon  PHOSPHOROUS  POTASH  \\\n",
      "0        172/75  7.30        0.36  0.42           100.66       997.00     5.2   \n",
      "1           492  8.60         NaN  0.44             1.08        34.90   370.0   \n",
      "2         121/1  8.58         NaN  0.50             0.78        13.30   403.0   \n",
      "3           664  8.55         NaN  0.25             0.15        16.50   504.0   \n",
      "4           797  8.55         NaN  0.48             0.75         1.60   627.0   \n",
      "...         ...   ...         ...   ...              ...          ...     ...   \n",
      "10573       NaN  4.42         NaN  0.07             0.40         1.60   224.0   \n",
      "10574       NaN  4.22         NaN  0.95             0.80        12.10   493.0   \n",
      "10575    V.S.H.  4.00         NaN  0.12             0.98        38.40   582.0   \n",
      "10576     10319  1.16         NaN  0.21             0.87         2.15   269.0   \n",
      "10577       370  0.60         NaN  0.68             0.78        52.00   582.0   \n",
      "\n",
      "       CALCIUM_CARBONATE  FERROUS  MANAGESE  ZINK  COPPER  \n",
      "0                   10.9     6.10      0.60  4.60     NaN  \n",
      "1                   12.0    13.30     18.50  1.60    6.30  \n",
      "2                    9.6    93.20     12.40  1.19    7.00  \n",
      "3                    6.0     5.50     14.30  1.33    7.88  \n",
      "4                   15.2     6.75     16.55  1.25    4.30  \n",
      "...                  ...      ...       ...   ...     ...  \n",
      "10573                1.6     5.40     11.00  2.60    0.80  \n",
      "10574               11.2     6.04      8.88  0.08    2.24  \n",
      "10575                2.0     4.30     18.70  0.40    1.60  \n",
      "10576                6.0    22.60     27.20  1.80   10.00  \n",
      "10577                6.4     5.10      6.80  0.20    7.80  \n",
      "\n",
      "[10466 rows x 17 columns]\n"
     ]
    }
   ],
   "source": [
    "threshold = 4\n",
    "deli = np.where(df[\"EC\"]>threshold)\n",
    "df.drop(deli[0],inplace = True)\n",
    "\n",
    "t2 = 0.01\n",
    "delo = np.where(df[\"EC\"] < t2)\n",
    "df.drop(delo[0],inplace = True)\n",
    "\n",
    "# noisy_data = df[df[\"POTASH\"] > threshold]\n",
    "\n",
    "# mean = df[\"POTASH\"].mean()\n",
    "# df.loc[df[\"POTASH\"] > threshold, \"POTASH\"] = mean\n",
    "\n",
    "print(df)"
   ]
  },
  {
   "cell_type": "code",
   "execution_count": 707,
   "metadata": {},
   "outputs": [],
   "source": [
    "df.reset_index(inplace=True, drop=True)"
   ]
  },
  {
   "cell_type": "code",
   "execution_count": 708,
   "metadata": {},
   "outputs": [
    {
     "data": {
      "text/plain": [
       "<AxesSubplot:>"
      ]
     },
     "execution_count": 708,
     "metadata": {},
     "output_type": "execute_result"
    },
    {
     "data": {
      "image/png": "[encoded data removed]",
      "text/plain": [
       "<Figure size 432x288 with 1 Axes>"
      ]
     },
     "metadata": {
      "needs_background": "light"
     },
     "output_type": "display_data"
    }
   ],
   "source": [
    "plt.ylim(0,5)\n",
    "sns.boxplot(df['Organinc Carbon'])"
   ]
  },
  {
   "cell_type": "code",
   "execution_count": 709,
   "metadata": {},
   "outputs": [
    {
     "name": "stdout",
     "output_type": "stream",
     "text": [
      "       SAMPLE_NO     SEASON SAMPLE_DATE  \\\n",
      "0          21043  2015-2016  10/12/2015   \n",
      "1          24651  2016-2017  12/22/2016   \n",
      "3          27525  2017-2018   9/18/2017   \n",
      "5          27609  2017-2018   9/19/2017   \n",
      "6          27617  2017-2018   9/20/2017   \n",
      "...          ...        ...         ...   \n",
      "10454       6416  2012-2013   6/22/2012   \n",
      "10456       9888  2012-2013    2/5/2013   \n",
      "10457      42168  2019-2020   1/27/2020   \n",
      "10458      20516  2015-2016   9/22/2015   \n",
      "10459      34414  2018-2019  11/22/2018   \n",
      "\n",
      "                                     FARMER_ENGLISH_NAME VILLAGE_NAME_ENGLISH  \\\n",
      "0                                   MAHAVIR  BAPU  PATIL              SHIRATI   \n",
      "1                                    ADAPPA  DADA  LADGE      CHAND-SHIRADWAD   \n",
      "3                                   KUMAR APPA MURCHUTTE              SHEDBAL   \n",
      "5                                GANPATI  SHIVAJI  PATIL             ARJUNWAD   \n",
      "6      KARYAKARI  SANCHALAK  SHRI DATTA  S.S.S.K.LTD ...               SHIROL   \n",
      "...                                                  ...                  ...   \n",
      "10454                                MUKUNDA  RAMU  JONG            KURUNDWAD   \n",
      "10456  KARYAKARI  SANCHALAK  SHRI DATTA  S.S.S.K.LTD ...               SHIROL   \n",
      "10457  KARYAKARI  SANCHALAK  SHRI DATTA  S.S.S.K.LTD ...               SHIROL   \n",
      "10458                            BABU  PUNAPPA  GADAKARI              SADALGA   \n",
      "10459                           PRAMILA  DILIPRAO  KAMAT          DHARANGUTTI   \n",
      "\n",
      "      SURVEY_NO    PH  Unnamed: 7    EC  Organinc Carbon  PHOSPHOROUS  POTASH  \\\n",
      "0           492  8.60         NaN  0.44             1.08        34.90   370.0   \n",
      "1         121/1  8.58         NaN  0.50             0.78        13.30   403.0   \n",
      "3           797  8.55         NaN  0.48             0.75         1.60   627.0   \n",
      "5            43  8.55         NaN  0.40             0.84         1.60   728.0   \n",
      "6          1700  8.53         NaN  0.18             0.57        10.00   414.0   \n",
      "...         ...   ...         ...   ...              ...          ...     ...   \n",
      "10454       257  4.68         NaN  0.10             0.50        12.10   493.0   \n",
      "10456       NaN  4.22         NaN  0.95             0.80        12.10   493.0   \n",
      "10457    V.S.H.  4.00         NaN  0.12             0.98        38.40   582.0   \n",
      "10458     10319  1.16         NaN  0.21             0.87         2.15   269.0   \n",
      "10459       370  0.60         NaN  0.68             0.78        52.00   582.0   \n",
      "\n",
      "       CALCIUM_CARBONATE  FERROUS  MANAGESE  ZINK  COPPER  \n",
      "0                   12.0    13.30     18.50  1.60    6.30  \n",
      "1                    9.6    93.20     12.40  1.19    7.00  \n",
      "3                   15.2     6.75     16.55  1.25    4.30  \n",
      "5                   16.8    19.93     13.70  0.30    2.40  \n",
      "6                   12.0    12.52     31.22  0.64    6.94  \n",
      "...                  ...      ...       ...   ...     ...  \n",
      "10454                4.4     7.76      6.42  0.46    3.82  \n",
      "10456               11.2     6.04      8.88  0.08    2.24  \n",
      "10457                2.0     4.30     18.70  0.40    1.60  \n",
      "10458                6.0    22.60     27.20  1.80   10.00  \n",
      "10459                6.4     5.10      6.80  0.20    7.80  \n",
      "\n",
      "[9098 rows x 17 columns]\n"
     ]
    }
   ],
   "source": [
    "df.reset_index(inplace=True, drop=True)\n",
    "threshold = 3\n",
    "deli = np.where(df[\"Organinc Carbon\"]>threshold)\n",
    "df.drop(deli[0],inplace = True)\n",
    "\n",
    "df.reset_index(inplace=True, drop=True)\n",
    "t2 = 0.5\n",
    "delo = np.where(df[\"Organinc Carbon\"] < t2)\n",
    "df.drop(delo[0],inplace = True)\n",
    "\n",
    "\n",
    "print(df)"
   ]
  },
  {
   "cell_type": "code",
   "execution_count": 710,
   "metadata": {},
   "outputs": [
    {
     "data": {
      "text/plain": [
       "<AxesSubplot:>"
      ]
     },
     "execution_count": 710,
     "metadata": {},
     "output_type": "execute_result"
    },
    {
     "data": {
      "image/png": "[encoded data removed]",
      "text/plain": [
       "<Figure size 432x288 with 1 Axes>"
      ]
     },
     "metadata": {
      "needs_background": "light"
     },
     "output_type": "display_data"
    }
   ],
   "source": [
    "df.reset_index(inplace=True, drop=True)\n",
    "\n",
    "plt.ylim(0,300)\n",
    "sns.boxplot(df['PHOSPHOROUS'])\n",
    "\n"
   ]
  },
  {
   "cell_type": "code",
   "execution_count": 711,
   "metadata": {},
   "outputs": [
    {
     "name": "stdout",
     "output_type": "stream",
     "text": [
      "      SAMPLE_NO     SEASON SAMPLE_DATE  \\\n",
      "0         21043  2015-2016  10/12/2015   \n",
      "1         24651  2016-2017  12/22/2016   \n",
      "4         27617  2017-2018   9/20/2017   \n",
      "5         24680  2016-2017  12/22/2016   \n",
      "7         24974  2016-2017    1/3/2017   \n",
      "...         ...        ...         ...   \n",
      "6651       9863  2012-2013    2/2/2013   \n",
      "6652      10033  2013-2014   4/13/2013   \n",
      "6653       6416  2012-2013   6/22/2012   \n",
      "6654       9888  2012-2013    2/5/2013   \n",
      "6655      42168  2019-2020   1/27/2020   \n",
      "\n",
      "                                    FARMER_ENGLISH_NAME VILLAGE_NAME_ENGLISH  \\\n",
      "0                                  MAHAVIR  BAPU  PATIL              SHIRATI   \n",
      "1                                   ADAPPA  DADA  LADGE      CHAND-SHIRADWAD   \n",
      "4     KARYAKARI  SANCHALAK  SHRI DATTA  S.S.S.K.LTD ...               SHIROL   \n",
      "5                                 ANUSAYA VISHNU VALAKE               TAKALI   \n",
      "7                                 DNYANDEV  DATTU  MALI             JAMBHALI   \n",
      "...                                                 ...                  ...   \n",
      "6651  KARYAKARI  SANCHALAK  SHRI DATTA  S.S.S.K.LTD ...               SHIROL   \n",
      "6652  KARYAKARI  SANCHALAK  SHRI DATTA  S.S.S.K.LTD ...               SHIROL   \n",
      "6653                                MUKUNDA  RAMU  JONG            KURUNDWAD   \n",
      "6654  KARYAKARI  SANCHALAK  SHRI DATTA  S.S.S.K.LTD ...               SHIROL   \n",
      "6655  KARYAKARI  SANCHALAK  SHRI DATTA  S.S.S.K.LTD ...               SHIROL   \n",
      "\n",
      "     SURVEY_NO    PH  Unnamed: 7    EC  Organinc Carbon  PHOSPHOROUS  POTASH  \\\n",
      "0          492  8.60         NaN  0.44             1.08         34.9   370.0   \n",
      "1        121/1  8.58         NaN  0.50             0.78         13.3   403.0   \n",
      "4         1700  8.53         NaN  0.18             0.57         10.0   414.0   \n",
      "5          296  8.52         NaN  0.35             0.81         25.8   694.0   \n",
      "7          107  8.50         NaN  0.30             0.90         18.6   616.0   \n",
      "...        ...   ...         ...   ...              ...          ...     ...   \n",
      "6651   3.00ACR  4.95         NaN  0.12             0.70         11.5   224.0   \n",
      "6652        64  4.92         NaN  0.10             1.15         14.1   358.0   \n",
      "6653       257  4.68         NaN  0.10             0.50         12.1   493.0   \n",
      "6654       NaN  4.22         NaN  0.95             0.80         12.1   493.0   \n",
      "6655    V.S.H.  4.00         NaN  0.12             0.98         38.4   582.0   \n",
      "\n",
      "      CALCIUM_CARBONATE  FERROUS  MANAGESE  ZINK  COPPER  \n",
      "0                  12.0    13.30     18.50  1.60    6.30  \n",
      "1                   9.6    93.20     12.40  1.19    7.00  \n",
      "4                  12.0    12.52     31.22  0.64    6.94  \n",
      "5                  14.8    98.50     12.40  1.15    4.89  \n",
      "7                   4.4     6.60     19.80  2.01    8.40  \n",
      "...                 ...      ...       ...   ...     ...  \n",
      "6651                1.6    63.00     71.40  1.50    9.10  \n",
      "6652                2.0     9.20      4.40  1.40    2.10  \n",
      "6653                4.4     7.76      6.42  0.46    3.82  \n",
      "6654               11.2     6.04      8.88  0.08    2.24  \n",
      "6655                2.0     4.30     18.70  0.40    1.60  \n",
      "\n",
      "[4321 rows x 17 columns]\n"
     ]
    }
   ],
   "source": [
    "df.reset_index(inplace=True, drop=True)\n",
    "threshold = 40\n",
    "\n",
    "deli = np.where(df[\"PHOSPHOROUS\"]>threshold)\n",
    "df.drop(deli[0],inplace = True)\n",
    "\n",
    "df.reset_index(inplace=True, drop=True)\n",
    "\n",
    "t2 = 10\n",
    "delo = np.where(df[\"PHOSPHOROUS\"] < t2)\n",
    "df.drop(delo[0],inplace = True)\n",
    "\n",
    "print(df)"
   ]
  },
  {
   "cell_type": "code",
   "execution_count": 712,
   "metadata": {},
   "outputs": [
    {
     "data": {
      "text/plain": [
       "<AxesSubplot:>"
      ]
     },
     "execution_count": 712,
     "metadata": {},
     "output_type": "execute_result"
    },
    {
     "data": {
      "image/png": "[encoded data removed]",
      "text/plain": [
       "<Figure size 432x288 with 1 Axes>"
      ]
     },
     "metadata": {
      "needs_background": "light"
     },
     "output_type": "display_data"
    }
   ],
   "source": [
    "plt.ylim(0,1000)\n",
    "sns.boxplot(df['POTASH'])"
   ]
  },
  {
   "cell_type": "code",
   "execution_count": 713,
   "metadata": {},
   "outputs": [
    {
     "name": "stdout",
     "output_type": "stream",
     "text": [
      "      SAMPLE_NO     SEASON SAMPLE_DATE  \\\n",
      "0         21043  2015-2016  10/12/2015   \n",
      "1         24651  2016-2017  12/22/2016   \n",
      "2         27617  2017-2018   9/20/2017   \n",
      "3         24680  2016-2017  12/22/2016   \n",
      "4         24974  2016-2017    1/3/2017   \n",
      "...         ...        ...         ...   \n",
      "3264       9863  2012-2013    2/2/2013   \n",
      "3265      10033  2013-2014   4/13/2013   \n",
      "3266       6416  2012-2013   6/22/2012   \n",
      "3267       9888  2012-2013    2/5/2013   \n",
      "3268      42168  2019-2020   1/27/2020   \n",
      "\n",
      "                                    FARMER_ENGLISH_NAME VILLAGE_NAME_ENGLISH  \\\n",
      "0                                  MAHAVIR  BAPU  PATIL              SHIRATI   \n",
      "1                                   ADAPPA  DADA  LADGE      CHAND-SHIRADWAD   \n",
      "2     KARYAKARI  SANCHALAK  SHRI DATTA  S.S.S.K.LTD ...               SHIROL   \n",
      "3                                 ANUSAYA VISHNU VALAKE               TAKALI   \n",
      "4                                 DNYANDEV  DATTU  MALI             JAMBHALI   \n",
      "...                                                 ...                  ...   \n",
      "3264  KARYAKARI  SANCHALAK  SHRI DATTA  S.S.S.K.LTD ...               SHIROL   \n",
      "3265  KARYAKARI  SANCHALAK  SHRI DATTA  S.S.S.K.LTD ...               SHIROL   \n",
      "3266                                MUKUNDA  RAMU  JONG            KURUNDWAD   \n",
      "3267  KARYAKARI  SANCHALAK  SHRI DATTA  S.S.S.K.LTD ...               SHIROL   \n",
      "3268  KARYAKARI  SANCHALAK  SHRI DATTA  S.S.S.K.LTD ...               SHIROL   \n",
      "\n",
      "     SURVEY_NO    PH  Unnamed: 7    EC  Organinc Carbon  PHOSPHOROUS  POTASH  \\\n",
      "0          492  8.60         NaN  0.44             1.08         34.9   370.0   \n",
      "1        121/1  8.58         NaN  0.50             0.78         13.3   403.0   \n",
      "2         1700  8.53         NaN  0.18             0.57         10.0   414.0   \n",
      "3          296  8.52         NaN  0.35             0.81         25.8   694.0   \n",
      "4          107  8.50         NaN  0.30             0.90         18.6   616.0   \n",
      "...        ...   ...         ...   ...              ...          ...     ...   \n",
      "3264   3.00ACR  4.95         NaN  0.12             0.70         11.5   224.0   \n",
      "3265        64  4.92         NaN  0.10             1.15         14.1   358.0   \n",
      "3266       257  4.68         NaN  0.10             0.50         12.1   493.0   \n",
      "3267       NaN  4.22         NaN  0.95             0.80         12.1   493.0   \n",
      "3268    V.S.H.  4.00         NaN  0.12             0.98         38.4   582.0   \n",
      "\n",
      "      CALCIUM_CARBONATE  FERROUS  MANAGESE  ZINK  COPPER  \n",
      "0                  12.0    13.30     18.50  1.60    6.30  \n",
      "1                   9.6    93.20     12.40  1.19    7.00  \n",
      "2                  12.0    12.52     31.22  0.64    6.94  \n",
      "3                  14.8    98.50     12.40  1.15    4.89  \n",
      "4                   4.4     6.60     19.80  2.01    8.40  \n",
      "...                 ...      ...       ...   ...     ...  \n",
      "3264                1.6    63.00     71.40  1.50    9.10  \n",
      "3265                2.0     9.20      4.40  1.40    2.10  \n",
      "3266                4.4     7.76      6.42  0.46    3.82  \n",
      "3267               11.2     6.04      8.88  0.08    2.24  \n",
      "3268                2.0     4.30     18.70  0.40    1.60  \n",
      "\n",
      "[3250 rows x 17 columns]\n"
     ]
    }
   ],
   "source": [
    "df.reset_index(inplace=True, drop=True)\n",
    "threshold = 700\n",
    "deli = np.where(df[\"POTASH\"]>threshold)\n",
    "df.drop(deli[0],inplace = True)\n",
    "\n",
    "df.reset_index(inplace=True, drop=True)\n",
    "t2 = 100\n",
    "delo = np.where(df[\"POTASH\"] < t2)\n",
    "df.drop(delo[0],inplace = True)\n",
    "\n",
    "print(df)"
   ]
  },
  {
   "cell_type": "code",
   "execution_count": 714,
   "metadata": {},
   "outputs": [
    {
     "data": {
      "text/plain": [
       "<AxesSubplot:>"
      ]
     },
     "execution_count": 714,
     "metadata": {},
     "output_type": "execute_result"
    },
    {
     "data": {
      "image/png": "[encoded data removed]",
      "text/plain": [
       "<Figure size 432x288 with 1 Axes>"
      ]
     },
     "metadata": {
      "needs_background": "light"
     },
     "output_type": "display_data"
    }
   ],
   "source": [
    "# plt.ylim(0,10)\n",
    "sns.boxplot(df['CALCIUM_CARBONATE'])"
   ]
  },
  {
   "cell_type": "code",
   "execution_count": 715,
   "metadata": {},
   "outputs": [
    {
     "name": "stdout",
     "output_type": "stream",
     "text": [
      "      SAMPLE_NO     SEASON SAMPLE_DATE  \\\n",
      "1         24651  2016-2017  12/22/2016   \n",
      "4         24974  2016-2017    1/3/2017   \n",
      "7         25910  2017-2018   7/12/2017   \n",
      "9         26863  2017-2018   8/16/2017   \n",
      "10        24492  2016-2017  12/21/2016   \n",
      "...         ...        ...         ...   \n",
      "3244       9624  2012-2013  12/10/2012   \n",
      "3245       9863  2012-2013    2/2/2013   \n",
      "3246      10033  2013-2014   4/13/2013   \n",
      "3247       6416  2012-2013   6/22/2012   \n",
      "3249      42168  2019-2020   1/27/2020   \n",
      "\n",
      "                                    FARMER_ENGLISH_NAME VILLAGE_NAME_ENGLISH  \\\n",
      "1                                   ADAPPA  DADA  LADGE      CHAND-SHIRADWAD   \n",
      "4                                 DNYANDEV  DATTU  MALI             JAMBHALI   \n",
      "7                              TATYASO  DEVGONDA  PATIL              SHIRATI   \n",
      "9     KARYAKARI  SANCHALAK  SHRI DATTA  S.S.S.K.LTD ...               SHIROL   \n",
      "10                   JINNAPPA  BALU  AMBADE(CHINCHVADE)            KURUNDWAD   \n",
      "...                                                 ...                  ...   \n",
      "3244  KARYAKARI  SANCHALAK  SHRI DATTA  S.S.S.K.LTD ...               SHIROL   \n",
      "3245  KARYAKARI  SANCHALAK  SHRI DATTA  S.S.S.K.LTD ...               SHIROL   \n",
      "3246  KARYAKARI  SANCHALAK  SHRI DATTA  S.S.S.K.LTD ...               SHIROL   \n",
      "3247                                MUKUNDA  RAMU  JONG            KURUNDWAD   \n",
      "3249  KARYAKARI  SANCHALAK  SHRI DATTA  S.S.S.K.LTD ...               SHIROL   \n",
      "\n",
      "         SURVEY_NO    PH  Unnamed: 7    EC  Organinc Carbon  PHOSPHOROUS  \\\n",
      "1            121/1  8.58         NaN  0.50             0.78        13.30   \n",
      "4              107  8.50         NaN  0.30             0.90        18.60   \n",
      "7              750  8.50         NaN  0.74             1.20        21.55   \n",
      "9     278/1, 278/3  8.48         NaN  1.49             0.60        10.00   \n",
      "10            1230  8.40         NaN  0.26             0.84        18.60   \n",
      "...            ...   ...         ...   ...              ...          ...   \n",
      "3244           680  5.10         NaN  0.15             0.85        13.60   \n",
      "3245       3.00ACR  4.95         NaN  0.12             0.70        11.50   \n",
      "3246            64  4.92         NaN  0.10             1.15        14.10   \n",
      "3247           257  4.68         NaN  0.10             0.50        12.10   \n",
      "3249        V.S.H.  4.00         NaN  0.12             0.98        38.40   \n",
      "\n",
      "      POTASH  CALCIUM_CARBONATE  FERROUS  MANAGESE  ZINK  COPPER  \n",
      "1      403.0                9.6    93.20     12.40  1.19    7.00  \n",
      "4      616.0                4.4     6.60     19.80  2.01    8.40  \n",
      "7      694.0                7.2    12.34     21.06  1.75    6.70  \n",
      "9      549.0                8.0    14.02     17.32  0.80    4.70  \n",
      "10     515.0                9.6    25.50     16.00  2.00    9.00  \n",
      "...      ...                ...      ...       ...   ...     ...  \n",
      "3244   235.0                2.4    46.00     42.00  1.70    4.20  \n",
      "3245   224.0                1.6    63.00     71.40  1.50    9.10  \n",
      "3246   358.0                2.0     9.20      4.40  1.40    2.10  \n",
      "3247   493.0                4.4     7.76      6.42  0.46    3.82  \n",
      "3249   582.0                2.0     4.30     18.70  0.40    1.60  \n",
      "\n",
      "[2703 rows x 17 columns]\n"
     ]
    }
   ],
   "source": [
    "df.reset_index(inplace=True, drop=True)\n",
    "threshold = 11\n",
    "\n",
    "deli = np.where(df[\"CALCIUM_CARBONATE\"]>threshold )\n",
    "df.drop(deli[0],inplace = True)\n",
    "\n",
    "t2 = 1\n",
    "delo = np.where(df[\"CALCIUM_CARBONATE\"] < t2)\n",
    "df.drop(delo[0],inplace = True)\n",
    "\n",
    "print(df)"
   ]
  },
  {
   "cell_type": "code",
   "execution_count": 716,
   "metadata": {},
   "outputs": [
    {
     "data": {
      "text/plain": [
       "<AxesSubplot:>"
      ]
     },
     "execution_count": 716,
     "metadata": {},
     "output_type": "execute_result"
    },
    {
     "data": {
      "image/png": "[encoded data removed]",
      "text/plain": [
       "<Figure size 432x288 with 1 Axes>"
      ]
     },
     "metadata": {
      "needs_background": "light"
     },
     "output_type": "display_data"
    }
   ],
   "source": [
    "df.reset_index(inplace=True, drop=True)\n",
    "plt.ylim(0,200)\n",
    "sns.boxplot(df['FERROUS'])"
   ]
  },
  {
   "cell_type": "code",
   "execution_count": 717,
   "metadata": {},
   "outputs": [
    {
     "name": "stdout",
     "output_type": "stream",
     "text": [
      "      SAMPLE_NO     SEASON SAMPLE_DATE  \\\n",
      "0         24651  2016-2017  12/22/2016   \n",
      "1         24974  2016-2017    1/3/2017   \n",
      "2         25910  2017-2018   7/12/2017   \n",
      "3         26863  2017-2018   8/16/2017   \n",
      "4         24492  2016-2017  12/21/2016   \n",
      "...         ...        ...         ...   \n",
      "2698       9624  2012-2013  12/10/2012   \n",
      "2699       9863  2012-2013    2/2/2013   \n",
      "2700      10033  2013-2014   4/13/2013   \n",
      "2701       6416  2012-2013   6/22/2012   \n",
      "2702      42168  2019-2020   1/27/2020   \n",
      "\n",
      "                                    FARMER_ENGLISH_NAME VILLAGE_NAME_ENGLISH  \\\n",
      "0                                   ADAPPA  DADA  LADGE      CHAND-SHIRADWAD   \n",
      "1                                 DNYANDEV  DATTU  MALI             JAMBHALI   \n",
      "2                              TATYASO  DEVGONDA  PATIL              SHIRATI   \n",
      "3     KARYAKARI  SANCHALAK  SHRI DATTA  S.S.S.K.LTD ...               SHIROL   \n",
      "4                    JINNAPPA  BALU  AMBADE(CHINCHVADE)            KURUNDWAD   \n",
      "...                                                 ...                  ...   \n",
      "2698  KARYAKARI  SANCHALAK  SHRI DATTA  S.S.S.K.LTD ...               SHIROL   \n",
      "2699  KARYAKARI  SANCHALAK  SHRI DATTA  S.S.S.K.LTD ...               SHIROL   \n",
      "2700  KARYAKARI  SANCHALAK  SHRI DATTA  S.S.S.K.LTD ...               SHIROL   \n",
      "2701                                MUKUNDA  RAMU  JONG            KURUNDWAD   \n",
      "2702  KARYAKARI  SANCHALAK  SHRI DATTA  S.S.S.K.LTD ...               SHIROL   \n",
      "\n",
      "         SURVEY_NO    PH  Unnamed: 7    EC  Organinc Carbon  PHOSPHOROUS  \\\n",
      "0            121/1  8.58         NaN  0.50             0.78        13.30   \n",
      "1              107  8.50         NaN  0.30             0.90        18.60   \n",
      "2              750  8.50         NaN  0.74             1.20        21.55   \n",
      "3     278/1, 278/3  8.48         NaN  1.49             0.60        10.00   \n",
      "4             1230  8.40         NaN  0.26             0.84        18.60   \n",
      "...            ...   ...         ...   ...              ...          ...   \n",
      "2698           680  5.10         NaN  0.15             0.85        13.60   \n",
      "2699       3.00ACR  4.95         NaN  0.12             0.70        11.50   \n",
      "2700            64  4.92         NaN  0.10             1.15        14.10   \n",
      "2701           257  4.68         NaN  0.10             0.50        12.10   \n",
      "2702        V.S.H.  4.00         NaN  0.12             0.98        38.40   \n",
      "\n",
      "      POTASH  CALCIUM_CARBONATE  FERROUS  MANAGESE  ZINK  COPPER  \n",
      "0      403.0                9.6    93.20     12.40  1.19    7.00  \n",
      "1      616.0                4.4     6.60     19.80  2.01    8.40  \n",
      "2      694.0                7.2    12.34     21.06  1.75    6.70  \n",
      "3      549.0                8.0    14.02     17.32  0.80    4.70  \n",
      "4      515.0                9.6    25.50     16.00  2.00    9.00  \n",
      "...      ...                ...      ...       ...   ...     ...  \n",
      "2698   235.0                2.4    46.00     42.00  1.70    4.20  \n",
      "2699   224.0                1.6    63.00     71.40  1.50    9.10  \n",
      "2700   358.0                2.0     9.20      4.40  1.40    2.10  \n",
      "2701   493.0                4.4     7.76      6.42  0.46    3.82  \n",
      "2702   582.0                2.0     4.30     18.70  0.40    1.60  \n",
      "\n",
      "[2700 rows x 17 columns]\n"
     ]
    }
   ],
   "source": [
    "df.reset_index(inplace=True, drop=True)\n",
    "threshold = 100\n",
    "\n",
    "deli = np.where(df[\"FERROUS\"]>threshold)\n",
    "df.drop(deli[0],inplace = True)\n",
    "t2 = 0.1\n",
    "delo = np.where(df[\"FERROUS\"] < t2)\n",
    "df.drop(delo[0],inplace = True)\n",
    "\n",
    "print(df)"
   ]
  },
  {
   "cell_type": "code",
   "execution_count": 718,
   "metadata": {},
   "outputs": [
    {
     "data": {
      "text/plain": [
       "<AxesSubplot:>"
      ]
     },
     "execution_count": 718,
     "metadata": {},
     "output_type": "execute_result"
    },
    {
     "data": {
      "image/png": "[encoded data removed]",
      "text/plain": [
       "<Figure size 432x288 with 1 Axes>"
      ]
     },
     "metadata": {
      "needs_background": "light"
     },
     "output_type": "display_data"
    }
   ],
   "source": [
    "# plt.ylim(0,1)\n",
    "sns.boxplot(df['MANAGESE'])"
   ]
  },
  {
   "cell_type": "code",
   "execution_count": 719,
   "metadata": {},
   "outputs": [
    {
     "name": "stdout",
     "output_type": "stream",
     "text": [
      "      SAMPLE_NO     SEASON SAMPLE_DATE  \\\n",
      "0         24651  2016-2017  12/22/2016   \n",
      "1         24974  2016-2017    1/3/2017   \n",
      "2         25910  2017-2018   7/12/2017   \n",
      "3         26863  2017-2018   8/16/2017   \n",
      "4         24492  2016-2017  12/21/2016   \n",
      "...         ...        ...         ...   \n",
      "2695       9624  2012-2013  12/10/2012   \n",
      "2696       9863  2012-2013    2/2/2013   \n",
      "2697      10033  2013-2014   4/13/2013   \n",
      "2698       6416  2012-2013   6/22/2012   \n",
      "2699      42168  2019-2020   1/27/2020   \n",
      "\n",
      "                                    FARMER_ENGLISH_NAME VILLAGE_NAME_ENGLISH  \\\n",
      "0                                   ADAPPA  DADA  LADGE      CHAND-SHIRADWAD   \n",
      "1                                 DNYANDEV  DATTU  MALI             JAMBHALI   \n",
      "2                              TATYASO  DEVGONDA  PATIL              SHIRATI   \n",
      "3     KARYAKARI  SANCHALAK  SHRI DATTA  S.S.S.K.LTD ...               SHIROL   \n",
      "4                    JINNAPPA  BALU  AMBADE(CHINCHVADE)            KURUNDWAD   \n",
      "...                                                 ...                  ...   \n",
      "2695  KARYAKARI  SANCHALAK  SHRI DATTA  S.S.S.K.LTD ...               SHIROL   \n",
      "2696  KARYAKARI  SANCHALAK  SHRI DATTA  S.S.S.K.LTD ...               SHIROL   \n",
      "2697  KARYAKARI  SANCHALAK  SHRI DATTA  S.S.S.K.LTD ...               SHIROL   \n",
      "2698                                MUKUNDA  RAMU  JONG            KURUNDWAD   \n",
      "2699  KARYAKARI  SANCHALAK  SHRI DATTA  S.S.S.K.LTD ...               SHIROL   \n",
      "\n",
      "         SURVEY_NO    PH  Unnamed: 7    EC  Organinc Carbon  PHOSPHOROUS  \\\n",
      "0            121/1  8.58         NaN  0.50             0.78        13.30   \n",
      "1              107  8.50         NaN  0.30             0.90        18.60   \n",
      "2              750  8.50         NaN  0.74             1.20        21.55   \n",
      "3     278/1, 278/3  8.48         NaN  1.49             0.60        10.00   \n",
      "4             1230  8.40         NaN  0.26             0.84        18.60   \n",
      "...            ...   ...         ...   ...              ...          ...   \n",
      "2695           680  5.10         NaN  0.15             0.85        13.60   \n",
      "2696       3.00ACR  4.95         NaN  0.12             0.70        11.50   \n",
      "2697            64  4.92         NaN  0.10             1.15        14.10   \n",
      "2698           257  4.68         NaN  0.10             0.50        12.10   \n",
      "2699        V.S.H.  4.00         NaN  0.12             0.98        38.40   \n",
      "\n",
      "      POTASH  CALCIUM_CARBONATE  FERROUS  MANAGESE  ZINK  COPPER  \n",
      "0      403.0                9.6    93.20     12.40  1.19    7.00  \n",
      "1      616.0                4.4     6.60     19.80  2.01    8.40  \n",
      "2      694.0                7.2    12.34     21.06  1.75    6.70  \n",
      "3      549.0                8.0    14.02     17.32  0.80    4.70  \n",
      "4      515.0                9.6    25.50     16.00  2.00    9.00  \n",
      "...      ...                ...      ...       ...   ...     ...  \n",
      "2695   235.0                2.4    46.00     42.00  1.70    4.20  \n",
      "2696   224.0                1.6    63.00     71.40  1.50    9.10  \n",
      "2697   358.0                2.0     9.20      4.40  1.40    2.10  \n",
      "2698   493.0                4.4     7.76      6.42  0.46    3.82  \n",
      "2699   582.0                2.0     4.30     18.70  0.40    1.60  \n",
      "\n",
      "[2681 rows x 17 columns]\n"
     ]
    }
   ],
   "source": [
    "df.reset_index(inplace=True, drop=True)\n",
    "threshold = 100\n",
    "\n",
    "deli = np.where(df[\"MANAGESE\"]>threshold)\n",
    "df.drop(deli[0],inplace = True)\n",
    "t2 = 0.1\n",
    "delo = np.where(df[\"MANAGESE\"] < t2)\n",
    "df.drop(delo[0],inplace = True)\n",
    "\n",
    "print(df)"
   ]
  },
  {
   "cell_type": "code",
   "execution_count": 720,
   "metadata": {},
   "outputs": [
    {
     "data": {
      "text/plain": [
       "<AxesSubplot:>"
      ]
     },
     "execution_count": 720,
     "metadata": {},
     "output_type": "execute_result"
    },
    {
     "data": {
      "image/png": "[encoded data removed]",
      "text/plain": [
       "<Figure size 432x288 with 1 Axes>"
      ]
     },
     "metadata": {
      "needs_background": "light"
     },
     "output_type": "display_data"
    }
   ],
   "source": [
    "# plt.ylim(0,.1)\n",
    "sns.boxplot(df['ZINK'])"
   ]
  },
  {
   "cell_type": "code",
   "execution_count": 721,
   "metadata": {},
   "outputs": [
    {
     "name": "stdout",
     "output_type": "stream",
     "text": [
      "      SAMPLE_NO     SEASON SAMPLE_DATE  \\\n",
      "0         24651  2016-2017  12/22/2016   \n",
      "1         24974  2016-2017    1/3/2017   \n",
      "2         25910  2017-2018   7/12/2017   \n",
      "3         26863  2017-2018   8/16/2017   \n",
      "4         24492  2016-2017  12/21/2016   \n",
      "...         ...        ...         ...   \n",
      "2676       9624  2012-2013  12/10/2012   \n",
      "2677       9863  2012-2013    2/2/2013   \n",
      "2678      10033  2013-2014   4/13/2013   \n",
      "2679       6416  2012-2013   6/22/2012   \n",
      "2680      42168  2019-2020   1/27/2020   \n",
      "\n",
      "                                    FARMER_ENGLISH_NAME VILLAGE_NAME_ENGLISH  \\\n",
      "0                                   ADAPPA  DADA  LADGE      CHAND-SHIRADWAD   \n",
      "1                                 DNYANDEV  DATTU  MALI             JAMBHALI   \n",
      "2                              TATYASO  DEVGONDA  PATIL              SHIRATI   \n",
      "3     KARYAKARI  SANCHALAK  SHRI DATTA  S.S.S.K.LTD ...               SHIROL   \n",
      "4                    JINNAPPA  BALU  AMBADE(CHINCHVADE)            KURUNDWAD   \n",
      "...                                                 ...                  ...   \n",
      "2676  KARYAKARI  SANCHALAK  SHRI DATTA  S.S.S.K.LTD ...               SHIROL   \n",
      "2677  KARYAKARI  SANCHALAK  SHRI DATTA  S.S.S.K.LTD ...               SHIROL   \n",
      "2678  KARYAKARI  SANCHALAK  SHRI DATTA  S.S.S.K.LTD ...               SHIROL   \n",
      "2679                                MUKUNDA  RAMU  JONG            KURUNDWAD   \n",
      "2680  KARYAKARI  SANCHALAK  SHRI DATTA  S.S.S.K.LTD ...               SHIROL   \n",
      "\n",
      "         SURVEY_NO    PH  Unnamed: 7    EC  Organinc Carbon  PHOSPHOROUS  \\\n",
      "0            121/1  8.58         NaN  0.50             0.78        13.30   \n",
      "1              107  8.50         NaN  0.30             0.90        18.60   \n",
      "2              750  8.50         NaN  0.74             1.20        21.55   \n",
      "3     278/1, 278/3  8.48         NaN  1.49             0.60        10.00   \n",
      "4             1230  8.40         NaN  0.26             0.84        18.60   \n",
      "...            ...   ...         ...   ...              ...          ...   \n",
      "2676           680  5.10         NaN  0.15             0.85        13.60   \n",
      "2677       3.00ACR  4.95         NaN  0.12             0.70        11.50   \n",
      "2678            64  4.92         NaN  0.10             1.15        14.10   \n",
      "2679           257  4.68         NaN  0.10             0.50        12.10   \n",
      "2680        V.S.H.  4.00         NaN  0.12             0.98        38.40   \n",
      "\n",
      "      POTASH  CALCIUM_CARBONATE  FERROUS  MANAGESE  ZINK  COPPER  \n",
      "0      403.0                9.6    93.20     12.40  1.19    7.00  \n",
      "1      616.0                4.4     6.60     19.80  2.01    8.40  \n",
      "2      694.0                7.2    12.34     21.06  1.75    6.70  \n",
      "3      549.0                8.0    14.02     17.32  0.80    4.70  \n",
      "4      515.0                9.6    25.50     16.00  2.00    9.00  \n",
      "...      ...                ...      ...       ...   ...     ...  \n",
      "2676   235.0                2.4    46.00     42.00  1.70    4.20  \n",
      "2677   224.0                1.6    63.00     71.40  1.50    9.10  \n",
      "2678   358.0                2.0     9.20      4.40  1.40    2.10  \n",
      "2679   493.0                4.4     7.76      6.42  0.46    3.82  \n",
      "2680   582.0                2.0     4.30     18.70  0.40    1.60  \n",
      "\n",
      "[2672 rows x 17 columns]\n"
     ]
    }
   ],
   "source": [
    "df.reset_index(inplace=True, drop=True)\n",
    "threshold = 20\n",
    "\n",
    "deli = np.where(df[\"ZINK\"]>threshold)\n",
    "df.drop(deli[0],inplace = True)\n",
    "\n",
    "t2 = 0.01\n",
    "delo = np.where(df[\"ZINK\"] < t2)\n",
    "df.drop(delo[0],inplace = True)\n",
    "\n",
    "print(df)"
   ]
  },
  {
   "cell_type": "code",
   "execution_count": 722,
   "metadata": {},
   "outputs": [
    {
     "data": {
      "text/plain": [
       "<AxesSubplot:>"
      ]
     },
     "execution_count": 722,
     "metadata": {},
     "output_type": "execute_result"
    },
    {
     "data": {
      "image/png": "[encoded data removed]",
      "text/plain": [
       "<Figure size 432x288 with 1 Axes>"
      ]
     },
     "metadata": {
      "needs_background": "light"
     },
     "output_type": "display_data"
    }
   ],
   "source": [
    "# plt.ylim(0,0.1)\n",
    "sns.boxplot(df['COPPER'])"
   ]
  },
  {
   "cell_type": "code",
   "execution_count": 723,
   "metadata": {},
   "outputs": [
    {
     "name": "stdout",
     "output_type": "stream",
     "text": [
      "      SAMPLE_NO     SEASON SAMPLE_DATE  \\\n",
      "0         24651  2016-2017  12/22/2016   \n",
      "1         24974  2016-2017    1/3/2017   \n",
      "2         25910  2017-2018   7/12/2017   \n",
      "3         26863  2017-2018   8/16/2017   \n",
      "4         24492  2016-2017  12/21/2016   \n",
      "...         ...        ...         ...   \n",
      "2667       9624  2012-2013  12/10/2012   \n",
      "2668       9863  2012-2013    2/2/2013   \n",
      "2669      10033  2013-2014   4/13/2013   \n",
      "2670       6416  2012-2013   6/22/2012   \n",
      "2671      42168  2019-2020   1/27/2020   \n",
      "\n",
      "                                    FARMER_ENGLISH_NAME VILLAGE_NAME_ENGLISH  \\\n",
      "0                                   ADAPPA  DADA  LADGE      CHAND-SHIRADWAD   \n",
      "1                                 DNYANDEV  DATTU  MALI             JAMBHALI   \n",
      "2                              TATYASO  DEVGONDA  PATIL              SHIRATI   \n",
      "3     KARYAKARI  SANCHALAK  SHRI DATTA  S.S.S.K.LTD ...               SHIROL   \n",
      "4                    JINNAPPA  BALU  AMBADE(CHINCHVADE)            KURUNDWAD   \n",
      "...                                                 ...                  ...   \n",
      "2667  KARYAKARI  SANCHALAK  SHRI DATTA  S.S.S.K.LTD ...               SHIROL   \n",
      "2668  KARYAKARI  SANCHALAK  SHRI DATTA  S.S.S.K.LTD ...               SHIROL   \n",
      "2669  KARYAKARI  SANCHALAK  SHRI DATTA  S.S.S.K.LTD ...               SHIROL   \n",
      "2670                                MUKUNDA  RAMU  JONG            KURUNDWAD   \n",
      "2671  KARYAKARI  SANCHALAK  SHRI DATTA  S.S.S.K.LTD ...               SHIROL   \n",
      "\n",
      "         SURVEY_NO    PH  Unnamed: 7    EC  Organinc Carbon  PHOSPHOROUS  \\\n",
      "0            121/1  8.58         NaN  0.50             0.78        13.30   \n",
      "1              107  8.50         NaN  0.30             0.90        18.60   \n",
      "2              750  8.50         NaN  0.74             1.20        21.55   \n",
      "3     278/1, 278/3  8.48         NaN  1.49             0.60        10.00   \n",
      "4             1230  8.40         NaN  0.26             0.84        18.60   \n",
      "...            ...   ...         ...   ...              ...          ...   \n",
      "2667           680  5.10         NaN  0.15             0.85        13.60   \n",
      "2668       3.00ACR  4.95         NaN  0.12             0.70        11.50   \n",
      "2669            64  4.92         NaN  0.10             1.15        14.10   \n",
      "2670           257  4.68         NaN  0.10             0.50        12.10   \n",
      "2671        V.S.H.  4.00         NaN  0.12             0.98        38.40   \n",
      "\n",
      "      POTASH  CALCIUM_CARBONATE  FERROUS  MANAGESE  ZINK  COPPER  \n",
      "0      403.0                9.6    93.20     12.40  1.19    7.00  \n",
      "1      616.0                4.4     6.60     19.80  2.01    8.40  \n",
      "2      694.0                7.2    12.34     21.06  1.75    6.70  \n",
      "3      549.0                8.0    14.02     17.32  0.80    4.70  \n",
      "4      515.0                9.6    25.50     16.00  2.00    9.00  \n",
      "...      ...                ...      ...       ...   ...     ...  \n",
      "2667   235.0                2.4    46.00     42.00  1.70    4.20  \n",
      "2668   224.0                1.6    63.00     71.40  1.50    9.10  \n",
      "2669   358.0                2.0     9.20      4.40  1.40    2.10  \n",
      "2670   493.0                4.4     7.76      6.42  0.46    3.82  \n",
      "2671   582.0                2.0     4.30     18.70  0.40    1.60  \n",
      "\n",
      "[2658 rows x 17 columns]\n"
     ]
    }
   ],
   "source": [
    "df.reset_index(inplace=True, drop=True)\n",
    "threshold = 23\n",
    "deli = np.where(df[\"COPPER\"]>threshold)\n",
    "df.drop(deli[0],inplace = True)\n",
    "\n",
    "t2 = 0.02\n",
    "delo = np.where(df[\"COPPER\"] < t2)\n",
    "df.drop(delo[0],inplace = True)\n",
    "\n",
    "print(df)"
   ]
  },
  {
   "cell_type": "code",
   "execution_count": 724,
   "metadata": {},
   "outputs": [
    {
     "name": "stdout",
     "output_type": "stream",
     "text": [
      "      SAMPLE_NO     SEASON SAMPLE_DATE  \\\n",
      "0         24651  2016-2017  12/22/2016   \n",
      "1         24974  2016-2017    1/3/2017   \n",
      "2         25910  2017-2018   7/12/2017   \n",
      "3         26863  2017-2018   8/16/2017   \n",
      "4         24492  2016-2017  12/21/2016   \n",
      "...         ...        ...         ...   \n",
      "2667       9624  2012-2013  12/10/2012   \n",
      "2668       9863  2012-2013    2/2/2013   \n",
      "2669      10033  2013-2014   4/13/2013   \n",
      "2670       6416  2012-2013   6/22/2012   \n",
      "2671      42168  2019-2020   1/27/2020   \n",
      "\n",
      "                                    FARMER_ENGLISH_NAME VILLAGE_NAME_ENGLISH  \\\n",
      "0                                   ADAPPA  DADA  LADGE      CHAND-SHIRADWAD   \n",
      "1                                 DNYANDEV  DATTU  MALI             JAMBHALI   \n",
      "2                              TATYASO  DEVGONDA  PATIL              SHIRATI   \n",
      "3     KARYAKARI  SANCHALAK  SHRI DATTA  S.S.S.K.LTD ...               SHIROL   \n",
      "4                    JINNAPPA  BALU  AMBADE(CHINCHVADE)            KURUNDWAD   \n",
      "...                                                 ...                  ...   \n",
      "2667  KARYAKARI  SANCHALAK  SHRI DATTA  S.S.S.K.LTD ...               SHIROL   \n",
      "2668  KARYAKARI  SANCHALAK  SHRI DATTA  S.S.S.K.LTD ...               SHIROL   \n",
      "2669  KARYAKARI  SANCHALAK  SHRI DATTA  S.S.S.K.LTD ...               SHIROL   \n",
      "2670                                MUKUNDA  RAMU  JONG            KURUNDWAD   \n",
      "2671  KARYAKARI  SANCHALAK  SHRI DATTA  S.S.S.K.LTD ...               SHIROL   \n",
      "\n",
      "         SURVEY_NO        PH  Unnamed: 7        EC  Organinc Carbon  \\\n",
      "0            121/1  1.000000         NaN  0.107612         0.186667   \n",
      "1              107  0.982533         NaN  0.055118         0.266667   \n",
      "2              750  0.982533         NaN  0.170604         0.466667   \n",
      "3     278/1, 278/3  0.978166         NaN  0.367454         0.066667   \n",
      "4             1230  0.960699         NaN  0.044619         0.226667   \n",
      "...            ...       ...         ...       ...              ...   \n",
      "2667           680  0.240175         NaN  0.015748         0.233333   \n",
      "2668       3.00ACR  0.207424         NaN  0.007874         0.133333   \n",
      "2669            64  0.200873         NaN  0.002625         0.433333   \n",
      "2670           257  0.148472         NaN  0.002625         0.000000   \n",
      "2671        V.S.H.  0.000000         NaN  0.007874         0.320000   \n",
      "\n",
      "      PHOSPHOROUS    POTASH  CALCIUM_CARBONATE   FERROUS  MANAGESE      ZINK  \\\n",
      "0        0.110000  0.504174           0.857143  0.978978  0.128622  0.059030   \n",
      "1        0.286667  0.859766           0.326531  0.068741  0.205754  0.100050   \n",
      "2        0.385000  0.989983           0.612245  0.129073  0.218887  0.087044   \n",
      "3        0.000000  0.747913           0.693878  0.146731  0.179904  0.039520   \n",
      "4        0.286667  0.691152           0.857143  0.267395  0.166146  0.099550   \n",
      "...           ...       ...                ...       ...       ...       ...   \n",
      "2667     0.120000  0.223706           0.122449  0.482867  0.437148  0.084542   \n",
      "2668     0.050000  0.205342           0.040816  0.661551  0.743590  0.074537   \n",
      "2669     0.136667  0.429048           0.081633  0.096069  0.045237  0.069535   \n",
      "2670     0.070000  0.654424           0.326531  0.080933  0.066291  0.022511   \n",
      "2671     0.946667  0.803005           0.081633  0.044566  0.194288  0.019510   \n",
      "\n",
      "        COPPER  \n",
      "0     0.303136  \n",
      "1     0.364111  \n",
      "2     0.290070  \n",
      "3     0.202962  \n",
      "4     0.390244  \n",
      "...        ...  \n",
      "2667  0.181185  \n",
      "2668  0.394599  \n",
      "2669  0.089721  \n",
      "2670  0.164634  \n",
      "2671  0.067944  \n",
      "\n",
      "[2658 rows x 17 columns]\n"
     ]
    }
   ],
   "source": [
    "from sklearn.preprocessing import MinMaxScaler\n",
    "cols_to_normalize = ['PH','Organinc Carbon','PHOSPHOROUS','POTASH','CALCIUM_CARBONATE','FERROUS','MANAGESE','ZINK','COPPER','EC']\n",
    "scaler = MinMaxScaler()\n",
    "df[cols_to_normalize] = scaler.fit_transform(df[cols_to_normalize])\n",
    "\n",
    "print(df)\n"
   ]
  },
  {
   "cell_type": "code",
   "execution_count": 725,
   "metadata": {},
   "outputs": [],
   "source": [
    "# from sklearn.preprocessing import StandardScaler\n",
    "# st_x= StandardScaler()  \n",
    "# df= st_x.fit_transform(df)  \n",
    "# print(df)"
   ]
  },
  {
   "cell_type": "code",
   "execution_count": 726,
   "metadata": {},
   "outputs": [
    {
     "name": "stdout",
     "output_type": "stream",
     "text": [
      "[[0.05263158 0.10526316 0.00820425 0.00936599 0.01017843 0.01088969\n",
      "  0.01477847 0.01185771 0.01055465 0.01121932]\n",
      " [0.10526316 0.05263158 0.00728538 0.00818706 0.00876816 0.00903844\n",
      "  0.00984246 0.00890218 0.00876036 0.00897545]\n",
      " [0.10526316 0.10526316 0.06563402 0.13099293 0.18394751 0.21779375\n",
      "  0.23645553 0.24926112 0.26386617 0.26926356]\n",
      " [0.10526316 0.10526316 0.13126805 0.06549646 0.12263168 0.16334531\n",
      "  0.20689859 0.21365239 0.21109293 0.2243863 ]\n",
      " [0.10526316 0.10526316 0.13126805 0.13099293 0.06131584 0.10889687\n",
      "  0.17734165 0.17804366 0.1583197  0.17950904]\n",
      " [0.10526316 0.10526316 0.13126805 0.13099293 0.12263168 0.05444844\n",
      "  0.14778471 0.14243493 0.1583197  0.13463178]\n",
      " [0.10526316 0.10526316 0.13126805 0.13099293 0.12263168 0.10889687\n",
      "  0.02955694 0.01780437 0.01319331 0.01494413]\n",
      " [0.10526316 0.10526316 0.13126805 0.13099293 0.12263168 0.10889687\n",
      "  0.05911388 0.03560873 0.01757349 0.02243863]\n",
      " [0.10526316 0.10526316 0.13126805 0.13099293 0.12263168 0.10889687\n",
      "  0.05911388 0.07121746 0.05277323 0.08975452]\n",
      " [0.10526316 0.10526316 0.13126805 0.13099293 0.12263168 0.10889687\n",
      "  0.05911388 0.07121746 0.10554647 0.04487726]]\n"
     ]
    }
   ],
   "source": [
    "import numpy as np\n",
    "\n",
    "criteria = [\"PH\", \"EC\", \"Organinc Carbon\", \"PHOSPHOROUS\", \"POTASH\", \"CALCIUM_CARBONATE\", \"FERROUS\", \"MANAGESE\", \"ZINK\", \"COPPER\"]\n",
    "n = len(criteria)\n",
    "\n",
    "# Initialize an n x n matrix with ones\n",
    "matrix = np.ones((n, n))\n",
    "\n",
    "# Assign comparison values directly to the matrix\n",
    "matrix[0, 1] = 2\n",
    "matrix[0, 2] = 0.125\n",
    "matrix[0, 3] = 0.143\n",
    "matrix[0, 4] = 0.166\n",
    "matrix[0, 5] = 0.2\n",
    "matrix[0, 6] = 0.5\n",
    "matrix[0, 7] = 0.333\n",
    "matrix[0, 8] = 0.2\n",
    "matrix[0, 9] = 0.25\n",
    "matrix[1, 2] = 0.111\n",
    "matrix[1, 3] = 0.125\n",
    "matrix[1, 4] = 0.143\n",
    "matrix[1, 5] = 0.166\n",
    "matrix[1, 6] = 0.333\n",
    "matrix[1, 7] = 0.25\n",
    "matrix[1, 8] = 0.166\n",
    "matrix[1, 9] = 0.2\n",
    "matrix[2, 3] = 2\n",
    "matrix[2, 4] = 3\n",
    "matrix[2, 5] = 4\n",
    "matrix[2, 6] = 8\n",
    "matrix[2, 7] = 7\n",
    "matrix[2, 8] = 5\n",
    "matrix[2, 9] = 6\n",
    "matrix[3, 4] = 2\n",
    "matrix[3, 5] = 3\n",
    "matrix[3, 6] = 7\n",
    "matrix[3, 7] = 6\n",
    "matrix[3, 8] = 4\n",
    "matrix[3, 9] = 5\n",
    "matrix[4, 5] = 2\n",
    "matrix[4, 6] = 6\n",
    "matrix[4, 7] = 5\n",
    "matrix[4, 8] = 3\n",
    "matrix[4, 9] = 4\n",
    "matrix[5, 6] = 5\n",
    "matrix[5, 7] = 4\n",
    "matrix[5, 8] = 3\n",
    "matrix[5, 9] = 3\n",
    "matrix[6, 7] = 0.5\n",
    "matrix[6, 8] = 0.25\n",
    "matrix[6, 9] = 0.333\n",
    "matrix[7, 8] = 0.333\n",
    "matrix[7, 9] = 0.5\n",
    "matrix[8, 9] = 2\n",
    "\n",
    "# Fill in the lower triangle of the matrix using reciprocal values\n",
    "matrix = matrix + np.tril(1/matrix, -1)\n",
    "\n",
    "# Normalize the matrix by column\n",
    "sums = matrix.sum(axis=0)\n",
    "matrix = matrix / sums\n",
    "\n",
    "# Print the resulting matrix\n",
    "print(matrix)\n",
    "\n"
   ]
  },
  {
   "cell_type": "code",
   "execution_count": 727,
   "metadata": {},
   "outputs": [
    {
     "name": "stdout",
     "output_type": "stream",
     "text": [
      "criteria weights:  [0.02449432 0.02276542 0.18277409 0.1549298  0.13362141 0.12330385\n",
      " 0.07798146 0.08390506 0.09771749 0.09850709]\n"
     ]
    }
   ],
   "source": [
    "# sum all columns in each row and divide by the number of criteria\n",
    "final_weights = np.sum(matrix, axis=1) / len(criteria)\n",
    "\n",
    "print(\"criteria weights: \", final_weights)"
   ]
  },
  {
   "cell_type": "code",
   "execution_count": 728,
   "metadata": {},
   "outputs": [
    {
     "name": "stdout",
     "output_type": "stream",
     "text": [
      "1.0\n"
     ]
    }
   ],
   "source": [
    "Sample=final_weights.sum(axis=0)\n",
    "print(Sample)"
   ]
  },
  {
   "cell_type": "code",
   "execution_count": 729,
   "metadata": {},
   "outputs": [
    {
     "name": "stdout",
     "output_type": "stream",
     "text": [
      "      SAMPLE_NO     SEASON SAMPLE_DATE  \\\n",
      "0         24651  2016-2017  12/22/2016   \n",
      "1         24974  2016-2017    1/3/2017   \n",
      "2         25910  2017-2018   7/12/2017   \n",
      "3         26863  2017-2018   8/16/2017   \n",
      "4         24492  2016-2017  12/21/2016   \n",
      "...         ...        ...         ...   \n",
      "2667       9624  2012-2013  12/10/2012   \n",
      "2668       9863  2012-2013    2/2/2013   \n",
      "2669      10033  2013-2014   4/13/2013   \n",
      "2670       6416  2012-2013   6/22/2012   \n",
      "2671      42168  2019-2020   1/27/2020   \n",
      "\n",
      "                                    FARMER_ENGLISH_NAME VILLAGE_NAME_ENGLISH  \\\n",
      "0                                   ADAPPA  DADA  LADGE      CHAND-SHIRADWAD   \n",
      "1                                 DNYANDEV  DATTU  MALI             JAMBHALI   \n",
      "2                              TATYASO  DEVGONDA  PATIL              SHIRATI   \n",
      "3     KARYAKARI  SANCHALAK  SHRI DATTA  S.S.S.K.LTD ...               SHIROL   \n",
      "4                    JINNAPPA  BALU  AMBADE(CHINCHVADE)            KURUNDWAD   \n",
      "...                                                 ...                  ...   \n",
      "2667  KARYAKARI  SANCHALAK  SHRI DATTA  S.S.S.K.LTD ...               SHIROL   \n",
      "2668  KARYAKARI  SANCHALAK  SHRI DATTA  S.S.S.K.LTD ...               SHIROL   \n",
      "2669  KARYAKARI  SANCHALAK  SHRI DATTA  S.S.S.K.LTD ...               SHIROL   \n",
      "2670                                MUKUNDA  RAMU  JONG            KURUNDWAD   \n",
      "2671  KARYAKARI  SANCHALAK  SHRI DATTA  S.S.S.K.LTD ...               SHIROL   \n",
      "\n",
      "         SURVEY_NO        PH  Unnamed: 7        EC  Organinc Carbon  \\\n",
      "0            121/1  1.000000         NaN  0.107612         0.186667   \n",
      "1              107  0.982533         NaN  0.055118         0.266667   \n",
      "2              750  0.982533         NaN  0.170604         0.466667   \n",
      "3     278/1, 278/3  0.978166         NaN  0.367454         0.066667   \n",
      "4             1230  0.960699         NaN  0.044619         0.226667   \n",
      "...            ...       ...         ...       ...              ...   \n",
      "2667           680  0.240175         NaN  0.015748         0.233333   \n",
      "2668       3.00ACR  0.207424         NaN  0.007874         0.133333   \n",
      "2669            64  0.200873         NaN  0.002625         0.433333   \n",
      "2670           257  0.148472         NaN  0.002625         0.000000   \n",
      "2671        V.S.H.  0.000000         NaN  0.007874         0.320000   \n",
      "\n",
      "      PHOSPHOROUS    POTASH  CALCIUM_CARBONATE   FERROUS  MANAGESE      ZINK  \\\n",
      "0        0.110000  0.504174           0.857143  0.978978  0.128622  0.059030   \n",
      "1        0.286667  0.859766           0.326531  0.068741  0.205754  0.100050   \n",
      "2        0.385000  0.989983           0.612245  0.129073  0.218887  0.087044   \n",
      "3        0.000000  0.747913           0.693878  0.146731  0.179904  0.039520   \n",
      "4        0.286667  0.691152           0.857143  0.267395  0.166146  0.099550   \n",
      "...           ...       ...                ...       ...       ...       ...   \n",
      "2667     0.120000  0.223706           0.122449  0.482867  0.437148  0.084542   \n",
      "2668     0.050000  0.205342           0.040816  0.661551  0.743590  0.074537   \n",
      "2669     0.136667  0.429048           0.081633  0.096069  0.045237  0.069535   \n",
      "2670     0.070000  0.654424           0.326531  0.080933  0.066291  0.022511   \n",
      "2671     0.946667  0.803005           0.081633  0.044566  0.194288  0.019510   \n",
      "\n",
      "        COPPER   Results  \n",
      "0     0.303136  0.373925  \n",
      "1     0.364111  0.341888  \n",
      "2     0.290070  0.446179  \n",
      "3     0.202962  0.280397  \n",
      "4     0.390244  0.391393  \n",
      "...        ...       ...  \n",
      "2667  0.181185  0.212914  \n",
      "2668  0.394599  0.229981  \n",
      "2669  0.089721  0.199672  \n",
      "2670  0.164634  0.172540  \n",
      "2671  0.067944  0.351075  \n",
      "\n",
      "[2658 rows x 18 columns]\n"
     ]
    }
   ],
   "source": [
    "# Define the decision matrix using the df dataframe\n",
    "decision_matrix = df[['PH', 'EC', 'Organinc Carbon', 'PHOSPHOROUS', 'POTASH', 'CALCIUM_CARBONATE', 'FERROUS', 'MANAGESE', 'ZINK', 'COPPER']].values  # select only relevant columns\n",
    "\n",
    "# Define the weights for each criterion from AHP analysis\n",
    "weights = final_weights\n",
    "\n",
    "# Expand the weights array to have the same shape as the decision matrix\n",
    "expanded_weights = np.expand_dims(weights, axis=0)\n",
    "expanded_weights = np.repeat(expanded_weights, decision_matrix.shape[0], axis=0)\n",
    "\n",
    "# Calculate the weighted sum for each alternative\n",
    "weighted_sums = np.sum(decision_matrix * expanded_weights, axis=1)\n",
    "\n",
    "df['Results'] = weighted_sums\n",
    "print(df)\n"
   ]
  },
  {
   "cell_type": "code",
   "execution_count": 730,
   "metadata": {},
   "outputs": [
    {
     "name": "stdout",
     "output_type": "stream",
     "text": [
      "            PH        EC  Organinc Carbon  PHOSPHOROUS    POTASH  \\\n",
      "0     1.000000  0.107612         0.186667     0.110000  0.504174   \n",
      "1     0.982533  0.055118         0.266667     0.286667  0.859766   \n",
      "2     0.982533  0.170604         0.466667     0.385000  0.989983   \n",
      "3     0.978166  0.367454         0.066667     0.000000  0.747913   \n",
      "4     0.960699  0.044619         0.226667     0.286667  0.691152   \n",
      "...        ...       ...              ...          ...       ...   \n",
      "2667  0.240175  0.015748         0.233333     0.120000  0.223706   \n",
      "2668  0.207424  0.007874         0.133333     0.050000  0.205342   \n",
      "2669  0.200873  0.002625         0.433333     0.136667  0.429048   \n",
      "2670  0.148472  0.002625         0.000000     0.070000  0.654424   \n",
      "2671  0.000000  0.007874         0.320000     0.946667  0.803005   \n",
      "\n",
      "      CALCIUM_CARBONATE   FERROUS  MANAGESE      ZINK    COPPER   Results  \n",
      "0              0.857143  0.978978  0.128622  0.059030  0.303136  0.373925  \n",
      "1              0.326531  0.068741  0.205754  0.100050  0.364111  0.341888  \n",
      "2              0.612245  0.129073  0.218887  0.087044  0.290070  0.446179  \n",
      "3              0.693878  0.146731  0.179904  0.039520  0.202962  0.280397  \n",
      "4              0.857143  0.267395  0.166146  0.099550  0.390244  0.391393  \n",
      "...                 ...       ...       ...       ...       ...       ...  \n",
      "2667           0.122449  0.482867  0.437148  0.084542  0.181185  0.212914  \n",
      "2668           0.040816  0.661551  0.743590  0.074537  0.394599  0.229981  \n",
      "2669           0.081633  0.096069  0.045237  0.069535  0.089721  0.199672  \n",
      "2670           0.326531  0.080933  0.066291  0.022511  0.164634  0.172540  \n",
      "2671           0.081633  0.044566  0.194288  0.019510  0.067944  0.351075  \n",
      "\n",
      "[2658 rows x 11 columns]\n"
     ]
    }
   ],
   "source": [
    "df = df.drop(['SEASON', 'SAMPLE_DATE','FARMER_ENGLISH_NAME','VILLAGE_NAME_ENGLISH','SURVEY_NO','Unnamed: 7','SAMPLE_NO'], axis=1)\n",
    "print(df)"
   ]
  },
  {
   "cell_type": "code",
   "execution_count": 731,
   "metadata": {},
   "outputs": [
    {
     "name": "stdout",
     "output_type": "stream",
     "text": [
      "(array([], dtype=int64),)\n"
     ]
    }
   ],
   "source": [
    "df['Quality'] = pd.cut(df.Results,bins=[0,0.4,0.5,0.7,1],labels=['Poor','Medium','Good','Excellent'])\n",
    "# print(df)\n",
    "\n",
    "test = np.where(df['Results']>0.7)\n",
    "print (test)"
   ]
  },
  {
   "cell_type": "markdown",
   "metadata": {},
   "source": []
  },
  {
   "cell_type": "code",
   "execution_count": 732,
   "metadata": {},
   "outputs": [
    {
     "data": {
      "text/plain": [
       "<AxesSubplot:>"
      ]
     },
     "execution_count": 732,
     "metadata": {},
     "output_type": "execute_result"
    },
    {
     "data": {
      "image/png": "[encoded data removed]",
      "text/plain": [
       "<Figure size 720x576 with 2 Axes>"
      ]
     },
     "metadata": {
      "needs_background": "light"
     },
     "output_type": "display_data"
    }
   ],
   "source": [
    "fig, ax = plt.subplots(figsize =(10,8))\n",
    "sns.heatmap(df[['EC','Organinc Carbon','PHOSPHOROUS','POTASH','CALCIUM_CARBONATE','FERROUS']].corr(), linewidths= .5)"
   ]
  },
  {
   "cell_type": "code",
   "execution_count": 733,
   "metadata": {},
   "outputs": [
    {
     "name": "stdout",
     "output_type": "stream",
     "text": [
      "            PH        EC  Organinc Carbon  PHOSPHOROUS    POTASH  \\\n",
      "0     1.000000  0.107612         0.186667     0.110000  0.504174   \n",
      "1     0.982533  0.055118         0.266667     0.286667  0.859766   \n",
      "2     0.982533  0.170604         0.466667     0.385000  0.989983   \n",
      "3     0.978166  0.367454         0.066667     0.000000  0.747913   \n",
      "4     0.960699  0.044619         0.226667     0.286667  0.691152   \n",
      "...        ...       ...              ...          ...       ...   \n",
      "2667  0.240175  0.015748         0.233333     0.120000  0.223706   \n",
      "2668  0.207424  0.007874         0.133333     0.050000  0.205342   \n",
      "2669  0.200873  0.002625         0.433333     0.136667  0.429048   \n",
      "2670  0.148472  0.002625         0.000000     0.070000  0.654424   \n",
      "2671  0.000000  0.007874         0.320000     0.946667  0.803005   \n",
      "\n",
      "      CALCIUM_CARBONATE   FERROUS  MANAGESE      ZINK    COPPER Quality  \n",
      "0              0.857143  0.978978  0.128622  0.059030  0.303136    Poor  \n",
      "1              0.326531  0.068741  0.205754  0.100050  0.364111    Poor  \n",
      "2              0.612245  0.129073  0.218887  0.087044  0.290070  Medium  \n",
      "3              0.693878  0.146731  0.179904  0.039520  0.202962    Poor  \n",
      "4              0.857143  0.267395  0.166146  0.099550  0.390244    Poor  \n",
      "...                 ...       ...       ...       ...       ...     ...  \n",
      "2667           0.122449  0.482867  0.437148  0.084542  0.181185    Poor  \n",
      "2668           0.040816  0.661551  0.743590  0.074537  0.394599    Poor  \n",
      "2669           0.081633  0.096069  0.045237  0.069535  0.089721    Poor  \n",
      "2670           0.326531  0.080933  0.066291  0.022511  0.164634    Poor  \n",
      "2671           0.081633  0.044566  0.194288  0.019510  0.067944    Poor  \n",
      "\n",
      "[2658 rows x 11 columns]\n",
      "0         Poor\n",
      "1         Poor\n",
      "2       Medium\n",
      "3         Poor\n",
      "4         Poor\n",
      "         ...  \n",
      "2667      Poor\n",
      "2668      Poor\n",
      "2669      Poor\n",
      "2670      Poor\n",
      "2671      Poor\n",
      "Name: Quality, Length: 2658, dtype: category\n",
      "Categories (4, object): ['Poor' < 'Medium' < 'Good' < 'Excellent']\n",
      "Poor         2348\n",
      "Medium        299\n",
      "Good           11\n",
      "Excellent       0\n",
      "Name: Quality, dtype: int64\n"
     ]
    }
   ],
   "source": [
    "temp = df.drop(labels =['Results'], axis = 1)\n",
    "y = df['Quality']\n",
    "print (temp)\n",
    "print(y)\n",
    "print(y.value_counts())"
   ]
  },
  {
   "cell_type": "code",
   "execution_count": 734,
   "metadata": {},
   "outputs": [
    {
     "name": "stdout",
     "output_type": "stream",
     "text": [
      "[[1.         0.10761155 0.18666667 ... 0.05902951 0.30313589 0.37392511]\n",
      " [0.98253275 0.05511811 0.26666667 ... 0.10005003 0.3641115  0.34188837]\n",
      " [0.98253275 0.17060367 0.46666667 ... 0.08704352 0.29006969 0.44617861]\n",
      " ...\n",
      " [0.20087336 0.00262467 0.43333333 ... 0.06953477 0.08972125 0.19967165]\n",
      " [0.14847162 0.00262467 0.         ... 0.02251126 0.16463415 0.17253995]\n",
      " [0.         0.00787402 0.32       ... 0.01950975 0.06794425 0.35107463]]\n",
      "['Poor', 'Poor', 'Medium', 'Poor', 'Poor', ..., 'Poor', 'Poor', 'Poor', 'Poor', 'Poor']\n",
      "Length: 2658\n",
      "Categories (4, object): ['Poor' < 'Medium' < 'Good' < 'Excellent']\n"
     ]
    }
   ],
   "source": [
    "x = df.iloc[:,:-1].values\n",
    "print(x)\n",
    "y = df.iloc[:,11].values\n",
    "print(y)"
   ]
  },
  {
   "cell_type": "code",
   "execution_count": 735,
   "metadata": {},
   "outputs": [
    {
     "data": {
      "text/plain": [
       "((2126, 11), (532, 11))"
      ]
     },
     "execution_count": 735,
     "metadata": {},
     "output_type": "execute_result"
    }
   ],
   "source": [
    "from sklearn.model_selection import train_test_split\n",
    "\n",
    "\n",
    "x_train, x_test, y_train, y_test = train_test_split(x, y, test_size= 0.2, random_state=2, shuffle=True)\n",
    "\n",
    "x_train.shape,x_test.shape\n",
    "\n",
    "\n"
   ]
  },
  {
   "cell_type": "code",
   "execution_count": 736,
   "metadata": {},
   "outputs": [
    {
     "name": "stdout",
     "output_type": "stream",
     "text": [
      "['Poor', 'Poor', 'Poor', 'Poor', 'Poor', ..., 'Poor', 'Poor', 'Poor', 'Poor', 'Poor']\n",
      "Length: 532\n",
      "Categories (4, object): ['Poor' < 'Medium' < 'Good' < 'Excellent']\n",
      "Poor         463\n",
      "Medium        65\n",
      "Good           4\n",
      "Excellent      0\n",
      "dtype: int64\n"
     ]
    }
   ],
   "source": [
    "print(y_test)\n",
    "print(y_test.value_counts())"
   ]
  },
  {
   "cell_type": "code",
   "execution_count": 737,
   "metadata": {},
   "outputs": [
    {
     "name": "stdout",
     "output_type": "stream",
     "text": [
      "['Poor', 'Poor', 'Poor', 'Poor', 'Poor', ..., 'Poor', 'Poor', 'Poor', 'Poor', 'Poor']\n",
      "Length: 2126\n",
      "Categories (4, object): ['Poor' < 'Medium' < 'Good' < 'Excellent']\n"
     ]
    }
   ],
   "source": [
    "print (y_train)"
   ]
  },
  {
   "cell_type": "code",
   "execution_count": 738,
   "metadata": {},
   "outputs": [
    {
     "data": {
      "text/plain": [
       "((2126, 11), (532, 11))"
      ]
     },
     "execution_count": 738,
     "metadata": {},
     "output_type": "execute_result"
    }
   ],
   "source": [
    "\n",
    "x_train.shape,x_test.shape"
   ]
  },
  {
   "cell_type": "code",
   "execution_count": 739,
   "metadata": {},
   "outputs": [
    {
     "data": {
      "text/plain": [
       "((2126,), (532,))"
      ]
     },
     "execution_count": 739,
     "metadata": {},
     "output_type": "execute_result"
    }
   ],
   "source": [
    "\n",
    "y_train.shape,y_test.shape"
   ]
  },
  {
   "cell_type": "code",
   "execution_count": 740,
   "metadata": {},
   "outputs": [
    {
     "data": {
      "text/html": [
       "<style>#sk-container-id-25 {color: black;background-color: white;}#sk-container-id-25 pre{padding: 0;}#sk-container-id-25 div.sk-toggleable {background-color: white;}#sk-container-id-25 label.sk-toggleable__label {cursor: pointer;display: block;width: 100%;margin-bottom: 0;padding: 0.3em;box-sizing: border-box;text-align: center;}#sk-container-id-25 label.sk-toggleable__label-arrow:before {content: \"▸\";float: left;margin-right: 0.25em;color: #696969;}#sk-container-id-25 label.sk-toggleable__label-arrow:hover:before {color: black;}#sk-container-id-25 div.sk-estimator:hover label.sk-toggleable__label-arrow:before {color: black;}#sk-container-id-25 div.sk-toggleable__content {max-height: 0;max-width: 0;overflow: hidden;text-align: left;background-color: #f0f8ff;}#sk-container-id-25 div.sk-toggleable__content pre {margin: 0.2em;color: black;border-radius: 0.25em;background-color: #f0f8ff;}#sk-container-id-25 input.sk-toggleable__control:checked~div.sk-toggleable__content {max-height: 200px;max-width: 100%;overflow: auto;}#sk-container-id-25 input.sk-toggleable__control:checked~label.sk-toggleable__label-arrow:before {content: \"▾\";}#sk-container-id-25 div.sk-estimator input.sk-toggleable__control:checked~label.sk-toggleable__label {background-color: #d4ebff;}#sk-container-id-25 div.sk-label input.sk-toggleable__control:checked~label.sk-toggleable__label {background-color: #d4ebff;}#sk-container-id-25 input.sk-hidden--visually {border: 0;clip: rect(1px 1px 1px 1px);clip: rect(1px, 1px, 1px, 1px);height: 1px;margin: -1px;overflow: hidden;padding: 0;position: absolute;width: 1px;}#sk-container-id-25 div.sk-estimator {font-family: monospace;background-color: #f0f8ff;border: 1px dotted black;border-radius: 0.25em;box-sizing: border-box;margin-bottom: 0.5em;}#sk-container-id-25 div.sk-estimator:hover {background-color: #d4ebff;}#sk-container-id-25 div.sk-parallel-item::after {content: \"\";width: 100%;border-bottom: 1px solid gray;flex-grow: 1;}#sk-container-id-25 div.sk-label:hover label.sk-toggleable__label {background-color: #d4ebff;}#sk-container-id-25 div.sk-serial::before {content: \"\";position: absolute;border-left: 1px solid gray;box-sizing: border-box;top: 0;bottom: 0;left: 50%;z-index: 0;}#sk-container-id-25 div.sk-serial {display: flex;flex-direction: column;align-items: center;background-color: white;padding-right: 0.2em;padding-left: 0.2em;position: relative;}#sk-container-id-25 div.sk-item {position: relative;z-index: 1;}#sk-container-id-25 div.sk-parallel {display: flex;align-items: stretch;justify-content: center;background-color: white;position: relative;}#sk-container-id-25 div.sk-item::before, #sk-container-id-25 div.sk-parallel-item::before {content: \"\";position: absolute;border-left: 1px solid gray;box-sizing: border-box;top: 0;bottom: 0;left: 50%;z-index: -1;}#sk-container-id-25 div.sk-parallel-item {display: flex;flex-direction: column;z-index: 1;position: relative;background-color: white;}#sk-container-id-25 div.sk-parallel-item:first-child::after {align-self: flex-end;width: 50%;}#sk-container-id-25 div.sk-parallel-item:last-child::after {align-self: flex-start;width: 50%;}#sk-container-id-25 div.sk-parallel-item:only-child::after {width: 0;}#sk-container-id-25 div.sk-dashed-wrapped {border: 1px dashed gray;margin: 0 0.4em 0.5em 0.4em;box-sizing: border-box;padding-bottom: 0.4em;background-color: white;}#sk-container-id-25 div.sk-label label {font-family: monospace;font-weight: bold;display: inline-block;line-height: 1.2em;}#sk-container-id-25 div.sk-label-container {text-align: center;}#sk-container-id-25 div.sk-container {/* jupyter's `normalize.less` sets `[hidden] { display: none; }` but bootstrap.min.css set `[hidden] { display: none !important; }` so we also need the `!important` here to be able to override the default hidden behavior on the sphinx rendered scikit-learn.org. See: https://github.com/scikit-learn/scikit-learn/issues/21755 */display: inline-block !important;position: relative;}#sk-container-id-25 div.sk-text-repr-fallback {display: none;}</style><div id=\"sk-container-id-25\" class=\"sk-top-container\"><div class=\"sk-text-repr-fallback\"><pre>VarianceThreshold(threshold=0)</pre><b>In a Jupyter environment, please rerun this cell to show the HTML representation or trust the notebook. <br />On GitHub, the HTML representation is unable to render, please try loading this page with nbviewer.org.</b></div><div class=\"sk-container\" hidden><div class=\"sk-item\"><div class=\"sk-estimator sk-toggleable\"><input class=\"sk-toggleable__control sk-hidden--visually\" id=\"sk-estimator-id-25\" type=\"checkbox\" checked><label for=\"sk-estimator-id-25\" class=\"sk-toggleable__label sk-toggleable__label-arrow\">VarianceThreshold</label><div class=\"sk-toggleable__content\"><pre>VarianceThreshold(threshold=0)</pre></div></div></div></div></div>"
      ],
      "text/plain": [
       "VarianceThreshold(threshold=0)"
      ]
     },
     "execution_count": 740,
     "metadata": {},
     "output_type": "execute_result"
    }
   ],
   "source": [
    "from sklearn.feature_selection import VarianceThreshold\n",
    "# Check if there are any constant features\n",
    "var_thres = VarianceThreshold(threshold=0)\n",
    "var_thres.fit(x_train)"
   ]
  },
  {
   "cell_type": "code",
   "execution_count": 741,
   "metadata": {},
   "outputs": [
    {
     "data": {
      "text/plain": [
       "11"
      ]
     },
     "execution_count": 741,
     "metadata": {},
     "output_type": "execute_result"
    }
   ],
   "source": [
    "sum(var_thres.get_support())"
   ]
  },
  {
   "cell_type": "code",
   "execution_count": 742,
   "metadata": {},
   "outputs": [],
   "source": [
    "# from sklearn.preprocessing import StandardScaler\n",
    "# st_x= StandardScaler()  \n",
    "# x_train= st_x.fit_transform(x_train)  \n",
    "# print(x_train)"
   ]
  },
  {
   "cell_type": "code",
   "execution_count": 743,
   "metadata": {},
   "outputs": [
    {
     "name": "stdout",
     "output_type": "stream",
     "text": [
      "[[0.71179039 0.16535433 0.12666667 ... 0.00950475 0.15505226 0.35544723]\n",
      " [0.63755459 0.0839895  0.         ... 0.04952476 0.21602787 0.13241781]\n",
      " [0.71179039 0.20734908 0.         ... 0.01450725 0.3902439  0.24246864]\n",
      " ...\n",
      " [0.66593886 0.17585302 0.13333333 ... 0.08954477 0.46864111 0.35833988]\n",
      " [0.63755459 0.3175853  0.20666667 ... 0.07953977 0.3641115  0.3436202 ]\n",
      " [0.83406114 0.1023622  0.34666667 ... 0.15407704 0.36672474 0.37596249]]\n"
     ]
    }
   ],
   "source": [
    "# x_test= st_x.transform(x_test) \n",
    "print(x_test)"
   ]
  },
  {
   "cell_type": "code",
   "execution_count": 744,
   "metadata": {},
   "outputs": [
    {
     "data": {
      "text/html": [
       "<style>#sk-container-id-26 {color: black;background-color: white;}#sk-container-id-26 pre{padding: 0;}#sk-container-id-26 div.sk-toggleable {background-color: white;}#sk-container-id-26 label.sk-toggleable__label {cursor: pointer;display: block;width: 100%;margin-bottom: 0;padding: 0.3em;box-sizing: border-box;text-align: center;}#sk-container-id-26 label.sk-toggleable__label-arrow:before {content: \"▸\";float: left;margin-right: 0.25em;color: #696969;}#sk-container-id-26 label.sk-toggleable__label-arrow:hover:before {color: black;}#sk-container-id-26 div.sk-estimator:hover label.sk-toggleable__label-arrow:before {color: black;}#sk-container-id-26 div.sk-toggleable__content {max-height: 0;max-width: 0;overflow: hidden;text-align: left;background-color: #f0f8ff;}#sk-container-id-26 div.sk-toggleable__content pre {margin: 0.2em;color: black;border-radius: 0.25em;background-color: #f0f8ff;}#sk-container-id-26 input.sk-toggleable__control:checked~div.sk-toggleable__content {max-height: 200px;max-width: 100%;overflow: auto;}#sk-container-id-26 input.sk-toggleable__control:checked~label.sk-toggleable__label-arrow:before {content: \"▾\";}#sk-container-id-26 div.sk-estimator input.sk-toggleable__control:checked~label.sk-toggleable__label {background-color: #d4ebff;}#sk-container-id-26 div.sk-label input.sk-toggleable__control:checked~label.sk-toggleable__label {background-color: #d4ebff;}#sk-container-id-26 input.sk-hidden--visually {border: 0;clip: rect(1px 1px 1px 1px);clip: rect(1px, 1px, 1px, 1px);height: 1px;margin: -1px;overflow: hidden;padding: 0;position: absolute;width: 1px;}#sk-container-id-26 div.sk-estimator {font-family: monospace;background-color: #f0f8ff;border: 1px dotted black;border-radius: 0.25em;box-sizing: border-box;margin-bottom: 0.5em;}#sk-container-id-26 div.sk-estimator:hover {background-color: #d4ebff;}#sk-container-id-26 div.sk-parallel-item::after {content: \"\";width: 100%;border-bottom: 1px solid gray;flex-grow: 1;}#sk-container-id-26 div.sk-label:hover label.sk-toggleable__label {background-color: #d4ebff;}#sk-container-id-26 div.sk-serial::before {content: \"\";position: absolute;border-left: 1px solid gray;box-sizing: border-box;top: 0;bottom: 0;left: 50%;z-index: 0;}#sk-container-id-26 div.sk-serial {display: flex;flex-direction: column;align-items: center;background-color: white;padding-right: 0.2em;padding-left: 0.2em;position: relative;}#sk-container-id-26 div.sk-item {position: relative;z-index: 1;}#sk-container-id-26 div.sk-parallel {display: flex;align-items: stretch;justify-content: center;background-color: white;position: relative;}#sk-container-id-26 div.sk-item::before, #sk-container-id-26 div.sk-parallel-item::before {content: \"\";position: absolute;border-left: 1px solid gray;box-sizing: border-box;top: 0;bottom: 0;left: 50%;z-index: -1;}#sk-container-id-26 div.sk-parallel-item {display: flex;flex-direction: column;z-index: 1;position: relative;background-color: white;}#sk-container-id-26 div.sk-parallel-item:first-child::after {align-self: flex-end;width: 50%;}#sk-container-id-26 div.sk-parallel-item:last-child::after {align-self: flex-start;width: 50%;}#sk-container-id-26 div.sk-parallel-item:only-child::after {width: 0;}#sk-container-id-26 div.sk-dashed-wrapped {border: 1px dashed gray;margin: 0 0.4em 0.5em 0.4em;box-sizing: border-box;padding-bottom: 0.4em;background-color: white;}#sk-container-id-26 div.sk-label label {font-family: monospace;font-weight: bold;display: inline-block;line-height: 1.2em;}#sk-container-id-26 div.sk-label-container {text-align: center;}#sk-container-id-26 div.sk-container {/* jupyter's `normalize.less` sets `[hidden] { display: none; }` but bootstrap.min.css set `[hidden] { display: none !important; }` so we also need the `!important` here to be able to override the default hidden behavior on the sphinx rendered scikit-learn.org. See: https://github.com/scikit-learn/scikit-learn/issues/21755 */display: inline-block !important;position: relative;}#sk-container-id-26 div.sk-text-repr-fallback {display: none;}</style><div id=\"sk-container-id-26\" class=\"sk-top-container\"><div class=\"sk-text-repr-fallback\"><pre>RandomForestClassifier(criterion=&#x27;entropy&#x27;, n_estimators=10)</pre><b>In a Jupyter environment, please rerun this cell to show the HTML representation or trust the notebook. <br />On GitHub, the HTML representation is unable to render, please try loading this page with nbviewer.org.</b></div><div class=\"sk-container\" hidden><div class=\"sk-item\"><div class=\"sk-estimator sk-toggleable\"><input class=\"sk-toggleable__control sk-hidden--visually\" id=\"sk-estimator-id-26\" type=\"checkbox\" checked><label for=\"sk-estimator-id-26\" class=\"sk-toggleable__label sk-toggleable__label-arrow\">RandomForestClassifier</label><div class=\"sk-toggleable__content\"><pre>RandomForestClassifier(criterion=&#x27;entropy&#x27;, n_estimators=10)</pre></div></div></div></div></div>"
      ],
      "text/plain": [
       "RandomForestClassifier(criterion='entropy', n_estimators=10)"
      ]
     },
     "execution_count": 744,
     "metadata": {},
     "output_type": "execute_result"
    }
   ],
   "source": [
    "from sklearn.ensemble import RandomForestClassifier  \n",
    "classifier= RandomForestClassifier(n_estimators= 10, criterion=\"entropy\")  \n",
    "classifier.fit(x_train, y_train)"
   ]
  },
  {
   "cell_type": "code",
   "execution_count": 745,
   "metadata": {},
   "outputs": [
    {
     "name": "stdout",
     "output_type": "stream",
     "text": [
      "['Poor' 'Poor' 'Poor' 'Poor' 'Poor' 'Poor' 'Poor' 'Poor' 'Poor' 'Poor'\n",
      " 'Poor' 'Poor' 'Medium' 'Poor' 'Poor' 'Poor' 'Poor' 'Poor' 'Poor' 'Poor'\n",
      " 'Poor' 'Poor' 'Medium' 'Poor' 'Medium' 'Poor' 'Poor' 'Poor' 'Medium'\n",
      " 'Poor' 'Poor' 'Medium' 'Poor' 'Poor' 'Poor' 'Poor' 'Poor' 'Poor' 'Poor'\n",
      " 'Poor' 'Poor' 'Poor' 'Poor' 'Poor' 'Poor' 'Poor' 'Medium' 'Poor' 'Poor'\n",
      " 'Poor' 'Poor' 'Poor' 'Poor' 'Poor' 'Poor' 'Poor' 'Poor' 'Poor' 'Poor'\n",
      " 'Poor' 'Poor' 'Poor' 'Poor' 'Poor' 'Poor' 'Poor' 'Poor' 'Poor' 'Poor'\n",
      " 'Poor' 'Poor' 'Medium' 'Poor' 'Poor' 'Poor' 'Medium' 'Poor' 'Poor' 'Poor'\n",
      " 'Poor' 'Poor' 'Poor' 'Poor' 'Poor' 'Poor' 'Poor' 'Poor' 'Poor' 'Poor'\n",
      " 'Poor' 'Poor' 'Poor' 'Poor' 'Poor' 'Medium' 'Medium' 'Poor' 'Poor' 'Poor'\n",
      " 'Poor' 'Medium' 'Poor' 'Poor' 'Poor' 'Poor' 'Poor' 'Medium' 'Poor' 'Poor'\n",
      " 'Poor' 'Poor' 'Poor' 'Poor' 'Poor' 'Poor' 'Poor' 'Poor' 'Poor' 'Poor'\n",
      " 'Poor' 'Poor' 'Poor' 'Poor' 'Poor' 'Poor' 'Poor' 'Medium' 'Poor' 'Poor'\n",
      " 'Poor' 'Poor' 'Medium' 'Poor' 'Poor' 'Poor' 'Poor' 'Poor' 'Medium' 'Poor'\n",
      " 'Poor' 'Poor' 'Poor' 'Poor' 'Poor' 'Poor' 'Poor' 'Poor' 'Poor' 'Poor'\n",
      " 'Medium' 'Poor' 'Poor' 'Poor' 'Poor' 'Poor' 'Poor' 'Poor' 'Poor' 'Poor'\n",
      " 'Poor' 'Poor' 'Poor' 'Medium' 'Poor' 'Medium' 'Medium' 'Poor' 'Medium'\n",
      " 'Poor' 'Poor' 'Poor' 'Poor' 'Poor' 'Poor' 'Poor' 'Medium' 'Poor' 'Poor'\n",
      " 'Poor' 'Poor' 'Poor' 'Poor' 'Poor' 'Poor' 'Medium' 'Poor' 'Poor' 'Poor'\n",
      " 'Poor' 'Poor' 'Poor' 'Poor' 'Medium' 'Poor' 'Medium' 'Poor' 'Medium'\n",
      " 'Poor' 'Poor' 'Poor' 'Poor' 'Poor' 'Poor' 'Poor' 'Poor' 'Medium' 'Poor'\n",
      " 'Poor' 'Poor' 'Poor' 'Medium' 'Poor' 'Poor' 'Poor' 'Poor' 'Poor' 'Poor'\n",
      " 'Poor' 'Poor' 'Poor' 'Poor' 'Poor' 'Poor' 'Poor' 'Poor' 'Poor' 'Poor'\n",
      " 'Poor' 'Poor' 'Poor' 'Poor' 'Poor' 'Poor' 'Poor' 'Poor' 'Poor' 'Poor'\n",
      " 'Poor' 'Poor' 'Poor' 'Poor' 'Poor' 'Poor' 'Poor' 'Poor' 'Poor' 'Poor'\n",
      " 'Medium' 'Poor' 'Poor' 'Poor' 'Poor' 'Medium' 'Poor' 'Poor' 'Poor' 'Poor'\n",
      " 'Poor' 'Poor' 'Poor' 'Poor' 'Poor' 'Poor' 'Poor' 'Medium' 'Poor' 'Medium'\n",
      " 'Poor' 'Medium' 'Poor' 'Poor' 'Poor' 'Poor' 'Poor' 'Poor' 'Poor' 'Poor'\n",
      " 'Poor' 'Poor' 'Poor' 'Poor' 'Poor' 'Poor' 'Poor' 'Medium' 'Poor' 'Poor'\n",
      " 'Poor' 'Poor' 'Medium' 'Poor' 'Poor' 'Poor' 'Poor' 'Medium' 'Poor' 'Poor'\n",
      " 'Poor' 'Poor' 'Poor' 'Poor' 'Poor' 'Poor' 'Poor' 'Poor' 'Poor' 'Poor'\n",
      " 'Poor' 'Medium' 'Poor' 'Medium' 'Poor' 'Medium' 'Poor' 'Poor' 'Poor'\n",
      " 'Poor' 'Poor' 'Medium' 'Poor' 'Poor' 'Poor' 'Poor' 'Poor' 'Poor' 'Poor'\n",
      " 'Poor' 'Poor' 'Medium' 'Poor' 'Poor' 'Poor' 'Poor' 'Poor' 'Medium' 'Poor'\n",
      " 'Poor' 'Poor' 'Poor' 'Poor' 'Poor' 'Poor' 'Poor' 'Poor' 'Poor' 'Poor'\n",
      " 'Poor' 'Poor' 'Medium' 'Poor' 'Poor' 'Medium' 'Poor' 'Poor' 'Poor'\n",
      " 'Medium' 'Poor' 'Poor' 'Poor' 'Poor' 'Poor' 'Poor' 'Poor' 'Poor' 'Medium'\n",
      " 'Poor' 'Poor' 'Poor' 'Poor' 'Poor' 'Poor' 'Poor' 'Medium' 'Poor' 'Medium'\n",
      " 'Poor' 'Poor' 'Poor' 'Poor' 'Poor' 'Medium' 'Poor' 'Poor' 'Poor' 'Poor'\n",
      " 'Poor' 'Poor' 'Poor' 'Poor' 'Poor' 'Poor' 'Medium' 'Poor' 'Poor' 'Poor'\n",
      " 'Poor' 'Poor' 'Medium' 'Poor' 'Poor' 'Poor' 'Medium' 'Poor' 'Medium'\n",
      " 'Poor' 'Medium' 'Poor' 'Poor' 'Poor' 'Poor' 'Poor' 'Poor' 'Poor' 'Medium'\n",
      " 'Poor' 'Poor' 'Poor' 'Poor' 'Poor' 'Poor' 'Poor' 'Poor' 'Medium' 'Poor'\n",
      " 'Poor' 'Poor' 'Poor' 'Poor' 'Poor' 'Poor' 'Poor' 'Poor' 'Poor' 'Poor'\n",
      " 'Medium' 'Poor' 'Poor' 'Poor' 'Poor' 'Poor' 'Poor' 'Poor' 'Poor' 'Poor'\n",
      " 'Poor' 'Poor' 'Poor' 'Poor' 'Poor' 'Poor' 'Poor' 'Poor' 'Poor' 'Poor'\n",
      " 'Poor' 'Poor' 'Poor' 'Medium' 'Poor' 'Poor' 'Poor' 'Poor' 'Poor' 'Poor'\n",
      " 'Medium' 'Poor' 'Medium' 'Medium' 'Poor' 'Poor' 'Poor' 'Poor' 'Poor'\n",
      " 'Poor' 'Poor' 'Medium' 'Poor' 'Poor' 'Poor' 'Poor' 'Poor' 'Poor' 'Medium'\n",
      " 'Poor' 'Poor' 'Poor' 'Poor' 'Poor' 'Poor' 'Poor' 'Poor' 'Poor' 'Medium'\n",
      " 'Poor' 'Poor' 'Poor' 'Poor' 'Poor' 'Poor' 'Poor' 'Poor' 'Medium' 'Poor'\n",
      " 'Poor' 'Poor' 'Poor' 'Poor' 'Poor' 'Poor' 'Poor' 'Poor' 'Poor' 'Poor'\n",
      " 'Poor' 'Poor' 'Medium' 'Poor' 'Medium' 'Poor' 'Poor' 'Medium' 'Medium'\n",
      " 'Poor' 'Poor' 'Medium' 'Poor' 'Poor' 'Poor' 'Poor' 'Poor' 'Poor' 'Poor']\n"
     ]
    }
   ],
   "source": [
    "y_pred= classifier.predict(x_test)\n",
    "print(y_pred)"
   ]
  },
  {
   "cell_type": "code",
   "execution_count": 746,
   "metadata": {},
   "outputs": [],
   "source": [
    "#Creating the Confusion matrix  \n",
    "from sklearn.metrics import confusion_matrix  \n",
    "cm= confusion_matrix(y_test, y_pred) "
   ]
  },
  {
   "cell_type": "code",
   "execution_count": 747,
   "metadata": {},
   "outputs": [
    {
     "name": "stdout",
     "output_type": "stream",
     "text": [
      "[[  0   4   0]\n",
      " [  0  65   0]\n",
      " [  0   0 463]]\n"
     ]
    }
   ],
   "source": [
    "print(cm)"
   ]
  },
  {
   "cell_type": "code",
   "execution_count": 748,
   "metadata": {},
   "outputs": [
    {
     "ename": "ValueError",
     "evalue": "The number of FixedLocator locations (3), usually from a call to set_ticks, does not match the number of ticklabels (4).",
     "output_type": "error",
     "traceback": [
      "\u001b[1;31m---------------------------------------------------------------------------\u001b[0m",
      "\u001b[1;31mValueError\u001b[0m                                Traceback (most recent call last)",
      "\u001b[1;32mc:\\Users\\vedan\\OneDrive\\Desktop\\soilfertility\\MPR WORKING.ipynb Cell 48\u001b[0m in \u001b[0;36m<cell line: 7>\u001b[1;34m()\u001b[0m\n\u001b[0;32m      <a href='vscode-notebook-cell:/c%3A/Users/vedan/OneDrive/Desktop/soilfertility/MPR%20WORKING.ipynb#Y131sZmlsZQ%3D%3D?line=2'>3</a>\u001b[0m cm \u001b[39m=\u001b[39m metrics\u001b[39m.\u001b[39mconfusion_matrix(y_test, y_pred)\n\u001b[0;32m      <a href='vscode-notebook-cell:/c%3A/Users/vedan/OneDrive/Desktop/soilfertility/MPR%20WORKING.ipynb#Y131sZmlsZQ%3D%3D?line=4'>5</a>\u001b[0m cm_display \u001b[39m=\u001b[39m metrics\u001b[39m.\u001b[39mConfusionMatrixDisplay(confusion_matrix \u001b[39m=\u001b[39m cm, display_labels \u001b[39m=\u001b[39m [\u001b[39m'\u001b[39m\u001b[39mExcellent\u001b[39m\u001b[39m'\u001b[39m,\u001b[39m'\u001b[39m\u001b[39mGood\u001b[39m\u001b[39m'\u001b[39m,\u001b[39m'\u001b[39m\u001b[39mMedium\u001b[39m\u001b[39m'\u001b[39m,\u001b[39m'\u001b[39m\u001b[39mPoor\u001b[39m\u001b[39m'\u001b[39m])\n\u001b[1;32m----> <a href='vscode-notebook-cell:/c%3A/Users/vedan/OneDrive/Desktop/soilfertility/MPR%20WORKING.ipynb#Y131sZmlsZQ%3D%3D?line=6'>7</a>\u001b[0m cm_display\u001b[39m.\u001b[39;49mplot()\n\u001b[0;32m      <a href='vscode-notebook-cell:/c%3A/Users/vedan/OneDrive/Desktop/soilfertility/MPR%20WORKING.ipynb#Y131sZmlsZQ%3D%3D?line=7'>8</a>\u001b[0m plt\u001b[39m.\u001b[39mshow()\n\u001b[0;32m     <a href='vscode-notebook-cell:/c%3A/Users/vedan/OneDrive/Desktop/soilfertility/MPR%20WORKING.ipynb#Y131sZmlsZQ%3D%3D?line=9'>10</a>\u001b[0m \u001b[39m# [[659  39   0   0]\u001b[39;00m\n\u001b[0;32m     <a href='vscode-notebook-cell:/c%3A/Users/vedan/OneDrive/Desktop/soilfertility/MPR%20WORKING.ipynb#Y131sZmlsZQ%3D%3D?line=10'>11</a>\u001b[0m \u001b[39m#  [ 19 673  22   0]\u001b[39;00m\n\u001b[0;32m     <a href='vscode-notebook-cell:/c%3A/Users/vedan/OneDrive/Desktop/soilfertility/MPR%20WORKING.ipynb#Y131sZmlsZQ%3D%3D?line=11'>12</a>\u001b[0m \u001b[39m#  [  0  18 329  18]\u001b[39;00m\n\u001b[0;32m     <a href='vscode-notebook-cell:/c%3A/Users/vedan/OneDrive/Desktop/soilfertility/MPR%20WORKING.ipynb#Y131sZmlsZQ%3D%3D?line=12'>13</a>\u001b[0m \u001b[39m#  [  0   1  27 305]]\u001b[39;00m\n",
      "File \u001b[1;32mc:\\Users\\vedan\\AppData\\Local\\Programs\\Python\\Python39\\lib\\site-packages\\sklearn\\metrics\\_plot\\confusion_matrix.py:181\u001b[0m, in \u001b[0;36mConfusionMatrixDisplay.plot\u001b[1;34m(self, include_values, cmap, xticks_rotation, values_format, ax, colorbar, im_kw, text_kw)\u001b[0m\n\u001b[0;32m    179\u001b[0m \u001b[39mif\u001b[39;00m colorbar:\n\u001b[0;32m    180\u001b[0m     fig\u001b[39m.\u001b[39mcolorbar(\u001b[39mself\u001b[39m\u001b[39m.\u001b[39mim_, ax\u001b[39m=\u001b[39max)\n\u001b[1;32m--> 181\u001b[0m ax\u001b[39m.\u001b[39;49mset(\n\u001b[0;32m    182\u001b[0m     xticks\u001b[39m=\u001b[39;49mnp\u001b[39m.\u001b[39;49marange(n_classes),\n\u001b[0;32m    183\u001b[0m     yticks\u001b[39m=\u001b[39;49mnp\u001b[39m.\u001b[39;49marange(n_classes),\n\u001b[0;32m    184\u001b[0m     xticklabels\u001b[39m=\u001b[39;49mdisplay_labels,\n\u001b[0;32m    185\u001b[0m     yticklabels\u001b[39m=\u001b[39;49mdisplay_labels,\n\u001b[0;32m    186\u001b[0m     ylabel\u001b[39m=\u001b[39;49m\u001b[39m\"\u001b[39;49m\u001b[39mTrue label\u001b[39;49m\u001b[39m\"\u001b[39;49m,\n\u001b[0;32m    187\u001b[0m     xlabel\u001b[39m=\u001b[39;49m\u001b[39m\"\u001b[39;49m\u001b[39mPredicted label\u001b[39;49m\u001b[39m\"\u001b[39;49m,\n\u001b[0;32m    188\u001b[0m )\n\u001b[0;32m    190\u001b[0m ax\u001b[39m.\u001b[39mset_ylim((n_classes \u001b[39m-\u001b[39m \u001b[39m0.5\u001b[39m, \u001b[39m-\u001b[39m\u001b[39m0.5\u001b[39m))\n\u001b[0;32m    191\u001b[0m plt\u001b[39m.\u001b[39msetp(ax\u001b[39m.\u001b[39mget_xticklabels(), rotation\u001b[39m=\u001b[39mxticks_rotation)\n",
      "File \u001b[1;32mc:\\Users\\vedan\\AppData\\Local\\Programs\\Python\\Python39\\lib\\site-packages\\matplotlib\\artist.py:116\u001b[0m, in \u001b[0;36mArtist.__init_subclass__.<locals>.<lambda>\u001b[1;34m(self, **kwargs)\u001b[0m\n\u001b[0;32m    108\u001b[0m \u001b[39mif\u001b[39;00m \u001b[39mnot\u001b[39;00m \u001b[39mhasattr\u001b[39m(\u001b[39mcls\u001b[39m\u001b[39m.\u001b[39mset, \u001b[39m'\u001b[39m\u001b[39m_autogenerated_signature\u001b[39m\u001b[39m'\u001b[39m):\n\u001b[0;32m    109\u001b[0m     \u001b[39m# Don't overwrite cls.set if the subclass or one of its parents\u001b[39;00m\n\u001b[0;32m    110\u001b[0m     \u001b[39m# has defined a set method set itself.\u001b[39;00m\n\u001b[0;32m    111\u001b[0m     \u001b[39m# If there was no explicit definition, cls.set is inherited from\u001b[39;00m\n\u001b[0;32m    112\u001b[0m     \u001b[39m# the hierarchy of auto-generated set methods, which hold the\u001b[39;00m\n\u001b[0;32m    113\u001b[0m     \u001b[39m# flag _autogenerated_signature.\u001b[39;00m\n\u001b[0;32m    114\u001b[0m     \u001b[39mreturn\u001b[39;00m\n\u001b[1;32m--> 116\u001b[0m \u001b[39mcls\u001b[39m\u001b[39m.\u001b[39mset \u001b[39m=\u001b[39m \u001b[39mlambda\u001b[39;00m \u001b[39mself\u001b[39m, \u001b[39m*\u001b[39m\u001b[39m*\u001b[39mkwargs: Artist\u001b[39m.\u001b[39mset(\u001b[39mself\u001b[39m, \u001b[39m*\u001b[39m\u001b[39m*\u001b[39mkwargs)\n\u001b[0;32m    117\u001b[0m \u001b[39mcls\u001b[39m\u001b[39m.\u001b[39mset\u001b[39m.\u001b[39m\u001b[39m__name__\u001b[39m \u001b[39m=\u001b[39m \u001b[39m\"\u001b[39m\u001b[39mset\u001b[39m\u001b[39m\"\u001b[39m\n\u001b[0;32m    118\u001b[0m \u001b[39mcls\u001b[39m\u001b[39m.\u001b[39mset\u001b[39m.\u001b[39m\u001b[39m__qualname__\u001b[39m \u001b[39m=\u001b[39m \u001b[39mf\u001b[39m\u001b[39m\"\u001b[39m\u001b[39m{\u001b[39;00m\u001b[39mcls\u001b[39m\u001b[39m.\u001b[39m\u001b[39m__qualname__\u001b[39m\u001b[39m}\u001b[39;00m\u001b[39m.set\u001b[39m\u001b[39m\"\u001b[39m\n",
      "File \u001b[1;32mc:\\Users\\vedan\\AppData\\Local\\Programs\\Python\\Python39\\lib\\site-packages\\matplotlib\\artist.py:1164\u001b[0m, in \u001b[0;36mArtist.set\u001b[1;34m(self, **kwargs)\u001b[0m\n\u001b[0;32m   1159\u001b[0m \u001b[39mdef\u001b[39;00m \u001b[39mset\u001b[39m(\u001b[39mself\u001b[39m, \u001b[39m*\u001b[39m\u001b[39m*\u001b[39mkwargs):\n\u001b[0;32m   1160\u001b[0m     \u001b[39m# docstring and signature are auto-generated via\u001b[39;00m\n\u001b[0;32m   1161\u001b[0m     \u001b[39m# Artist._update_set_signature_and_docstring() at the end of the\u001b[39;00m\n\u001b[0;32m   1162\u001b[0m     \u001b[39m# module.\u001b[39;00m\n\u001b[0;32m   1163\u001b[0m     kwargs \u001b[39m=\u001b[39m cbook\u001b[39m.\u001b[39mnormalize_kwargs(kwargs, \u001b[39mself\u001b[39m)\n\u001b[1;32m-> 1164\u001b[0m     \u001b[39mreturn\u001b[39;00m \u001b[39mself\u001b[39;49m\u001b[39m.\u001b[39;49mupdate(kwargs)\n",
      "File \u001b[1;32mc:\\Users\\vedan\\AppData\\Local\\Programs\\Python\\Python39\\lib\\site-packages\\matplotlib\\artist.py:1066\u001b[0m, in \u001b[0;36mArtist.update\u001b[1;34m(self, props)\u001b[0m\n\u001b[0;32m   1063\u001b[0m             \u001b[39mif\u001b[39;00m \u001b[39mnot\u001b[39;00m callable(func):\n\u001b[0;32m   1064\u001b[0m                 \u001b[39mraise\u001b[39;00m \u001b[39mAttributeError\u001b[39;00m(\u001b[39mf\u001b[39m\u001b[39m\"\u001b[39m\u001b[39m{\u001b[39;00m\u001b[39mtype\u001b[39m(\u001b[39mself\u001b[39m)\u001b[39m.\u001b[39m\u001b[39m__name__\u001b[39m\u001b[39m!r}\u001b[39;00m\u001b[39m object \u001b[39m\u001b[39m\"\u001b[39m\n\u001b[0;32m   1065\u001b[0m                                      \u001b[39mf\u001b[39m\u001b[39m\"\u001b[39m\u001b[39mhas no property \u001b[39m\u001b[39m{\u001b[39;00mk\u001b[39m!r}\u001b[39;00m\u001b[39m\"\u001b[39m)\n\u001b[1;32m-> 1066\u001b[0m             ret\u001b[39m.\u001b[39mappend(func(v))\n\u001b[0;32m   1067\u001b[0m \u001b[39mif\u001b[39;00m ret:\n\u001b[0;32m   1068\u001b[0m     \u001b[39mself\u001b[39m\u001b[39m.\u001b[39mpchanged()\n",
      "File \u001b[1;32mc:\\Users\\vedan\\AppData\\Local\\Programs\\Python\\Python39\\lib\\site-packages\\matplotlib\\axes\\_base.py:75\u001b[0m, in \u001b[0;36m_axis_method_wrapper.__set_name__.<locals>.wrapper\u001b[1;34m(self, *args, **kwargs)\u001b[0m\n\u001b[0;32m     74\u001b[0m \u001b[39mdef\u001b[39;00m \u001b[39mwrapper\u001b[39m(\u001b[39mself\u001b[39m, \u001b[39m*\u001b[39margs, \u001b[39m*\u001b[39m\u001b[39m*\u001b[39mkwargs):\n\u001b[1;32m---> 75\u001b[0m     \u001b[39mreturn\u001b[39;00m get_method(\u001b[39mself\u001b[39m)(\u001b[39m*\u001b[39margs, \u001b[39m*\u001b[39m\u001b[39m*\u001b[39mkwargs)\n",
      "File \u001b[1;32mc:\\Users\\vedan\\AppData\\Local\\Programs\\Python\\Python39\\lib\\site-packages\\matplotlib\\axis.py:1798\u001b[0m, in \u001b[0;36mAxis._set_ticklabels\u001b[1;34m(self, labels, fontdict, minor, **kwargs)\u001b[0m\n\u001b[0;32m   1796\u001b[0m \u001b[39mif\u001b[39;00m fontdict \u001b[39mis\u001b[39;00m \u001b[39mnot\u001b[39;00m \u001b[39mNone\u001b[39;00m:\n\u001b[0;32m   1797\u001b[0m     kwargs\u001b[39m.\u001b[39mupdate(fontdict)\n\u001b[1;32m-> 1798\u001b[0m \u001b[39mreturn\u001b[39;00m \u001b[39mself\u001b[39m\u001b[39m.\u001b[39mset_ticklabels(labels, minor\u001b[39m=\u001b[39mminor, \u001b[39m*\u001b[39m\u001b[39m*\u001b[39mkwargs)\n",
      "File \u001b[1;32mc:\\Users\\vedan\\AppData\\Local\\Programs\\Python\\Python39\\lib\\site-packages\\matplotlib\\axis.py:1720\u001b[0m, in \u001b[0;36mAxis.set_ticklabels\u001b[1;34m(self, ticklabels, minor, **kwargs)\u001b[0m\n\u001b[0;32m   1716\u001b[0m \u001b[39mif\u001b[39;00m \u001b[39misinstance\u001b[39m(locator, mticker\u001b[39m.\u001b[39mFixedLocator):\n\u001b[0;32m   1717\u001b[0m     \u001b[39m# Passing [] as a list of ticklabels is often used as a way to\u001b[39;00m\n\u001b[0;32m   1718\u001b[0m     \u001b[39m# remove all tick labels, so only error for > 0 ticklabels\u001b[39;00m\n\u001b[0;32m   1719\u001b[0m     \u001b[39mif\u001b[39;00m \u001b[39mlen\u001b[39m(locator\u001b[39m.\u001b[39mlocs) \u001b[39m!=\u001b[39m \u001b[39mlen\u001b[39m(ticklabels) \u001b[39mand\u001b[39;00m \u001b[39mlen\u001b[39m(ticklabels) \u001b[39m!=\u001b[39m \u001b[39m0\u001b[39m:\n\u001b[1;32m-> 1720\u001b[0m         \u001b[39mraise\u001b[39;00m \u001b[39mValueError\u001b[39;00m(\n\u001b[0;32m   1721\u001b[0m             \u001b[39m\"\u001b[39m\u001b[39mThe number of FixedLocator locations\u001b[39m\u001b[39m\"\u001b[39m\n\u001b[0;32m   1722\u001b[0m             \u001b[39mf\u001b[39m\u001b[39m\"\u001b[39m\u001b[39m (\u001b[39m\u001b[39m{\u001b[39;00m\u001b[39mlen\u001b[39m(locator\u001b[39m.\u001b[39mlocs)\u001b[39m}\u001b[39;00m\u001b[39m), usually from a call to\u001b[39m\u001b[39m\"\u001b[39m\n\u001b[0;32m   1723\u001b[0m             \u001b[39m\"\u001b[39m\u001b[39m set_ticks, does not match\u001b[39m\u001b[39m\"\u001b[39m\n\u001b[0;32m   1724\u001b[0m             \u001b[39mf\u001b[39m\u001b[39m\"\u001b[39m\u001b[39m the number of ticklabels (\u001b[39m\u001b[39m{\u001b[39;00m\u001b[39mlen\u001b[39m(ticklabels)\u001b[39m}\u001b[39;00m\u001b[39m).\u001b[39m\u001b[39m\"\u001b[39m)\n\u001b[0;32m   1725\u001b[0m     tickd \u001b[39m=\u001b[39m {loc: lab \u001b[39mfor\u001b[39;00m loc, lab \u001b[39min\u001b[39;00m \u001b[39mzip\u001b[39m(locator\u001b[39m.\u001b[39mlocs, ticklabels)}\n\u001b[0;32m   1726\u001b[0m     func \u001b[39m=\u001b[39m functools\u001b[39m.\u001b[39mpartial(\u001b[39mself\u001b[39m\u001b[39m.\u001b[39m_format_with_dict, tickd)\n",
      "\u001b[1;31mValueError\u001b[0m: The number of FixedLocator locations (3), usually from a call to set_ticks, does not match the number of ticklabels (4)."
     ]
    },
    {
     "data": {
      "image/png": "[encoded data removed]",
      "text/plain": [
       "<Figure size 432x288 with 2 Axes>"
      ]
     },
     "metadata": {
      "needs_background": "light"
     },
     "output_type": "display_data"
    }
   ],
   "source": [
    "\n",
    "from sklearn import metrics\n",
    "\n",
    "cm = metrics.confusion_matrix(y_test, y_pred)\n",
    "\n",
    "cm_display = metrics.ConfusionMatrixDisplay(confusion_matrix = cm, display_labels = ['Excellent','Good','Medium','Poor'])\n",
    "\n",
    "cm_display.plot()\n",
    "plt.show()\n",
    "\n",
    "# [[659  39   0   0]\n",
    "#  [ 19 673  22   0]\n",
    "#  [  0  18 329  18]\n",
    "#  [  0   1  27 305]]\n",
    "\n",
    "accuracy = metrics.accuracy_score(y_test, y_pred)\n",
    "print(\"Accuracy = \",accuracy)\n"
   ]
  },
  {
   "cell_type": "markdown",
   "metadata": {},
   "source": []
  },
  {
   "cell_type": "markdown",
   "metadata": {},
   "source": []
  }
 ],
 "metadata": {
  "kernelspec": {
   "display_name": "Python 3",
   "language": "python",
   "name": "python3"
  },
  "language_info": {
   "codemirror_mode": {
    "name": "ipython",
    "version": 3
   },
   "file_extension": ".py",
   "mimetype": "text/x-python",
   "name": "python",
   "nbconvert_exporter": "python",
   "pygments_lexer": "ipython3",
   "version": "3.9.6"
  }
 },
 "nbformat": 4,
 "nbformat_minor": 2
}
