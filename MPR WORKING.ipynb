{
 "cells": [
  {
   "cell_type": "code",
   "execution_count": 540,
   "metadata": {},
   "outputs": [],
   "source": [
    "import numpy as np\n",
    "import matplotlib.pyplot as plt\n",
    "import pandas as pd"
   ]
  },
  {
   "cell_type": "code",
   "execution_count": 541,
   "metadata": {},
   "outputs": [],
   "source": [
    "df = pd.read_csv('soil_fertility.csv')"
   ]
  },
  {
   "cell_type": "code",
   "execution_count": 542,
   "metadata": {},
   "outputs": [
    {
     "data": {
      "text/html": [
       "<div>\n",
       "<style scoped>\n",
       "    .dataframe tbody tr th:only-of-type {\n",
       "        vertical-align: middle;\n",
       "    }\n",
       "\n",
       "    .dataframe tbody tr th {\n",
       "        vertical-align: top;\n",
       "    }\n",
       "\n",
       "    .dataframe thead th {\n",
       "        text-align: right;\n",
       "    }\n",
       "</style>\n",
       "<table border=\"1\" class=\"dataframe\">\n",
       "  <thead>\n",
       "    <tr style=\"text-align: right;\">\n",
       "      <th></th>\n",
       "      <th>SAMPLE_NO</th>\n",
       "      <th>SEASON</th>\n",
       "      <th>SAMPLE_DATE</th>\n",
       "      <th>FARMER_ENGLISH_NAME</th>\n",
       "      <th>VILLAGE_NAME_ENGLISH</th>\n",
       "      <th>SURVEY_NO</th>\n",
       "      <th>PH</th>\n",
       "      <th>Unnamed: 7</th>\n",
       "      <th>EC</th>\n",
       "      <th>Organinc Carbon</th>\n",
       "      <th>PHOSPHOROUS</th>\n",
       "      <th>POTASH</th>\n",
       "      <th>CALCIUM_CARBONATE</th>\n",
       "      <th>FERROUS</th>\n",
       "      <th>MANAGESE</th>\n",
       "      <th>ZINK</th>\n",
       "      <th>COPPER</th>\n",
       "    </tr>\n",
       "  </thead>\n",
       "  <tbody>\n",
       "    <tr>\n",
       "      <th>0</th>\n",
       "      <td>35902</td>\n",
       "      <td>2019-2020</td>\n",
       "      <td>5/15/2019</td>\n",
       "      <td>ANNASAO  ALIS  KIRTIKUMAR  GUNDAPPA .DANOLE</td>\n",
       "      <td>SHIRDHON</td>\n",
       "      <td>172/75</td>\n",
       "      <td>7.30</td>\n",
       "      <td>0.36</td>\n",
       "      <td>0.42</td>\n",
       "      <td>100.66</td>\n",
       "      <td>997.00</td>\n",
       "      <td>5.2</td>\n",
       "      <td>10.9</td>\n",
       "      <td>6.10</td>\n",
       "      <td>0.60</td>\n",
       "      <td>4.60</td>\n",
       "      <td>NaN</td>\n",
       "    </tr>\n",
       "    <tr>\n",
       "      <th>1</th>\n",
       "      <td>21043</td>\n",
       "      <td>2015-2016</td>\n",
       "      <td>10/12/2015</td>\n",
       "      <td>MAHAVIR  BAPU  PATIL</td>\n",
       "      <td>SHIRATI</td>\n",
       "      <td>492</td>\n",
       "      <td>8.60</td>\n",
       "      <td>NaN</td>\n",
       "      <td>0.44</td>\n",
       "      <td>1.08</td>\n",
       "      <td>34.90</td>\n",
       "      <td>370.0</td>\n",
       "      <td>12.0</td>\n",
       "      <td>13.30</td>\n",
       "      <td>18.50</td>\n",
       "      <td>1.60</td>\n",
       "      <td>6.30</td>\n",
       "    </tr>\n",
       "    <tr>\n",
       "      <th>2</th>\n",
       "      <td>24651</td>\n",
       "      <td>2016-2017</td>\n",
       "      <td>12/22/2016</td>\n",
       "      <td>ADAPPA  DADA  LADGE</td>\n",
       "      <td>CHAND-SHIRADWAD</td>\n",
       "      <td>121/1</td>\n",
       "      <td>8.58</td>\n",
       "      <td>NaN</td>\n",
       "      <td>0.50</td>\n",
       "      <td>0.78</td>\n",
       "      <td>13.30</td>\n",
       "      <td>403.0</td>\n",
       "      <td>9.6</td>\n",
       "      <td>93.20</td>\n",
       "      <td>12.40</td>\n",
       "      <td>1.19</td>\n",
       "      <td>7.00</td>\n",
       "    </tr>\n",
       "    <tr>\n",
       "      <th>3</th>\n",
       "      <td>24976</td>\n",
       "      <td>2016-2017</td>\n",
       "      <td>1/3/2017</td>\n",
       "      <td>GANPATI  KESHAV  MANE</td>\n",
       "      <td>JAMBHALI</td>\n",
       "      <td>664</td>\n",
       "      <td>8.55</td>\n",
       "      <td>NaN</td>\n",
       "      <td>0.25</td>\n",
       "      <td>0.15</td>\n",
       "      <td>16.50</td>\n",
       "      <td>504.0</td>\n",
       "      <td>6.0</td>\n",
       "      <td>5.50</td>\n",
       "      <td>14.30</td>\n",
       "      <td>1.33</td>\n",
       "      <td>7.88</td>\n",
       "    </tr>\n",
       "    <tr>\n",
       "      <th>4</th>\n",
       "      <td>27525</td>\n",
       "      <td>2017-2018</td>\n",
       "      <td>9/18/2017</td>\n",
       "      <td>KUMAR APPA MURCHUTTE</td>\n",
       "      <td>SHEDBAL</td>\n",
       "      <td>797</td>\n",
       "      <td>8.55</td>\n",
       "      <td>NaN</td>\n",
       "      <td>0.48</td>\n",
       "      <td>0.75</td>\n",
       "      <td>1.60</td>\n",
       "      <td>627.0</td>\n",
       "      <td>15.2</td>\n",
       "      <td>6.75</td>\n",
       "      <td>16.55</td>\n",
       "      <td>1.25</td>\n",
       "      <td>4.30</td>\n",
       "    </tr>\n",
       "    <tr>\n",
       "      <th>...</th>\n",
       "      <td>...</td>\n",
       "      <td>...</td>\n",
       "      <td>...</td>\n",
       "      <td>...</td>\n",
       "      <td>...</td>\n",
       "      <td>...</td>\n",
       "      <td>...</td>\n",
       "      <td>...</td>\n",
       "      <td>...</td>\n",
       "      <td>...</td>\n",
       "      <td>...</td>\n",
       "      <td>...</td>\n",
       "      <td>...</td>\n",
       "      <td>...</td>\n",
       "      <td>...</td>\n",
       "      <td>...</td>\n",
       "      <td>...</td>\n",
       "    </tr>\n",
       "    <tr>\n",
       "      <th>10573</th>\n",
       "      <td>10038</td>\n",
       "      <td>2013-2014</td>\n",
       "      <td>4/13/2013</td>\n",
       "      <td>KARYAKARI  SANCHALAK  SHRI DATTA  S.S.S.K.LTD ...</td>\n",
       "      <td>SHIROL</td>\n",
       "      <td>NaN</td>\n",
       "      <td>4.42</td>\n",
       "      <td>NaN</td>\n",
       "      <td>0.07</td>\n",
       "      <td>0.40</td>\n",
       "      <td>1.60</td>\n",
       "      <td>224.0</td>\n",
       "      <td>1.6</td>\n",
       "      <td>5.40</td>\n",
       "      <td>11.00</td>\n",
       "      <td>2.60</td>\n",
       "      <td>0.80</td>\n",
       "    </tr>\n",
       "    <tr>\n",
       "      <th>10574</th>\n",
       "      <td>9888</td>\n",
       "      <td>2012-2013</td>\n",
       "      <td>2/5/2013</td>\n",
       "      <td>KARYAKARI  SANCHALAK  SHRI DATTA  S.S.S.K.LTD ...</td>\n",
       "      <td>SHIROL</td>\n",
       "      <td>NaN</td>\n",
       "      <td>4.22</td>\n",
       "      <td>NaN</td>\n",
       "      <td>0.95</td>\n",
       "      <td>0.80</td>\n",
       "      <td>12.10</td>\n",
       "      <td>493.0</td>\n",
       "      <td>11.2</td>\n",
       "      <td>6.04</td>\n",
       "      <td>8.88</td>\n",
       "      <td>0.08</td>\n",
       "      <td>2.24</td>\n",
       "    </tr>\n",
       "    <tr>\n",
       "      <th>10575</th>\n",
       "      <td>42168</td>\n",
       "      <td>2019-2020</td>\n",
       "      <td>1/27/2020</td>\n",
       "      <td>KARYAKARI  SANCHALAK  SHRI DATTA  S.S.S.K.LTD ...</td>\n",
       "      <td>SHIROL</td>\n",
       "      <td>V.S.H.</td>\n",
       "      <td>4.00</td>\n",
       "      <td>NaN</td>\n",
       "      <td>0.12</td>\n",
       "      <td>0.98</td>\n",
       "      <td>38.40</td>\n",
       "      <td>582.0</td>\n",
       "      <td>2.0</td>\n",
       "      <td>4.30</td>\n",
       "      <td>18.70</td>\n",
       "      <td>0.40</td>\n",
       "      <td>1.60</td>\n",
       "    </tr>\n",
       "    <tr>\n",
       "      <th>10576</th>\n",
       "      <td>20516</td>\n",
       "      <td>2015-2016</td>\n",
       "      <td>9/22/2015</td>\n",
       "      <td>BABU  PUNAPPA  GADAKARI</td>\n",
       "      <td>SADALGA</td>\n",
       "      <td>10319</td>\n",
       "      <td>1.16</td>\n",
       "      <td>NaN</td>\n",
       "      <td>0.21</td>\n",
       "      <td>0.87</td>\n",
       "      <td>2.15</td>\n",
       "      <td>269.0</td>\n",
       "      <td>6.0</td>\n",
       "      <td>22.60</td>\n",
       "      <td>27.20</td>\n",
       "      <td>1.80</td>\n",
       "      <td>10.00</td>\n",
       "    </tr>\n",
       "    <tr>\n",
       "      <th>10577</th>\n",
       "      <td>34414</td>\n",
       "      <td>2018-2019</td>\n",
       "      <td>11/22/2018</td>\n",
       "      <td>PRAMILA  DILIPRAO  KAMAT</td>\n",
       "      <td>DHARANGUTTI</td>\n",
       "      <td>370</td>\n",
       "      <td>0.60</td>\n",
       "      <td>NaN</td>\n",
       "      <td>0.68</td>\n",
       "      <td>0.78</td>\n",
       "      <td>52.00</td>\n",
       "      <td>582.0</td>\n",
       "      <td>6.4</td>\n",
       "      <td>5.10</td>\n",
       "      <td>6.80</td>\n",
       "      <td>0.20</td>\n",
       "      <td>7.80</td>\n",
       "    </tr>\n",
       "  </tbody>\n",
       "</table>\n",
       "<p>10578 rows × 17 columns</p>\n",
       "</div>"
      ],
      "text/plain": [
       "       SAMPLE_NO     SEASON SAMPLE_DATE  \\\n",
       "0          35902  2019-2020   5/15/2019   \n",
       "1          21043  2015-2016  10/12/2015   \n",
       "2          24651  2016-2017  12/22/2016   \n",
       "3          24976  2016-2017    1/3/2017   \n",
       "4          27525  2017-2018   9/18/2017   \n",
       "...          ...        ...         ...   \n",
       "10573      10038  2013-2014   4/13/2013   \n",
       "10574       9888  2012-2013    2/5/2013   \n",
       "10575      42168  2019-2020   1/27/2020   \n",
       "10576      20516  2015-2016   9/22/2015   \n",
       "10577      34414  2018-2019  11/22/2018   \n",
       "\n",
       "                                     FARMER_ENGLISH_NAME VILLAGE_NAME_ENGLISH  \\\n",
       "0            ANNASAO  ALIS  KIRTIKUMAR  GUNDAPPA .DANOLE             SHIRDHON   \n",
       "1                                   MAHAVIR  BAPU  PATIL              SHIRATI   \n",
       "2                                    ADAPPA  DADA  LADGE      CHAND-SHIRADWAD   \n",
       "3                                  GANPATI  KESHAV  MANE             JAMBHALI   \n",
       "4                                   KUMAR APPA MURCHUTTE              SHEDBAL   \n",
       "...                                                  ...                  ...   \n",
       "10573  KARYAKARI  SANCHALAK  SHRI DATTA  S.S.S.K.LTD ...               SHIROL   \n",
       "10574  KARYAKARI  SANCHALAK  SHRI DATTA  S.S.S.K.LTD ...               SHIROL   \n",
       "10575  KARYAKARI  SANCHALAK  SHRI DATTA  S.S.S.K.LTD ...               SHIROL   \n",
       "10576                            BABU  PUNAPPA  GADAKARI              SADALGA   \n",
       "10577                           PRAMILA  DILIPRAO  KAMAT          DHARANGUTTI   \n",
       "\n",
       "      SURVEY_NO    PH  Unnamed: 7    EC  Organinc Carbon  PHOSPHOROUS  POTASH  \\\n",
       "0        172/75  7.30        0.36  0.42           100.66       997.00     5.2   \n",
       "1           492  8.60         NaN  0.44             1.08        34.90   370.0   \n",
       "2         121/1  8.58         NaN  0.50             0.78        13.30   403.0   \n",
       "3           664  8.55         NaN  0.25             0.15        16.50   504.0   \n",
       "4           797  8.55         NaN  0.48             0.75         1.60   627.0   \n",
       "...         ...   ...         ...   ...              ...          ...     ...   \n",
       "10573       NaN  4.42         NaN  0.07             0.40         1.60   224.0   \n",
       "10574       NaN  4.22         NaN  0.95             0.80        12.10   493.0   \n",
       "10575    V.S.H.  4.00         NaN  0.12             0.98        38.40   582.0   \n",
       "10576     10319  1.16         NaN  0.21             0.87         2.15   269.0   \n",
       "10577       370  0.60         NaN  0.68             0.78        52.00   582.0   \n",
       "\n",
       "       CALCIUM_CARBONATE  FERROUS  MANAGESE  ZINK  COPPER  \n",
       "0                   10.9     6.10      0.60  4.60     NaN  \n",
       "1                   12.0    13.30     18.50  1.60    6.30  \n",
       "2                    9.6    93.20     12.40  1.19    7.00  \n",
       "3                    6.0     5.50     14.30  1.33    7.88  \n",
       "4                   15.2     6.75     16.55  1.25    4.30  \n",
       "...                  ...      ...       ...   ...     ...  \n",
       "10573                1.6     5.40     11.00  2.60    0.80  \n",
       "10574               11.2     6.04      8.88  0.08    2.24  \n",
       "10575                2.0     4.30     18.70  0.40    1.60  \n",
       "10576                6.0    22.60     27.20  1.80   10.00  \n",
       "10577                6.4     5.10      6.80  0.20    7.80  \n",
       "\n",
       "[10578 rows x 17 columns]"
      ]
     },
     "execution_count": 542,
     "metadata": {},
     "output_type": "execute_result"
    }
   ],
   "source": [
    "df\n"
   ]
  },
  {
   "cell_type": "code",
   "execution_count": null,
   "metadata": {},
   "outputs": [],
   "source": []
  },
  {
   "cell_type": "code",
   "execution_count": 543,
   "metadata": {},
   "outputs": [
    {
     "data": {
      "text/plain": [
       "<AxesSubplot:>"
      ]
     },
     "execution_count": 543,
     "metadata": {},
     "output_type": "execute_result"
    },
    {
     "data": {
      "image/png": "[encoded data removed]",
      "text/plain": [
       "<Figure size 432x288 with 1 Axes>"
      ]
     },
     "metadata": {
      "needs_background": "light"
     },
     "output_type": "display_data"
    }
   ],
   "source": [
    "import seaborn as sns\n",
    "import matplotlib.pyplot as plt\n",
    "\n",
    "\n",
    "sns.boxplot(df['PH'] )"
   ]
  },
  {
   "cell_type": "code",
   "execution_count": 544,
   "metadata": {},
   "outputs": [
    {
     "data": {
      "text/plain": [
       "<AxesSubplot:>"
      ]
     },
     "execution_count": 544,
     "metadata": {},
     "output_type": "execute_result"
    },
    {
     "data": {
      "image/png": "[encoded data removed]",
      "text/plain": [
       "<Figure size 432x288 with 1 Axes>"
      ]
     },
     "metadata": {
      "needs_background": "light"
     },
     "output_type": "display_data"
    }
   ],
   "source": [
    "import seaborn as sns\n",
    "import matplotlib.pyplot as plt\n",
    "\n",
    "# plt.ylim(0,2)\n",
    "sns.boxplot(df['EC'] )"
   ]
  },
  {
   "cell_type": "code",
   "execution_count": 545,
   "metadata": {},
   "outputs": [
    {
     "name": "stdout",
     "output_type": "stream",
     "text": [
      "       SAMPLE_NO     SEASON SAMPLE_DATE  \\\n",
      "0          35902  2019-2020   5/15/2019   \n",
      "23         26251  2017-2018   7/25/2017   \n",
      "24         24606  2016-2017  12/22/2016   \n",
      "25         24605  2016-2017  12/22/2016   \n",
      "26         24693  2016-2017  12/22/2016   \n",
      "...          ...        ...         ...   \n",
      "10573      10038  2013-2014   4/13/2013   \n",
      "10574       9888  2012-2013    2/5/2013   \n",
      "10575      42168  2019-2020   1/27/2020   \n",
      "10576      20516  2015-2016   9/22/2015   \n",
      "10577      34414  2018-2019  11/22/2018   \n",
      "\n",
      "                                     FARMER_ENGLISH_NAME VILLAGE_NAME_ENGLISH  \\\n",
      "0            ANNASAO  ALIS  KIRTIKUMAR  GUNDAPPA .DANOLE             SHIRDHON   \n",
      "23              VARDHAMAN  VIJAYKUMAR  PAYGOUDAR (PATIL)              SHEDBAL   \n",
      "24                                 SADASHIV KRUSHNA MALI               SHIROL   \n",
      "25                               SONABAI  SUBHASH JADHAV               SHIROL   \n",
      "26                                 PANDIT  NARAYAN  KALE               SHIROL   \n",
      "...                                                  ...                  ...   \n",
      "10573  KARYAKARI  SANCHALAK  SHRI DATTA  S.S.S.K.LTD ...               SHIROL   \n",
      "10574  KARYAKARI  SANCHALAK  SHRI DATTA  S.S.S.K.LTD ...               SHIROL   \n",
      "10575  KARYAKARI  SANCHALAK  SHRI DATTA  S.S.S.K.LTD ...               SHIROL   \n",
      "10576                            BABU  PUNAPPA  GADAKARI              SADALGA   \n",
      "10577                           PRAMILA  DILIPRAO  KAMAT          DHARANGUTTI   \n",
      "\n",
      "      SURVEY_NO    PH  Unnamed: 7    EC  Organinc Carbon  PHOSPHOROUS  POTASH  \\\n",
      "0        172/75  7.30        0.36  0.42           100.66       997.00     5.2   \n",
      "23          375  8.45         NaN  0.62             0.93         2.90   470.0   \n",
      "24          845  8.45         NaN  0.26             0.18        25.80  1030.0   \n",
      "25          114  8.45         NaN  0.25             0.21        23.30  1120.0   \n",
      "26         2392  8.45         NaN  0.35             0.42         4.50   358.0   \n",
      "...         ...   ...         ...   ...              ...          ...     ...   \n",
      "10573       NaN  4.42         NaN  0.07             0.40         1.60   224.0   \n",
      "10574       NaN  4.22         NaN  0.95             0.80        12.10   493.0   \n",
      "10575    V.S.H.  4.00         NaN  0.12             0.98        38.40   582.0   \n",
      "10576     10319  1.16         NaN  0.21             0.87         2.15   269.0   \n",
      "10577       370  0.60         NaN  0.68             0.78        52.00   582.0   \n",
      "\n",
      "       CALCIUM_CARBONATE  FERROUS  MANAGESE  ZINK  COPPER  \n",
      "0                   10.9     6.10      0.60  4.60     NaN  \n",
      "23                  17.6     6.66     39.40  1.75    8.85  \n",
      "24                  10.4    15.00      8.10  1.30    8.79  \n",
      "25                  11.6    15.70      9.34  1.16    8.74  \n",
      "26                  10.4    20.20     12.40  0.11    6.25  \n",
      "...                  ...      ...       ...   ...     ...  \n",
      "10573                1.6     5.40     11.00  2.60    0.80  \n",
      "10574               11.2     6.04      8.88  0.08    2.24  \n",
      "10575                2.0     4.30     18.70  0.40    1.60  \n",
      "10576                6.0    22.60     27.20  1.80   10.00  \n",
      "10577                6.4     5.10      6.80  0.20    7.80  \n",
      "\n",
      "[10324 rows x 17 columns]\n"
     ]
    }
   ],
   "source": [
    "threshold = 8.475\n",
    "deli = np.where(df[\"PH\"]>threshold)\n",
    "df.drop(deli[0],inplace = True)\n",
    "\n",
    "t2 = 6.595\n",
    "delo = np.where(df[\"PH\"] < t2)\n",
    "df.drop(delo[0],inplace = True)\n",
    "\n",
    "# noisy_data = df[df[\"POTASH\"] > threshold]\n",
    "\n",
    "# mean = df[\"POTASH\"].mean()\n",
    "# df.loc[df[\"POTASH\"] > threshold, \"POTASH\"] = mean\n",
    "\n",
    "print(df)"
   ]
  },
  {
   "cell_type": "code",
   "execution_count": 546,
   "metadata": {},
   "outputs": [
    {
     "name": "stdout",
     "output_type": "stream",
     "text": [
      "       SAMPLE_NO     SEASON SAMPLE_DATE  \\\n",
      "0          35902  2019-2020   5/15/2019   \n",
      "23         26251  2017-2018   7/25/2017   \n",
      "24         24606  2016-2017  12/22/2016   \n",
      "25         24605  2016-2017  12/22/2016   \n",
      "26         24693  2016-2017  12/22/2016   \n",
      "...          ...        ...         ...   \n",
      "10573      10038  2013-2014   4/13/2013   \n",
      "10574       9888  2012-2013    2/5/2013   \n",
      "10575      42168  2019-2020   1/27/2020   \n",
      "10576      20516  2015-2016   9/22/2015   \n",
      "10577      34414  2018-2019  11/22/2018   \n",
      "\n",
      "                                     FARMER_ENGLISH_NAME VILLAGE_NAME_ENGLISH  \\\n",
      "0            ANNASAO  ALIS  KIRTIKUMAR  GUNDAPPA .DANOLE             SHIRDHON   \n",
      "23              VARDHAMAN  VIJAYKUMAR  PAYGOUDAR (PATIL)              SHEDBAL   \n",
      "24                                 SADASHIV KRUSHNA MALI               SHIROL   \n",
      "25                               SONABAI  SUBHASH JADHAV               SHIROL   \n",
      "26                                 PANDIT  NARAYAN  KALE               SHIROL   \n",
      "...                                                  ...                  ...   \n",
      "10573  KARYAKARI  SANCHALAK  SHRI DATTA  S.S.S.K.LTD ...               SHIROL   \n",
      "10574  KARYAKARI  SANCHALAK  SHRI DATTA  S.S.S.K.LTD ...               SHIROL   \n",
      "10575  KARYAKARI  SANCHALAK  SHRI DATTA  S.S.S.K.LTD ...               SHIROL   \n",
      "10576                            BABU  PUNAPPA  GADAKARI              SADALGA   \n",
      "10577                           PRAMILA  DILIPRAO  KAMAT          DHARANGUTTI   \n",
      "\n",
      "      SURVEY_NO    PH  Unnamed: 7    EC  Organinc Carbon  PHOSPHOROUS  POTASH  \\\n",
      "0        172/75  7.30        0.36  0.42           100.66       997.00     5.2   \n",
      "23          375  8.45         NaN  0.62             0.93         2.90   470.0   \n",
      "24          845  8.45         NaN  0.26             0.18        25.80  1030.0   \n",
      "25          114  8.45         NaN  0.25             0.21        23.30  1120.0   \n",
      "26         2392  8.45         NaN  0.35             0.42         4.50   358.0   \n",
      "...         ...   ...         ...   ...              ...          ...     ...   \n",
      "10573       NaN  4.42         NaN  0.07             0.40         1.60   224.0   \n",
      "10574       NaN  4.22         NaN  0.95             0.80        12.10   493.0   \n",
      "10575    V.S.H.  4.00         NaN  0.12             0.98        38.40   582.0   \n",
      "10576     10319  1.16         NaN  0.21             0.87         2.15   269.0   \n",
      "10577       370  0.60         NaN  0.68             0.78        52.00   582.0   \n",
      "\n",
      "       CALCIUM_CARBONATE  FERROUS  MANAGESE  ZINK  COPPER  \n",
      "0                   10.9     6.10      0.60  4.60     NaN  \n",
      "23                  17.6     6.66     39.40  1.75    8.85  \n",
      "24                  10.4    15.00      8.10  1.30    8.79  \n",
      "25                  11.6    15.70      9.34  1.16    8.74  \n",
      "26                  10.4    20.20     12.40  0.11    6.25  \n",
      "...                  ...      ...       ...   ...     ...  \n",
      "10573                1.6     5.40     11.00  2.60    0.80  \n",
      "10574               11.2     6.04      8.88  0.08    2.24  \n",
      "10575                2.0     4.30     18.70  0.40    1.60  \n",
      "10576                6.0    22.60     27.20  1.80   10.00  \n",
      "10577                6.4     5.10      6.80  0.20    7.80  \n",
      "\n",
      "[9599 rows x 17 columns]\n"
     ]
    }
   ],
   "source": [
    "threshold = 1.25\n",
    "deli = np.where(df[\"EC\"]>threshold)\n",
    "df.drop(deli[0],inplace = True)\n",
    "\n",
    "t2 = 0\n",
    "delo = np.where(df[\"EC\"] < t2)\n",
    "df.drop(delo[0],inplace = True)\n",
    "\n",
    "# noisy_data = df[df[\"POTASH\"] > threshold]\n",
    "\n",
    "# mean = df[\"POTASH\"].mean()\n",
    "# df.loc[df[\"POTASH\"] > threshold, \"POTASH\"] = mean\n",
    "\n",
    "print(df)"
   ]
  },
  {
   "cell_type": "code",
   "execution_count": 547,
   "metadata": {},
   "outputs": [],
   "source": [
    "df.reset_index(inplace=True, drop=True)"
   ]
  },
  {
   "cell_type": "code",
   "execution_count": 548,
   "metadata": {},
   "outputs": [
    {
     "data": {
      "text/plain": [
       "<AxesSubplot:>"
      ]
     },
     "execution_count": 548,
     "metadata": {},
     "output_type": "execute_result"
    },
    {
     "data": {
      "image/png": "[encoded data removed]",
      "text/plain": [
       "<Figure size 432x288 with 1 Axes>"
      ]
     },
     "metadata": {
      "needs_background": "light"
     },
     "output_type": "display_data"
    }
   ],
   "source": [
    "plt.ylim(0,2)\n",
    "sns.boxplot(df['Organinc Carbon'])"
   ]
  },
  {
   "cell_type": "code",
   "execution_count": 549,
   "metadata": {},
   "outputs": [],
   "source": [
    "df.reset_index(inplace=True, drop=True)\n",
    "threshold = 1.425\n",
    "\n",
    "deli = np.where(df[\"Organinc Carbon\"]>threshold)\n",
    "df.drop(deli[0],inplace = True)\n",
    "\n",
    "t2 = 0.105\n",
    "delo = np.where(df[\"Organinc Carbon\"] < t2)\n",
    "df.drop(delo[0],inplace = True)\n",
    "\n",
    "\n",
    "# print(df)"
   ]
  },
  {
   "cell_type": "code",
   "execution_count": 550,
   "metadata": {},
   "outputs": [
    {
     "data": {
      "text/plain": [
       "<AxesSubplot:>"
      ]
     },
     "execution_count": 550,
     "metadata": {},
     "output_type": "execute_result"
    },
    {
     "data": {
      "image/png": "[encoded data removed]",
      "text/plain": [
       "<Figure size 432x288 with 1 Axes>"
      ]
     },
     "metadata": {
      "needs_background": "light"
     },
     "output_type": "display_data"
    }
   ],
   "source": [
    "df.reset_index(inplace=True, drop=True)\n",
    "\n",
    "sns.boxplot(df['PHOSPHOROUS'])\n",
    "\n"
   ]
  },
  {
   "cell_type": "code",
   "execution_count": 551,
   "metadata": {},
   "outputs": [
    {
     "name": "stdout",
     "output_type": "stream",
     "text": [
      "      SAMPLE_NO     SEASON SAMPLE_DATE  \\\n",
      "0         26251  2017-2018   7/25/2017   \n",
      "1         24606  2016-2017  12/22/2016   \n",
      "2         24605  2016-2017  12/22/2016   \n",
      "3         24693  2016-2017  12/22/2016   \n",
      "4         24694  2016-2017  12/22/2016   \n",
      "...         ...        ...         ...   \n",
      "9568      10038  2013-2014   4/13/2013   \n",
      "9569       9888  2012-2013    2/5/2013   \n",
      "9570      42168  2019-2020   1/27/2020   \n",
      "9571      20516  2015-2016   9/22/2015   \n",
      "9572      34414  2018-2019  11/22/2018   \n",
      "\n",
      "                                    FARMER_ENGLISH_NAME VILLAGE_NAME_ENGLISH  \\\n",
      "0              VARDHAMAN  VIJAYKUMAR  PAYGOUDAR (PATIL)              SHEDBAL   \n",
      "1                                 SADASHIV KRUSHNA MALI               SHIROL   \n",
      "2                               SONABAI  SUBHASH JADHAV               SHIROL   \n",
      "3                                 PANDIT  NARAYAN  KALE               SHIROL   \n",
      "4                                     ANIL BABURAO MANE               SHIROL   \n",
      "...                                                 ...                  ...   \n",
      "9568  KARYAKARI  SANCHALAK  SHRI DATTA  S.S.S.K.LTD ...               SHIROL   \n",
      "9569  KARYAKARI  SANCHALAK  SHRI DATTA  S.S.S.K.LTD ...               SHIROL   \n",
      "9570  KARYAKARI  SANCHALAK  SHRI DATTA  S.S.S.K.LTD ...               SHIROL   \n",
      "9571                            BABU  PUNAPPA  GADAKARI              SADALGA   \n",
      "9572                           PRAMILA  DILIPRAO  KAMAT          DHARANGUTTI   \n",
      "\n",
      "     SURVEY_NO    PH  Unnamed: 7    EC  Organinc Carbon  PHOSPHOROUS  POTASH  \\\n",
      "0          375  8.45         NaN  0.62             0.93         2.90   470.0   \n",
      "1          845  8.45         NaN  0.26             0.18        25.80  1030.0   \n",
      "2          114  8.45         NaN  0.25             0.21        23.30  1120.0   \n",
      "3         2392  8.45         NaN  0.35             0.42         4.50   358.0   \n",
      "4         2109  8.45         NaN  0.33             0.72         2.15   437.0   \n",
      "...        ...   ...         ...   ...              ...          ...     ...   \n",
      "9568       NaN  4.42         NaN  0.07             0.40         1.60   224.0   \n",
      "9569       NaN  4.22         NaN  0.95             0.80        12.10   493.0   \n",
      "9570    V.S.H.  4.00         NaN  0.12             0.98        38.40   582.0   \n",
      "9571     10319  1.16         NaN  0.21             0.87         2.15   269.0   \n",
      "9572       370  0.60         NaN  0.68             0.78        52.00   582.0   \n",
      "\n",
      "      CALCIUM_CARBONATE  FERROUS  MANAGESE  ZINK  COPPER  \n",
      "0                  17.6     6.66     39.40  1.75    8.85  \n",
      "1                  10.4    15.00      8.10  1.30    8.79  \n",
      "2                  11.6    15.70      9.34  1.16    8.74  \n",
      "3                  10.4    20.20     12.40  0.11    6.25  \n",
      "4                  10.4    14.20     16.40  0.42    5.56  \n",
      "...                 ...      ...       ...   ...     ...  \n",
      "9568                1.6     5.40     11.00  2.60    0.80  \n",
      "9569               11.2     6.04      8.88  0.08    2.24  \n",
      "9570                2.0     4.30     18.70  0.40    1.60  \n",
      "9571                6.0    22.60     27.20  1.80   10.00  \n",
      "9572                6.4     5.10      6.80  0.20    7.80  \n",
      "\n",
      "[9203 rows x 17 columns]\n"
     ]
    }
   ],
   "source": [
    "df.reset_index(inplace=True, drop=True)\n",
    "threshold = 90.80\n",
    "\n",
    "deli = np.where(df[\"PHOSPHOROUS\"]>threshold)\n",
    "df.drop(deli[0],inplace = True)\n",
    "\n",
    "t2 = 0.5\n",
    "delo = np.where(df[\"PHOSPHOROUS\"] < t2)\n",
    "df.drop(delo[0],inplace = True)\n",
    "\n",
    "print(df)"
   ]
  },
  {
   "cell_type": "code",
   "execution_count": 552,
   "metadata": {},
   "outputs": [
    {
     "data": {
      "text/plain": [
       "<AxesSubplot:>"
      ]
     },
     "execution_count": 552,
     "metadata": {},
     "output_type": "execute_result"
    },
    {
     "data": {
      "image/png": "[encoded data removed]",
      "text/plain": [
       "<Figure size 432x288 with 1 Axes>"
      ]
     },
     "metadata": {
      "needs_background": "light"
     },
     "output_type": "display_data"
    }
   ],
   "source": [
    "plt.ylim(0,10)\n",
    "sns.boxplot(df['POTASH'])"
   ]
  },
  {
   "cell_type": "code",
   "execution_count": 553,
   "metadata": {},
   "outputs": [
    {
     "name": "stdout",
     "output_type": "stream",
     "text": [
      "      SAMPLE_NO     SEASON SAMPLE_DATE  \\\n",
      "0         26251  2017-2018   7/25/2017   \n",
      "1         24606  2016-2017  12/22/2016   \n",
      "2         24605  2016-2017  12/22/2016   \n",
      "3         24693  2016-2017  12/22/2016   \n",
      "4         24694  2016-2017  12/22/2016   \n",
      "...         ...        ...         ...   \n",
      "9198      10038  2013-2014   4/13/2013   \n",
      "9199       9888  2012-2013    2/5/2013   \n",
      "9200      42168  2019-2020   1/27/2020   \n",
      "9201      20516  2015-2016   9/22/2015   \n",
      "9202      34414  2018-2019  11/22/2018   \n",
      "\n",
      "                                    FARMER_ENGLISH_NAME VILLAGE_NAME_ENGLISH  \\\n",
      "0              VARDHAMAN  VIJAYKUMAR  PAYGOUDAR (PATIL)              SHEDBAL   \n",
      "1                                 SADASHIV KRUSHNA MALI               SHIROL   \n",
      "2                               SONABAI  SUBHASH JADHAV               SHIROL   \n",
      "3                                 PANDIT  NARAYAN  KALE               SHIROL   \n",
      "4                                     ANIL BABURAO MANE               SHIROL   \n",
      "...                                                 ...                  ...   \n",
      "9198  KARYAKARI  SANCHALAK  SHRI DATTA  S.S.S.K.LTD ...               SHIROL   \n",
      "9199  KARYAKARI  SANCHALAK  SHRI DATTA  S.S.S.K.LTD ...               SHIROL   \n",
      "9200  KARYAKARI  SANCHALAK  SHRI DATTA  S.S.S.K.LTD ...               SHIROL   \n",
      "9201                            BABU  PUNAPPA  GADAKARI              SADALGA   \n",
      "9202                           PRAMILA  DILIPRAO  KAMAT          DHARANGUTTI   \n",
      "\n",
      "     SURVEY_NO    PH  Unnamed: 7    EC  Organinc Carbon  PHOSPHOROUS  POTASH  \\\n",
      "0          375  8.45         NaN  0.62             0.93         2.90   470.0   \n",
      "1          845  8.45         NaN  0.26             0.18        25.80  1030.0   \n",
      "2          114  8.45         NaN  0.25             0.21        23.30  1120.0   \n",
      "3         2392  8.45         NaN  0.35             0.42         4.50   358.0   \n",
      "4         2109  8.45         NaN  0.33             0.72         2.15   437.0   \n",
      "...        ...   ...         ...   ...              ...          ...     ...   \n",
      "9198       NaN  4.42         NaN  0.07             0.40         1.60   224.0   \n",
      "9199       NaN  4.22         NaN  0.95             0.80        12.10   493.0   \n",
      "9200    V.S.H.  4.00         NaN  0.12             0.98        38.40   582.0   \n",
      "9201     10319  1.16         NaN  0.21             0.87         2.15   269.0   \n",
      "9202       370  0.60         NaN  0.68             0.78        52.00   582.0   \n",
      "\n",
      "      CALCIUM_CARBONATE  FERROUS  MANAGESE  ZINK  COPPER  \n",
      "0                  17.6     6.66     39.40  1.75    8.85  \n",
      "1                  10.4    15.00      8.10  1.30    8.79  \n",
      "2                  11.6    15.70      9.34  1.16    8.74  \n",
      "3                  10.4    20.20     12.40  0.11    6.25  \n",
      "4                  10.4    14.20     16.40  0.42    5.56  \n",
      "...                 ...      ...       ...   ...     ...  \n",
      "9198                1.6     5.40     11.00  2.60    0.80  \n",
      "9199               11.2     6.04      8.88  0.08    2.24  \n",
      "9200                2.0     4.30     18.70  0.40    1.60  \n",
      "9201                6.0    22.60     27.20  1.80   10.00  \n",
      "9202                6.4     5.10      6.80  0.20    7.80  \n",
      "\n",
      "[9192 rows x 17 columns]\n"
     ]
    }
   ],
   "source": [
    "df.reset_index(inplace=True, drop=True)\n",
    "threshold = 1178.75\n",
    "\n",
    "deli = np.where(df[\"POTASH\"]>threshold)\n",
    "df.drop(deli[0],inplace = True)\n",
    "t2 = 2\n",
    "delo = np.where(df[\"POTASH\"] < t2)\n",
    "df.drop(delo[0],inplace = True)\n",
    "\n",
    "print(df)"
   ]
  },
  {
   "cell_type": "code",
   "execution_count": 554,
   "metadata": {},
   "outputs": [
    {
     "data": {
      "text/plain": [
       "<AxesSubplot:>"
      ]
     },
     "execution_count": 554,
     "metadata": {},
     "output_type": "execute_result"
    },
    {
     "data": {
      "image/png": "[encoded data removed]",
      "text/plain": [
       "<Figure size 432x288 with 1 Axes>"
      ]
     },
     "metadata": {
      "needs_background": "light"
     },
     "output_type": "display_data"
    }
   ],
   "source": [
    "plt.ylim(0,10)\n",
    "sns.boxplot(df['CALCIUM_CARBONATE'])"
   ]
  },
  {
   "cell_type": "code",
   "execution_count": 555,
   "metadata": {},
   "outputs": [
    {
     "name": "stdout",
     "output_type": "stream",
     "text": [
      "      SAMPLE_NO     SEASON SAMPLE_DATE  \\\n",
      "0         26251  2017-2018   7/25/2017   \n",
      "1         24606  2016-2017  12/22/2016   \n",
      "2         24605  2016-2017  12/22/2016   \n",
      "3         24693  2016-2017  12/22/2016   \n",
      "4         24694  2016-2017  12/22/2016   \n",
      "...         ...        ...         ...   \n",
      "9187      10038  2013-2014   4/13/2013   \n",
      "9188       9888  2012-2013    2/5/2013   \n",
      "9189      42168  2019-2020   1/27/2020   \n",
      "9190      20516  2015-2016   9/22/2015   \n",
      "9191      34414  2018-2019  11/22/2018   \n",
      "\n",
      "                                    FARMER_ENGLISH_NAME VILLAGE_NAME_ENGLISH  \\\n",
      "0              VARDHAMAN  VIJAYKUMAR  PAYGOUDAR (PATIL)              SHEDBAL   \n",
      "1                                 SADASHIV KRUSHNA MALI               SHIROL   \n",
      "2                               SONABAI  SUBHASH JADHAV               SHIROL   \n",
      "3                                 PANDIT  NARAYAN  KALE               SHIROL   \n",
      "4                                     ANIL BABURAO MANE               SHIROL   \n",
      "...                                                 ...                  ...   \n",
      "9187  KARYAKARI  SANCHALAK  SHRI DATTA  S.S.S.K.LTD ...               SHIROL   \n",
      "9188  KARYAKARI  SANCHALAK  SHRI DATTA  S.S.S.K.LTD ...               SHIROL   \n",
      "9189  KARYAKARI  SANCHALAK  SHRI DATTA  S.S.S.K.LTD ...               SHIROL   \n",
      "9190                            BABU  PUNAPPA  GADAKARI              SADALGA   \n",
      "9191                           PRAMILA  DILIPRAO  KAMAT          DHARANGUTTI   \n",
      "\n",
      "     SURVEY_NO    PH  Unnamed: 7    EC  Organinc Carbon  PHOSPHOROUS  POTASH  \\\n",
      "0          375  8.45         NaN  0.62             0.93         2.90   470.0   \n",
      "1          845  8.45         NaN  0.26             0.18        25.80  1030.0   \n",
      "2          114  8.45         NaN  0.25             0.21        23.30  1120.0   \n",
      "3         2392  8.45         NaN  0.35             0.42         4.50   358.0   \n",
      "4         2109  8.45         NaN  0.33             0.72         2.15   437.0   \n",
      "...        ...   ...         ...   ...              ...          ...     ...   \n",
      "9187       NaN  4.42         NaN  0.07             0.40         1.60   224.0   \n",
      "9188       NaN  4.22         NaN  0.95             0.80        12.10   493.0   \n",
      "9189    V.S.H.  4.00         NaN  0.12             0.98        38.40   582.0   \n",
      "9190     10319  1.16         NaN  0.21             0.87         2.15   269.0   \n",
      "9191       370  0.60         NaN  0.68             0.78        52.00   582.0   \n",
      "\n",
      "      CALCIUM_CARBONATE  FERROUS  MANAGESE  ZINK  COPPER  \n",
      "0                  17.6     6.66     39.40  1.75    8.85  \n",
      "1                  10.4    15.00      8.10  1.30    8.79  \n",
      "2                  11.6    15.70      9.34  1.16    8.74  \n",
      "3                  10.4    20.20     12.40  0.11    6.25  \n",
      "4                  10.4    14.20     16.40  0.42    5.56  \n",
      "...                 ...      ...       ...   ...     ...  \n",
      "9187                1.6     5.40     11.00  2.60    0.80  \n",
      "9188               11.2     6.04      8.88  0.08    2.24  \n",
      "9189                2.0     4.30     18.70  0.40    1.60  \n",
      "9190                6.0    22.60     27.20  1.80   10.00  \n",
      "9191                6.4     5.10      6.80  0.20    7.80  \n",
      "\n",
      "[9132 rows x 17 columns]\n"
     ]
    }
   ],
   "source": [
    "df.reset_index(inplace=True, drop=True)\n",
    "threshold = 18.2\n",
    "\n",
    "deli = np.where(df[\"CALCIUM_CARBONATE\"]>threshold )\n",
    "df.drop(deli[0],inplace = True)\n",
    "\n",
    "t2 = 1\n",
    "delo = np.where(df[\"CALCIUM_CARBONATE\"] < t2)\n",
    "df.drop(delo[0],inplace = True)\n",
    "\n",
    "print(df)"
   ]
  },
  {
   "cell_type": "code",
   "execution_count": 556,
   "metadata": {},
   "outputs": [
    {
     "data": {
      "text/plain": [
       "<AxesSubplot:>"
      ]
     },
     "execution_count": 556,
     "metadata": {},
     "output_type": "execute_result"
    },
    {
     "data": {
      "image/png": "[encoded data removed]",
      "text/plain": [
       "<Figure size 432x288 with 1 Axes>"
      ]
     },
     "metadata": {
      "needs_background": "light"
     },
     "output_type": "display_data"
    }
   ],
   "source": [
    "plt.ylim(0,1)\n",
    "sns.boxplot(df['FERROUS'])"
   ]
  },
  {
   "cell_type": "code",
   "execution_count": 557,
   "metadata": {},
   "outputs": [
    {
     "name": "stdout",
     "output_type": "stream",
     "text": [
      "      SAMPLE_NO     SEASON SAMPLE_DATE  \\\n",
      "0         26251  2017-2018   7/25/2017   \n",
      "1         24606  2016-2017  12/22/2016   \n",
      "2         24605  2016-2017  12/22/2016   \n",
      "3         24693  2016-2017  12/22/2016   \n",
      "4         24694  2016-2017  12/22/2016   \n",
      "...         ...        ...         ...   \n",
      "9127      10038  2013-2014   4/13/2013   \n",
      "9128       9888  2012-2013    2/5/2013   \n",
      "9129      42168  2019-2020   1/27/2020   \n",
      "9130      20516  2015-2016   9/22/2015   \n",
      "9131      34414  2018-2019  11/22/2018   \n",
      "\n",
      "                                    FARMER_ENGLISH_NAME VILLAGE_NAME_ENGLISH  \\\n",
      "0              VARDHAMAN  VIJAYKUMAR  PAYGOUDAR (PATIL)              SHEDBAL   \n",
      "1                                 SADASHIV KRUSHNA MALI               SHIROL   \n",
      "2                               SONABAI  SUBHASH JADHAV               SHIROL   \n",
      "3                                 PANDIT  NARAYAN  KALE               SHIROL   \n",
      "4                                     ANIL BABURAO MANE               SHIROL   \n",
      "...                                                 ...                  ...   \n",
      "9127  KARYAKARI  SANCHALAK  SHRI DATTA  S.S.S.K.LTD ...               SHIROL   \n",
      "9128  KARYAKARI  SANCHALAK  SHRI DATTA  S.S.S.K.LTD ...               SHIROL   \n",
      "9129  KARYAKARI  SANCHALAK  SHRI DATTA  S.S.S.K.LTD ...               SHIROL   \n",
      "9130                            BABU  PUNAPPA  GADAKARI              SADALGA   \n",
      "9131                           PRAMILA  DILIPRAO  KAMAT          DHARANGUTTI   \n",
      "\n",
      "     SURVEY_NO    PH  Unnamed: 7    EC  Organinc Carbon  PHOSPHOROUS  POTASH  \\\n",
      "0          375  8.45         NaN  0.62             0.93         2.90   470.0   \n",
      "1          845  8.45         NaN  0.26             0.18        25.80  1030.0   \n",
      "2          114  8.45         NaN  0.25             0.21        23.30  1120.0   \n",
      "3         2392  8.45         NaN  0.35             0.42         4.50   358.0   \n",
      "4         2109  8.45         NaN  0.33             0.72         2.15   437.0   \n",
      "...        ...   ...         ...   ...              ...          ...     ...   \n",
      "9127       NaN  4.42         NaN  0.07             0.40         1.60   224.0   \n",
      "9128       NaN  4.22         NaN  0.95             0.80        12.10   493.0   \n",
      "9129    V.S.H.  4.00         NaN  0.12             0.98        38.40   582.0   \n",
      "9130     10319  1.16         NaN  0.21             0.87         2.15   269.0   \n",
      "9131       370  0.60         NaN  0.68             0.78        52.00   582.0   \n",
      "\n",
      "      CALCIUM_CARBONATE  FERROUS  MANAGESE  ZINK  COPPER  \n",
      "0                  17.6     6.66     39.40  1.75    8.85  \n",
      "1                  10.4    15.00      8.10  1.30    8.79  \n",
      "2                  11.6    15.70      9.34  1.16    8.74  \n",
      "3                  10.4    20.20     12.40  0.11    6.25  \n",
      "4                  10.4    14.20     16.40  0.42    5.56  \n",
      "...                 ...      ...       ...   ...     ...  \n",
      "9127                1.6     5.40     11.00  2.60    0.80  \n",
      "9128               11.2     6.04      8.88  0.08    2.24  \n",
      "9129                2.0     4.30     18.70  0.40    1.60  \n",
      "9130                6.0    22.60     27.20  1.80   10.00  \n",
      "9131                6.4     5.10      6.80  0.20    7.80  \n",
      "\n",
      "[8737 rows x 17 columns]\n"
     ]
    }
   ],
   "source": [
    "df.reset_index(inplace=True, drop=True)\n",
    "threshold = 26\n",
    "\n",
    "deli = np.where(df[\"FERROUS\"]>threshold)\n",
    "df.drop(deli[0],inplace = True)\n",
    "t2 = 0.1\n",
    "delo = np.where(df[\"PHOSPHOROUS\"] < t2)\n",
    "df.drop(delo[0],inplace = True)\n",
    "\n",
    "print(df)"
   ]
  },
  {
   "cell_type": "code",
   "execution_count": 558,
   "metadata": {},
   "outputs": [
    {
     "data": {
      "text/plain": [
       "<AxesSubplot:>"
      ]
     },
     "execution_count": 558,
     "metadata": {},
     "output_type": "execute_result"
    },
    {
     "data": {
      "image/png": "[encoded data removed]",
      "text/plain": [
       "<Figure size 432x288 with 1 Axes>"
      ]
     },
     "metadata": {
      "needs_background": "light"
     },
     "output_type": "display_data"
    }
   ],
   "source": [
    "plt.ylim(0,1)\n",
    "sns.boxplot(df['MANAGESE'])"
   ]
  },
  {
   "cell_type": "code",
   "execution_count": 559,
   "metadata": {},
   "outputs": [
    {
     "name": "stdout",
     "output_type": "stream",
     "text": [
      "      SAMPLE_NO     SEASON SAMPLE_DATE  \\\n",
      "0         26251  2017-2018   7/25/2017   \n",
      "1         24606  2016-2017  12/22/2016   \n",
      "2         24605  2016-2017  12/22/2016   \n",
      "3         24693  2016-2017  12/22/2016   \n",
      "4         24694  2016-2017  12/22/2016   \n",
      "...         ...        ...         ...   \n",
      "8732      10038  2013-2014   4/13/2013   \n",
      "8733       9888  2012-2013    2/5/2013   \n",
      "8734      42168  2019-2020   1/27/2020   \n",
      "8735      20516  2015-2016   9/22/2015   \n",
      "8736      34414  2018-2019  11/22/2018   \n",
      "\n",
      "                                    FARMER_ENGLISH_NAME VILLAGE_NAME_ENGLISH  \\\n",
      "0              VARDHAMAN  VIJAYKUMAR  PAYGOUDAR (PATIL)              SHEDBAL   \n",
      "1                                 SADASHIV KRUSHNA MALI               SHIROL   \n",
      "2                               SONABAI  SUBHASH JADHAV               SHIROL   \n",
      "3                                 PANDIT  NARAYAN  KALE               SHIROL   \n",
      "4                                     ANIL BABURAO MANE               SHIROL   \n",
      "...                                                 ...                  ...   \n",
      "8732  KARYAKARI  SANCHALAK  SHRI DATTA  S.S.S.K.LTD ...               SHIROL   \n",
      "8733  KARYAKARI  SANCHALAK  SHRI DATTA  S.S.S.K.LTD ...               SHIROL   \n",
      "8734  KARYAKARI  SANCHALAK  SHRI DATTA  S.S.S.K.LTD ...               SHIROL   \n",
      "8735                            BABU  PUNAPPA  GADAKARI              SADALGA   \n",
      "8736                           PRAMILA  DILIPRAO  KAMAT          DHARANGUTTI   \n",
      "\n",
      "     SURVEY_NO    PH  Unnamed: 7    EC  Organinc Carbon  PHOSPHOROUS  POTASH  \\\n",
      "0          375  8.45         NaN  0.62             0.93         2.90   470.0   \n",
      "1          845  8.45         NaN  0.26             0.18        25.80  1030.0   \n",
      "2          114  8.45         NaN  0.25             0.21        23.30  1120.0   \n",
      "3         2392  8.45         NaN  0.35             0.42         4.50   358.0   \n",
      "4         2109  8.45         NaN  0.33             0.72         2.15   437.0   \n",
      "...        ...   ...         ...   ...              ...          ...     ...   \n",
      "8732       NaN  4.42         NaN  0.07             0.40         1.60   224.0   \n",
      "8733       NaN  4.22         NaN  0.95             0.80        12.10   493.0   \n",
      "8734    V.S.H.  4.00         NaN  0.12             0.98        38.40   582.0   \n",
      "8735     10319  1.16         NaN  0.21             0.87         2.15   269.0   \n",
      "8736       370  0.60         NaN  0.68             0.78        52.00   582.0   \n",
      "\n",
      "      CALCIUM_CARBONATE  FERROUS  MANAGESE  ZINK  COPPER  \n",
      "0                  17.6     6.66     39.40  1.75    8.85  \n",
      "1                  10.4    15.00      8.10  1.30    8.79  \n",
      "2                  11.6    15.70      9.34  1.16    8.74  \n",
      "3                  10.4    20.20     12.40  0.11    6.25  \n",
      "4                  10.4    14.20     16.40  0.42    5.56  \n",
      "...                 ...      ...       ...   ...     ...  \n",
      "8732                1.6     5.40     11.00  2.60    0.80  \n",
      "8733               11.2     6.04      8.88  0.08    2.24  \n",
      "8734                2.0     4.30     18.70  0.40    1.60  \n",
      "8735                6.0    22.60     27.20  1.80   10.00  \n",
      "8736                6.4     5.10      6.80  0.20    7.80  \n",
      "\n",
      "[8384 rows x 17 columns]\n"
     ]
    }
   ],
   "source": [
    "df.reset_index(inplace=True, drop=True)\n",
    "threshold = 39.6\n",
    "\n",
    "deli = np.where(df[\"MANAGESE\"]>threshold)\n",
    "df.drop(deli[0],inplace = True)\n",
    "t2 = 0.1\n",
    "delo = np.where(df[\"MANAGESE\"] < t2)\n",
    "df.drop(delo[0],inplace = True)\n",
    "\n",
    "print(df)"
   ]
  },
  {
   "cell_type": "code",
   "execution_count": 560,
   "metadata": {},
   "outputs": [
    {
     "data": {
      "text/plain": [
       "<AxesSubplot:>"
      ]
     },
     "execution_count": 560,
     "metadata": {},
     "output_type": "execute_result"
    },
    {
     "data": {
      "image/png": "[encoded data removed]",
      "text/plain": [
       "<Figure size 432x288 with 1 Axes>"
      ]
     },
     "metadata": {
      "needs_background": "light"
     },
     "output_type": "display_data"
    }
   ],
   "source": [
    "plt.ylim(0,.1)\n",
    "sns.boxplot(df['ZINK'])"
   ]
  },
  {
   "cell_type": "code",
   "execution_count": 561,
   "metadata": {},
   "outputs": [
    {
     "name": "stdout",
     "output_type": "stream",
     "text": [
      "      SAMPLE_NO     SEASON SAMPLE_DATE  \\\n",
      "0         26251  2017-2018   7/25/2017   \n",
      "1         24606  2016-2017  12/22/2016   \n",
      "2         24605  2016-2017  12/22/2016   \n",
      "3         24693  2016-2017  12/22/2016   \n",
      "4         24694  2016-2017  12/22/2016   \n",
      "...         ...        ...         ...   \n",
      "8379      10038  2013-2014   4/13/2013   \n",
      "8380       9888  2012-2013    2/5/2013   \n",
      "8381      42168  2019-2020   1/27/2020   \n",
      "8382      20516  2015-2016   9/22/2015   \n",
      "8383      34414  2018-2019  11/22/2018   \n",
      "\n",
      "                                    FARMER_ENGLISH_NAME VILLAGE_NAME_ENGLISH  \\\n",
      "0              VARDHAMAN  VIJAYKUMAR  PAYGOUDAR (PATIL)              SHEDBAL   \n",
      "1                                 SADASHIV KRUSHNA MALI               SHIROL   \n",
      "2                               SONABAI  SUBHASH JADHAV               SHIROL   \n",
      "3                                 PANDIT  NARAYAN  KALE               SHIROL   \n",
      "4                                     ANIL BABURAO MANE               SHIROL   \n",
      "...                                                 ...                  ...   \n",
      "8379  KARYAKARI  SANCHALAK  SHRI DATTA  S.S.S.K.LTD ...               SHIROL   \n",
      "8380  KARYAKARI  SANCHALAK  SHRI DATTA  S.S.S.K.LTD ...               SHIROL   \n",
      "8381  KARYAKARI  SANCHALAK  SHRI DATTA  S.S.S.K.LTD ...               SHIROL   \n",
      "8382                            BABU  PUNAPPA  GADAKARI              SADALGA   \n",
      "8383                           PRAMILA  DILIPRAO  KAMAT          DHARANGUTTI   \n",
      "\n",
      "     SURVEY_NO    PH  Unnamed: 7    EC  Organinc Carbon  PHOSPHOROUS  POTASH  \\\n",
      "0          375  8.45         NaN  0.62             0.93         2.90   470.0   \n",
      "1          845  8.45         NaN  0.26             0.18        25.80  1030.0   \n",
      "2          114  8.45         NaN  0.25             0.21        23.30  1120.0   \n",
      "3         2392  8.45         NaN  0.35             0.42         4.50   358.0   \n",
      "4         2109  8.45         NaN  0.33             0.72         2.15   437.0   \n",
      "...        ...   ...         ...   ...              ...          ...     ...   \n",
      "8379       NaN  4.42         NaN  0.07             0.40         1.60   224.0   \n",
      "8380       NaN  4.22         NaN  0.95             0.80        12.10   493.0   \n",
      "8381    V.S.H.  4.00         NaN  0.12             0.98        38.40   582.0   \n",
      "8382     10319  1.16         NaN  0.21             0.87         2.15   269.0   \n",
      "8383       370  0.60         NaN  0.68             0.78        52.00   582.0   \n",
      "\n",
      "      CALCIUM_CARBONATE  FERROUS  MANAGESE  ZINK  COPPER  \n",
      "0                  17.6     6.66     39.40  1.75    8.85  \n",
      "1                  10.4    15.00      8.10  1.30    8.79  \n",
      "2                  11.6    15.70      9.34  1.16    8.74  \n",
      "3                  10.4    20.20     12.40  0.11    6.25  \n",
      "4                  10.4    14.20     16.40  0.42    5.56  \n",
      "...                 ...      ...       ...   ...     ...  \n",
      "8379                1.6     5.40     11.00  2.60    0.80  \n",
      "8380               11.2     6.04      8.88  0.08    2.24  \n",
      "8381                2.0     4.30     18.70  0.40    1.60  \n",
      "8382                6.0    22.60     27.20  1.80   10.00  \n",
      "8383                6.4     5.10      6.80  0.20    7.80  \n",
      "\n",
      "[7936 rows x 17 columns]\n"
     ]
    }
   ],
   "source": [
    "df.reset_index(inplace=True, drop=True)\n",
    "threshold = 3.6\n",
    "\n",
    "deli = np.where(df[\"ZINK\"]>threshold)\n",
    "df.drop(deli[0],inplace = True)\n",
    "\n",
    "t2 = 0.01\n",
    "delo = np.where(df[\"ZINK\"] < t2)\n",
    "df.drop(delo[0],inplace = True)\n",
    "\n",
    "print(df)"
   ]
  },
  {
   "cell_type": "code",
   "execution_count": 562,
   "metadata": {},
   "outputs": [
    {
     "data": {
      "text/plain": [
       "<AxesSubplot:>"
      ]
     },
     "execution_count": 562,
     "metadata": {},
     "output_type": "execute_result"
    },
    {
     "data": {
      "image/png": "[encoded data removed]",
      "text/plain": [
       "<Figure size 432x288 with 1 Axes>"
      ]
     },
     "metadata": {
      "needs_background": "light"
     },
     "output_type": "display_data"
    }
   ],
   "source": [
    "plt.ylim(0,0.1)\n",
    "sns.boxplot(df['COPPER'])"
   ]
  },
  {
   "cell_type": "code",
   "execution_count": 563,
   "metadata": {},
   "outputs": [
    {
     "name": "stdout",
     "output_type": "stream",
     "text": [
      "      SAMPLE_NO     SEASON SAMPLE_DATE  \\\n",
      "0         26251  2017-2018   7/25/2017   \n",
      "1         24606  2016-2017  12/22/2016   \n",
      "2         24605  2016-2017  12/22/2016   \n",
      "3         24693  2016-2017  12/22/2016   \n",
      "4         24694  2016-2017  12/22/2016   \n",
      "...         ...        ...         ...   \n",
      "7931      10038  2013-2014   4/13/2013   \n",
      "7932       9888  2012-2013    2/5/2013   \n",
      "7933      42168  2019-2020   1/27/2020   \n",
      "7934      20516  2015-2016   9/22/2015   \n",
      "7935      34414  2018-2019  11/22/2018   \n",
      "\n",
      "                                    FARMER_ENGLISH_NAME VILLAGE_NAME_ENGLISH  \\\n",
      "0              VARDHAMAN  VIJAYKUMAR  PAYGOUDAR (PATIL)              SHEDBAL   \n",
      "1                                 SADASHIV KRUSHNA MALI               SHIROL   \n",
      "2                               SONABAI  SUBHASH JADHAV               SHIROL   \n",
      "3                                 PANDIT  NARAYAN  KALE               SHIROL   \n",
      "4                                     ANIL BABURAO MANE               SHIROL   \n",
      "...                                                 ...                  ...   \n",
      "7931  KARYAKARI  SANCHALAK  SHRI DATTA  S.S.S.K.LTD ...               SHIROL   \n",
      "7932  KARYAKARI  SANCHALAK  SHRI DATTA  S.S.S.K.LTD ...               SHIROL   \n",
      "7933  KARYAKARI  SANCHALAK  SHRI DATTA  S.S.S.K.LTD ...               SHIROL   \n",
      "7934                            BABU  PUNAPPA  GADAKARI              SADALGA   \n",
      "7935                           PRAMILA  DILIPRAO  KAMAT          DHARANGUTTI   \n",
      "\n",
      "     SURVEY_NO    PH  Unnamed: 7    EC  Organinc Carbon  PHOSPHOROUS  POTASH  \\\n",
      "0          375  8.45         NaN  0.62             0.93         2.90   470.0   \n",
      "1          845  8.45         NaN  0.26             0.18        25.80  1030.0   \n",
      "2          114  8.45         NaN  0.25             0.21        23.30  1120.0   \n",
      "3         2392  8.45         NaN  0.35             0.42         4.50   358.0   \n",
      "4         2109  8.45         NaN  0.33             0.72         2.15   437.0   \n",
      "...        ...   ...         ...   ...              ...          ...     ...   \n",
      "7931       NaN  4.42         NaN  0.07             0.40         1.60   224.0   \n",
      "7932       NaN  4.22         NaN  0.95             0.80        12.10   493.0   \n",
      "7933    V.S.H.  4.00         NaN  0.12             0.98        38.40   582.0   \n",
      "7934     10319  1.16         NaN  0.21             0.87         2.15   269.0   \n",
      "7935       370  0.60         NaN  0.68             0.78        52.00   582.0   \n",
      "\n",
      "      CALCIUM_CARBONATE  FERROUS  MANAGESE  ZINK  COPPER  \n",
      "0                  17.6     6.66     39.40  1.75    8.85  \n",
      "1                  10.4    15.00      8.10  1.30    8.79  \n",
      "2                  11.6    15.70      9.34  1.16    8.74  \n",
      "3                  10.4    20.20     12.40  0.11    6.25  \n",
      "4                  10.4    14.20     16.40  0.42    5.56  \n",
      "...                 ...      ...       ...   ...     ...  \n",
      "7931                1.6     5.40     11.00  2.60    0.80  \n",
      "7932               11.2     6.04      8.88  0.08    2.24  \n",
      "7933                2.0     4.30     18.70  0.40    1.60  \n",
      "7934                6.0    22.60     27.20  1.80   10.00  \n",
      "7935                6.4     5.10      6.80  0.20    7.80  \n",
      "\n",
      "[7841 rows x 17 columns]\n"
     ]
    }
   ],
   "source": [
    "df.reset_index(inplace=True, drop=True)\n",
    "threshold = 13.5\n",
    "deli = np.where(df[\"COPPER\"]>threshold)\n",
    "df.drop(deli[0],inplace = True)\n",
    "\n",
    "t2 = 0.02\n",
    "delo = np.where(df[\"COPPER\"] < t2)\n",
    "df.drop(delo[0],inplace = True)\n",
    "\n",
    "print(df)"
   ]
  },
  {
   "cell_type": "code",
   "execution_count": 564,
   "metadata": {},
   "outputs": [
    {
     "name": "stdout",
     "output_type": "stream",
     "text": [
      "      SAMPLE_NO     SEASON SAMPLE_DATE  \\\n",
      "0         26251  2017-2018   7/25/2017   \n",
      "1         24606  2016-2017  12/22/2016   \n",
      "2         24605  2016-2017  12/22/2016   \n",
      "3         24693  2016-2017  12/22/2016   \n",
      "4         24694  2016-2017  12/22/2016   \n",
      "...         ...        ...         ...   \n",
      "7931      10038  2013-2014   4/13/2013   \n",
      "7932       9888  2012-2013    2/5/2013   \n",
      "7933      42168  2019-2020   1/27/2020   \n",
      "7934      20516  2015-2016   9/22/2015   \n",
      "7935      34414  2018-2019  11/22/2018   \n",
      "\n",
      "                                    FARMER_ENGLISH_NAME VILLAGE_NAME_ENGLISH  \\\n",
      "0              VARDHAMAN  VIJAYKUMAR  PAYGOUDAR (PATIL)              SHEDBAL   \n",
      "1                                 SADASHIV KRUSHNA MALI               SHIROL   \n",
      "2                               SONABAI  SUBHASH JADHAV               SHIROL   \n",
      "3                                 PANDIT  NARAYAN  KALE               SHIROL   \n",
      "4                                     ANIL BABURAO MANE               SHIROL   \n",
      "...                                                 ...                  ...   \n",
      "7931  KARYAKARI  SANCHALAK  SHRI DATTA  S.S.S.K.LTD ...               SHIROL   \n",
      "7932  KARYAKARI  SANCHALAK  SHRI DATTA  S.S.S.K.LTD ...               SHIROL   \n",
      "7933  KARYAKARI  SANCHALAK  SHRI DATTA  S.S.S.K.LTD ...               SHIROL   \n",
      "7934                            BABU  PUNAPPA  GADAKARI              SADALGA   \n",
      "7935                           PRAMILA  DILIPRAO  KAMAT          DHARANGUTTI   \n",
      "\n",
      "     SURVEY_NO        PH  Unnamed: 7        EC  Organinc Carbon  PHOSPHOROUS  \\\n",
      "0          375  1.000000         NaN  0.016702         0.649635     0.028119   \n",
      "1          845  1.000000         NaN  0.005770         0.102190     0.283642   \n",
      "2          114  1.000000         NaN  0.005466         0.124088     0.255746   \n",
      "3         2392  1.000000         NaN  0.008503         0.277372     0.045972   \n",
      "4         2109  1.000000         NaN  0.007896         0.496350     0.019750   \n",
      "...        ...       ...         ...       ...              ...          ...   \n",
      "7931       NaN  0.486624         NaN  0.000000         0.262774     0.013613   \n",
      "7932       NaN  0.461146         NaN  0.026723         0.554745     0.130774   \n",
      "7933    V.S.H.  0.433121         NaN  0.001518         0.686131     0.424236   \n",
      "7934     10319  0.071338         NaN  0.004251         0.605839     0.019750   \n",
      "7935       370  0.000000         NaN  0.018524         0.540146     0.575988   \n",
      "\n",
      "        POTASH  CALCIUM_CARBONATE   FERROUS  MANAGESE      ZINK    COPPER  \n",
      "0     0.417255           0.976190  0.255868  0.997468  0.484680  0.655300  \n",
      "1     0.919312           0.547619  0.576760  0.204862  0.359331  0.650852  \n",
      "2     1.000000           0.619048  0.603694  0.236262  0.320334  0.647146  \n",
      "3     0.316843           0.547619  0.776837  0.313750  0.027855  0.462565  \n",
      "4     0.387669           0.547619  0.545979  0.415042  0.114206  0.411416  \n",
      "...        ...                ...       ...       ...       ...       ...  \n",
      "7931  0.196708           0.023810  0.207387  0.278298  0.721448  0.058562  \n",
      "7932  0.437875           0.595238  0.232012  0.224614  0.019499  0.165308  \n",
      "7933  0.517666           0.047619  0.165063  0.473284  0.108635  0.117865  \n",
      "7934  0.237052           0.285714  0.869180  0.688529  0.498607  0.740549  \n",
      "7935  0.517666           0.309524  0.195845  0.171942  0.052925  0.577465  \n",
      "\n",
      "[7841 rows x 17 columns]\n"
     ]
    }
   ],
   "source": [
    "from sklearn.preprocessing import MinMaxScaler\n",
    "cols_to_normalize = ['PH','Organinc Carbon','PHOSPHOROUS','POTASH','CALCIUM_CARBONATE','FERROUS','MANAGESE','ZINK','COPPER','EC']\n",
    "scaler = MinMaxScaler()\n",
    "df[cols_to_normalize] = scaler.fit_transform(df[cols_to_normalize])\n",
    "\n",
    "print(df)\n"
   ]
  },
  {
   "cell_type": "code",
   "execution_count": 565,
   "metadata": {},
   "outputs": [
    {
     "name": "stdout",
     "output_type": "stream",
     "text": [
      "[[0.05263158 0.10526316 0.00820425 0.00936599 0.01017843 0.01088969\n",
      "  0.01477847 0.01185771 0.01055465 0.01121932]\n",
      " [0.10526316 0.05263158 0.00728538 0.00818706 0.00876816 0.00903844\n",
      "  0.00984246 0.00890218 0.00876036 0.00897545]\n",
      " [0.10526316 0.10526316 0.06563402 0.13099293 0.18394751 0.21779375\n",
      "  0.23645553 0.24926112 0.26386617 0.26926356]\n",
      " [0.10526316 0.10526316 0.13126805 0.06549646 0.12263168 0.16334531\n",
      "  0.20689859 0.21365239 0.21109293 0.2243863 ]\n",
      " [0.10526316 0.10526316 0.13126805 0.13099293 0.06131584 0.10889687\n",
      "  0.17734165 0.17804366 0.1583197  0.17950904]\n",
      " [0.10526316 0.10526316 0.13126805 0.13099293 0.12263168 0.05444844\n",
      "  0.14778471 0.14243493 0.1583197  0.13463178]\n",
      " [0.10526316 0.10526316 0.13126805 0.13099293 0.12263168 0.10889687\n",
      "  0.02955694 0.01780437 0.01319331 0.01494413]\n",
      " [0.10526316 0.10526316 0.13126805 0.13099293 0.12263168 0.10889687\n",
      "  0.05911388 0.03560873 0.01757349 0.02243863]\n",
      " [0.10526316 0.10526316 0.13126805 0.13099293 0.12263168 0.10889687\n",
      "  0.05911388 0.07121746 0.05277323 0.08975452]\n",
      " [0.10526316 0.10526316 0.13126805 0.13099293 0.12263168 0.10889687\n",
      "  0.05911388 0.07121746 0.10554647 0.04487726]]\n"
     ]
    }
   ],
   "source": [
    "import numpy as np\n",
    "\n",
    "criteria = [\"PH\", \"EC\", \"Organinc Carbon\", \"PHOSPHOROUS\", \"POTASH\", \"CALCIUM_CARBONATE\", \"FERROUS\", \"MANAGESE\", \"ZINK\", \"COPPER\"]\n",
    "n = len(criteria)\n",
    "\n",
    "# Initialize an n x n matrix with ones\n",
    "matrix = np.ones((n, n))\n",
    "\n",
    "# Assign comparison values directly to the matrix\n",
    "matrix[0, 1] = 2\n",
    "matrix[0, 2] = 0.125\n",
    "matrix[0, 3] = 0.143\n",
    "matrix[0, 4] = 0.166\n",
    "matrix[0, 5] = 0.2\n",
    "matrix[0, 6] = 0.5\n",
    "matrix[0, 7] = 0.333\n",
    "matrix[0, 8] = 0.2\n",
    "matrix[0, 9] = 0.25\n",
    "matrix[1, 2] = 0.111\n",
    "matrix[1, 3] = 0.125\n",
    "matrix[1, 4] = 0.143\n",
    "matrix[1, 5] = 0.166\n",
    "matrix[1, 6] = 0.333\n",
    "matrix[1, 7] = 0.25\n",
    "matrix[1, 8] = 0.166\n",
    "matrix[1, 9] = 0.2\n",
    "matrix[2, 3] = 2\n",
    "matrix[2, 4] = 3\n",
    "matrix[2, 5] = 4\n",
    "matrix[2, 6] = 8\n",
    "matrix[2, 7] = 7\n",
    "matrix[2, 8] = 5\n",
    "matrix[2, 9] = 6\n",
    "matrix[3, 4] = 2\n",
    "matrix[3, 5] = 3\n",
    "matrix[3, 6] = 7\n",
    "matrix[3, 7] = 6\n",
    "matrix[3, 8] = 4\n",
    "matrix[3, 9] = 5\n",
    "matrix[4, 5] = 2\n",
    "matrix[4, 6] = 6\n",
    "matrix[4, 7] = 5\n",
    "matrix[4, 8] = 3\n",
    "matrix[4, 9] = 4\n",
    "matrix[5, 6] = 5\n",
    "matrix[5, 7] = 4\n",
    "matrix[5, 8] = 3\n",
    "matrix[5, 9] = 3\n",
    "matrix[6, 7] = 0.5\n",
    "matrix[6, 8] = 0.25\n",
    "matrix[6, 9] = 0.333\n",
    "matrix[7, 8] = 0.333\n",
    "matrix[7, 9] = 0.5\n",
    "matrix[8, 9] = 2\n",
    "\n",
    "# Fill in the lower triangle of the matrix using reciprocal values\n",
    "matrix = matrix + np.tril(1/matrix, -1)\n",
    "\n",
    "# Normalize the matrix by column\n",
    "sums = matrix.sum(axis=0)\n",
    "matrix = matrix / sums\n",
    "\n",
    "# Print the resulting matrix\n",
    "print(matrix)\n",
    "\n"
   ]
  },
  {
   "cell_type": "code",
   "execution_count": 566,
   "metadata": {},
   "outputs": [
    {
     "name": "stdout",
     "output_type": "stream",
     "text": [
      "criteria weights:  [0.02449432 0.02276542 0.18277409 0.1549298  0.13362141 0.12330385\n",
      " 0.07798146 0.08390506 0.09771749 0.09850709]\n"
     ]
    }
   ],
   "source": [
    "# sum all columns in each row and divide by the number of criteria\n",
    "final_weights = np.sum(matrix, axis=1) / len(criteria)\n",
    "\n",
    "print(\"criteria weights: \", final_weights)"
   ]
  },
  {
   "cell_type": "code",
   "execution_count": 567,
   "metadata": {},
   "outputs": [
    {
     "name": "stdout",
     "output_type": "stream",
     "text": [
      "1.0\n"
     ]
    }
   ],
   "source": [
    "Sample=final_weights.sum(axis=0)\n",
    "print(Sample)"
   ]
  },
  {
   "cell_type": "code",
   "execution_count": 568,
   "metadata": {},
   "outputs": [
    {
     "name": "stdout",
     "output_type": "stream",
     "text": [
      "      SAMPLE_NO     SEASON SAMPLE_DATE  \\\n",
      "0         26251  2017-2018   7/25/2017   \n",
      "1         24606  2016-2017  12/22/2016   \n",
      "2         24605  2016-2017  12/22/2016   \n",
      "3         24693  2016-2017  12/22/2016   \n",
      "4         24694  2016-2017  12/22/2016   \n",
      "...         ...        ...         ...   \n",
      "7931      10038  2013-2014   4/13/2013   \n",
      "7932       9888  2012-2013    2/5/2013   \n",
      "7933      42168  2019-2020   1/27/2020   \n",
      "7934      20516  2015-2016   9/22/2015   \n",
      "7935      34414  2018-2019  11/22/2018   \n",
      "\n",
      "                                    FARMER_ENGLISH_NAME VILLAGE_NAME_ENGLISH  \\\n",
      "0              VARDHAMAN  VIJAYKUMAR  PAYGOUDAR (PATIL)              SHEDBAL   \n",
      "1                                 SADASHIV KRUSHNA MALI               SHIROL   \n",
      "2                               SONABAI  SUBHASH JADHAV               SHIROL   \n",
      "3                                 PANDIT  NARAYAN  KALE               SHIROL   \n",
      "4                                     ANIL BABURAO MANE               SHIROL   \n",
      "...                                                 ...                  ...   \n",
      "7931  KARYAKARI  SANCHALAK  SHRI DATTA  S.S.S.K.LTD ...               SHIROL   \n",
      "7932  KARYAKARI  SANCHALAK  SHRI DATTA  S.S.S.K.LTD ...               SHIROL   \n",
      "7933  KARYAKARI  SANCHALAK  SHRI DATTA  S.S.S.K.LTD ...               SHIROL   \n",
      "7934                            BABU  PUNAPPA  GADAKARI              SADALGA   \n",
      "7935                           PRAMILA  DILIPRAO  KAMAT          DHARANGUTTI   \n",
      "\n",
      "     SURVEY_NO        PH  Unnamed: 7        EC  Organinc Carbon  PHOSPHOROUS  \\\n",
      "0          375  1.000000         NaN  0.016702         0.649635     0.028119   \n",
      "1          845  1.000000         NaN  0.005770         0.102190     0.283642   \n",
      "2          114  1.000000         NaN  0.005466         0.124088     0.255746   \n",
      "3         2392  1.000000         NaN  0.008503         0.277372     0.045972   \n",
      "4         2109  1.000000         NaN  0.007896         0.496350     0.019750   \n",
      "...        ...       ...         ...       ...              ...          ...   \n",
      "7931       NaN  0.486624         NaN  0.000000         0.262774     0.013613   \n",
      "7932       NaN  0.461146         NaN  0.026723         0.554745     0.130774   \n",
      "7933    V.S.H.  0.433121         NaN  0.001518         0.686131     0.424236   \n",
      "7934     10319  0.071338         NaN  0.004251         0.605839     0.019750   \n",
      "7935       370  0.000000         NaN  0.018524         0.540146     0.575988   \n",
      "\n",
      "        POTASH  CALCIUM_CARBONATE   FERROUS  MANAGESE      ZINK    COPPER  \\\n",
      "0     0.417255           0.976190  0.255868  0.997468  0.484680  0.655300   \n",
      "1     0.919312           0.547619  0.576760  0.204862  0.359331  0.650852   \n",
      "2     1.000000           0.619048  0.603694  0.236262  0.320334  0.647146   \n",
      "3     0.316843           0.547619  0.776837  0.313750  0.027855  0.462565   \n",
      "4     0.387669           0.547619  0.545979  0.415042  0.114206  0.411416   \n",
      "...        ...                ...       ...       ...       ...       ...   \n",
      "7931  0.196708           0.023810  0.207387  0.278298  0.721448  0.058562   \n",
      "7932  0.437875           0.595238  0.232012  0.224614  0.019499  0.165308   \n",
      "7933  0.517666           0.047619  0.165063  0.473284  0.108635  0.117865   \n",
      "7934  0.237052           0.285714  0.869180  0.688529  0.498607  0.740549   \n",
      "7935  0.517666           0.309524  0.195845  0.171942  0.052925  0.577465   \n",
      "\n",
      "       Results  \n",
      "0     0.539649  \n",
      "1     0.439003  \n",
      "2     0.458825  \n",
      "3     0.327559  \n",
      "4     0.366866  \n",
      "...        ...  \n",
      "7931  0.207067  \n",
      "7932  0.320590  \n",
      "7933  0.351629  \n",
      "7934  0.429764  \n",
      "7935  0.387476  \n",
      "\n",
      "[7841 rows x 18 columns]\n"
     ]
    }
   ],
   "source": [
    "# Define the decision matrix using the df dataframe\n",
    "decision_matrix = df[['PH', 'EC', 'Organinc Carbon', 'PHOSPHOROUS', 'POTASH', 'CALCIUM_CARBONATE', 'FERROUS', 'MANAGESE', 'ZINK', 'COPPER']].values  # select only relevant columns\n",
    "\n",
    "# Define the weights for each criterion from AHP analysis\n",
    "weights = final_weights\n",
    "\n",
    "# Expand the weights array to have the same shape as the decision matrix\n",
    "expanded_weights = np.expand_dims(weights, axis=0)\n",
    "expanded_weights = np.repeat(expanded_weights, decision_matrix.shape[0], axis=0)\n",
    "\n",
    "# Calculate the weighted sum for each alternative\n",
    "weighted_sums = np.sum(decision_matrix * expanded_weights, axis=1)\n",
    "\n",
    "df['Results'] = weighted_sums\n",
    "print(df)\n"
   ]
  },
  {
   "cell_type": "code",
   "execution_count": 569,
   "metadata": {},
   "outputs": [
    {
     "name": "stdout",
     "output_type": "stream",
     "text": [
      "            PH        EC  Organinc Carbon  PHOSPHOROUS    POTASH  \\\n",
      "0     1.000000  0.016702         0.649635     0.028119  0.417255   \n",
      "1     1.000000  0.005770         0.102190     0.283642  0.919312   \n",
      "2     1.000000  0.005466         0.124088     0.255746  1.000000   \n",
      "3     1.000000  0.008503         0.277372     0.045972  0.316843   \n",
      "4     1.000000  0.007896         0.496350     0.019750  0.387669   \n",
      "...        ...       ...              ...          ...       ...   \n",
      "7931  0.486624  0.000000         0.262774     0.013613  0.196708   \n",
      "7932  0.461146  0.026723         0.554745     0.130774  0.437875   \n",
      "7933  0.433121  0.001518         0.686131     0.424236  0.517666   \n",
      "7934  0.071338  0.004251         0.605839     0.019750  0.237052   \n",
      "7935  0.000000  0.018524         0.540146     0.575988  0.517666   \n",
      "\n",
      "      CALCIUM_CARBONATE   FERROUS  MANAGESE      ZINK    COPPER   Results  \n",
      "0              0.976190  0.255868  0.997468  0.484680  0.655300  0.539649  \n",
      "1              0.547619  0.576760  0.204862  0.359331  0.650852  0.439003  \n",
      "2              0.619048  0.603694  0.236262  0.320334  0.647146  0.458825  \n",
      "3              0.547619  0.776837  0.313750  0.027855  0.462565  0.327559  \n",
      "4              0.547619  0.545979  0.415042  0.114206  0.411416  0.366866  \n",
      "...                 ...       ...       ...       ...       ...       ...  \n",
      "7931           0.023810  0.207387  0.278298  0.721448  0.058562  0.207067  \n",
      "7932           0.595238  0.232012  0.224614  0.019499  0.165308  0.320590  \n",
      "7933           0.047619  0.165063  0.473284  0.108635  0.117865  0.351629  \n",
      "7934           0.285714  0.869180  0.688529  0.498607  0.740549  0.429764  \n",
      "7935           0.309524  0.195845  0.171942  0.052925  0.577465  0.387476  \n",
      "\n",
      "[7841 rows x 11 columns]\n"
     ]
    }
   ],
   "source": [
    "df = df.drop(['SEASON', 'SAMPLE_DATE','FARMER_ENGLISH_NAME','VILLAGE_NAME_ENGLISH','SURVEY_NO','Unnamed: 7','SAMPLE_NO'], axis=1)\n",
    "print(df)"
   ]
  },
  {
   "cell_type": "code",
   "execution_count": 570,
   "metadata": {},
   "outputs": [
    {
     "name": "stdout",
     "output_type": "stream",
     "text": [
      "            PH        EC  Organinc Carbon  PHOSPHOROUS    POTASH  \\\n",
      "0     1.000000  0.016702         0.649635     0.028119  0.417255   \n",
      "1     1.000000  0.005770         0.102190     0.283642  0.919312   \n",
      "2     1.000000  0.005466         0.124088     0.255746  1.000000   \n",
      "3     1.000000  0.008503         0.277372     0.045972  0.316843   \n",
      "4     1.000000  0.007896         0.496350     0.019750  0.387669   \n",
      "...        ...       ...              ...          ...       ...   \n",
      "7931  0.486624  0.000000         0.262774     0.013613  0.196708   \n",
      "7932  0.461146  0.026723         0.554745     0.130774  0.437875   \n",
      "7933  0.433121  0.001518         0.686131     0.424236  0.517666   \n",
      "7934  0.071338  0.004251         0.605839     0.019750  0.237052   \n",
      "7935  0.000000  0.018524         0.540146     0.575988  0.517666   \n",
      "\n",
      "      CALCIUM_CARBONATE   FERROUS  MANAGESE      ZINK    COPPER   Results  \n",
      "0              0.976190  0.255868  0.997468  0.484680  0.655300  0.742854  \n",
      "1              0.547619  0.576760  0.204862  0.359331  0.650852  0.554192  \n",
      "2              0.619048  0.603694  0.236262  0.320334  0.647146  0.591348  \n",
      "3              0.547619  0.776837  0.313750  0.027855  0.462565  0.345287  \n",
      "4              0.547619  0.545979  0.415042  0.114206  0.411416  0.418968  \n",
      "...                 ...       ...       ...       ...       ...       ...  \n",
      "7931           0.023810  0.207387  0.278298  0.721448  0.058562  0.119420  \n",
      "7932           0.595238  0.232012  0.224614  0.019499  0.165308  0.332223  \n",
      "7933           0.047619  0.165063  0.473284  0.108635  0.117865  0.390406  \n",
      "7934           0.285714  0.869180  0.688529  0.498607  0.740549  0.536872  \n",
      "7935           0.309524  0.195845  0.171942  0.052925  0.577465  0.457602  \n",
      "\n",
      "[7841 rows x 11 columns]\n"
     ]
    }
   ],
   "source": [
    "from sklearn.preprocessing import MinMaxScaler\n",
    "cols_to_normalize = ['Results']\n",
    "scaler = MinMaxScaler()\n",
    "df[cols_to_normalize] = scaler.fit_transform(df[cols_to_normalize])\n",
    "\n",
    "print(df)"
   ]
  },
  {
   "cell_type": "code",
   "execution_count": 571,
   "metadata": {},
   "outputs": [
    {
     "name": "stdout",
     "output_type": "stream",
     "text": [
      "(array([   0,    7,   16,   17,   19,   20,   32,   40,   41,   46,   52,\n",
      "         53,   61,   62,   65,   66,   68,   70,   72,   75,   76,   80,\n",
      "         91,   92,   93,  110,  114,  119,  125,  128,  132,  137,  140,\n",
      "        144,  153,  156,  159,  166,  174,  176,  215,  216,  251,  252,\n",
      "        263,  279,  292,  298,  323,  340,  341,  355,  381,  383,  400,\n",
      "        406,  419,  432,  433,  449,  459,  498,  500,  503,  512,  513,\n",
      "        520,  550,  551,  552,  559,  565,  598,  600,  628,  634,  647,\n",
      "        669,  670,  675,  684,  687,  690,  698,  699,  703,  724,  747,\n",
      "        754,  762,  793,  801,  826,  829,  906,  914,  915,  931,  933,\n",
      "        936,  947,  988, 1015, 1035, 1041, 1061, 1075, 1077, 1085, 1119,\n",
      "       1138, 1143, 1144, 1149, 1151, 1154, 1158, 1170, 1173, 1179, 1186,\n",
      "       1198, 1202, 1223, 1238, 1239, 1285, 1286, 1290, 1295, 1351, 1362,\n",
      "       1367, 1369, 1374, 1375, 1377, 1394, 1441, 1446, 1457, 1475, 1480,\n",
      "       1483, 1511, 1526, 1531, 1532, 1540, 1544, 1584, 1586, 1589, 1631,\n",
      "       1638, 1651, 1660, 1673, 1676, 1680, 1687, 1688, 1697, 1699, 1707,\n",
      "       1712, 1715, 1727, 1736, 1753, 1755, 1756, 1759, 1764, 1765, 1766,\n",
      "       1769, 1770, 1771, 1774, 1779, 1780, 1808, 1810, 1813, 1819, 1828,\n",
      "       1832, 1850, 1856, 1883, 1898, 1905, 1939, 1995, 2023, 2025, 2026,\n",
      "       2028, 2031, 2033, 2038, 2042, 2057, 2089, 2105, 2106, 2129, 2131,\n",
      "       2132, 2135, 2138, 2151, 2170, 2188, 2212, 2221, 2222, 2225, 2227,\n",
      "       2231, 2235, 2237, 2240, 2245, 2246, 2261, 2273, 2277, 2281, 2284,\n",
      "       2298, 2312, 2332, 2335, 2337, 2379, 2394, 2400, 2401, 2415, 2420,\n",
      "       2429, 2445, 2449, 2450, 2453, 2455, 2482, 2509, 2518, 2524, 2527,\n",
      "       2529, 2534, 2537, 2540, 2551, 2553, 2554, 2562, 2585, 2587, 2589,\n",
      "       2594, 2599, 2609, 2611, 2631, 2636, 2645, 2646, 2669, 2683, 2734,\n",
      "       2737, 2739, 2745, 2757, 2761, 2778, 2791, 2810, 2830, 2833, 2834,\n",
      "       2836, 2847, 2849, 2856, 2868, 2874, 2875, 2885, 2892, 2894, 2926,\n",
      "       2943, 2965, 2969, 2977, 2978, 2993, 2996, 3016, 3024, 3056, 3084,\n",
      "       3090, 3091, 3092, 3097, 3098, 3101, 3105, 3108, 3109, 3111, 3135,\n",
      "       3140, 3147, 3165, 3170, 3173, 3174, 3192, 3202, 3245, 3246, 3249,\n",
      "       3250, 3262, 3265, 3267, 3287, 3315, 3332, 3334, 3336, 3338, 3339,\n",
      "       3340, 3342, 3344, 3345, 3349, 3352, 3353, 3356, 3357, 3358, 3368,\n",
      "       3371, 3385, 3401, 3406, 3410, 3424, 3442, 3462, 3483, 3488, 3494,\n",
      "       3507, 3510, 3523, 3526, 3528, 3531, 3551, 3571, 3584, 3631, 3634,\n",
      "       3637, 3679, 3774, 3780, 3782, 3791, 3800, 3803, 3881, 3883, 3887,\n",
      "       3888, 3890, 3891, 3893, 3896, 3898, 3899, 3907, 3928, 3939, 3944,\n",
      "       3987, 3991, 4006, 4067, 4068, 4073, 4074, 4076, 4077, 4082, 4085,\n",
      "       4113, 4123, 4137, 4140, 4147, 4165, 4214, 4215, 4273, 4278, 4281,\n",
      "       4283, 4284, 4285, 4315, 4331, 4337, 4340, 4341, 4346, 4348, 4357,\n",
      "       4364, 4366, 4435, 4436, 4439, 4442, 4443, 4447, 4454, 4457, 4459,\n",
      "       4472, 4473, 4476, 4478, 4486, 4491, 4501, 4506, 4508, 4512, 4553,\n",
      "       4558, 4565, 4581, 4586, 4597, 4608, 4617, 4656, 4718, 4779, 4790,\n",
      "       4791, 4792, 4835, 4838, 4846, 4849, 4851, 4870, 4890, 4892, 4926,\n",
      "       4931, 4941, 4955, 4974, 4975, 4976, 4978, 4980, 4983, 4990, 4992,\n",
      "       4996, 5009, 5018, 5037, 5044, 5055, 5065, 5114, 5115, 5116, 5127,\n",
      "       5151, 5245, 5248, 5250, 5253, 5254, 5256, 5257, 5259, 5262, 5265,\n",
      "       5267, 5297, 5303, 5321, 5345, 5346, 5357, 5360, 5361, 5364, 5366,\n",
      "       5367, 5370, 5374, 5376, 5380, 5384, 5386, 5408, 5412, 5415, 5419,\n",
      "       5425, 5479, 5501, 5503, 5525, 5530, 5559, 5563, 5572, 5575, 5581,\n",
      "       5585, 5666, 5667, 5670, 5671, 5682, 5687, 5689, 5698, 5700, 5716,\n",
      "       5729, 5749, 5782, 5790, 5796, 5804, 5823, 5844, 5847, 5848, 5849,\n",
      "       5854, 5856, 5857, 5860, 5863, 5865, 5866, 5867, 5871, 5873, 5874,\n",
      "       5877, 5883, 5885, 5905, 5920, 5931, 5967, 5990, 5993, 6016, 6024,\n",
      "       6026, 6030, 6033, 6036, 6037, 6038, 6040, 6052, 6060, 6072, 6077,\n",
      "       6084, 6087, 6096, 6100, 6142, 6143, 6144, 6160, 6173, 6191, 6192,\n",
      "       6196, 6197, 6203, 6206, 6211, 6234, 6267, 6334, 6359, 6376, 6381,\n",
      "       6403, 6410, 6448, 6490, 6491, 6495, 6513, 6516, 6518, 6522, 6524,\n",
      "       6585, 6607, 6613, 6614, 6615, 6626, 6628, 6638, 6644, 6648, 6697,\n",
      "       6698, 6712, 6717, 6721, 6745, 6749, 6751, 6758, 6811, 6825, 6831,\n",
      "       6859, 6880, 6892, 6893, 6904, 6909, 6913, 6921, 6925, 6927, 6929,\n",
      "       6938, 6959, 6976, 6998, 7066, 7072, 7079, 7111, 7112, 7113, 7122,\n",
      "       7128, 7129, 7218, 7269, 7279, 7294, 7296, 7351, 7382, 7386, 7393,\n",
      "       7485, 7505, 7528, 7555, 7557, 7560, 7613, 7638, 7678, 7704, 7758,\n",
      "       7783, 7822], dtype=int64),)\n"
     ]
    }
   ],
   "source": [
    "df['Quality'] = pd.cut(df.Results,bins=[0,0.25,0.5,0.75,1],labels=['Poor','Medium','Good','Excellent'])\n",
    "# print(df)\n",
    "\n",
    "test = np.where(df['Results']>0.7)\n",
    "print (test)"
   ]
  },
  {
   "cell_type": "markdown",
   "metadata": {},
   "source": []
  },
  {
   "cell_type": "code",
   "execution_count": 572,
   "metadata": {},
   "outputs": [
    {
     "data": {
      "text/plain": [
       "<AxesSubplot:>"
      ]
     },
     "execution_count": 572,
     "metadata": {},
     "output_type": "execute_result"
    },
    {
     "data": {
      "image/png": "[encoded data removed]",
      "text/plain": [
       "<Figure size 720x576 with 2 Axes>"
      ]
     },
     "metadata": {
      "needs_background": "light"
     },
     "output_type": "display_data"
    }
   ],
   "source": [
    "fig, ax = plt.subplots(figsize =(10,8))\n",
    "sns.heatmap(df[['EC','Organinc Carbon','PHOSPHOROUS','POTASH','CALCIUM_CARBONATE','FERROUS']].corr(), linewidths= .5)"
   ]
  },
  {
   "cell_type": "code",
   "execution_count": 573,
   "metadata": {},
   "outputs": [
    {
     "name": "stdout",
     "output_type": "stream",
     "text": [
      "            PH        EC  Organinc Carbon  PHOSPHOROUS    POTASH  \\\n",
      "0     1.000000  0.016702         0.649635     0.028119  0.417255   \n",
      "1     1.000000  0.005770         0.102190     0.283642  0.919312   \n",
      "2     1.000000  0.005466         0.124088     0.255746  1.000000   \n",
      "3     1.000000  0.008503         0.277372     0.045972  0.316843   \n",
      "4     1.000000  0.007896         0.496350     0.019750  0.387669   \n",
      "...        ...       ...              ...          ...       ...   \n",
      "7931  0.486624  0.000000         0.262774     0.013613  0.196708   \n",
      "7932  0.461146  0.026723         0.554745     0.130774  0.437875   \n",
      "7933  0.433121  0.001518         0.686131     0.424236  0.517666   \n",
      "7934  0.071338  0.004251         0.605839     0.019750  0.237052   \n",
      "7935  0.000000  0.018524         0.540146     0.575988  0.517666   \n",
      "\n",
      "      CALCIUM_CARBONATE   FERROUS  MANAGESE      ZINK    COPPER Quality  \n",
      "0              0.976190  0.255868  0.997468  0.484680  0.655300    Good  \n",
      "1              0.547619  0.576760  0.204862  0.359331  0.650852    Good  \n",
      "2              0.619048  0.603694  0.236262  0.320334  0.647146    Good  \n",
      "3              0.547619  0.776837  0.313750  0.027855  0.462565  Medium  \n",
      "4              0.547619  0.545979  0.415042  0.114206  0.411416  Medium  \n",
      "...                 ...       ...       ...       ...       ...     ...  \n",
      "7931           0.023810  0.207387  0.278298  0.721448  0.058562    Poor  \n",
      "7932           0.595238  0.232012  0.224614  0.019499  0.165308  Medium  \n",
      "7933           0.047619  0.165063  0.473284  0.108635  0.117865  Medium  \n",
      "7934           0.285714  0.869180  0.688529  0.498607  0.740549    Good  \n",
      "7935           0.309524  0.195845  0.171942  0.052925  0.577465  Medium  \n",
      "\n",
      "[7841 rows x 11 columns]\n",
      "0         Good\n",
      "1         Good\n",
      "2         Good\n",
      "3       Medium\n",
      "4       Medium\n",
      "         ...  \n",
      "7931      Poor\n",
      "7932    Medium\n",
      "7933    Medium\n",
      "7934      Good\n",
      "7935    Medium\n",
      "Name: Quality, Length: 7841, dtype: category\n",
      "Categories (4, object): ['Poor' < 'Medium' < 'Good' < 'Excellent']\n",
      "Medium       3680\n",
      "Good         3409\n",
      "Poor          387\n",
      "Excellent     364\n",
      "Name: Quality, dtype: int64\n"
     ]
    }
   ],
   "source": [
    "temp = df.drop(labels =['Results'], axis = 1)\n",
    "y = df['Quality']\n",
    "print (temp)\n",
    "print(y)\n",
    "print(y.value_counts())"
   ]
  },
  {
   "cell_type": "code",
   "execution_count": 574,
   "metadata": {},
   "outputs": [
    {
     "name": "stdout",
     "output_type": "stream",
     "text": [
      "[[1.         0.0167021  0.64963504 ... 0.48467967 0.65530022 0.74285412]\n",
      " [1.         0.00576981 0.10218978 ... 0.35933148 0.65085248 0.55419185]\n",
      " [1.         0.00546614 0.12408759 ... 0.32033426 0.64714603 0.59134831]\n",
      " ...\n",
      " [0.43312102 0.00151837 0.68613139 ... 0.1086351  0.11786509 0.39040645]\n",
      " [0.07133758 0.00425144 0.60583942 ... 0.49860724 0.74054855 0.5368716 ]\n",
      " [0.         0.01852414 0.54014599 ... 0.05292479 0.57746479 0.45760215]]\n",
      "['Good', 'Good', 'Good', 'Medium', 'Medium', ..., 'Poor', 'Medium', 'Medium', 'Good', 'Medium']\n",
      "Length: 7841\n",
      "Categories (4, object): ['Poor' < 'Medium' < 'Good' < 'Excellent']\n"
     ]
    }
   ],
   "source": [
    "x = df.iloc[:,:-1].values\n",
    "print(x)\n",
    "y = df.iloc[:,11].values\n",
    "print(y)"
   ]
  },
  {
   "cell_type": "code",
   "execution_count": 575,
   "metadata": {},
   "outputs": [
    {
     "data": {
      "text/plain": [
       "((6272, 11), (1569, 11))"
      ]
     },
     "execution_count": 575,
     "metadata": {},
     "output_type": "execute_result"
    }
   ],
   "source": [
    "from sklearn.model_selection import train_test_split\n",
    "\n",
    "\n",
    "x_train, x_test, y_train, y_test = train_test_split(x, y, test_size= 0.2, random_state=2, shuffle=True)\n",
    "\n",
    "x_train.shape,x_test.shape\n",
    "\n",
    "\n"
   ]
  },
  {
   "cell_type": "code",
   "execution_count": 576,
   "metadata": {},
   "outputs": [
    {
     "name": "stdout",
     "output_type": "stream",
     "text": [
      "['Good', 'Excellent', 'Good', 'Good', 'Good', ..., 'Medium', 'Medium', 'Medium', 'Medium', 'Medium']\n",
      "Length: 1569\n",
      "Categories (4, object): ['Poor' < 'Medium' < 'Good' < 'Excellent']\n",
      "Poor          322\n",
      "Medium       2949\n",
      "Good         2721\n",
      "Excellent     279\n",
      "dtype: int64\n",
      "Poor          65\n",
      "Medium       731\n",
      "Good         688\n",
      "Excellent     85\n",
      "dtype: int64\n"
     ]
    }
   ],
   "source": [
    "print(y_test)\n",
    "print(y_train.value_counts())\n",
    "print(y_test.value_counts())"
   ]
  },
  {
   "cell_type": "code",
   "execution_count": 577,
   "metadata": {},
   "outputs": [
    {
     "name": "stdout",
     "output_type": "stream",
     "text": [
      "['Good', 'Good', 'Medium', 'Medium', 'Medium', ..., 'Good', 'Good', 'Good', 'Good', 'Good']\n",
      "Length: 6272\n",
      "Categories (4, object): ['Poor' < 'Medium' < 'Good' < 'Excellent']\n"
     ]
    }
   ],
   "source": [
    "print (y_train)"
   ]
  },
  {
   "cell_type": "code",
   "execution_count": 578,
   "metadata": {},
   "outputs": [
    {
     "data": {
      "text/plain": [
       "((6272, 11), (1569, 11))"
      ]
     },
     "execution_count": 578,
     "metadata": {},
     "output_type": "execute_result"
    }
   ],
   "source": [
    "\n",
    "x_train.shape,x_test.shape"
   ]
  },
  {
   "cell_type": "code",
   "execution_count": 579,
   "metadata": {},
   "outputs": [
    {
     "data": {
      "text/plain": [
       "((6272,), (1569,))"
      ]
     },
     "execution_count": 579,
     "metadata": {},
     "output_type": "execute_result"
    }
   ],
   "source": [
    "\n",
    "y_train.shape,y_test.shape"
   ]
  },
  {
   "cell_type": "code",
   "execution_count": 580,
   "metadata": {},
   "outputs": [
    {
     "data": {
      "text/html": [
       "<style>#sk-container-id-21 {color: black;background-color: white;}#sk-container-id-21 pre{padding: 0;}#sk-container-id-21 div.sk-toggleable {background-color: white;}#sk-container-id-21 label.sk-toggleable__label {cursor: pointer;display: block;width: 100%;margin-bottom: 0;padding: 0.3em;box-sizing: border-box;text-align: center;}#sk-container-id-21 label.sk-toggleable__label-arrow:before {content: \"▸\";float: left;margin-right: 0.25em;color: #696969;}#sk-container-id-21 label.sk-toggleable__label-arrow:hover:before {color: black;}#sk-container-id-21 div.sk-estimator:hover label.sk-toggleable__label-arrow:before {color: black;}#sk-container-id-21 div.sk-toggleable__content {max-height: 0;max-width: 0;overflow: hidden;text-align: left;background-color: #f0f8ff;}#sk-container-id-21 div.sk-toggleable__content pre {margin: 0.2em;color: black;border-radius: 0.25em;background-color: #f0f8ff;}#sk-container-id-21 input.sk-toggleable__control:checked~div.sk-toggleable__content {max-height: 200px;max-width: 100%;overflow: auto;}#sk-container-id-21 input.sk-toggleable__control:checked~label.sk-toggleable__label-arrow:before {content: \"▾\";}#sk-container-id-21 div.sk-estimator input.sk-toggleable__control:checked~label.sk-toggleable__label {background-color: #d4ebff;}#sk-container-id-21 div.sk-label input.sk-toggleable__control:checked~label.sk-toggleable__label {background-color: #d4ebff;}#sk-container-id-21 input.sk-hidden--visually {border: 0;clip: rect(1px 1px 1px 1px);clip: rect(1px, 1px, 1px, 1px);height: 1px;margin: -1px;overflow: hidden;padding: 0;position: absolute;width: 1px;}#sk-container-id-21 div.sk-estimator {font-family: monospace;background-color: #f0f8ff;border: 1px dotted black;border-radius: 0.25em;box-sizing: border-box;margin-bottom: 0.5em;}#sk-container-id-21 div.sk-estimator:hover {background-color: #d4ebff;}#sk-container-id-21 div.sk-parallel-item::after {content: \"\";width: 100%;border-bottom: 1px solid gray;flex-grow: 1;}#sk-container-id-21 div.sk-label:hover label.sk-toggleable__label {background-color: #d4ebff;}#sk-container-id-21 div.sk-serial::before {content: \"\";position: absolute;border-left: 1px solid gray;box-sizing: border-box;top: 0;bottom: 0;left: 50%;z-index: 0;}#sk-container-id-21 div.sk-serial {display: flex;flex-direction: column;align-items: center;background-color: white;padding-right: 0.2em;padding-left: 0.2em;position: relative;}#sk-container-id-21 div.sk-item {position: relative;z-index: 1;}#sk-container-id-21 div.sk-parallel {display: flex;align-items: stretch;justify-content: center;background-color: white;position: relative;}#sk-container-id-21 div.sk-item::before, #sk-container-id-21 div.sk-parallel-item::before {content: \"\";position: absolute;border-left: 1px solid gray;box-sizing: border-box;top: 0;bottom: 0;left: 50%;z-index: -1;}#sk-container-id-21 div.sk-parallel-item {display: flex;flex-direction: column;z-index: 1;position: relative;background-color: white;}#sk-container-id-21 div.sk-parallel-item:first-child::after {align-self: flex-end;width: 50%;}#sk-container-id-21 div.sk-parallel-item:last-child::after {align-self: flex-start;width: 50%;}#sk-container-id-21 div.sk-parallel-item:only-child::after {width: 0;}#sk-container-id-21 div.sk-dashed-wrapped {border: 1px dashed gray;margin: 0 0.4em 0.5em 0.4em;box-sizing: border-box;padding-bottom: 0.4em;background-color: white;}#sk-container-id-21 div.sk-label label {font-family: monospace;font-weight: bold;display: inline-block;line-height: 1.2em;}#sk-container-id-21 div.sk-label-container {text-align: center;}#sk-container-id-21 div.sk-container {/* jupyter's `normalize.less` sets `[hidden] { display: none; }` but bootstrap.min.css set `[hidden] { display: none !important; }` so we also need the `!important` here to be able to override the default hidden behavior on the sphinx rendered scikit-learn.org. See: https://github.com/scikit-learn/scikit-learn/issues/21755 */display: inline-block !important;position: relative;}#sk-container-id-21 div.sk-text-repr-fallback {display: none;}</style><div id=\"sk-container-id-21\" class=\"sk-top-container\"><div class=\"sk-text-repr-fallback\"><pre>VarianceThreshold(threshold=0)</pre><b>In a Jupyter environment, please rerun this cell to show the HTML representation or trust the notebook. <br />On GitHub, the HTML representation is unable to render, please try loading this page with nbviewer.org.</b></div><div class=\"sk-container\" hidden><div class=\"sk-item\"><div class=\"sk-estimator sk-toggleable\"><input class=\"sk-toggleable__control sk-hidden--visually\" id=\"sk-estimator-id-21\" type=\"checkbox\" checked><label for=\"sk-estimator-id-21\" class=\"sk-toggleable__label sk-toggleable__label-arrow\">VarianceThreshold</label><div class=\"sk-toggleable__content\"><pre>VarianceThreshold(threshold=0)</pre></div></div></div></div></div>"
      ],
      "text/plain": [
       "VarianceThreshold(threshold=0)"
      ]
     },
     "execution_count": 580,
     "metadata": {},
     "output_type": "execute_result"
    }
   ],
   "source": [
    "from sklearn.feature_selection import VarianceThreshold\n",
    "# Check if there are any constant features\n",
    "var_thres = VarianceThreshold(threshold=0)\n",
    "var_thres.fit(x_train)"
   ]
  },
  {
   "cell_type": "code",
   "execution_count": 581,
   "metadata": {},
   "outputs": [
    {
     "data": {
      "text/plain": [
       "11"
      ]
     },
     "execution_count": 581,
     "metadata": {},
     "output_type": "execute_result"
    }
   ],
   "source": [
    "sum(var_thres.get_support())"
   ]
  },
  {
   "cell_type": "code",
   "execution_count": 582,
   "metadata": {},
   "outputs": [
    {
     "name": "stdout",
     "output_type": "stream",
     "text": [
      "[[0.91719745 0.00546614 0.51824818 ... 0.35933148 0.39955523 0.56385733]\n",
      " [0.87388535 0.01245065 0.71532847 ... 0.24791086 0.73313566 0.92774941]\n",
      " [0.8611465  0.01457637 0.58394161 ... 0.22005571 0.40696812 0.6578596 ]\n",
      " ...\n",
      " [0.86878981 0.01214698 0.40875912 ... 0.38718663 0.36990363 0.28742935]\n",
      " [0.95286624 0.02277558 0.5620438  ... 0.13091922 0.49592291 0.46998244]\n",
      " [0.92356688 0.01488005 0.43065693 ... 0.24512535 0.43365456 0.43468172]]\n"
     ]
    }
   ],
   "source": [
    "# x_test= st_x.transform(x_test) \n",
    "print(x_test)"
   ]
  },
  {
   "cell_type": "code",
   "execution_count": 583,
   "metadata": {},
   "outputs": [
    {
     "ename": "ValueError",
     "evalue": "Input contains NaN",
     "output_type": "error",
     "traceback": [
      "\u001b[1;31m---------------------------------------------------------------------------\u001b[0m",
      "\u001b[1;31mValueError\u001b[0m                                Traceback (most recent call last)",
      "\u001b[1;32mc:\\Users\\vedan\\OneDrive\\Desktop\\soilfertility\\MPR WORKING.ipynb Cell 46\u001b[0m in \u001b[0;36m<cell line: 3>\u001b[1;34m()\u001b[0m\n\u001b[0;32m      <a href='vscode-notebook-cell:/c%3A/Users/vedan/OneDrive/Desktop/soilfertility/MPR%20WORKING.ipynb#Y163sZmlsZQ%3D%3D?line=0'>1</a>\u001b[0m \u001b[39mfrom\u001b[39;00m \u001b[39msklearn\u001b[39;00m\u001b[39m.\u001b[39;00m\u001b[39mensemble\u001b[39;00m \u001b[39mimport\u001b[39;00m RandomForestClassifier  \n\u001b[0;32m      <a href='vscode-notebook-cell:/c%3A/Users/vedan/OneDrive/Desktop/soilfertility/MPR%20WORKING.ipynb#Y163sZmlsZQ%3D%3D?line=1'>2</a>\u001b[0m classifier\u001b[39m=\u001b[39m RandomForestClassifier(max_depth\u001b[39m=\u001b[39m \u001b[39mNone\u001b[39;00m, random_state\u001b[39m=\u001b[39m\u001b[39m0\u001b[39m)  \n\u001b[1;32m----> <a href='vscode-notebook-cell:/c%3A/Users/vedan/OneDrive/Desktop/soilfertility/MPR%20WORKING.ipynb#Y163sZmlsZQ%3D%3D?line=2'>3</a>\u001b[0m classifier\u001b[39m.\u001b[39;49mfit(x_train, y_train)\n",
      "File \u001b[1;32mc:\\Users\\vedan\\AppData\\Local\\Programs\\Python\\Python39\\lib\\site-packages\\sklearn\\ensemble\\_forest.py:345\u001b[0m, in \u001b[0;36mBaseForest.fit\u001b[1;34m(self, X, y, sample_weight)\u001b[0m\n\u001b[0;32m    343\u001b[0m \u001b[39mif\u001b[39;00m issparse(y):\n\u001b[0;32m    344\u001b[0m     \u001b[39mraise\u001b[39;00m \u001b[39mValueError\u001b[39;00m(\u001b[39m\"\u001b[39m\u001b[39msparse multilabel-indicator for y is not supported.\u001b[39m\u001b[39m\"\u001b[39m)\n\u001b[1;32m--> 345\u001b[0m X, y \u001b[39m=\u001b[39m \u001b[39mself\u001b[39;49m\u001b[39m.\u001b[39;49m_validate_data(\n\u001b[0;32m    346\u001b[0m     X, y, multi_output\u001b[39m=\u001b[39;49m\u001b[39mTrue\u001b[39;49;00m, accept_sparse\u001b[39m=\u001b[39;49m\u001b[39m\"\u001b[39;49m\u001b[39mcsc\u001b[39;49m\u001b[39m\"\u001b[39;49m, dtype\u001b[39m=\u001b[39;49mDTYPE\n\u001b[0;32m    347\u001b[0m )\n\u001b[0;32m    348\u001b[0m \u001b[39mif\u001b[39;00m sample_weight \u001b[39mis\u001b[39;00m \u001b[39mnot\u001b[39;00m \u001b[39mNone\u001b[39;00m:\n\u001b[0;32m    349\u001b[0m     sample_weight \u001b[39m=\u001b[39m _check_sample_weight(sample_weight, X)\n",
      "File \u001b[1;32mc:\\Users\\vedan\\AppData\\Local\\Programs\\Python\\Python39\\lib\\site-packages\\sklearn\\base.py:584\u001b[0m, in \u001b[0;36mBaseEstimator._validate_data\u001b[1;34m(self, X, y, reset, validate_separately, **check_params)\u001b[0m\n\u001b[0;32m    582\u001b[0m         y \u001b[39m=\u001b[39m check_array(y, input_name\u001b[39m=\u001b[39m\u001b[39m\"\u001b[39m\u001b[39my\u001b[39m\u001b[39m\"\u001b[39m, \u001b[39m*\u001b[39m\u001b[39m*\u001b[39mcheck_y_params)\n\u001b[0;32m    583\u001b[0m     \u001b[39melse\u001b[39;00m:\n\u001b[1;32m--> 584\u001b[0m         X, y \u001b[39m=\u001b[39m check_X_y(X, y, \u001b[39m*\u001b[39m\u001b[39m*\u001b[39mcheck_params)\n\u001b[0;32m    585\u001b[0m     out \u001b[39m=\u001b[39m X, y\n\u001b[0;32m    587\u001b[0m \u001b[39mif\u001b[39;00m \u001b[39mnot\u001b[39;00m no_val_X \u001b[39mand\u001b[39;00m check_params\u001b[39m.\u001b[39mget(\u001b[39m\"\u001b[39m\u001b[39mensure_2d\u001b[39m\u001b[39m\"\u001b[39m, \u001b[39mTrue\u001b[39;00m):\n",
      "File \u001b[1;32mc:\\Users\\vedan\\AppData\\Local\\Programs\\Python\\Python39\\lib\\site-packages\\sklearn\\utils\\validation.py:1122\u001b[0m, in \u001b[0;36mcheck_X_y\u001b[1;34m(X, y, accept_sparse, accept_large_sparse, dtype, order, copy, force_all_finite, ensure_2d, allow_nd, multi_output, ensure_min_samples, ensure_min_features, y_numeric, estimator)\u001b[0m\n\u001b[0;32m   1102\u001b[0m     \u001b[39mraise\u001b[39;00m \u001b[39mValueError\u001b[39;00m(\n\u001b[0;32m   1103\u001b[0m         \u001b[39mf\u001b[39m\u001b[39m\"\u001b[39m\u001b[39m{\u001b[39;00mestimator_name\u001b[39m}\u001b[39;00m\u001b[39m requires y to be passed, but the target y is None\u001b[39m\u001b[39m\"\u001b[39m\n\u001b[0;32m   1104\u001b[0m     )\n\u001b[0;32m   1106\u001b[0m X \u001b[39m=\u001b[39m check_array(\n\u001b[0;32m   1107\u001b[0m     X,\n\u001b[0;32m   1108\u001b[0m     accept_sparse\u001b[39m=\u001b[39maccept_sparse,\n\u001b[1;32m   (...)\u001b[0m\n\u001b[0;32m   1119\u001b[0m     input_name\u001b[39m=\u001b[39m\u001b[39m\"\u001b[39m\u001b[39mX\u001b[39m\u001b[39m\"\u001b[39m,\n\u001b[0;32m   1120\u001b[0m )\n\u001b[1;32m-> 1122\u001b[0m y \u001b[39m=\u001b[39m _check_y(y, multi_output\u001b[39m=\u001b[39;49mmulti_output, y_numeric\u001b[39m=\u001b[39;49my_numeric, estimator\u001b[39m=\u001b[39;49mestimator)\n\u001b[0;32m   1124\u001b[0m check_consistent_length(X, y)\n\u001b[0;32m   1126\u001b[0m \u001b[39mreturn\u001b[39;00m X, y\n",
      "File \u001b[1;32mc:\\Users\\vedan\\AppData\\Local\\Programs\\Python\\Python39\\lib\\site-packages\\sklearn\\utils\\validation.py:1132\u001b[0m, in \u001b[0;36m_check_y\u001b[1;34m(y, multi_output, y_numeric, estimator)\u001b[0m\n\u001b[0;32m   1130\u001b[0m \u001b[39m\"\"\"Isolated part of check_X_y dedicated to y validation\"\"\"\u001b[39;00m\n\u001b[0;32m   1131\u001b[0m \u001b[39mif\u001b[39;00m multi_output:\n\u001b[1;32m-> 1132\u001b[0m     y \u001b[39m=\u001b[39m check_array(\n\u001b[0;32m   1133\u001b[0m         y,\n\u001b[0;32m   1134\u001b[0m         accept_sparse\u001b[39m=\u001b[39;49m\u001b[39m\"\u001b[39;49m\u001b[39mcsr\u001b[39;49m\u001b[39m\"\u001b[39;49m,\n\u001b[0;32m   1135\u001b[0m         force_all_finite\u001b[39m=\u001b[39;49m\u001b[39mTrue\u001b[39;49;00m,\n\u001b[0;32m   1136\u001b[0m         ensure_2d\u001b[39m=\u001b[39;49m\u001b[39mFalse\u001b[39;49;00m,\n\u001b[0;32m   1137\u001b[0m         dtype\u001b[39m=\u001b[39;49m\u001b[39mNone\u001b[39;49;00m,\n\u001b[0;32m   1138\u001b[0m         input_name\u001b[39m=\u001b[39;49m\u001b[39m\"\u001b[39;49m\u001b[39my\u001b[39;49m\u001b[39m\"\u001b[39;49m,\n\u001b[0;32m   1139\u001b[0m         estimator\u001b[39m=\u001b[39;49mestimator,\n\u001b[0;32m   1140\u001b[0m     )\n\u001b[0;32m   1141\u001b[0m \u001b[39melse\u001b[39;00m:\n\u001b[0;32m   1142\u001b[0m     estimator_name \u001b[39m=\u001b[39m _check_estimator_name(estimator)\n",
      "File \u001b[1;32mc:\\Users\\vedan\\AppData\\Local\\Programs\\Python\\Python39\\lib\\site-packages\\sklearn\\utils\\validation.py:921\u001b[0m, in \u001b[0;36mcheck_array\u001b[1;34m(array, accept_sparse, accept_large_sparse, dtype, order, copy, force_all_finite, ensure_2d, allow_nd, ensure_min_samples, ensure_min_features, estimator, input_name)\u001b[0m\n\u001b[0;32m    915\u001b[0m         \u001b[39mraise\u001b[39;00m \u001b[39mValueError\u001b[39;00m(\n\u001b[0;32m    916\u001b[0m             \u001b[39m\"\u001b[39m\u001b[39mFound array with dim \u001b[39m\u001b[39m%d\u001b[39;00m\u001b[39m. \u001b[39m\u001b[39m%s\u001b[39;00m\u001b[39m expected <= 2.\u001b[39m\u001b[39m\"\u001b[39m\n\u001b[0;32m    917\u001b[0m             \u001b[39m%\u001b[39m (array\u001b[39m.\u001b[39mndim, estimator_name)\n\u001b[0;32m    918\u001b[0m         )\n\u001b[0;32m    920\u001b[0m     \u001b[39mif\u001b[39;00m force_all_finite:\n\u001b[1;32m--> 921\u001b[0m         _assert_all_finite(\n\u001b[0;32m    922\u001b[0m             array,\n\u001b[0;32m    923\u001b[0m             input_name\u001b[39m=\u001b[39;49minput_name,\n\u001b[0;32m    924\u001b[0m             estimator_name\u001b[39m=\u001b[39;49mestimator_name,\n\u001b[0;32m    925\u001b[0m             allow_nan\u001b[39m=\u001b[39;49mforce_all_finite \u001b[39m==\u001b[39;49m \u001b[39m\"\u001b[39;49m\u001b[39mallow-nan\u001b[39;49m\u001b[39m\"\u001b[39;49m,\n\u001b[0;32m    926\u001b[0m         )\n\u001b[0;32m    928\u001b[0m \u001b[39mif\u001b[39;00m ensure_min_samples \u001b[39m>\u001b[39m \u001b[39m0\u001b[39m:\n\u001b[0;32m    929\u001b[0m     n_samples \u001b[39m=\u001b[39m _num_samples(array)\n",
      "File \u001b[1;32mc:\\Users\\vedan\\AppData\\Local\\Programs\\Python\\Python39\\lib\\site-packages\\sklearn\\utils\\validation.py:111\u001b[0m, in \u001b[0;36m_assert_all_finite\u001b[1;34m(X, allow_nan, msg_dtype, estimator_name, input_name)\u001b[0m\n\u001b[0;32m    109\u001b[0m \u001b[39mif\u001b[39;00m X\u001b[39m.\u001b[39mdtype \u001b[39m==\u001b[39m np\u001b[39m.\u001b[39mdtype(\u001b[39m\"\u001b[39m\u001b[39mobject\u001b[39m\u001b[39m\"\u001b[39m) \u001b[39mand\u001b[39;00m \u001b[39mnot\u001b[39;00m allow_nan:\n\u001b[0;32m    110\u001b[0m     \u001b[39mif\u001b[39;00m _object_dtype_isnan(X)\u001b[39m.\u001b[39many():\n\u001b[1;32m--> 111\u001b[0m         \u001b[39mraise\u001b[39;00m \u001b[39mValueError\u001b[39;00m(\u001b[39m\"\u001b[39m\u001b[39mInput contains NaN\u001b[39m\u001b[39m\"\u001b[39m)\n\u001b[0;32m    113\u001b[0m \u001b[39m# We need only consider float arrays, hence can early return for all else.\u001b[39;00m\n\u001b[0;32m    114\u001b[0m \u001b[39mif\u001b[39;00m X\u001b[39m.\u001b[39mdtype\u001b[39m.\u001b[39mkind \u001b[39mnot\u001b[39;00m \u001b[39min\u001b[39;00m \u001b[39m\"\u001b[39m\u001b[39mfc\u001b[39m\u001b[39m\"\u001b[39m:\n",
      "\u001b[1;31mValueError\u001b[0m: Input contains NaN"
     ]
    }
   ],
   "source": [
    "from sklearn.ensemble import RandomForestClassifier  \n",
    "classifier= RandomForestClassifier(max_depth= None, random_state=0)  \n",
    "classifier.fit(x_train, y_train)"
   ]
  },
  {
   "cell_type": "code",
   "execution_count": null,
   "metadata": {},
   "outputs": [],
   "source": [
    "y_pred= classifier.predict(x_test)\n",
    "print(y_pred)"
   ]
  },
  {
   "cell_type": "code",
   "execution_count": null,
   "metadata": {},
   "outputs": [],
   "source": [
    "#Creating the Confusion matrix  \n",
    "from sklearn.metrics import confusion_matrix  \n",
    "cm= confusion_matrix(y_test, y_pred) "
   ]
  },
  {
   "cell_type": "code",
   "execution_count": null,
   "metadata": {},
   "outputs": [],
   "source": [
    "print(cm)"
   ]
  },
  {
   "cell_type": "code",
   "execution_count": null,
   "metadata": {},
   "outputs": [],
   "source": [
    "from sklearn import metrics\n",
    "\n",
    "cm = metrics.confusion_matrix(y_test, y_pred)\n",
    "\n",
    "cm_display = metrics.ConfusionMatrixDisplay(confusion_matrix = cm, display_labels = ['Excellent','Good','Medium','Poor'])\n",
    "\n",
    "cm_display.plot()\n",
    "plt.show()\n",
    "\n",
    "# [[659  39   0   0]\n",
    "#  [ 19 673  22   0]\n",
    "#  [  0  18 329  18]\n",
    "#  [  0   1  27 305]]\n",
    "\n",
    "accuracy = metrics.accuracy_score(y_test, y_pred)\n",
    "print(\"Accuracy = \",accuracy)\n"
   ]
  },
  {
   "cell_type": "markdown",
   "metadata": {},
   "source": []
  },
  {
   "cell_type": "markdown",
   "metadata": {},
   "source": []
  }
 ],
 "metadata": {
  "kernelspec": {
   "display_name": "Python 3",
   "language": "python",
   "name": "python3"
  },
  "language_info": {
   "codemirror_mode": {
    "name": "ipython",
    "version": 3
   },
   "file_extension": ".py",
   "mimetype": "text/x-python",
   "name": "python",
   "nbconvert_exporter": "python",
   "pygments_lexer": "ipython3",
   "version": "3.9.6"
  }
 },
 "nbformat": 4,
 "nbformat_minor": 2
}
