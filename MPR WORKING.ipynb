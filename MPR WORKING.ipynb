{
 "cells": [
  {
   "cell_type": "code",
   "execution_count": null,
   "metadata": {},
   "outputs": [],
   "source": [
    "import numpy as np\n",
    "import matplotlib.pyplot as plt\n",
    "import pandas as pd"
   ]
  },
  {
   "cell_type": "code",
   "execution_count": null,
   "metadata": {},
   "outputs": [],
   "source": [
    "df = pd.read_csv('soil_fertility.csv')"
   ]
  },
  {
   "cell_type": "code",
   "execution_count": null,
   "metadata": {},
   "outputs": [],
   "source": [
    "df.head()"
   ]
  },
  {
   "cell_type": "code",
   "execution_count": null,
   "metadata": {},
   "outputs": [],
   "source": [
    "threshold = 0.71\n",
    "\n",
    "deli = np.where(df[\"EC\"]>threshold)\n",
    "df.drop(deli[0],inplace = True)\n",
    "\n",
    "# noisy_data = df[df[\"POTASH\"] > threshold]\n",
    "\n",
    "# mean = df[\"POTASH\"].mean()\n",
    "# df.loc[df[\"POTASH\"] > threshold, \"POTASH\"] = mean\n",
    "\n",
    "print(df)"
   ]
  },
  {
   "cell_type": "code",
   "execution_count": null,
   "metadata": {},
   "outputs": [],
   "source": [
    "df.reset_index(inplace=True, drop=True)"
   ]
  },
  {
   "cell_type": "code",
   "execution_count": null,
   "metadata": {},
   "outputs": [],
   "source": [
    "threshold = 0.76\n",
    "\n",
    "deli = np.where(df[\"Organinc Carbon\"]>threshold)\n",
    "df.drop(deli[0],inplace = True)\n",
    "\n",
    "print(df)"
   ]
  },
  {
   "cell_type": "code",
   "execution_count": null,
   "metadata": {},
   "outputs": [],
   "source": [
    "df.reset_index(inplace=True, drop=True)\n",
    "threshold = 27.8\n",
    "\n",
    "deli = np.where(df[\"PHOSPHOROUS\"]>threshold)\n",
    "df.drop(deli[0],inplace = True)\n",
    "\n",
    "print(df)"
   ]
  },
  {
   "cell_type": "code",
   "execution_count": null,
   "metadata": {},
   "outputs": [],
   "source": [
    "df.reset_index(inplace=True, drop=True)\n",
    "threshold = 547\n",
    "\n",
    "deli = np.where(df[\"POTASH\"]>threshold)\n",
    "df.drop(deli[0],inplace = True)\n",
    "\n",
    "print(df)"
   ]
  },
  {
   "cell_type": "code",
   "execution_count": null,
   "metadata": {},
   "outputs": [],
   "source": [
    "df.reset_index(inplace=True, drop=True)\n",
    "threshold = 8.5\n",
    "\n",
    "deli = np.where(df[\"CALCIUM_CARBONATE\"]>threshold)\n",
    "df.drop(deli[0],inplace = True)\n",
    "\n",
    "print(df)"
   ]
  },
  {
   "cell_type": "code",
   "execution_count": null,
   "metadata": {},
   "outputs": [],
   "source": [
    "df.reset_index(inplace=True, drop=True)\n",
    "threshold = 12\n",
    "\n",
    "deli = np.where(df[\"FERROUS\"]>threshold)\n",
    "df.drop(deli[0],inplace = True)\n",
    "\n",
    "print(df)"
   ]
  },
  {
   "cell_type": "code",
   "execution_count": null,
   "metadata": {},
   "outputs": [],
   "source": [
    "df.reset_index(inplace=True, drop=True)\n",
    "threshold = 17.5\n",
    "\n",
    "deli = np.where(df[\"MANAGESE\"]>threshold)\n",
    "df.drop(deli[0],inplace = True)\n",
    "\n",
    "print(df)"
   ]
  },
  {
   "cell_type": "code",
   "execution_count": null,
   "metadata": {},
   "outputs": [],
   "source": [
    "df.reset_index(inplace=True, drop=True)\n",
    "threshold = 1.54\n",
    "\n",
    "deli = np.where(df[\"ZINK\"]>threshold)\n",
    "df.drop(deli[0],inplace = True)\n",
    "\n",
    "print(df)"
   ]
  },
  {
   "cell_type": "code",
   "execution_count": null,
   "metadata": {},
   "outputs": [],
   "source": [
    "df.reset_index(inplace=True, drop=True)\n",
    "threshold = 6\n",
    "\n",
    "deli = np.where(df[\"COPPER\"]>threshold)\n",
    "df.drop(deli[0],inplace = True)\n",
    "\n",
    "print(df)"
   ]
  },
  {
   "cell_type": "code",
   "execution_count": null,
   "metadata": {},
   "outputs": [],
   "source": [
    "from sklearn.preprocessing import MinMaxScaler\n",
    "cols_to_normalize = ['PH','Organinc Carbon','PHOSPHOROUS','POTASH','CALCIUM_CARBONATE','FERROUS','MANAGESE','ZINK','COPPER','EC']\n",
    "scaler = MinMaxScaler()\n",
    "df[cols_to_normalize] = scaler.fit_transform(df[cols_to_normalize])\n",
    "\n",
    "print(df)"
   ]
  },
  {
   "cell_type": "code",
   "execution_count": null,
   "metadata": {},
   "outputs": [],
   "source": []
  },
  {
   "cell_type": "code",
   "execution_count": null,
   "metadata": {},
   "outputs": [],
   "source": [
    "import numpy as np\n",
    "\n",
    "criteria = [\"PH\", \"EC\", \"Organinc Carbon\", \"PHOSPHOROUS\", \"POTASH\", \"CALCIUM_CARBONATE\", \"FERROUS\", \"MANAGESE\", \"ZINK\", \"COPPER\"]\n",
    "n = len(criteria)\n",
    "\n",
    "# Initialize an n x n matrix with ones\n",
    "matrix = np.ones((n, n))\n",
    "\n",
    "# Loop through each pair of criteria and prompt the user for a comparison value\n",
    "for i in range(n):\n",
    "    for j in range(i+1, n):\n",
    "        comparison = float(input(f\"How important is {criteria[i]} compared to {criteria[j]}? (Enter a value between 1 and 9): \"))\n",
    "        matrix[i, j] = comparison\n",
    "        matrix[j, i] = 1/comparison\n",
    "\n",
    "# Normalize the matrix by column\n",
    "sums = matrix.sum(axis=0)\n",
    "matrix = matrix / sums\n",
    "\n",
    "# Print the resulting matrix\n",
    "print(matrix)"
   ]
  },
  {
   "cell_type": "code",
   "execution_count": null,
   "metadata": {},
   "outputs": [],
   "source": [
    "# sum all columns in each row and divide by the number of criteria\n",
    "final_weights = np.sum(matrix, axis=1) / len(criteria)\n",
    "\n",
    "print(\"criteria weights: \", final_weights)"
   ]
  },
  {
   "cell_type": "code",
   "execution_count": null,
   "metadata": {},
   "outputs": [],
   "source": [
    "Sample=final_weights.sum(axis=0)\n",
    "print(Sample)"
   ]
  },
  {
   "cell_type": "code",
   "execution_count": null,
   "metadata": {},
   "outputs": [],
   "source": [
    "# Define the decision matrix using the df dataframe\n",
    "decision_matrix = df[['PH', 'EC', 'Organinc Carbon', 'PHOSPHOROUS', 'POTASH', 'CALCIUM_CARBONATE', 'FERROUS', 'MANAGESE', 'ZINK', 'COPPER']].values  # select only relevant columns\n",
    "\n",
    "# Define the weights for each criterion from AHP analysis\n",
    "weights = final_weights\n",
    "\n",
    "# Expand the weights array to have the same shape as the decision matrix\n",
    "expanded_weights = np.expand_dims(weights, axis=0)\n",
    "expanded_weights = np.repeat(expanded_weights, decision_matrix.shape[0], axis=0)\n",
    "\n",
    "# Calculate the weighted sum for each alternative\n",
    "weighted_sums = np.sum(decision_matrix * expanded_weights, axis=1)\n",
    "\n",
    "df['Results'] = weighted_sums\n",
    "print(df)\n"
   ]
  },
  {
   "cell_type": "code",
   "execution_count": null,
   "metadata": {},
   "outputs": [],
   "source": [
    "df['Quality'] = pd.cut(df.Results,bins=[0,0.25,0.5,0.75,1],labels=['Poor','Medium','Good','Excellent'])\n",
    "print(df)"
   ]
  },
  {
   "cell_type": "code",
   "execution_count": null,
   "metadata": {},
   "outputs": [],
   "source": [
    "x = df.drop(labels =['Results'], axis = 1)\n",
    "y = df['Results']\n",
    "\n",
    "print(x)\n",
    "print(y)"
   ]
  },
  {
   "cell_type": "code",
   "execution_count": null,
   "metadata": {},
   "outputs": [],
   "source": [
    "from sklearn.model_selection import train_test_split\n",
    "\n",
    "\n",
    "x_train, x_test, y_train, y_test = train_test_split(x, y, test_size= 0.2, random_state=0)\n",
    "\n",
    "x_train.shape,x_test.shape"
   ]
  },
  {
   "cell_type": "code",
   "execution_count": null,
   "metadata": {},
   "outputs": [],
   "source": [
    "from sklearn.feature_selection import VarianceThreshold"
   ]
  },
  {
   "cell_type": "code",
   "execution_count": null,
   "metadata": {},
   "outputs": [],
   "source": [
    "var_thres = VarianceThreshold(threshold=0)\n",
    "var_thres.fit(x_train)"
   ]
  }
 ],
 "metadata": {
  "kernelspec": {
   "display_name": "Python 3",
   "language": "python",
   "name": "python3"
  },
  "language_info": {
   "codemirror_mode": {
    "name": "ipython",
    "version": 3
   },
   "file_extension": ".py",
   "mimetype": "text/x-python",
   "name": "python",
   "nbconvert_exporter": "python",
   "pygments_lexer": "ipython3",
   "version": "3.9.6"
  }
 },
 "nbformat": 4,
 "nbformat_minor": 2
}
