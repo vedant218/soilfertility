{
 "cells": [
  {
   "cell_type": "code",
   "execution_count": 10,
   "metadata": {},
   "outputs": [
    {
     "name": "stdout",
     "output_type": "stream",
     "text": [
      "0            1.0\n",
      "1         4132.0\n",
      "2          243.0\n",
      "3         9137.0\n",
      "4         5294.0\n",
      "          ...   \n",
      "10573    10532.0\n",
      "10574     8815.0\n",
      "10575     6929.0\n",
      "10576     5893.0\n",
      "10577     3922.0\n",
      "Length: 10578, dtype: float64\n"
     ]
    }
   ],
   "source": [
    "import pandas as pd\n",
    "import numpy as np\n",
    "\n",
    "# Read the CSV file\n",
    "df = pd.read_csv('soil_fertility.csv')\n",
    "   \n",
    " \n",
    "# Define the criteria weights\n",
    "criteria_weights = {\n",
    "    'PH': 0.126729,\n",
    "    'EC': 0.031049,\n",
    "    'Organinc Carbon': 0.035077,\n",
    "    'PHOSPHOROUS':  0.089290,\n",
    "    'POTASH': 0.255349,\n",
    "    'CALCIUM_CARBONATE':  0.071593,\n",
    "    'FERROUS':  0.067544,\n",
    "    'MANAGESE':  0.107962,\n",
    "    'ZINK': 0.072289,\n",
    "    'COPPER':  0.143118\n",
    "}\n",
    "df = df.drop([\"SAMPLE_NO\",\"SEASON\",\"SAMPLE_DATE\",\"FARMER_ENGLISH_NAME\",\"VILLAGE_NAME_ENGLISH\",\"SURVEY_NO\",\"Unnamed: 7\"], axis=1)\n",
    "# Normalize the data\n",
    "normalized_data = df.copy()\n",
    "for criteria in criteria_weights:\n",
    "    normalized_data[criteria] = df[criteria] / np.sqrt(np.sum(df[criteria]**2))\n",
    "\n",
    "# Calculate the weighted normalized decision matrix\n",
    "weighted_normalized_data = normalized_data.copy()\n",
    "for criteria in criteria_weights:\n",
    "    weighted_normalized_data[criteria] = normalized_data[criteria] * criteria_weights[criteria]\n",
    "\n",
    "# Calculate the ideal best and ideal worst solutions\n",
    "ideal_best = weighted_normalized_data.max()\n",
    "ideal_worst = weighted_normalized_data.min()\n",
    "\n",
    "# Calculate the distance from each alternative to the ideal best and ideal worst solutions\n",
    "distance_best = np.sqrt(np.sum((weighted_normalized_data - ideal_best)**2, axis=1))\n",
    "distance_worst = np.sqrt(np.sum((weighted_normalized_data - ideal_worst)**2, axis=1))\n",
    "\n",
    "# Calculate the relative closeness to the ideal solutions\n",
    "relative_closeness = distance_worst / (distance_best + distance_worst)\n",
    "\n",
    "# Calculate the TOPSIS ranking\n",
    "topsis_ranking = pd.Series(relative_closeness.values, index=df.index).rank(ascending=False)\n",
    "\n",
    "print(topsis_ranking)"
   ]
  },
  {
   "cell_type": "code",
   "execution_count": null,
   "metadata": {},
   "outputs": [],
   "source": []
  },
  {
   "cell_type": "code",
   "execution_count": 12,
   "metadata": {},
   "outputs": [
    {
     "name": "stdout",
     "output_type": "stream",
     "text": [
      "      VILLAGE_NAME_ENGLISH    PH    EC  Organinc Carbon  PHOSPHOROUS  POTASH  \\\n",
      "0                KURUNDWAD  7.22  0.42             0.60         12.9   400.0   \n",
      "1                 ARJUNWAD  7.59  1.10             0.70         26.0   560.0   \n",
      "2                 ARJUNWAD  7.58  0.42             0.60         19.0   227.0   \n",
      "3                 ARJUNWAD  7.52  0.45             0.50          8.0   188.0   \n",
      "4                 ARJUNWAD  7.78  0.66             0.60          5.0   248.0   \n",
      "...                    ...   ...   ...              ...          ...     ...   \n",
      "10573               SHIROL  7.76  0.22             0.39         63.2   470.0   \n",
      "10574               SHIROL  7.20  0.28             0.36         93.8   717.0   \n",
      "10575          DATTANAGAR   8.08  0.38             0.72         83.2  3750.0   \n",
      "10576               SHIROL  8.08  0.30             0.87         98.5  4255.0   \n",
      "10577             ARJUNWAD  8.41  0.37             0.18         17.8   711.0   \n",
      "\n",
      "       CALCIUM_CARBONATE  FERROUS  MANAGESE  ZINK  COPPER  Total Rating Value  \n",
      "0                    5.6     14.4      38.0  0.04    2.14              481.32  \n",
      "1                    7.2     26.0      40.0  0.60    5.00              674.19  \n",
      "2                    6.8     23.0      38.0  0.40    4.00              326.80  \n",
      "3                    6.8     26.0      41.0  0.30    4.00              282.57  \n",
      "4                    7.2     25.0      33.0  0.30    4.00              331.54  \n",
      "...                  ...      ...       ...   ...     ...                 ...  \n",
      "10573                5.6     24.2      16.0  2.11   10.20              599.68  \n",
      "10574                4.4     25.2     171.8  1.80   10.00             1031.84  \n",
      "10575               11.2     31.8      15.6  1.26    9.98             3912.22  \n",
      "10576                7.2     26.5      16.9  1.64   16.40             4431.39  \n",
      "10577               14.0     20.0      14.4  0.98    9.11              796.25  \n",
      "\n",
      "[10578 rows x 12 columns]\n"
     ]
    }
   ],
   "source": [
    "from matplotlib import pyplot as plt\n",
    "\n",
    "\n",
    "data = pd.read_csv('soil_dataset.csv')\n",
    "print(data)\n"
   ]
  },
  {
   "cell_type": "code",
   "execution_count": 15,
   "metadata": {},
   "outputs": [
    {
     "name": "stdout",
     "output_type": "stream",
     "text": [
      "0.008756326895174667\n"
     ]
    }
   ],
   "source": [
    "\n",
    "print(topsis_ranking.corr(data['Total Rating Value'].rank()))"
   ]
  }
 ],
 "metadata": {
  "kernelspec": {
   "display_name": "Python 3",
   "language": "python",
   "name": "python3"
  },
  "language_info": {
   "codemirror_mode": {
    "name": "ipython",
    "version": 3
   },
   "file_extension": ".py",
   "mimetype": "text/x-python",
   "name": "python",
   "nbconvert_exporter": "python",
   "pygments_lexer": "ipython3",
   "version": "3.9.6"
  },
  "orig_nbformat": 4
 },
 "nbformat": 4,
 "nbformat_minor": 2
}
