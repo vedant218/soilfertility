{
 "cells": [
  {
   "cell_type": "code",
   "execution_count": 8,
   "metadata": {},
   "outputs": [
    {
     "name": "stdout",
     "output_type": "stream",
     "text": [
      "       SAMPLE_NO     SEASON SAMPLE_DATE  \\\n",
      "0          35902  2019-2020   5/15/2019   \n",
      "1          21043  2015-2016  10/12/2015   \n",
      "2          24651  2016-2017  12/22/2016   \n",
      "3          24976  2016-2017    1/3/2017   \n",
      "4          27525  2017-2018   9/18/2017   \n",
      "...          ...        ...         ...   \n",
      "10573      10038  2013-2014   4/13/2013   \n",
      "10574       9888  2012-2013    2/5/2013   \n",
      "10575      42168  2019-2020   1/27/2020   \n",
      "10576      20516  2015-2016   9/22/2015   \n",
      "10577      34414  2018-2019  11/22/2018   \n",
      "\n",
      "                                     FARMER_ENGLISH_NAME VILLAGE_NAME_ENGLISH  \\\n",
      "0            ANNASAO  ALIS  KIRTIKUMAR  GUNDAPPA .DANOLE             SHIRDHON   \n",
      "1                                   MAHAVIR  BAPU  PATIL              SHIRATI   \n",
      "2                                    ADAPPA  DADA  LADGE      CHAND-SHIRADWAD   \n",
      "3                                  GANPATI  KESHAV  MANE             JAMBHALI   \n",
      "4                                   KUMAR APPA MURCHUTTE              SHEDBAL   \n",
      "...                                                  ...                  ...   \n",
      "10573  KARYAKARI  SANCHALAK  SHRI DATTA  S.S.S.K.LTD ...               SHIROL   \n",
      "10574  KARYAKARI  SANCHALAK  SHRI DATTA  S.S.S.K.LTD ...               SHIROL   \n",
      "10575  KARYAKARI  SANCHALAK  SHRI DATTA  S.S.S.K.LTD ...               SHIROL   \n",
      "10576                            BABU  PUNAPPA  GADAKARI              SADALGA   \n",
      "10577                           PRAMILA  DILIPRAO  KAMAT          DHARANGUTTI   \n",
      "\n",
      "      SURVEY_NO    PH  Unnamed: 7    EC  Organinc Carbon  PHOSPHOROUS  POTASH  \\\n",
      "0        172/75  7.30        0.36  0.42           100.66       997.00     5.2   \n",
      "1           492  8.60         NaN  0.44             1.08        34.90   370.0   \n",
      "2         121/1  8.58         NaN  0.50             0.78        13.30   403.0   \n",
      "3           664  8.55         NaN  0.25             0.15        16.50   504.0   \n",
      "4           797  8.55         NaN  0.48             0.75         1.60   627.0   \n",
      "...         ...   ...         ...   ...              ...          ...     ...   \n",
      "10573       NaN  4.42         NaN  0.07             0.40         1.60   224.0   \n",
      "10574       NaN  4.22         NaN  0.95             0.80        12.10   493.0   \n",
      "10575    V.S.H.  4.00         NaN  0.12             0.98        38.40   582.0   \n",
      "10576     10319  1.16         NaN  0.21             0.87         2.15   269.0   \n",
      "10577       370  0.60         NaN  0.68             0.78        52.00   582.0   \n",
      "\n",
      "       CALCIUM_CARBONATE  FERROUS  MANAGESE  ZINK  COPPER  VIKOR Score  \\\n",
      "0                   10.9     6.10      0.60  4.60     NaN     0.692235   \n",
      "1                   12.0    13.30     18.50  1.60    6.30     0.768889   \n",
      "2                    9.6    93.20     12.40  1.19    7.00     0.766897   \n",
      "3                    6.0     5.50     14.30  1.33    7.88     0.767699   \n",
      "4                   15.2     6.75     16.55  1.25    4.30     0.768241   \n",
      "...                  ...      ...       ...   ...     ...          ...   \n",
      "10573                1.6     5.40     11.00  2.60    0.80     0.774905   \n",
      "10574               11.2     6.04      8.88  0.08    2.24     0.773800   \n",
      "10575                2.0     4.30     18.70  0.40    1.60     0.773378   \n",
      "10576                6.0    22.60     27.20  1.80   10.00     0.775348   \n",
      "10577                6.4     5.10      6.80  0.20    7.80     0.774610   \n",
      "\n",
      "          Rank  \n",
      "0      10578.0  \n",
      "1       5785.0  \n",
      "2       9036.0  \n",
      "3       8084.0  \n",
      "4       7129.0  \n",
      "...        ...  \n",
      "10573      5.0  \n",
      "10574     18.0  \n",
      "10575     35.0  \n",
      "10576      3.0  \n",
      "10577     10.0  \n",
      "\n",
      "[10578 rows x 19 columns]\n"
     ]
    }
   ],
   "source": [
    "import pandas as pd\n",
    "import numpy as np\n",
    "\n",
    "# Read the CSV file\n",
    "data = pd.read_csv('soil_fertility.csv')\n",
    "df = data.drop([\"SAMPLE_NO\",\"SEASON\",\"SAMPLE_DATE\",\"FARMER_ENGLISH_NAME\",\"VILLAGE_NAME_ENGLISH\",\"SURVEY_NO\",\"Unnamed: 7\"], axis=1)\n",
    "\n",
    "# Normalize the data\n",
    "def normalize(df):\n",
    "    return (df - np.min(df)) / (np.max(df) - np.min(df))\n",
    "\n",
    "normalized_data = df.apply(normalize)\n",
    "\n",
    "# Define the weights for each criterion\n",
    "weights = [0.02449432, 0.02276542, 0.18277409, 0.1549298, 0.13362141, 0.12330385, 0.07798146, 0.08390506, 0.09771749, 0.09850709]\n",
    "\n",
    "# Calculate the weighted normalized decision matrix\n",
    "weighted_normalized_matrix = normalized_data * weights\n",
    "\n",
    "# Calculate the best and worst values for each criterion\n",
    "best_values = weighted_normalized_matrix.max()\n",
    "worst_values = weighted_normalized_matrix.min()\n",
    "\n",
    "# Calculate the VIKOR scores for each alternative\n",
    "s_values = np.sqrt(np.sum((weighted_normalized_matrix - best_values) ** 2, axis=1))\n",
    "r_values = np.max(np.abs(weighted_normalized_matrix - best_values), axis=1)\n",
    "q_values = np.abs(np.abs(weighted_normalized_matrix - best_values).sum(axis=1) - s_values)\n",
    "\n",
    "vikor_scores = q_values / (q_values + r_values)\n",
    "\n",
    "# Determine the rank of each alternative based on their VIKOR scores\n",
    "rank = vikor_scores.rank(ascending=False)\n",
    "\n",
    "# Add the VIKOR scores and ranks to the original data\n",
    "data['VIKOR Score'] = vikor_scores\n",
    "data['Rank'] = rank\n",
    "\n",
    "print(data)\n",
    "# Write the output to a new CSV file\n",
    "#data.to_csv('output_file.csv', index=False)"
   ]
  },
  {
   "cell_type": "code",
   "execution_count": 9,
   "metadata": {},
   "outputs": [
    {
     "name": "stdout",
     "output_type": "stream",
     "text": [
      "      VILLAGE_NAME_ENGLISH    PH    EC  Organinc Carbon  PHOSPHOROUS  POTASH  \\\n",
      "0                KURUNDWAD  7.22  0.42             0.60         12.9   400.0   \n",
      "1                 ARJUNWAD  7.59  1.10             0.70         26.0   560.0   \n",
      "2                 ARJUNWAD  7.58  0.42             0.60         19.0   227.0   \n",
      "3                 ARJUNWAD  7.52  0.45             0.50          8.0   188.0   \n",
      "4                 ARJUNWAD  7.78  0.66             0.60          5.0   248.0   \n",
      "...                    ...   ...   ...              ...          ...     ...   \n",
      "10573               SHIROL  7.76  0.22             0.39         63.2   470.0   \n",
      "10574               SHIROL  7.20  0.28             0.36         93.8   717.0   \n",
      "10575          DATTANAGAR   8.08  0.38             0.72         83.2  3750.0   \n",
      "10576               SHIROL  8.08  0.30             0.87         98.5  4255.0   \n",
      "10577             ARJUNWAD  8.41  0.37             0.18         17.8   711.0   \n",
      "\n",
      "       CALCIUM_CARBONATE  FERROUS  MANAGESE  ZINK  COPPER  Total Rating Value  \n",
      "0                    5.6     14.4      38.0  0.04    2.14              481.32  \n",
      "1                    7.2     26.0      40.0  0.60    5.00              674.19  \n",
      "2                    6.8     23.0      38.0  0.40    4.00              326.80  \n",
      "3                    6.8     26.0      41.0  0.30    4.00              282.57  \n",
      "4                    7.2     25.0      33.0  0.30    4.00              331.54  \n",
      "...                  ...      ...       ...   ...     ...                 ...  \n",
      "10573                5.6     24.2      16.0  2.11   10.20              599.68  \n",
      "10574                4.4     25.2     171.8  1.80   10.00             1031.84  \n",
      "10575               11.2     31.8      15.6  1.26    9.98             3912.22  \n",
      "10576                7.2     26.5      16.9  1.64   16.40             4431.39  \n",
      "10577               14.0     20.0      14.4  0.98    9.11              796.25  \n",
      "\n",
      "[10578 rows x 12 columns]\n"
     ]
    }
   ],
   "source": [
    "from matplotlib import pyplot as plt\n",
    "\n",
    "\n",
    "df = pd.read_csv('soil_dataset.csv')\n",
    "print(df)\n",
    "\n",
    "\n"
   ]
  },
  {
   "cell_type": "code",
   "execution_count": 10,
   "metadata": {},
   "outputs": [
    {
     "name": "stdout",
     "output_type": "stream",
     "text": [
      "-0.055003306464317385\n"
     ]
    }
   ],
   "source": [
    "print(data['Rank'].corr(df['Total Rating Value'].rank()))"
   ]
  },
  {
   "cell_type": "code",
   "execution_count": null,
   "metadata": {},
   "outputs": [],
   "source": []
  }
 ],
 "metadata": {
  "kernelspec": {
   "display_name": "Python 3",
   "language": "python",
   "name": "python3"
  },
  "language_info": {
   "codemirror_mode": {
    "name": "ipython",
    "version": 3
   },
   "file_extension": ".py",
   "mimetype": "text/x-python",
   "name": "python",
   "nbconvert_exporter": "python",
   "pygments_lexer": "ipython3",
   "version": "3.9.6"
  },
  "orig_nbformat": 4
 },
 "nbformat": 4,
 "nbformat_minor": 2
}
