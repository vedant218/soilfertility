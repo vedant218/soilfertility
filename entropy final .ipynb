{
 "cells": [
  {
   "cell_type": "code",
   "execution_count": 2,
   "metadata": {},
   "outputs": [
    {
     "name": "stdout",
     "output_type": "stream",
     "text": [
      "Attribute Weights: \n",
      " PH                   0.126729\n",
      "EC                   0.031049\n",
      "Organinc Carbon      0.035077\n",
      "PHOSPHOROUS          0.089290\n",
      "POTASH               0.255349\n",
      "CALCIUM_CARBONATE    0.071593\n",
      "FERROUS              0.067544\n",
      "MANAGESE             0.107962\n",
      "ZINK                 0.072289\n",
      "COPPER               0.143118\n",
      "dtype: float64\n"
     ]
    },
    {
     "name": "stderr",
     "output_type": "stream",
     "text": [
      "c:\\Users\\vedan\\AppData\\Local\\Programs\\Python\\Python39\\lib\\site-packages\\pandas\\core\\internals\\blocks.py:402: RuntimeWarning: divide by zero encountered in log\n",
      "  result = func(self.values, **kwargs)\n"
     ]
    }
   ],
   "source": [
    "import pandas as pd\n",
    "import numpy as np\n",
    "\n",
    "# Load CSV data\n",
    "df = pd.read_csv(\"soil_fertility.csv\")\n",
    "data = df.drop([\"SAMPLE_NO\",\"SEASON\",\"SAMPLE_DATE\",\"FARMER_ENGLISH_NAME\",\"VILLAGE_NAME_ENGLISH\",\"SURVEY_NO\",\"Unnamed: 7\"], axis=1)\n",
    "\n",
    "\n",
    "# Calculate normalized decision matrix\n",
    "norm_data = (data - data.min()) / (data.max() - data.min())\n",
    "\n",
    "# Calculate entropy of each attribute\n",
    "h = 0.621335\n",
    "entropy= -1 * (norm_data * np.log(norm_data)).sum() * h\n",
    "\n",
    "\n",
    "# Calculate weight of each attribute\n",
    "weight = (1 - entropy) / sum(1 - entropy)\n",
    "\n",
    "# Print the final weights\n",
    "print(\"Attribute Weights: \\n\", weight)"
   ]
  }
 ],
 "metadata": {
  "kernelspec": {
   "display_name": "Python 3",
   "language": "python",
   "name": "python3"
  },
  "language_info": {
   "codemirror_mode": {
    "name": "ipython",
    "version": 3
   },
   "file_extension": ".py",
   "mimetype": "text/x-python",
   "name": "python",
   "nbconvert_exporter": "python",
   "pygments_lexer": "ipython3",
   "version": "3.9.6"
  },
  "orig_nbformat": 4
 },
 "nbformat": 4,
 "nbformat_minor": 2
}
