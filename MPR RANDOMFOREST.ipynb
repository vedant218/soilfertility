{
 "cells": [
  {
   "cell_type": "code",
   "execution_count": 284,
   "metadata": {},
   "outputs": [],
   "source": [
    "import numpy as np\n",
    "import matplotlib.pyplot as plt\n",
    "import pandas as pd"
   ]
  },
  {
   "cell_type": "code",
   "execution_count": 285,
   "metadata": {},
   "outputs": [],
   "source": [
    "df = pd.read_csv('soil_fertility.csv')"
   ]
  },
  {
   "cell_type": "code",
   "execution_count": 286,
   "metadata": {},
   "outputs": [
    {
     "data": {
      "text/html": [
       "<div>\n",
       "<style scoped>\n",
       "    .dataframe tbody tr th:only-of-type {\n",
       "        vertical-align: middle;\n",
       "    }\n",
       "\n",
       "    .dataframe tbody tr th {\n",
       "        vertical-align: top;\n",
       "    }\n",
       "\n",
       "    .dataframe thead th {\n",
       "        text-align: right;\n",
       "    }\n",
       "</style>\n",
       "<table border=\"1\" class=\"dataframe\">\n",
       "  <thead>\n",
       "    <tr style=\"text-align: right;\">\n",
       "      <th></th>\n",
       "      <th>SAMPLE_NO</th>\n",
       "      <th>SEASON</th>\n",
       "      <th>SAMPLE_DATE</th>\n",
       "      <th>FARMER_ENGLISH_NAME</th>\n",
       "      <th>VILLAGE_NAME_ENGLISH</th>\n",
       "      <th>SURVEY_NO</th>\n",
       "      <th>PH</th>\n",
       "      <th>Unnamed: 7</th>\n",
       "      <th>EC</th>\n",
       "      <th>Organinc Carbon</th>\n",
       "      <th>PHOSPHOROUS</th>\n",
       "      <th>POTASH</th>\n",
       "      <th>CALCIUM_CARBONATE</th>\n",
       "      <th>FERROUS</th>\n",
       "      <th>MANAGESE</th>\n",
       "      <th>ZINK</th>\n",
       "      <th>COPPER</th>\n",
       "    </tr>\n",
       "  </thead>\n",
       "  <tbody>\n",
       "    <tr>\n",
       "      <th>0</th>\n",
       "      <td>35902</td>\n",
       "      <td>2019-2020</td>\n",
       "      <td>5/15/2019</td>\n",
       "      <td>ANNASAO  ALIS  KIRTIKUMAR  GUNDAPPA .DANOLE</td>\n",
       "      <td>SHIRDHON</td>\n",
       "      <td>172/75</td>\n",
       "      <td>7.30</td>\n",
       "      <td>0.36</td>\n",
       "      <td>0.42</td>\n",
       "      <td>100.66</td>\n",
       "      <td>997.00</td>\n",
       "      <td>5.2</td>\n",
       "      <td>10.9</td>\n",
       "      <td>6.10</td>\n",
       "      <td>0.60</td>\n",
       "      <td>4.60</td>\n",
       "      <td>NaN</td>\n",
       "    </tr>\n",
       "    <tr>\n",
       "      <th>1</th>\n",
       "      <td>21043</td>\n",
       "      <td>2015-2016</td>\n",
       "      <td>10/12/2015</td>\n",
       "      <td>MAHAVIR  BAPU  PATIL</td>\n",
       "      <td>SHIRATI</td>\n",
       "      <td>492</td>\n",
       "      <td>8.60</td>\n",
       "      <td>NaN</td>\n",
       "      <td>0.44</td>\n",
       "      <td>1.08</td>\n",
       "      <td>34.90</td>\n",
       "      <td>370.0</td>\n",
       "      <td>12.0</td>\n",
       "      <td>13.30</td>\n",
       "      <td>18.50</td>\n",
       "      <td>1.60</td>\n",
       "      <td>6.30</td>\n",
       "    </tr>\n",
       "    <tr>\n",
       "      <th>2</th>\n",
       "      <td>24651</td>\n",
       "      <td>2016-2017</td>\n",
       "      <td>12/22/2016</td>\n",
       "      <td>ADAPPA  DADA  LADGE</td>\n",
       "      <td>CHAND-SHIRADWAD</td>\n",
       "      <td>121/1</td>\n",
       "      <td>8.58</td>\n",
       "      <td>NaN</td>\n",
       "      <td>0.50</td>\n",
       "      <td>0.78</td>\n",
       "      <td>13.30</td>\n",
       "      <td>403.0</td>\n",
       "      <td>9.6</td>\n",
       "      <td>93.20</td>\n",
       "      <td>12.40</td>\n",
       "      <td>1.19</td>\n",
       "      <td>7.00</td>\n",
       "    </tr>\n",
       "    <tr>\n",
       "      <th>3</th>\n",
       "      <td>24976</td>\n",
       "      <td>2016-2017</td>\n",
       "      <td>1/3/2017</td>\n",
       "      <td>GANPATI  KESHAV  MANE</td>\n",
       "      <td>JAMBHALI</td>\n",
       "      <td>664</td>\n",
       "      <td>8.55</td>\n",
       "      <td>NaN</td>\n",
       "      <td>0.25</td>\n",
       "      <td>0.15</td>\n",
       "      <td>16.50</td>\n",
       "      <td>504.0</td>\n",
       "      <td>6.0</td>\n",
       "      <td>5.50</td>\n",
       "      <td>14.30</td>\n",
       "      <td>1.33</td>\n",
       "      <td>7.88</td>\n",
       "    </tr>\n",
       "    <tr>\n",
       "      <th>4</th>\n",
       "      <td>27525</td>\n",
       "      <td>2017-2018</td>\n",
       "      <td>9/18/2017</td>\n",
       "      <td>KUMAR APPA MURCHUTTE</td>\n",
       "      <td>SHEDBAL</td>\n",
       "      <td>797</td>\n",
       "      <td>8.55</td>\n",
       "      <td>NaN</td>\n",
       "      <td>0.48</td>\n",
       "      <td>0.75</td>\n",
       "      <td>1.60</td>\n",
       "      <td>627.0</td>\n",
       "      <td>15.2</td>\n",
       "      <td>6.75</td>\n",
       "      <td>16.55</td>\n",
       "      <td>1.25</td>\n",
       "      <td>4.30</td>\n",
       "    </tr>\n",
       "    <tr>\n",
       "      <th>...</th>\n",
       "      <td>...</td>\n",
       "      <td>...</td>\n",
       "      <td>...</td>\n",
       "      <td>...</td>\n",
       "      <td>...</td>\n",
       "      <td>...</td>\n",
       "      <td>...</td>\n",
       "      <td>...</td>\n",
       "      <td>...</td>\n",
       "      <td>...</td>\n",
       "      <td>...</td>\n",
       "      <td>...</td>\n",
       "      <td>...</td>\n",
       "      <td>...</td>\n",
       "      <td>...</td>\n",
       "      <td>...</td>\n",
       "      <td>...</td>\n",
       "    </tr>\n",
       "    <tr>\n",
       "      <th>10573</th>\n",
       "      <td>10038</td>\n",
       "      <td>2013-2014</td>\n",
       "      <td>4/13/2013</td>\n",
       "      <td>KARYAKARI  SANCHALAK  SHRI DATTA  S.S.S.K.LTD ...</td>\n",
       "      <td>SHIROL</td>\n",
       "      <td>NaN</td>\n",
       "      <td>4.42</td>\n",
       "      <td>NaN</td>\n",
       "      <td>0.07</td>\n",
       "      <td>0.40</td>\n",
       "      <td>1.60</td>\n",
       "      <td>224.0</td>\n",
       "      <td>1.6</td>\n",
       "      <td>5.40</td>\n",
       "      <td>11.00</td>\n",
       "      <td>2.60</td>\n",
       "      <td>0.80</td>\n",
       "    </tr>\n",
       "    <tr>\n",
       "      <th>10574</th>\n",
       "      <td>9888</td>\n",
       "      <td>2012-2013</td>\n",
       "      <td>2/5/2013</td>\n",
       "      <td>KARYAKARI  SANCHALAK  SHRI DATTA  S.S.S.K.LTD ...</td>\n",
       "      <td>SHIROL</td>\n",
       "      <td>NaN</td>\n",
       "      <td>4.22</td>\n",
       "      <td>NaN</td>\n",
       "      <td>0.95</td>\n",
       "      <td>0.80</td>\n",
       "      <td>12.10</td>\n",
       "      <td>493.0</td>\n",
       "      <td>11.2</td>\n",
       "      <td>6.04</td>\n",
       "      <td>8.88</td>\n",
       "      <td>0.08</td>\n",
       "      <td>2.24</td>\n",
       "    </tr>\n",
       "    <tr>\n",
       "      <th>10575</th>\n",
       "      <td>42168</td>\n",
       "      <td>2019-2020</td>\n",
       "      <td>1/27/2020</td>\n",
       "      <td>KARYAKARI  SANCHALAK  SHRI DATTA  S.S.S.K.LTD ...</td>\n",
       "      <td>SHIROL</td>\n",
       "      <td>V.S.H.</td>\n",
       "      <td>4.00</td>\n",
       "      <td>NaN</td>\n",
       "      <td>0.12</td>\n",
       "      <td>0.98</td>\n",
       "      <td>38.40</td>\n",
       "      <td>582.0</td>\n",
       "      <td>2.0</td>\n",
       "      <td>4.30</td>\n",
       "      <td>18.70</td>\n",
       "      <td>0.40</td>\n",
       "      <td>1.60</td>\n",
       "    </tr>\n",
       "    <tr>\n",
       "      <th>10576</th>\n",
       "      <td>20516</td>\n",
       "      <td>2015-2016</td>\n",
       "      <td>9/22/2015</td>\n",
       "      <td>BABU  PUNAPPA  GADAKARI</td>\n",
       "      <td>SADALGA</td>\n",
       "      <td>10319</td>\n",
       "      <td>1.16</td>\n",
       "      <td>NaN</td>\n",
       "      <td>0.21</td>\n",
       "      <td>0.87</td>\n",
       "      <td>2.15</td>\n",
       "      <td>269.0</td>\n",
       "      <td>6.0</td>\n",
       "      <td>22.60</td>\n",
       "      <td>27.20</td>\n",
       "      <td>1.80</td>\n",
       "      <td>10.00</td>\n",
       "    </tr>\n",
       "    <tr>\n",
       "      <th>10577</th>\n",
       "      <td>34414</td>\n",
       "      <td>2018-2019</td>\n",
       "      <td>11/22/2018</td>\n",
       "      <td>PRAMILA  DILIPRAO  KAMAT</td>\n",
       "      <td>DHARANGUTTI</td>\n",
       "      <td>370</td>\n",
       "      <td>0.60</td>\n",
       "      <td>NaN</td>\n",
       "      <td>0.68</td>\n",
       "      <td>0.78</td>\n",
       "      <td>52.00</td>\n",
       "      <td>582.0</td>\n",
       "      <td>6.4</td>\n",
       "      <td>5.10</td>\n",
       "      <td>6.80</td>\n",
       "      <td>0.20</td>\n",
       "      <td>7.80</td>\n",
       "    </tr>\n",
       "  </tbody>\n",
       "</table>\n",
       "<p>10578 rows × 17 columns</p>\n",
       "</div>"
      ],
      "text/plain": [
       "       SAMPLE_NO     SEASON SAMPLE_DATE  \\\n",
       "0          35902  2019-2020   5/15/2019   \n",
       "1          21043  2015-2016  10/12/2015   \n",
       "2          24651  2016-2017  12/22/2016   \n",
       "3          24976  2016-2017    1/3/2017   \n",
       "4          27525  2017-2018   9/18/2017   \n",
       "...          ...        ...         ...   \n",
       "10573      10038  2013-2014   4/13/2013   \n",
       "10574       9888  2012-2013    2/5/2013   \n",
       "10575      42168  2019-2020   1/27/2020   \n",
       "10576      20516  2015-2016   9/22/2015   \n",
       "10577      34414  2018-2019  11/22/2018   \n",
       "\n",
       "                                     FARMER_ENGLISH_NAME VILLAGE_NAME_ENGLISH  \\\n",
       "0            ANNASAO  ALIS  KIRTIKUMAR  GUNDAPPA .DANOLE             SHIRDHON   \n",
       "1                                   MAHAVIR  BAPU  PATIL              SHIRATI   \n",
       "2                                    ADAPPA  DADA  LADGE      CHAND-SHIRADWAD   \n",
       "3                                  GANPATI  KESHAV  MANE             JAMBHALI   \n",
       "4                                   KUMAR APPA MURCHUTTE              SHEDBAL   \n",
       "...                                                  ...                  ...   \n",
       "10573  KARYAKARI  SANCHALAK  SHRI DATTA  S.S.S.K.LTD ...               SHIROL   \n",
       "10574  KARYAKARI  SANCHALAK  SHRI DATTA  S.S.S.K.LTD ...               SHIROL   \n",
       "10575  KARYAKARI  SANCHALAK  SHRI DATTA  S.S.S.K.LTD ...               SHIROL   \n",
       "10576                            BABU  PUNAPPA  GADAKARI              SADALGA   \n",
       "10577                           PRAMILA  DILIPRAO  KAMAT          DHARANGUTTI   \n",
       "\n",
       "      SURVEY_NO    PH  Unnamed: 7    EC  Organinc Carbon  PHOSPHOROUS  POTASH  \\\n",
       "0        172/75  7.30        0.36  0.42           100.66       997.00     5.2   \n",
       "1           492  8.60         NaN  0.44             1.08        34.90   370.0   \n",
       "2         121/1  8.58         NaN  0.50             0.78        13.30   403.0   \n",
       "3           664  8.55         NaN  0.25             0.15        16.50   504.0   \n",
       "4           797  8.55         NaN  0.48             0.75         1.60   627.0   \n",
       "...         ...   ...         ...   ...              ...          ...     ...   \n",
       "10573       NaN  4.42         NaN  0.07             0.40         1.60   224.0   \n",
       "10574       NaN  4.22         NaN  0.95             0.80        12.10   493.0   \n",
       "10575    V.S.H.  4.00         NaN  0.12             0.98        38.40   582.0   \n",
       "10576     10319  1.16         NaN  0.21             0.87         2.15   269.0   \n",
       "10577       370  0.60         NaN  0.68             0.78        52.00   582.0   \n",
       "\n",
       "       CALCIUM_CARBONATE  FERROUS  MANAGESE  ZINK  COPPER  \n",
       "0                   10.9     6.10      0.60  4.60     NaN  \n",
       "1                   12.0    13.30     18.50  1.60    6.30  \n",
       "2                    9.6    93.20     12.40  1.19    7.00  \n",
       "3                    6.0     5.50     14.30  1.33    7.88  \n",
       "4                   15.2     6.75     16.55  1.25    4.30  \n",
       "...                  ...      ...       ...   ...     ...  \n",
       "10573                1.6     5.40     11.00  2.60    0.80  \n",
       "10574               11.2     6.04      8.88  0.08    2.24  \n",
       "10575                2.0     4.30     18.70  0.40    1.60  \n",
       "10576                6.0    22.60     27.20  1.80   10.00  \n",
       "10577                6.4     5.10      6.80  0.20    7.80  \n",
       "\n",
       "[10578 rows x 17 columns]"
      ]
     },
     "execution_count": 286,
     "metadata": {},
     "output_type": "execute_result"
    }
   ],
   "source": [
    "df\n"
   ]
  },
  {
   "cell_type": "code",
   "execution_count": 287,
   "metadata": {},
   "outputs": [
    {
     "data": {
      "text/plain": [
       "<AxesSubplot:>"
      ]
     },
     "execution_count": 287,
     "metadata": {},
     "output_type": "execute_result"
    },
    {
     "data": {
      "image/png": "[encoded data removed]",
      "text/plain": [
       "<Figure size 432x288 with 1 Axes>"
      ]
     },
     "metadata": {
      "needs_background": "light"
     },
     "output_type": "display_data"
    }
   ],
   "source": [
    "import seaborn as sns\n",
    "import matplotlib.pyplot as plt\n",
    "\n",
    "\n",
    "sns.boxplot(df['PH'] )"
   ]
  },
  {
   "cell_type": "code",
   "execution_count": 288,
   "metadata": {},
   "outputs": [
    {
     "data": {
      "text/plain": [
       "<AxesSubplot:>"
      ]
     },
     "execution_count": 288,
     "metadata": {},
     "output_type": "execute_result"
    },
    {
     "data": {
      "image/png": "[encoded data removed]",
      "text/plain": [
       "<Figure size 432x288 with 1 Axes>"
      ]
     },
     "metadata": {
      "needs_background": "light"
     },
     "output_type": "display_data"
    }
   ],
   "source": [
    "import seaborn as sns\n",
    "import matplotlib.pyplot as plt\n",
    "\n",
    "# plt.ylim(0,2)\n",
    "sns.boxplot(df['EC'] )"
   ]
  },
  {
   "cell_type": "code",
   "execution_count": 289,
   "metadata": {},
   "outputs": [
    {
     "name": "stdout",
     "output_type": "stream",
     "text": [
      "       SAMPLE_NO     SEASON SAMPLE_DATE  \\\n",
      "0          35902  2019-2020   5/15/2019   \n",
      "23         26251  2017-2018   7/25/2017   \n",
      "24         24606  2016-2017  12/22/2016   \n",
      "25         24605  2016-2017  12/22/2016   \n",
      "26         24693  2016-2017  12/22/2016   \n",
      "...          ...        ...         ...   \n",
      "10573      10038  2013-2014   4/13/2013   \n",
      "10574       9888  2012-2013    2/5/2013   \n",
      "10575      42168  2019-2020   1/27/2020   \n",
      "10576      20516  2015-2016   9/22/2015   \n",
      "10577      34414  2018-2019  11/22/2018   \n",
      "\n",
      "                                     FARMER_ENGLISH_NAME VILLAGE_NAME_ENGLISH  \\\n",
      "0            ANNASAO  ALIS  KIRTIKUMAR  GUNDAPPA .DANOLE             SHIRDHON   \n",
      "23              VARDHAMAN  VIJAYKUMAR  PAYGOUDAR (PATIL)              SHEDBAL   \n",
      "24                                 SADASHIV KRUSHNA MALI               SHIROL   \n",
      "25                               SONABAI  SUBHASH JADHAV               SHIROL   \n",
      "26                                 PANDIT  NARAYAN  KALE               SHIROL   \n",
      "...                                                  ...                  ...   \n",
      "10573  KARYAKARI  SANCHALAK  SHRI DATTA  S.S.S.K.LTD ...               SHIROL   \n",
      "10574  KARYAKARI  SANCHALAK  SHRI DATTA  S.S.S.K.LTD ...               SHIROL   \n",
      "10575  KARYAKARI  SANCHALAK  SHRI DATTA  S.S.S.K.LTD ...               SHIROL   \n",
      "10576                            BABU  PUNAPPA  GADAKARI              SADALGA   \n",
      "10577                           PRAMILA  DILIPRAO  KAMAT          DHARANGUTTI   \n",
      "\n",
      "      SURVEY_NO    PH  Unnamed: 7    EC  Organinc Carbon  PHOSPHOROUS  POTASH  \\\n",
      "0        172/75  7.30        0.36  0.42           100.66       997.00     5.2   \n",
      "23          375  8.45         NaN  0.62             0.93         2.90   470.0   \n",
      "24          845  8.45         NaN  0.26             0.18        25.80  1030.0   \n",
      "25          114  8.45         NaN  0.25             0.21        23.30  1120.0   \n",
      "26         2392  8.45         NaN  0.35             0.42         4.50   358.0   \n",
      "...         ...   ...         ...   ...              ...          ...     ...   \n",
      "10573       NaN  4.42         NaN  0.07             0.40         1.60   224.0   \n",
      "10574       NaN  4.22         NaN  0.95             0.80        12.10   493.0   \n",
      "10575    V.S.H.  4.00         NaN  0.12             0.98        38.40   582.0   \n",
      "10576     10319  1.16         NaN  0.21             0.87         2.15   269.0   \n",
      "10577       370  0.60         NaN  0.68             0.78        52.00   582.0   \n",
      "\n",
      "       CALCIUM_CARBONATE  FERROUS  MANAGESE  ZINK  COPPER  \n",
      "0                   10.9     6.10      0.60  4.60     NaN  \n",
      "23                  17.6     6.66     39.40  1.75    8.85  \n",
      "24                  10.4    15.00      8.10  1.30    8.79  \n",
      "25                  11.6    15.70      9.34  1.16    8.74  \n",
      "26                  10.4    20.20     12.40  0.11    6.25  \n",
      "...                  ...      ...       ...   ...     ...  \n",
      "10573                1.6     5.40     11.00  2.60    0.80  \n",
      "10574               11.2     6.04      8.88  0.08    2.24  \n",
      "10575                2.0     4.30     18.70  0.40    1.60  \n",
      "10576                6.0    22.60     27.20  1.80   10.00  \n",
      "10577                6.4     5.10      6.80  0.20    7.80  \n",
      "\n",
      "[10324 rows x 17 columns]\n"
     ]
    }
   ],
   "source": [
    "threshold = 8.475\n",
    "deli = np.where(df[\"PH\"]>threshold)\n",
    "df.drop(deli[0],inplace = True)\n",
    "\n",
    "t2 = 6.595\n",
    "delo = np.where(df[\"PH\"] < t2)\n",
    "df.drop(delo[0],inplace = True)\n",
    "\n",
    "# noisy_data = df[df[\"POTASH\"] > threshold]\n",
    "\n",
    "# mean = df[\"POTASH\"].mean()\n",
    "# df.loc[df[\"POTASH\"] > threshold, \"POTASH\"] = mean\n",
    "\n",
    "print(df)"
   ]
  },
  {
   "cell_type": "code",
   "execution_count": 290,
   "metadata": {},
   "outputs": [
    {
     "name": "stdout",
     "output_type": "stream",
     "text": [
      "       SAMPLE_NO     SEASON SAMPLE_DATE  \\\n",
      "0          35902  2019-2020   5/15/2019   \n",
      "23         26251  2017-2018   7/25/2017   \n",
      "24         24606  2016-2017  12/22/2016   \n",
      "25         24605  2016-2017  12/22/2016   \n",
      "26         24693  2016-2017  12/22/2016   \n",
      "...          ...        ...         ...   \n",
      "10573      10038  2013-2014   4/13/2013   \n",
      "10574       9888  2012-2013    2/5/2013   \n",
      "10575      42168  2019-2020   1/27/2020   \n",
      "10576      20516  2015-2016   9/22/2015   \n",
      "10577      34414  2018-2019  11/22/2018   \n",
      "\n",
      "                                     FARMER_ENGLISH_NAME VILLAGE_NAME_ENGLISH  \\\n",
      "0            ANNASAO  ALIS  KIRTIKUMAR  GUNDAPPA .DANOLE             SHIRDHON   \n",
      "23              VARDHAMAN  VIJAYKUMAR  PAYGOUDAR (PATIL)              SHEDBAL   \n",
      "24                                 SADASHIV KRUSHNA MALI               SHIROL   \n",
      "25                               SONABAI  SUBHASH JADHAV               SHIROL   \n",
      "26                                 PANDIT  NARAYAN  KALE               SHIROL   \n",
      "...                                                  ...                  ...   \n",
      "10573  KARYAKARI  SANCHALAK  SHRI DATTA  S.S.S.K.LTD ...               SHIROL   \n",
      "10574  KARYAKARI  SANCHALAK  SHRI DATTA  S.S.S.K.LTD ...               SHIROL   \n",
      "10575  KARYAKARI  SANCHALAK  SHRI DATTA  S.S.S.K.LTD ...               SHIROL   \n",
      "10576                            BABU  PUNAPPA  GADAKARI              SADALGA   \n",
      "10577                           PRAMILA  DILIPRAO  KAMAT          DHARANGUTTI   \n",
      "\n",
      "      SURVEY_NO    PH  Unnamed: 7    EC  Organinc Carbon  PHOSPHOROUS  POTASH  \\\n",
      "0        172/75  7.30        0.36  0.42           100.66       997.00     5.2   \n",
      "23          375  8.45         NaN  0.62             0.93         2.90   470.0   \n",
      "24          845  8.45         NaN  0.26             0.18        25.80  1030.0   \n",
      "25          114  8.45         NaN  0.25             0.21        23.30  1120.0   \n",
      "26         2392  8.45         NaN  0.35             0.42         4.50   358.0   \n",
      "...         ...   ...         ...   ...              ...          ...     ...   \n",
      "10573       NaN  4.42         NaN  0.07             0.40         1.60   224.0   \n",
      "10574       NaN  4.22         NaN  0.95             0.80        12.10   493.0   \n",
      "10575    V.S.H.  4.00         NaN  0.12             0.98        38.40   582.0   \n",
      "10576     10319  1.16         NaN  0.21             0.87         2.15   269.0   \n",
      "10577       370  0.60         NaN  0.68             0.78        52.00   582.0   \n",
      "\n",
      "       CALCIUM_CARBONATE  FERROUS  MANAGESE  ZINK  COPPER  \n",
      "0                   10.9     6.10      0.60  4.60     NaN  \n",
      "23                  17.6     6.66     39.40  1.75    8.85  \n",
      "24                  10.4    15.00      8.10  1.30    8.79  \n",
      "25                  11.6    15.70      9.34  1.16    8.74  \n",
      "26                  10.4    20.20     12.40  0.11    6.25  \n",
      "...                  ...      ...       ...   ...     ...  \n",
      "10573                1.6     5.40     11.00  2.60    0.80  \n",
      "10574               11.2     6.04      8.88  0.08    2.24  \n",
      "10575                2.0     4.30     18.70  0.40    1.60  \n",
      "10576                6.0    22.60     27.20  1.80   10.00  \n",
      "10577                6.4     5.10      6.80  0.20    7.80  \n",
      "\n",
      "[9599 rows x 17 columns]\n"
     ]
    }
   ],
   "source": [
    "threshold = 1.25\n",
    "deli = np.where(df[\"EC\"]>threshold)\n",
    "df.drop(deli[0],inplace = True)\n",
    "\n",
    "t2 = 0\n",
    "delo = np.where(df[\"EC\"] < t2)\n",
    "df.drop(delo[0],inplace = True)\n",
    "\n",
    "# noisy_data = df[df[\"POTASH\"] > threshold]\n",
    "\n",
    "# mean = df[\"POTASH\"].mean()\n",
    "# df.loc[df[\"POTASH\"] > threshold, \"POTASH\"] = mean\n",
    "\n",
    "print(df)"
   ]
  },
  {
   "cell_type": "code",
   "execution_count": 291,
   "metadata": {},
   "outputs": [],
   "source": [
    "df.reset_index(inplace=True, drop=True)"
   ]
  },
  {
   "cell_type": "code",
   "execution_count": 292,
   "metadata": {},
   "outputs": [
    {
     "data": {
      "text/plain": [
       "<AxesSubplot:>"
      ]
     },
     "execution_count": 292,
     "metadata": {},
     "output_type": "execute_result"
    },
    {
     "data": {
      "image/png": "[encoded data removed]",
      "text/plain": [
       "<Figure size 432x288 with 1 Axes>"
      ]
     },
     "metadata": {
      "needs_background": "light"
     },
     "output_type": "display_data"
    }
   ],
   "source": [
    "plt.ylim(0,2)\n",
    "sns.boxplot(df['Organinc Carbon'])"
   ]
  },
  {
   "cell_type": "code",
   "execution_count": 293,
   "metadata": {},
   "outputs": [],
   "source": [
    "df.reset_index(inplace=True, drop=True)\n",
    "threshold = 1.425\n",
    "\n",
    "deli = np.where(df[\"Organinc Carbon\"]>threshold)\n",
    "df.drop(deli[0],inplace = True)\n",
    "\n",
    "t2 = 0.105\n",
    "delo = np.where(df[\"Organinc Carbon\"] < t2)\n",
    "df.drop(delo[0],inplace = True)\n",
    "\n",
    "\n",
    "# print(df)"
   ]
  },
  {
   "cell_type": "code",
   "execution_count": 294,
   "metadata": {},
   "outputs": [
    {
     "data": {
      "text/plain": [
       "<AxesSubplot:>"
      ]
     },
     "execution_count": 294,
     "metadata": {},
     "output_type": "execute_result"
    },
    {
     "data": {
      "image/png": "[encoded data removed]",
      "text/plain": [
       "<Figure size 432x288 with 1 Axes>"
      ]
     },
     "metadata": {
      "needs_background": "light"
     },
     "output_type": "display_data"
    }
   ],
   "source": [
    "df.reset_index(inplace=True, drop=True)\n",
    "\n",
    "sns.boxplot(df['PHOSPHOROUS'])\n",
    "\n"
   ]
  },
  {
   "cell_type": "code",
   "execution_count": 295,
   "metadata": {},
   "outputs": [
    {
     "name": "stdout",
     "output_type": "stream",
     "text": [
      "      SAMPLE_NO     SEASON SAMPLE_DATE  \\\n",
      "0         26251  2017-2018   7/25/2017   \n",
      "1         24606  2016-2017  12/22/2016   \n",
      "2         24605  2016-2017  12/22/2016   \n",
      "3         24693  2016-2017  12/22/2016   \n",
      "4         24694  2016-2017  12/22/2016   \n",
      "...         ...        ...         ...   \n",
      "9568      10038  2013-2014   4/13/2013   \n",
      "9569       9888  2012-2013    2/5/2013   \n",
      "9570      42168  2019-2020   1/27/2020   \n",
      "9571      20516  2015-2016   9/22/2015   \n",
      "9572      34414  2018-2019  11/22/2018   \n",
      "\n",
      "                                    FARMER_ENGLISH_NAME VILLAGE_NAME_ENGLISH  \\\n",
      "0              VARDHAMAN  VIJAYKUMAR  PAYGOUDAR (PATIL)              SHEDBAL   \n",
      "1                                 SADASHIV KRUSHNA MALI               SHIROL   \n",
      "2                               SONABAI  SUBHASH JADHAV               SHIROL   \n",
      "3                                 PANDIT  NARAYAN  KALE               SHIROL   \n",
      "4                                     ANIL BABURAO MANE               SHIROL   \n",
      "...                                                 ...                  ...   \n",
      "9568  KARYAKARI  SANCHALAK  SHRI DATTA  S.S.S.K.LTD ...               SHIROL   \n",
      "9569  KARYAKARI  SANCHALAK  SHRI DATTA  S.S.S.K.LTD ...               SHIROL   \n",
      "9570  KARYAKARI  SANCHALAK  SHRI DATTA  S.S.S.K.LTD ...               SHIROL   \n",
      "9571                            BABU  PUNAPPA  GADAKARI              SADALGA   \n",
      "9572                           PRAMILA  DILIPRAO  KAMAT          DHARANGUTTI   \n",
      "\n",
      "     SURVEY_NO    PH  Unnamed: 7    EC  Organinc Carbon  PHOSPHOROUS  POTASH  \\\n",
      "0          375  8.45         NaN  0.62             0.93         2.90   470.0   \n",
      "1          845  8.45         NaN  0.26             0.18        25.80  1030.0   \n",
      "2          114  8.45         NaN  0.25             0.21        23.30  1120.0   \n",
      "3         2392  8.45         NaN  0.35             0.42         4.50   358.0   \n",
      "4         2109  8.45         NaN  0.33             0.72         2.15   437.0   \n",
      "...        ...   ...         ...   ...              ...          ...     ...   \n",
      "9568       NaN  4.42         NaN  0.07             0.40         1.60   224.0   \n",
      "9569       NaN  4.22         NaN  0.95             0.80        12.10   493.0   \n",
      "9570    V.S.H.  4.00         NaN  0.12             0.98        38.40   582.0   \n",
      "9571     10319  1.16         NaN  0.21             0.87         2.15   269.0   \n",
      "9572       370  0.60         NaN  0.68             0.78        52.00   582.0   \n",
      "\n",
      "      CALCIUM_CARBONATE  FERROUS  MANAGESE  ZINK  COPPER  \n",
      "0                  17.6     6.66     39.40  1.75    8.85  \n",
      "1                  10.4    15.00      8.10  1.30    8.79  \n",
      "2                  11.6    15.70      9.34  1.16    8.74  \n",
      "3                  10.4    20.20     12.40  0.11    6.25  \n",
      "4                  10.4    14.20     16.40  0.42    5.56  \n",
      "...                 ...      ...       ...   ...     ...  \n",
      "9568                1.6     5.40     11.00  2.60    0.80  \n",
      "9569               11.2     6.04      8.88  0.08    2.24  \n",
      "9570                2.0     4.30     18.70  0.40    1.60  \n",
      "9571                6.0    22.60     27.20  1.80   10.00  \n",
      "9572                6.4     5.10      6.80  0.20    7.80  \n",
      "\n",
      "[9203 rows x 17 columns]\n"
     ]
    }
   ],
   "source": [
    "df.reset_index(inplace=True, drop=True)\n",
    "threshold = 90.80\n",
    "\n",
    "deli = np.where(df[\"PHOSPHOROUS\"]>threshold)\n",
    "df.drop(deli[0],inplace = True)\n",
    "\n",
    "t2 = 0.5\n",
    "delo = np.where(df[\"PHOSPHOROUS\"] < t2)\n",
    "df.drop(delo[0],inplace = True)\n",
    "\n",
    "print(df)"
   ]
  },
  {
   "cell_type": "code",
   "execution_count": 296,
   "metadata": {},
   "outputs": [
    {
     "data": {
      "text/plain": [
       "<AxesSubplot:>"
      ]
     },
     "execution_count": 296,
     "metadata": {},
     "output_type": "execute_result"
    },
    {
     "data": {
      "image/png": "[encoded data removed]",
      "text/plain": [
       "<Figure size 432x288 with 1 Axes>"
      ]
     },
     "metadata": {
      "needs_background": "light"
     },
     "output_type": "display_data"
    }
   ],
   "source": [
    "plt.ylim(0,10)\n",
    "sns.boxplot(df['POTASH'])"
   ]
  },
  {
   "cell_type": "code",
   "execution_count": 297,
   "metadata": {},
   "outputs": [
    {
     "name": "stdout",
     "output_type": "stream",
     "text": [
      "      SAMPLE_NO     SEASON SAMPLE_DATE  \\\n",
      "0         26251  2017-2018   7/25/2017   \n",
      "1         24606  2016-2017  12/22/2016   \n",
      "2         24605  2016-2017  12/22/2016   \n",
      "3         24693  2016-2017  12/22/2016   \n",
      "4         24694  2016-2017  12/22/2016   \n",
      "...         ...        ...         ...   \n",
      "9198      10038  2013-2014   4/13/2013   \n",
      "9199       9888  2012-2013    2/5/2013   \n",
      "9200      42168  2019-2020   1/27/2020   \n",
      "9201      20516  2015-2016   9/22/2015   \n",
      "9202      34414  2018-2019  11/22/2018   \n",
      "\n",
      "                                    FARMER_ENGLISH_NAME VILLAGE_NAME_ENGLISH  \\\n",
      "0              VARDHAMAN  VIJAYKUMAR  PAYGOUDAR (PATIL)              SHEDBAL   \n",
      "1                                 SADASHIV KRUSHNA MALI               SHIROL   \n",
      "2                               SONABAI  SUBHASH JADHAV               SHIROL   \n",
      "3                                 PANDIT  NARAYAN  KALE               SHIROL   \n",
      "4                                     ANIL BABURAO MANE               SHIROL   \n",
      "...                                                 ...                  ...   \n",
      "9198  KARYAKARI  SANCHALAK  SHRI DATTA  S.S.S.K.LTD ...               SHIROL   \n",
      "9199  KARYAKARI  SANCHALAK  SHRI DATTA  S.S.S.K.LTD ...               SHIROL   \n",
      "9200  KARYAKARI  SANCHALAK  SHRI DATTA  S.S.S.K.LTD ...               SHIROL   \n",
      "9201                            BABU  PUNAPPA  GADAKARI              SADALGA   \n",
      "9202                           PRAMILA  DILIPRAO  KAMAT          DHARANGUTTI   \n",
      "\n",
      "     SURVEY_NO    PH  Unnamed: 7    EC  Organinc Carbon  PHOSPHOROUS  POTASH  \\\n",
      "0          375  8.45         NaN  0.62             0.93         2.90   470.0   \n",
      "1          845  8.45         NaN  0.26             0.18        25.80  1030.0   \n",
      "2          114  8.45         NaN  0.25             0.21        23.30  1120.0   \n",
      "3         2392  8.45         NaN  0.35             0.42         4.50   358.0   \n",
      "4         2109  8.45         NaN  0.33             0.72         2.15   437.0   \n",
      "...        ...   ...         ...   ...              ...          ...     ...   \n",
      "9198       NaN  4.42         NaN  0.07             0.40         1.60   224.0   \n",
      "9199       NaN  4.22         NaN  0.95             0.80        12.10   493.0   \n",
      "9200    V.S.H.  4.00         NaN  0.12             0.98        38.40   582.0   \n",
      "9201     10319  1.16         NaN  0.21             0.87         2.15   269.0   \n",
      "9202       370  0.60         NaN  0.68             0.78        52.00   582.0   \n",
      "\n",
      "      CALCIUM_CARBONATE  FERROUS  MANAGESE  ZINK  COPPER  \n",
      "0                  17.6     6.66     39.40  1.75    8.85  \n",
      "1                  10.4    15.00      8.10  1.30    8.79  \n",
      "2                  11.6    15.70      9.34  1.16    8.74  \n",
      "3                  10.4    20.20     12.40  0.11    6.25  \n",
      "4                  10.4    14.20     16.40  0.42    5.56  \n",
      "...                 ...      ...       ...   ...     ...  \n",
      "9198                1.6     5.40     11.00  2.60    0.80  \n",
      "9199               11.2     6.04      8.88  0.08    2.24  \n",
      "9200                2.0     4.30     18.70  0.40    1.60  \n",
      "9201                6.0    22.60     27.20  1.80   10.00  \n",
      "9202                6.4     5.10      6.80  0.20    7.80  \n",
      "\n",
      "[9192 rows x 17 columns]\n"
     ]
    }
   ],
   "source": [
    "df.reset_index(inplace=True, drop=True)\n",
    "threshold = 1178.75\n",
    "\n",
    "deli = np.where(df[\"POTASH\"]>threshold)\n",
    "df.drop(deli[0],inplace = True)\n",
    "t2 = 2\n",
    "delo = np.where(df[\"POTASH\"] < t2)\n",
    "df.drop(delo[0],inplace = True)\n",
    "\n",
    "print(df)"
   ]
  },
  {
   "cell_type": "code",
   "execution_count": 298,
   "metadata": {},
   "outputs": [
    {
     "data": {
      "text/plain": [
       "<AxesSubplot:>"
      ]
     },
     "execution_count": 298,
     "metadata": {},
     "output_type": "execute_result"
    },
    {
     "data": {
      "image/png": "[encoded data removed]",
      "text/plain": [
       "<Figure size 432x288 with 1 Axes>"
      ]
     },
     "metadata": {
      "needs_background": "light"
     },
     "output_type": "display_data"
    }
   ],
   "source": [
    "plt.ylim(0,10)\n",
    "sns.boxplot(df['CALCIUM_CARBONATE'])"
   ]
  },
  {
   "cell_type": "code",
   "execution_count": 299,
   "metadata": {},
   "outputs": [
    {
     "name": "stdout",
     "output_type": "stream",
     "text": [
      "      SAMPLE_NO     SEASON SAMPLE_DATE  \\\n",
      "0         26251  2017-2018   7/25/2017   \n",
      "1         24606  2016-2017  12/22/2016   \n",
      "2         24605  2016-2017  12/22/2016   \n",
      "3         24693  2016-2017  12/22/2016   \n",
      "4         24694  2016-2017  12/22/2016   \n",
      "...         ...        ...         ...   \n",
      "9187      10038  2013-2014   4/13/2013   \n",
      "9188       9888  2012-2013    2/5/2013   \n",
      "9189      42168  2019-2020   1/27/2020   \n",
      "9190      20516  2015-2016   9/22/2015   \n",
      "9191      34414  2018-2019  11/22/2018   \n",
      "\n",
      "                                    FARMER_ENGLISH_NAME VILLAGE_NAME_ENGLISH  \\\n",
      "0              VARDHAMAN  VIJAYKUMAR  PAYGOUDAR (PATIL)              SHEDBAL   \n",
      "1                                 SADASHIV KRUSHNA MALI               SHIROL   \n",
      "2                               SONABAI  SUBHASH JADHAV               SHIROL   \n",
      "3                                 PANDIT  NARAYAN  KALE               SHIROL   \n",
      "4                                     ANIL BABURAO MANE               SHIROL   \n",
      "...                                                 ...                  ...   \n",
      "9187  KARYAKARI  SANCHALAK  SHRI DATTA  S.S.S.K.LTD ...               SHIROL   \n",
      "9188  KARYAKARI  SANCHALAK  SHRI DATTA  S.S.S.K.LTD ...               SHIROL   \n",
      "9189  KARYAKARI  SANCHALAK  SHRI DATTA  S.S.S.K.LTD ...               SHIROL   \n",
      "9190                            BABU  PUNAPPA  GADAKARI              SADALGA   \n",
      "9191                           PRAMILA  DILIPRAO  KAMAT          DHARANGUTTI   \n",
      "\n",
      "     SURVEY_NO    PH  Unnamed: 7    EC  Organinc Carbon  PHOSPHOROUS  POTASH  \\\n",
      "0          375  8.45         NaN  0.62             0.93         2.90   470.0   \n",
      "1          845  8.45         NaN  0.26             0.18        25.80  1030.0   \n",
      "2          114  8.45         NaN  0.25             0.21        23.30  1120.0   \n",
      "3         2392  8.45         NaN  0.35             0.42         4.50   358.0   \n",
      "4         2109  8.45         NaN  0.33             0.72         2.15   437.0   \n",
      "...        ...   ...         ...   ...              ...          ...     ...   \n",
      "9187       NaN  4.42         NaN  0.07             0.40         1.60   224.0   \n",
      "9188       NaN  4.22         NaN  0.95             0.80        12.10   493.0   \n",
      "9189    V.S.H.  4.00         NaN  0.12             0.98        38.40   582.0   \n",
      "9190     10319  1.16         NaN  0.21             0.87         2.15   269.0   \n",
      "9191       370  0.60         NaN  0.68             0.78        52.00   582.0   \n",
      "\n",
      "      CALCIUM_CARBONATE  FERROUS  MANAGESE  ZINK  COPPER  \n",
      "0                  17.6     6.66     39.40  1.75    8.85  \n",
      "1                  10.4    15.00      8.10  1.30    8.79  \n",
      "2                  11.6    15.70      9.34  1.16    8.74  \n",
      "3                  10.4    20.20     12.40  0.11    6.25  \n",
      "4                  10.4    14.20     16.40  0.42    5.56  \n",
      "...                 ...      ...       ...   ...     ...  \n",
      "9187                1.6     5.40     11.00  2.60    0.80  \n",
      "9188               11.2     6.04      8.88  0.08    2.24  \n",
      "9189                2.0     4.30     18.70  0.40    1.60  \n",
      "9190                6.0    22.60     27.20  1.80   10.00  \n",
      "9191                6.4     5.10      6.80  0.20    7.80  \n",
      "\n",
      "[9132 rows x 17 columns]\n"
     ]
    }
   ],
   "source": [
    "df.reset_index(inplace=True, drop=True)\n",
    "threshold = 18.2\n",
    "\n",
    "deli = np.where(df[\"CALCIUM_CARBONATE\"]>threshold )\n",
    "df.drop(deli[0],inplace = True)\n",
    "\n",
    "t2 = 1\n",
    "delo = np.where(df[\"CALCIUM_CARBONATE\"] < t2)\n",
    "df.drop(delo[0],inplace = True)\n",
    "\n",
    "print(df)"
   ]
  },
  {
   "cell_type": "code",
   "execution_count": 300,
   "metadata": {},
   "outputs": [
    {
     "data": {
      "text/plain": [
       "<AxesSubplot:>"
      ]
     },
     "execution_count": 300,
     "metadata": {},
     "output_type": "execute_result"
    },
    {
     "data": {
      "image/png": "[encoded data removed]",
      "text/plain": [
       "<Figure size 432x288 with 1 Axes>"
      ]
     },
     "metadata": {
      "needs_background": "light"
     },
     "output_type": "display_data"
    }
   ],
   "source": [
    "plt.ylim(0,1)\n",
    "sns.boxplot(df['FERROUS'])"
   ]
  },
  {
   "cell_type": "code",
   "execution_count": 301,
   "metadata": {},
   "outputs": [
    {
     "name": "stdout",
     "output_type": "stream",
     "text": [
      "      SAMPLE_NO     SEASON SAMPLE_DATE  \\\n",
      "0         26251  2017-2018   7/25/2017   \n",
      "1         24606  2016-2017  12/22/2016   \n",
      "2         24605  2016-2017  12/22/2016   \n",
      "3         24693  2016-2017  12/22/2016   \n",
      "4         24694  2016-2017  12/22/2016   \n",
      "...         ...        ...         ...   \n",
      "9127      10038  2013-2014   4/13/2013   \n",
      "9128       9888  2012-2013    2/5/2013   \n",
      "9129      42168  2019-2020   1/27/2020   \n",
      "9130      20516  2015-2016   9/22/2015   \n",
      "9131      34414  2018-2019  11/22/2018   \n",
      "\n",
      "                                    FARMER_ENGLISH_NAME VILLAGE_NAME_ENGLISH  \\\n",
      "0              VARDHAMAN  VIJAYKUMAR  PAYGOUDAR (PATIL)              SHEDBAL   \n",
      "1                                 SADASHIV KRUSHNA MALI               SHIROL   \n",
      "2                               SONABAI  SUBHASH JADHAV               SHIROL   \n",
      "3                                 PANDIT  NARAYAN  KALE               SHIROL   \n",
      "4                                     ANIL BABURAO MANE               SHIROL   \n",
      "...                                                 ...                  ...   \n",
      "9127  KARYAKARI  SANCHALAK  SHRI DATTA  S.S.S.K.LTD ...               SHIROL   \n",
      "9128  KARYAKARI  SANCHALAK  SHRI DATTA  S.S.S.K.LTD ...               SHIROL   \n",
      "9129  KARYAKARI  SANCHALAK  SHRI DATTA  S.S.S.K.LTD ...               SHIROL   \n",
      "9130                            BABU  PUNAPPA  GADAKARI              SADALGA   \n",
      "9131                           PRAMILA  DILIPRAO  KAMAT          DHARANGUTTI   \n",
      "\n",
      "     SURVEY_NO    PH  Unnamed: 7    EC  Organinc Carbon  PHOSPHOROUS  POTASH  \\\n",
      "0          375  8.45         NaN  0.62             0.93         2.90   470.0   \n",
      "1          845  8.45         NaN  0.26             0.18        25.80  1030.0   \n",
      "2          114  8.45         NaN  0.25             0.21        23.30  1120.0   \n",
      "3         2392  8.45         NaN  0.35             0.42         4.50   358.0   \n",
      "4         2109  8.45         NaN  0.33             0.72         2.15   437.0   \n",
      "...        ...   ...         ...   ...              ...          ...     ...   \n",
      "9127       NaN  4.42         NaN  0.07             0.40         1.60   224.0   \n",
      "9128       NaN  4.22         NaN  0.95             0.80        12.10   493.0   \n",
      "9129    V.S.H.  4.00         NaN  0.12             0.98        38.40   582.0   \n",
      "9130     10319  1.16         NaN  0.21             0.87         2.15   269.0   \n",
      "9131       370  0.60         NaN  0.68             0.78        52.00   582.0   \n",
      "\n",
      "      CALCIUM_CARBONATE  FERROUS  MANAGESE  ZINK  COPPER  \n",
      "0                  17.6     6.66     39.40  1.75    8.85  \n",
      "1                  10.4    15.00      8.10  1.30    8.79  \n",
      "2                  11.6    15.70      9.34  1.16    8.74  \n",
      "3                  10.4    20.20     12.40  0.11    6.25  \n",
      "4                  10.4    14.20     16.40  0.42    5.56  \n",
      "...                 ...      ...       ...   ...     ...  \n",
      "9127                1.6     5.40     11.00  2.60    0.80  \n",
      "9128               11.2     6.04      8.88  0.08    2.24  \n",
      "9129                2.0     4.30     18.70  0.40    1.60  \n",
      "9130                6.0    22.60     27.20  1.80   10.00  \n",
      "9131                6.4     5.10      6.80  0.20    7.80  \n",
      "\n",
      "[8737 rows x 17 columns]\n"
     ]
    }
   ],
   "source": [
    "df.reset_index(inplace=True, drop=True)\n",
    "threshold = 26\n",
    "\n",
    "deli = np.where(df[\"FERROUS\"]>threshold)\n",
    "df.drop(deli[0],inplace = True)\n",
    "t2 = 0.1\n",
    "delo = np.where(df[\"FERROUS\"] < t2)\n",
    "df.drop(delo[0],inplace = True)\n",
    "\n",
    "print(df)"
   ]
  },
  {
   "cell_type": "code",
   "execution_count": 302,
   "metadata": {},
   "outputs": [
    {
     "data": {
      "text/plain": [
       "<AxesSubplot:>"
      ]
     },
     "execution_count": 302,
     "metadata": {},
     "output_type": "execute_result"
    },
    {
     "data": {
      "image/png": "[encoded data removed]",
      "text/plain": [
       "<Figure size 432x288 with 1 Axes>"
      ]
     },
     "metadata": {
      "needs_background": "light"
     },
     "output_type": "display_data"
    }
   ],
   "source": [
    "plt.ylim(0,1)\n",
    "sns.boxplot(df['MANAGESE'])"
   ]
  },
  {
   "cell_type": "code",
   "execution_count": 303,
   "metadata": {},
   "outputs": [
    {
     "name": "stdout",
     "output_type": "stream",
     "text": [
      "      SAMPLE_NO     SEASON SAMPLE_DATE  \\\n",
      "0         26251  2017-2018   7/25/2017   \n",
      "1         24606  2016-2017  12/22/2016   \n",
      "2         24605  2016-2017  12/22/2016   \n",
      "3         24693  2016-2017  12/22/2016   \n",
      "4         24694  2016-2017  12/22/2016   \n",
      "...         ...        ...         ...   \n",
      "8732      10038  2013-2014   4/13/2013   \n",
      "8733       9888  2012-2013    2/5/2013   \n",
      "8734      42168  2019-2020   1/27/2020   \n",
      "8735      20516  2015-2016   9/22/2015   \n",
      "8736      34414  2018-2019  11/22/2018   \n",
      "\n",
      "                                    FARMER_ENGLISH_NAME VILLAGE_NAME_ENGLISH  \\\n",
      "0              VARDHAMAN  VIJAYKUMAR  PAYGOUDAR (PATIL)              SHEDBAL   \n",
      "1                                 SADASHIV KRUSHNA MALI               SHIROL   \n",
      "2                               SONABAI  SUBHASH JADHAV               SHIROL   \n",
      "3                                 PANDIT  NARAYAN  KALE               SHIROL   \n",
      "4                                     ANIL BABURAO MANE               SHIROL   \n",
      "...                                                 ...                  ...   \n",
      "8732  KARYAKARI  SANCHALAK  SHRI DATTA  S.S.S.K.LTD ...               SHIROL   \n",
      "8733  KARYAKARI  SANCHALAK  SHRI DATTA  S.S.S.K.LTD ...               SHIROL   \n",
      "8734  KARYAKARI  SANCHALAK  SHRI DATTA  S.S.S.K.LTD ...               SHIROL   \n",
      "8735                            BABU  PUNAPPA  GADAKARI              SADALGA   \n",
      "8736                           PRAMILA  DILIPRAO  KAMAT          DHARANGUTTI   \n",
      "\n",
      "     SURVEY_NO    PH  Unnamed: 7    EC  Organinc Carbon  PHOSPHOROUS  POTASH  \\\n",
      "0          375  8.45         NaN  0.62             0.93         2.90   470.0   \n",
      "1          845  8.45         NaN  0.26             0.18        25.80  1030.0   \n",
      "2          114  8.45         NaN  0.25             0.21        23.30  1120.0   \n",
      "3         2392  8.45         NaN  0.35             0.42         4.50   358.0   \n",
      "4         2109  8.45         NaN  0.33             0.72         2.15   437.0   \n",
      "...        ...   ...         ...   ...              ...          ...     ...   \n",
      "8732       NaN  4.42         NaN  0.07             0.40         1.60   224.0   \n",
      "8733       NaN  4.22         NaN  0.95             0.80        12.10   493.0   \n",
      "8734    V.S.H.  4.00         NaN  0.12             0.98        38.40   582.0   \n",
      "8735     10319  1.16         NaN  0.21             0.87         2.15   269.0   \n",
      "8736       370  0.60         NaN  0.68             0.78        52.00   582.0   \n",
      "\n",
      "      CALCIUM_CARBONATE  FERROUS  MANAGESE  ZINK  COPPER  \n",
      "0                  17.6     6.66     39.40  1.75    8.85  \n",
      "1                  10.4    15.00      8.10  1.30    8.79  \n",
      "2                  11.6    15.70      9.34  1.16    8.74  \n",
      "3                  10.4    20.20     12.40  0.11    6.25  \n",
      "4                  10.4    14.20     16.40  0.42    5.56  \n",
      "...                 ...      ...       ...   ...     ...  \n",
      "8732                1.6     5.40     11.00  2.60    0.80  \n",
      "8733               11.2     6.04      8.88  0.08    2.24  \n",
      "8734                2.0     4.30     18.70  0.40    1.60  \n",
      "8735                6.0    22.60     27.20  1.80   10.00  \n",
      "8736                6.4     5.10      6.80  0.20    7.80  \n",
      "\n",
      "[8384 rows x 17 columns]\n"
     ]
    }
   ],
   "source": [
    "df.reset_index(inplace=True, drop=True)\n",
    "threshold = 39.6\n",
    "\n",
    "deli = np.where(df[\"MANAGESE\"]>threshold)\n",
    "df.drop(deli[0],inplace = True)\n",
    "t2 = 0.1\n",
    "delo = np.where(df[\"MANAGESE\"] < t2)\n",
    "df.drop(delo[0],inplace = True)\n",
    "\n",
    "print(df)"
   ]
  },
  {
   "cell_type": "code",
   "execution_count": 304,
   "metadata": {},
   "outputs": [
    {
     "data": {
      "text/plain": [
       "<AxesSubplot:>"
      ]
     },
     "execution_count": 304,
     "metadata": {},
     "output_type": "execute_result"
    },
    {
     "data": {
      "image/png": "[encoded data removed]",
      "text/plain": [
       "<Figure size 432x288 with 1 Axes>"
      ]
     },
     "metadata": {
      "needs_background": "light"
     },
     "output_type": "display_data"
    }
   ],
   "source": [
    "plt.ylim(0,.1)\n",
    "sns.boxplot(df['ZINK'])"
   ]
  },
  {
   "cell_type": "code",
   "execution_count": 305,
   "metadata": {},
   "outputs": [
    {
     "name": "stdout",
     "output_type": "stream",
     "text": [
      "      SAMPLE_NO     SEASON SAMPLE_DATE  \\\n",
      "0         26251  2017-2018   7/25/2017   \n",
      "1         24606  2016-2017  12/22/2016   \n",
      "2         24605  2016-2017  12/22/2016   \n",
      "3         24693  2016-2017  12/22/2016   \n",
      "4         24694  2016-2017  12/22/2016   \n",
      "...         ...        ...         ...   \n",
      "8379      10038  2013-2014   4/13/2013   \n",
      "8380       9888  2012-2013    2/5/2013   \n",
      "8381      42168  2019-2020   1/27/2020   \n",
      "8382      20516  2015-2016   9/22/2015   \n",
      "8383      34414  2018-2019  11/22/2018   \n",
      "\n",
      "                                    FARMER_ENGLISH_NAME VILLAGE_NAME_ENGLISH  \\\n",
      "0              VARDHAMAN  VIJAYKUMAR  PAYGOUDAR (PATIL)              SHEDBAL   \n",
      "1                                 SADASHIV KRUSHNA MALI               SHIROL   \n",
      "2                               SONABAI  SUBHASH JADHAV               SHIROL   \n",
      "3                                 PANDIT  NARAYAN  KALE               SHIROL   \n",
      "4                                     ANIL BABURAO MANE               SHIROL   \n",
      "...                                                 ...                  ...   \n",
      "8379  KARYAKARI  SANCHALAK  SHRI DATTA  S.S.S.K.LTD ...               SHIROL   \n",
      "8380  KARYAKARI  SANCHALAK  SHRI DATTA  S.S.S.K.LTD ...               SHIROL   \n",
      "8381  KARYAKARI  SANCHALAK  SHRI DATTA  S.S.S.K.LTD ...               SHIROL   \n",
      "8382                            BABU  PUNAPPA  GADAKARI              SADALGA   \n",
      "8383                           PRAMILA  DILIPRAO  KAMAT          DHARANGUTTI   \n",
      "\n",
      "     SURVEY_NO    PH  Unnamed: 7    EC  Organinc Carbon  PHOSPHOROUS  POTASH  \\\n",
      "0          375  8.45         NaN  0.62             0.93         2.90   470.0   \n",
      "1          845  8.45         NaN  0.26             0.18        25.80  1030.0   \n",
      "2          114  8.45         NaN  0.25             0.21        23.30  1120.0   \n",
      "3         2392  8.45         NaN  0.35             0.42         4.50   358.0   \n",
      "4         2109  8.45         NaN  0.33             0.72         2.15   437.0   \n",
      "...        ...   ...         ...   ...              ...          ...     ...   \n",
      "8379       NaN  4.42         NaN  0.07             0.40         1.60   224.0   \n",
      "8380       NaN  4.22         NaN  0.95             0.80        12.10   493.0   \n",
      "8381    V.S.H.  4.00         NaN  0.12             0.98        38.40   582.0   \n",
      "8382     10319  1.16         NaN  0.21             0.87         2.15   269.0   \n",
      "8383       370  0.60         NaN  0.68             0.78        52.00   582.0   \n",
      "\n",
      "      CALCIUM_CARBONATE  FERROUS  MANAGESE  ZINK  COPPER  \n",
      "0                  17.6     6.66     39.40  1.75    8.85  \n",
      "1                  10.4    15.00      8.10  1.30    8.79  \n",
      "2                  11.6    15.70      9.34  1.16    8.74  \n",
      "3                  10.4    20.20     12.40  0.11    6.25  \n",
      "4                  10.4    14.20     16.40  0.42    5.56  \n",
      "...                 ...      ...       ...   ...     ...  \n",
      "8379                1.6     5.40     11.00  2.60    0.80  \n",
      "8380               11.2     6.04      8.88  0.08    2.24  \n",
      "8381                2.0     4.30     18.70  0.40    1.60  \n",
      "8382                6.0    22.60     27.20  1.80   10.00  \n",
      "8383                6.4     5.10      6.80  0.20    7.80  \n",
      "\n",
      "[7936 rows x 17 columns]\n"
     ]
    }
   ],
   "source": [
    "df.reset_index(inplace=True, drop=True)\n",
    "threshold = 3.6\n",
    "\n",
    "deli = np.where(df[\"ZINK\"]>threshold)\n",
    "df.drop(deli[0],inplace = True)\n",
    "\n",
    "t2 = 0.01\n",
    "delo = np.where(df[\"ZINK\"] < t2)\n",
    "df.drop(delo[0],inplace = True)\n",
    "\n",
    "print(df)"
   ]
  },
  {
   "cell_type": "code",
   "execution_count": 306,
   "metadata": {},
   "outputs": [
    {
     "data": {
      "text/plain": [
       "<AxesSubplot:>"
      ]
     },
     "execution_count": 306,
     "metadata": {},
     "output_type": "execute_result"
    },
    {
     "data": {
      "image/png": "[encoded data removed]",
      "text/plain": [
       "<Figure size 432x288 with 1 Axes>"
      ]
     },
     "metadata": {
      "needs_background": "light"
     },
     "output_type": "display_data"
    }
   ],
   "source": [
    "plt.ylim(0,0.1)\n",
    "sns.boxplot(df['COPPER'])"
   ]
  },
  {
   "cell_type": "code",
   "execution_count": 307,
   "metadata": {},
   "outputs": [
    {
     "name": "stdout",
     "output_type": "stream",
     "text": [
      "      SAMPLE_NO     SEASON SAMPLE_DATE  \\\n",
      "0         26251  2017-2018   7/25/2017   \n",
      "1         24606  2016-2017  12/22/2016   \n",
      "2         24605  2016-2017  12/22/2016   \n",
      "3         24693  2016-2017  12/22/2016   \n",
      "4         24694  2016-2017  12/22/2016   \n",
      "...         ...        ...         ...   \n",
      "7931      10038  2013-2014   4/13/2013   \n",
      "7932       9888  2012-2013    2/5/2013   \n",
      "7933      42168  2019-2020   1/27/2020   \n",
      "7934      20516  2015-2016   9/22/2015   \n",
      "7935      34414  2018-2019  11/22/2018   \n",
      "\n",
      "                                    FARMER_ENGLISH_NAME VILLAGE_NAME_ENGLISH  \\\n",
      "0              VARDHAMAN  VIJAYKUMAR  PAYGOUDAR (PATIL)              SHEDBAL   \n",
      "1                                 SADASHIV KRUSHNA MALI               SHIROL   \n",
      "2                               SONABAI  SUBHASH JADHAV               SHIROL   \n",
      "3                                 PANDIT  NARAYAN  KALE               SHIROL   \n",
      "4                                     ANIL BABURAO MANE               SHIROL   \n",
      "...                                                 ...                  ...   \n",
      "7931  KARYAKARI  SANCHALAK  SHRI DATTA  S.S.S.K.LTD ...               SHIROL   \n",
      "7932  KARYAKARI  SANCHALAK  SHRI DATTA  S.S.S.K.LTD ...               SHIROL   \n",
      "7933  KARYAKARI  SANCHALAK  SHRI DATTA  S.S.S.K.LTD ...               SHIROL   \n",
      "7934                            BABU  PUNAPPA  GADAKARI              SADALGA   \n",
      "7935                           PRAMILA  DILIPRAO  KAMAT          DHARANGUTTI   \n",
      "\n",
      "     SURVEY_NO    PH  Unnamed: 7    EC  Organinc Carbon  PHOSPHOROUS  POTASH  \\\n",
      "0          375  8.45         NaN  0.62             0.93         2.90   470.0   \n",
      "1          845  8.45         NaN  0.26             0.18        25.80  1030.0   \n",
      "2          114  8.45         NaN  0.25             0.21        23.30  1120.0   \n",
      "3         2392  8.45         NaN  0.35             0.42         4.50   358.0   \n",
      "4         2109  8.45         NaN  0.33             0.72         2.15   437.0   \n",
      "...        ...   ...         ...   ...              ...          ...     ...   \n",
      "7931       NaN  4.42         NaN  0.07             0.40         1.60   224.0   \n",
      "7932       NaN  4.22         NaN  0.95             0.80        12.10   493.0   \n",
      "7933    V.S.H.  4.00         NaN  0.12             0.98        38.40   582.0   \n",
      "7934     10319  1.16         NaN  0.21             0.87         2.15   269.0   \n",
      "7935       370  0.60         NaN  0.68             0.78        52.00   582.0   \n",
      "\n",
      "      CALCIUM_CARBONATE  FERROUS  MANAGESE  ZINK  COPPER  \n",
      "0                  17.6     6.66     39.40  1.75    8.85  \n",
      "1                  10.4    15.00      8.10  1.30    8.79  \n",
      "2                  11.6    15.70      9.34  1.16    8.74  \n",
      "3                  10.4    20.20     12.40  0.11    6.25  \n",
      "4                  10.4    14.20     16.40  0.42    5.56  \n",
      "...                 ...      ...       ...   ...     ...  \n",
      "7931                1.6     5.40     11.00  2.60    0.80  \n",
      "7932               11.2     6.04      8.88  0.08    2.24  \n",
      "7933                2.0     4.30     18.70  0.40    1.60  \n",
      "7934                6.0    22.60     27.20  1.80   10.00  \n",
      "7935                6.4     5.10      6.80  0.20    7.80  \n",
      "\n",
      "[7841 rows x 17 columns]\n"
     ]
    }
   ],
   "source": [
    "df.reset_index(inplace=True, drop=True)\n",
    "threshold = 13.5\n",
    "deli = np.where(df[\"COPPER\"]>threshold)\n",
    "df.drop(deli[0],inplace = True)\n",
    "\n",
    "t2 = 0.02\n",
    "delo = np.where(df[\"COPPER\"] < t2)\n",
    "df.drop(delo[0],inplace = True)\n",
    "\n",
    "print(df)"
   ]
  },
  {
   "cell_type": "code",
   "execution_count": 308,
   "metadata": {},
   "outputs": [
    {
     "name": "stdout",
     "output_type": "stream",
     "text": [
      "      SAMPLE_NO     SEASON SAMPLE_DATE  \\\n",
      "0         26251  2017-2018   7/25/2017   \n",
      "1         24606  2016-2017  12/22/2016   \n",
      "2         24605  2016-2017  12/22/2016   \n",
      "3         24693  2016-2017  12/22/2016   \n",
      "4         24694  2016-2017  12/22/2016   \n",
      "...         ...        ...         ...   \n",
      "7931      10038  2013-2014   4/13/2013   \n",
      "7932       9888  2012-2013    2/5/2013   \n",
      "7933      42168  2019-2020   1/27/2020   \n",
      "7934      20516  2015-2016   9/22/2015   \n",
      "7935      34414  2018-2019  11/22/2018   \n",
      "\n",
      "                                    FARMER_ENGLISH_NAME VILLAGE_NAME_ENGLISH  \\\n",
      "0              VARDHAMAN  VIJAYKUMAR  PAYGOUDAR (PATIL)              SHEDBAL   \n",
      "1                                 SADASHIV KRUSHNA MALI               SHIROL   \n",
      "2                               SONABAI  SUBHASH JADHAV               SHIROL   \n",
      "3                                 PANDIT  NARAYAN  KALE               SHIROL   \n",
      "4                                     ANIL BABURAO MANE               SHIROL   \n",
      "...                                                 ...                  ...   \n",
      "7931  KARYAKARI  SANCHALAK  SHRI DATTA  S.S.S.K.LTD ...               SHIROL   \n",
      "7932  KARYAKARI  SANCHALAK  SHRI DATTA  S.S.S.K.LTD ...               SHIROL   \n",
      "7933  KARYAKARI  SANCHALAK  SHRI DATTA  S.S.S.K.LTD ...               SHIROL   \n",
      "7934                            BABU  PUNAPPA  GADAKARI              SADALGA   \n",
      "7935                           PRAMILA  DILIPRAO  KAMAT          DHARANGUTTI   \n",
      "\n",
      "     SURVEY_NO        PH  Unnamed: 7        EC  Organinc Carbon  PHOSPHOROUS  \\\n",
      "0          375  1.000000         NaN  0.016702         0.649635     0.028119   \n",
      "1          845  1.000000         NaN  0.005770         0.102190     0.283642   \n",
      "2          114  1.000000         NaN  0.005466         0.124088     0.255746   \n",
      "3         2392  1.000000         NaN  0.008503         0.277372     0.045972   \n",
      "4         2109  1.000000         NaN  0.007896         0.496350     0.019750   \n",
      "...        ...       ...         ...       ...              ...          ...   \n",
      "7931       NaN  0.486624         NaN  0.000000         0.262774     0.013613   \n",
      "7932       NaN  0.461146         NaN  0.026723         0.554745     0.130774   \n",
      "7933    V.S.H.  0.433121         NaN  0.001518         0.686131     0.424236   \n",
      "7934     10319  0.071338         NaN  0.004251         0.605839     0.019750   \n",
      "7935       370  0.000000         NaN  0.018524         0.540146     0.575988   \n",
      "\n",
      "        POTASH  CALCIUM_CARBONATE   FERROUS  MANAGESE      ZINK    COPPER  \n",
      "0     0.417255           0.976190  0.255868  0.997468  0.484680  0.655300  \n",
      "1     0.919312           0.547619  0.576760  0.204862  0.359331  0.650852  \n",
      "2     1.000000           0.619048  0.603694  0.236262  0.320334  0.647146  \n",
      "3     0.316843           0.547619  0.776837  0.313750  0.027855  0.462565  \n",
      "4     0.387669           0.547619  0.545979  0.415042  0.114206  0.411416  \n",
      "...        ...                ...       ...       ...       ...       ...  \n",
      "7931  0.196708           0.023810  0.207387  0.278298  0.721448  0.058562  \n",
      "7932  0.437875           0.595238  0.232012  0.224614  0.019499  0.165308  \n",
      "7933  0.517666           0.047619  0.165063  0.473284  0.108635  0.117865  \n",
      "7934  0.237052           0.285714  0.869180  0.688529  0.498607  0.740549  \n",
      "7935  0.517666           0.309524  0.195845  0.171942  0.052925  0.577465  \n",
      "\n",
      "[7841 rows x 17 columns]\n"
     ]
    }
   ],
   "source": [
    "from sklearn.preprocessing import MinMaxScaler\n",
    "cols_to_normalize = ['PH','Organinc Carbon','PHOSPHOROUS','POTASH','CALCIUM_CARBONATE','FERROUS','MANAGESE','ZINK','COPPER','EC']\n",
    "scaler = MinMaxScaler()\n",
    "df[cols_to_normalize] = scaler.fit_transform(df[cols_to_normalize])\n",
    "\n",
    "print(df)\n"
   ]
  },
  {
   "cell_type": "code",
   "execution_count": 309,
   "metadata": {},
   "outputs": [
    {
     "name": "stdout",
     "output_type": "stream",
     "text": [
      "[[0.05263158 0.10526316 0.00820425 0.00936599 0.01017843 0.01088969\n",
      "  0.01477847 0.01185771 0.01055465 0.01121932]\n",
      " [0.10526316 0.05263158 0.00728538 0.00818706 0.00876816 0.00903844\n",
      "  0.00984246 0.00890218 0.00876036 0.00897545]\n",
      " [0.10526316 0.10526316 0.06563402 0.13099293 0.18394751 0.21779375\n",
      "  0.23645553 0.24926112 0.26386617 0.26926356]\n",
      " [0.10526316 0.10526316 0.13126805 0.06549646 0.12263168 0.16334531\n",
      "  0.20689859 0.21365239 0.21109293 0.2243863 ]\n",
      " [0.10526316 0.10526316 0.13126805 0.13099293 0.06131584 0.10889687\n",
      "  0.17734165 0.17804366 0.1583197  0.17950904]\n",
      " [0.10526316 0.10526316 0.13126805 0.13099293 0.12263168 0.05444844\n",
      "  0.14778471 0.14243493 0.1583197  0.13463178]\n",
      " [0.10526316 0.10526316 0.13126805 0.13099293 0.12263168 0.10889687\n",
      "  0.02955694 0.01780437 0.01319331 0.01494413]\n",
      " [0.10526316 0.10526316 0.13126805 0.13099293 0.12263168 0.10889687\n",
      "  0.05911388 0.03560873 0.01757349 0.02243863]\n",
      " [0.10526316 0.10526316 0.13126805 0.13099293 0.12263168 0.10889687\n",
      "  0.05911388 0.07121746 0.05277323 0.08975452]\n",
      " [0.10526316 0.10526316 0.13126805 0.13099293 0.12263168 0.10889687\n",
      "  0.05911388 0.07121746 0.10554647 0.04487726]]\n"
     ]
    }
   ],
   "source": [
    "import numpy as np\n",
    "\n",
    "criteria = [\"PH\", \"EC\", \"Organinc Carbon\", \"PHOSPHOROUS\", \"POTASH\", \"CALCIUM_CARBONATE\", \"FERROUS\", \"MANAGESE\", \"ZINK\", \"COPPER\"]\n",
    "n = len(criteria)\n",
    "\n",
    "# Initialize an n x n matrix with ones\n",
    "matrix = np.ones((n, n))\n",
    "\n",
    "# Assign comparison values directly to the matrix\n",
    "matrix[0, 1] = 2\n",
    "matrix[0, 2] = 0.125\n",
    "matrix[0, 3] = 0.143\n",
    "matrix[0, 4] = 0.166\n",
    "matrix[0, 5] = 0.2\n",
    "matrix[0, 6] = 0.5\n",
    "matrix[0, 7] = 0.333\n",
    "matrix[0, 8] = 0.2\n",
    "matrix[0, 9] = 0.25\n",
    "matrix[1, 2] = 0.111\n",
    "matrix[1, 3] = 0.125\n",
    "matrix[1, 4] = 0.143\n",
    "matrix[1, 5] = 0.166\n",
    "matrix[1, 6] = 0.333\n",
    "matrix[1, 7] = 0.25\n",
    "matrix[1, 8] = 0.166\n",
    "matrix[1, 9] = 0.2\n",
    "matrix[2, 3] = 2\n",
    "matrix[2, 4] = 3\n",
    "matrix[2, 5] = 4\n",
    "matrix[2, 6] = 8\n",
    "matrix[2, 7] = 7\n",
    "matrix[2, 8] = 5\n",
    "matrix[2, 9] = 6\n",
    "matrix[3, 4] = 2\n",
    "matrix[3, 5] = 3\n",
    "matrix[3, 6] = 7\n",
    "matrix[3, 7] = 6\n",
    "matrix[3, 8] = 4\n",
    "matrix[3, 9] = 5\n",
    "matrix[4, 5] = 2\n",
    "matrix[4, 6] = 6\n",
    "matrix[4, 7] = 5\n",
    "matrix[4, 8] = 3\n",
    "matrix[4, 9] = 4\n",
    "matrix[5, 6] = 5\n",
    "matrix[5, 7] = 4\n",
    "matrix[5, 8] = 3\n",
    "matrix[5, 9] = 3\n",
    "matrix[6, 7] = 0.5\n",
    "matrix[6, 8] = 0.25\n",
    "matrix[6, 9] = 0.333\n",
    "matrix[7, 8] = 0.333\n",
    "matrix[7, 9] = 0.5\n",
    "matrix[8, 9] = 2\n",
    "\n",
    "# Fill in the lower triangle of the matrix using reciprocal values\n",
    "matrix = matrix + np.tril(1/matrix, -1)\n",
    "\n",
    "# Normalize the matrix by column\n",
    "sums = matrix.sum(axis=0)\n",
    "matrix = matrix / sums\n",
    "\n",
    "# Print the resulting matrix\n",
    "print(matrix)\n",
    "\n"
   ]
  },
  {
   "cell_type": "code",
   "execution_count": 310,
   "metadata": {},
   "outputs": [
    {
     "name": "stdout",
     "output_type": "stream",
     "text": [
      "criteria weights:  [0.02449432 0.02276542 0.18277409 0.1549298  0.13362141 0.12330385\n",
      " 0.07798146 0.08390506 0.09771749 0.09850709]\n"
     ]
    }
   ],
   "source": [
    "# sum all columns in each row and divide by the number of criteria\n",
    "final_weights = np.sum(matrix, axis=1) / len(criteria)\n",
    "\n",
    "print(\"criteria weights: \", final_weights)"
   ]
  },
  {
   "cell_type": "code",
   "execution_count": 311,
   "metadata": {},
   "outputs": [
    {
     "name": "stdout",
     "output_type": "stream",
     "text": [
      "1.0\n"
     ]
    }
   ],
   "source": [
    "Sample=final_weights.sum(axis=0)\n",
    "print(Sample)"
   ]
  },
  {
   "cell_type": "code",
   "execution_count": 312,
   "metadata": {},
   "outputs": [
    {
     "name": "stdout",
     "output_type": "stream",
     "text": [
      "      SAMPLE_NO     SEASON SAMPLE_DATE  \\\n",
      "0         26251  2017-2018   7/25/2017   \n",
      "1         24606  2016-2017  12/22/2016   \n",
      "2         24605  2016-2017  12/22/2016   \n",
      "3         24693  2016-2017  12/22/2016   \n",
      "4         24694  2016-2017  12/22/2016   \n",
      "...         ...        ...         ...   \n",
      "7931      10038  2013-2014   4/13/2013   \n",
      "7932       9888  2012-2013    2/5/2013   \n",
      "7933      42168  2019-2020   1/27/2020   \n",
      "7934      20516  2015-2016   9/22/2015   \n",
      "7935      34414  2018-2019  11/22/2018   \n",
      "\n",
      "                                    FARMER_ENGLISH_NAME VILLAGE_NAME_ENGLISH  \\\n",
      "0              VARDHAMAN  VIJAYKUMAR  PAYGOUDAR (PATIL)              SHEDBAL   \n",
      "1                                 SADASHIV KRUSHNA MALI               SHIROL   \n",
      "2                               SONABAI  SUBHASH JADHAV               SHIROL   \n",
      "3                                 PANDIT  NARAYAN  KALE               SHIROL   \n",
      "4                                     ANIL BABURAO MANE               SHIROL   \n",
      "...                                                 ...                  ...   \n",
      "7931  KARYAKARI  SANCHALAK  SHRI DATTA  S.S.S.K.LTD ...               SHIROL   \n",
      "7932  KARYAKARI  SANCHALAK  SHRI DATTA  S.S.S.K.LTD ...               SHIROL   \n",
      "7933  KARYAKARI  SANCHALAK  SHRI DATTA  S.S.S.K.LTD ...               SHIROL   \n",
      "7934                            BABU  PUNAPPA  GADAKARI              SADALGA   \n",
      "7935                           PRAMILA  DILIPRAO  KAMAT          DHARANGUTTI   \n",
      "\n",
      "     SURVEY_NO        PH  Unnamed: 7        EC  Organinc Carbon  PHOSPHOROUS  \\\n",
      "0          375  1.000000         NaN  0.016702         0.649635     0.028119   \n",
      "1          845  1.000000         NaN  0.005770         0.102190     0.283642   \n",
      "2          114  1.000000         NaN  0.005466         0.124088     0.255746   \n",
      "3         2392  1.000000         NaN  0.008503         0.277372     0.045972   \n",
      "4         2109  1.000000         NaN  0.007896         0.496350     0.019750   \n",
      "...        ...       ...         ...       ...              ...          ...   \n",
      "7931       NaN  0.486624         NaN  0.000000         0.262774     0.013613   \n",
      "7932       NaN  0.461146         NaN  0.026723         0.554745     0.130774   \n",
      "7933    V.S.H.  0.433121         NaN  0.001518         0.686131     0.424236   \n",
      "7934     10319  0.071338         NaN  0.004251         0.605839     0.019750   \n",
      "7935       370  0.000000         NaN  0.018524         0.540146     0.575988   \n",
      "\n",
      "        POTASH  CALCIUM_CARBONATE   FERROUS  MANAGESE      ZINK    COPPER  \\\n",
      "0     0.417255           0.976190  0.255868  0.997468  0.484680  0.655300   \n",
      "1     0.919312           0.547619  0.576760  0.204862  0.359331  0.650852   \n",
      "2     1.000000           0.619048  0.603694  0.236262  0.320334  0.647146   \n",
      "3     0.316843           0.547619  0.776837  0.313750  0.027855  0.462565   \n",
      "4     0.387669           0.547619  0.545979  0.415042  0.114206  0.411416   \n",
      "...        ...                ...       ...       ...       ...       ...   \n",
      "7931  0.196708           0.023810  0.207387  0.278298  0.721448  0.058562   \n",
      "7932  0.437875           0.595238  0.232012  0.224614  0.019499  0.165308   \n",
      "7933  0.517666           0.047619  0.165063  0.473284  0.108635  0.117865   \n",
      "7934  0.237052           0.285714  0.869180  0.688529  0.498607  0.740549   \n",
      "7935  0.517666           0.309524  0.195845  0.171942  0.052925  0.577465   \n",
      "\n",
      "       Results  \n",
      "0     0.539649  \n",
      "1     0.439003  \n",
      "2     0.458825  \n",
      "3     0.327559  \n",
      "4     0.366866  \n",
      "...        ...  \n",
      "7931  0.207067  \n",
      "7932  0.320590  \n",
      "7933  0.351629  \n",
      "7934  0.429764  \n",
      "7935  0.387476  \n",
      "\n",
      "[7841 rows x 18 columns]\n"
     ]
    }
   ],
   "source": [
    "# Define the decision matrix using the df dataframe\n",
    "decision_matrix = df[['PH', 'EC', 'Organinc Carbon', 'PHOSPHOROUS', 'POTASH', 'CALCIUM_CARBONATE', 'FERROUS', 'MANAGESE', 'ZINK', 'COPPER']].values  # select only relevant columns\n",
    "\n",
    "# Define the weights for each criterion from AHP analysis\n",
    "weights = final_weights\n",
    "\n",
    "# Expand the weights array to have the same shape as the decision matrix\n",
    "expanded_weights = np.expand_dims(weights, axis=0)\n",
    "expanded_weights = np.repeat(expanded_weights, decision_matrix.shape[0], axis=0)\n",
    "\n",
    "# Calculate the weighted sum for each alternative\n",
    "weighted_sums = np.sum(decision_matrix * expanded_weights, axis=1)\n",
    "\n",
    "df['Results'] = weighted_sums\n",
    "print(df)\n"
   ]
  },
  {
   "cell_type": "code",
   "execution_count": 313,
   "metadata": {},
   "outputs": [
    {
     "name": "stdout",
     "output_type": "stream",
     "text": [
      "            PH        EC  Organinc Carbon  PHOSPHOROUS    POTASH  \\\n",
      "0     1.000000  0.016702         0.649635     0.028119  0.417255   \n",
      "1     1.000000  0.005770         0.102190     0.283642  0.919312   \n",
      "2     1.000000  0.005466         0.124088     0.255746  1.000000   \n",
      "3     1.000000  0.008503         0.277372     0.045972  0.316843   \n",
      "4     1.000000  0.007896         0.496350     0.019750  0.387669   \n",
      "...        ...       ...              ...          ...       ...   \n",
      "7931  0.486624  0.000000         0.262774     0.013613  0.196708   \n",
      "7932  0.461146  0.026723         0.554745     0.130774  0.437875   \n",
      "7933  0.433121  0.001518         0.686131     0.424236  0.517666   \n",
      "7934  0.071338  0.004251         0.605839     0.019750  0.237052   \n",
      "7935  0.000000  0.018524         0.540146     0.575988  0.517666   \n",
      "\n",
      "      CALCIUM_CARBONATE   FERROUS  MANAGESE      ZINK    COPPER   Results  \n",
      "0              0.976190  0.255868  0.997468  0.484680  0.655300  0.539649  \n",
      "1              0.547619  0.576760  0.204862  0.359331  0.650852  0.439003  \n",
      "2              0.619048  0.603694  0.236262  0.320334  0.647146  0.458825  \n",
      "3              0.547619  0.776837  0.313750  0.027855  0.462565  0.327559  \n",
      "4              0.547619  0.545979  0.415042  0.114206  0.411416  0.366866  \n",
      "...                 ...       ...       ...       ...       ...       ...  \n",
      "7931           0.023810  0.207387  0.278298  0.721448  0.058562  0.207067  \n",
      "7932           0.595238  0.232012  0.224614  0.019499  0.165308  0.320590  \n",
      "7933           0.047619  0.165063  0.473284  0.108635  0.117865  0.351629  \n",
      "7934           0.285714  0.869180  0.688529  0.498607  0.740549  0.429764  \n",
      "7935           0.309524  0.195845  0.171942  0.052925  0.577465  0.387476  \n",
      "\n",
      "[7841 rows x 11 columns]\n"
     ]
    }
   ],
   "source": [
    "df = df.drop(['SEASON', 'SAMPLE_DATE','FARMER_ENGLISH_NAME','VILLAGE_NAME_ENGLISH','SURVEY_NO','Unnamed: 7','SAMPLE_NO'], axis=1)\n",
    "print(df)"
   ]
  },
  {
   "cell_type": "code",
   "execution_count": 314,
   "metadata": {},
   "outputs": [
    {
     "name": "stdout",
     "output_type": "stream",
     "text": [
      "(array([], dtype=int64),)\n"
     ]
    }
   ],
   "source": [
    "df['Quality'] = pd.cut(df.Results,bins=[0,0.25,0.35,0.5,0.7],labels=['Poor','Medium','Good','Excellent'])\n",
    "# print(df)\n",
    "\n",
    "test = np.where(df['Results']>0.7)\n",
    "print (test)"
   ]
  },
  {
   "cell_type": "markdown",
   "metadata": {},
   "source": []
  },
  {
   "cell_type": "code",
   "execution_count": 315,
   "metadata": {},
   "outputs": [
    {
     "data": {
      "text/plain": [
       "<AxesSubplot:>"
      ]
     },
     "execution_count": 315,
     "metadata": {},
     "output_type": "execute_result"
    },
    {
     "data": {
      "image/png": "[encoded data removed]",
      "text/plain": [
       "<Figure size 720x576 with 2 Axes>"
      ]
     },
     "metadata": {
      "needs_background": "light"
     },
     "output_type": "display_data"
    }
   ],
   "source": [
    "fig, ax = plt.subplots(figsize =(10,8))\n",
    "sns.heatmap(df[['EC','Organinc Carbon','PHOSPHOROUS','POTASH','CALCIUM_CARBONATE','FERROUS']].corr(), linewidths= .5)"
   ]
  },
  {
   "cell_type": "code",
   "execution_count": 316,
   "metadata": {},
   "outputs": [
    {
     "name": "stdout",
     "output_type": "stream",
     "text": [
      "            PH        EC  Organinc Carbon  PHOSPHOROUS    POTASH  \\\n",
      "0     1.000000  0.016702         0.649635     0.028119  0.417255   \n",
      "1     1.000000  0.005770         0.102190     0.283642  0.919312   \n",
      "2     1.000000  0.005466         0.124088     0.255746  1.000000   \n",
      "3     1.000000  0.008503         0.277372     0.045972  0.316843   \n",
      "4     1.000000  0.007896         0.496350     0.019750  0.387669   \n",
      "...        ...       ...              ...          ...       ...   \n",
      "7931  0.486624  0.000000         0.262774     0.013613  0.196708   \n",
      "7932  0.461146  0.026723         0.554745     0.130774  0.437875   \n",
      "7933  0.433121  0.001518         0.686131     0.424236  0.517666   \n",
      "7934  0.071338  0.004251         0.605839     0.019750  0.237052   \n",
      "7935  0.000000  0.018524         0.540146     0.575988  0.517666   \n",
      "\n",
      "      CALCIUM_CARBONATE   FERROUS  MANAGESE      ZINK    COPPER    Quality  \n",
      "0              0.976190  0.255868  0.997468  0.484680  0.655300  Excellent  \n",
      "1              0.547619  0.576760  0.204862  0.359331  0.650852       Good  \n",
      "2              0.619048  0.603694  0.236262  0.320334  0.647146       Good  \n",
      "3              0.547619  0.776837  0.313750  0.027855  0.462565     Medium  \n",
      "4              0.547619  0.545979  0.415042  0.114206  0.411416       Good  \n",
      "...                 ...       ...       ...       ...       ...        ...  \n",
      "7931           0.023810  0.207387  0.278298  0.721448  0.058562       Poor  \n",
      "7932           0.595238  0.232012  0.224614  0.019499  0.165308     Medium  \n",
      "7933           0.047619  0.165063  0.473284  0.108635  0.117865       Good  \n",
      "7934           0.285714  0.869180  0.688529  0.498607  0.740549       Good  \n",
      "7935           0.309524  0.195845  0.171942  0.052925  0.577465       Good  \n",
      "\n",
      "[7841 rows x 11 columns]\n",
      "0       Excellent\n",
      "1            Good\n",
      "2            Good\n",
      "3          Medium\n",
      "4            Good\n",
      "          ...    \n",
      "7931         Poor\n",
      "7932       Medium\n",
      "7933         Good\n",
      "7934         Good\n",
      "7935         Good\n",
      "Name: Quality, Length: 7841, dtype: category\n",
      "Categories (4, object): ['Poor' < 'Medium' < 'Good' < 'Excellent']\n",
      "Good         4989\n",
      "Medium       1676\n",
      "Excellent     996\n",
      "Poor          180\n",
      "Name: Quality, dtype: int64\n"
     ]
    }
   ],
   "source": [
    "temp = df.drop(labels =['Results'], axis = 1)\n",
    "y = df['Quality']\n",
    "print (temp)\n",
    "print(y)\n",
    "print(y.value_counts())"
   ]
  },
  {
   "cell_type": "code",
   "execution_count": 317,
   "metadata": {},
   "outputs": [
    {
     "name": "stdout",
     "output_type": "stream",
     "text": [
      "[[1.         0.0167021  0.64963504 ... 0.48467967 0.65530022 0.53964855]\n",
      " [1.         0.00576981 0.10218978 ... 0.35933148 0.65085248 0.43900337]\n",
      " [1.         0.00546614 0.12408759 ... 0.32033426 0.64714603 0.45882513]\n",
      " ...\n",
      " [0.43312102 0.00151837 0.68613139 ... 0.1086351  0.11786509 0.35162919]\n",
      " [0.07133758 0.00425144 0.60583942 ... 0.49860724 0.74054855 0.42976358]\n",
      " [0.         0.01852414 0.54014599 ... 0.05292479 0.57746479 0.38747591]]\n",
      "['Excellent', 'Good', 'Good', 'Medium', 'Good', ..., 'Poor', 'Medium', 'Good', 'Good', 'Good']\n",
      "Length: 7841\n",
      "Categories (4, object): ['Poor' < 'Medium' < 'Good' < 'Excellent']\n"
     ]
    }
   ],
   "source": [
    "x = df.iloc[:,:-1].values\n",
    "print(x)\n",
    "y = df.iloc[:,11].values\n",
    "print(y)"
   ]
  },
  {
   "cell_type": "code",
   "execution_count": 318,
   "metadata": {},
   "outputs": [
    {
     "data": {
      "text/plain": [
       "((6272, 11), (1569, 11))"
      ]
     },
     "execution_count": 318,
     "metadata": {},
     "output_type": "execute_result"
    }
   ],
   "source": [
    "from sklearn.model_selection import train_test_split\n",
    "\n",
    "\n",
    "x_train, x_test, y_train, y_test = train_test_split(x, y, test_size= 0.2, random_state=2, shuffle=True)\n",
    "\n",
    "x_train.shape,x_test.shape\n",
    "\n",
    "\n"
   ]
  },
  {
   "cell_type": "code",
   "execution_count": 319,
   "metadata": {},
   "outputs": [
    {
     "name": "stdout",
     "output_type": "stream",
     "text": [
      "['Good', 'Excellent', 'Good', 'Good', 'Excellent', ..., 'Medium', 'Good', 'Medium', 'Good', 'Good']\n",
      "Length: 1569\n",
      "Categories (4, object): ['Poor' < 'Medium' < 'Good' < 'Excellent']\n",
      "Poor          143\n",
      "Medium       1373\n",
      "Good         3984\n",
      "Excellent     772\n",
      "dtype: int64\n",
      "Poor           37\n",
      "Medium        303\n",
      "Good         1005\n",
      "Excellent     224\n",
      "dtype: int64\n"
     ]
    }
   ],
   "source": [
    "print(y_test)\n",
    "print(y_train.value_counts())\n",
    "print(y_test.value_counts())"
   ]
  },
  {
   "cell_type": "code",
   "execution_count": 320,
   "metadata": {},
   "outputs": [
    {
     "name": "stdout",
     "output_type": "stream",
     "text": [
      "['Good', 'Good', 'Good', 'Medium', 'Medium', ..., 'Good', 'Good', 'Good', 'Good', 'Good']\n",
      "Length: 6272\n",
      "Categories (4, object): ['Poor' < 'Medium' < 'Good' < 'Excellent']\n"
     ]
    }
   ],
   "source": [
    "print (y_train)"
   ]
  },
  {
   "cell_type": "code",
   "execution_count": 321,
   "metadata": {},
   "outputs": [
    {
     "data": {
      "text/plain": [
       "((6272, 11), (1569, 11))"
      ]
     },
     "execution_count": 321,
     "metadata": {},
     "output_type": "execute_result"
    }
   ],
   "source": [
    "\n",
    "x_train.shape,x_test.shape"
   ]
  },
  {
   "cell_type": "code",
   "execution_count": 322,
   "metadata": {},
   "outputs": [
    {
     "data": {
      "text/plain": [
       "((6272,), (1569,))"
      ]
     },
     "execution_count": 322,
     "metadata": {},
     "output_type": "execute_result"
    }
   ],
   "source": [
    "\n",
    "y_train.shape,y_test.shape"
   ]
  },
  {
   "cell_type": "code",
   "execution_count": 323,
   "metadata": {},
   "outputs": [
    {
     "data": {
      "text/html": [
       "<style>#sk-container-id-13 {color: black;background-color: white;}#sk-container-id-13 pre{padding: 0;}#sk-container-id-13 div.sk-toggleable {background-color: white;}#sk-container-id-13 label.sk-toggleable__label {cursor: pointer;display: block;width: 100%;margin-bottom: 0;padding: 0.3em;box-sizing: border-box;text-align: center;}#sk-container-id-13 label.sk-toggleable__label-arrow:before {content: \"▸\";float: left;margin-right: 0.25em;color: #696969;}#sk-container-id-13 label.sk-toggleable__label-arrow:hover:before {color: black;}#sk-container-id-13 div.sk-estimator:hover label.sk-toggleable__label-arrow:before {color: black;}#sk-container-id-13 div.sk-toggleable__content {max-height: 0;max-width: 0;overflow: hidden;text-align: left;background-color: #f0f8ff;}#sk-container-id-13 div.sk-toggleable__content pre {margin: 0.2em;color: black;border-radius: 0.25em;background-color: #f0f8ff;}#sk-container-id-13 input.sk-toggleable__control:checked~div.sk-toggleable__content {max-height: 200px;max-width: 100%;overflow: auto;}#sk-container-id-13 input.sk-toggleable__control:checked~label.sk-toggleable__label-arrow:before {content: \"▾\";}#sk-container-id-13 div.sk-estimator input.sk-toggleable__control:checked~label.sk-toggleable__label {background-color: #d4ebff;}#sk-container-id-13 div.sk-label input.sk-toggleable__control:checked~label.sk-toggleable__label {background-color: #d4ebff;}#sk-container-id-13 input.sk-hidden--visually {border: 0;clip: rect(1px 1px 1px 1px);clip: rect(1px, 1px, 1px, 1px);height: 1px;margin: -1px;overflow: hidden;padding: 0;position: absolute;width: 1px;}#sk-container-id-13 div.sk-estimator {font-family: monospace;background-color: #f0f8ff;border: 1px dotted black;border-radius: 0.25em;box-sizing: border-box;margin-bottom: 0.5em;}#sk-container-id-13 div.sk-estimator:hover {background-color: #d4ebff;}#sk-container-id-13 div.sk-parallel-item::after {content: \"\";width: 100%;border-bottom: 1px solid gray;flex-grow: 1;}#sk-container-id-13 div.sk-label:hover label.sk-toggleable__label {background-color: #d4ebff;}#sk-container-id-13 div.sk-serial::before {content: \"\";position: absolute;border-left: 1px solid gray;box-sizing: border-box;top: 0;bottom: 0;left: 50%;z-index: 0;}#sk-container-id-13 div.sk-serial {display: flex;flex-direction: column;align-items: center;background-color: white;padding-right: 0.2em;padding-left: 0.2em;position: relative;}#sk-container-id-13 div.sk-item {position: relative;z-index: 1;}#sk-container-id-13 div.sk-parallel {display: flex;align-items: stretch;justify-content: center;background-color: white;position: relative;}#sk-container-id-13 div.sk-item::before, #sk-container-id-13 div.sk-parallel-item::before {content: \"\";position: absolute;border-left: 1px solid gray;box-sizing: border-box;top: 0;bottom: 0;left: 50%;z-index: -1;}#sk-container-id-13 div.sk-parallel-item {display: flex;flex-direction: column;z-index: 1;position: relative;background-color: white;}#sk-container-id-13 div.sk-parallel-item:first-child::after {align-self: flex-end;width: 50%;}#sk-container-id-13 div.sk-parallel-item:last-child::after {align-self: flex-start;width: 50%;}#sk-container-id-13 div.sk-parallel-item:only-child::after {width: 0;}#sk-container-id-13 div.sk-dashed-wrapped {border: 1px dashed gray;margin: 0 0.4em 0.5em 0.4em;box-sizing: border-box;padding-bottom: 0.4em;background-color: white;}#sk-container-id-13 div.sk-label label {font-family: monospace;font-weight: bold;display: inline-block;line-height: 1.2em;}#sk-container-id-13 div.sk-label-container {text-align: center;}#sk-container-id-13 div.sk-container {/* jupyter's `normalize.less` sets `[hidden] { display: none; }` but bootstrap.min.css set `[hidden] { display: none !important; }` so we also need the `!important` here to be able to override the default hidden behavior on the sphinx rendered scikit-learn.org. See: https://github.com/scikit-learn/scikit-learn/issues/21755 */display: inline-block !important;position: relative;}#sk-container-id-13 div.sk-text-repr-fallback {display: none;}</style><div id=\"sk-container-id-13\" class=\"sk-top-container\"><div class=\"sk-text-repr-fallback\"><pre>VarianceThreshold(threshold=0)</pre><b>In a Jupyter environment, please rerun this cell to show the HTML representation or trust the notebook. <br />On GitHub, the HTML representation is unable to render, please try loading this page with nbviewer.org.</b></div><div class=\"sk-container\" hidden><div class=\"sk-item\"><div class=\"sk-estimator sk-toggleable\"><input class=\"sk-toggleable__control sk-hidden--visually\" id=\"sk-estimator-id-13\" type=\"checkbox\" checked><label for=\"sk-estimator-id-13\" class=\"sk-toggleable__label sk-toggleable__label-arrow\">VarianceThreshold</label><div class=\"sk-toggleable__content\"><pre>VarianceThreshold(threshold=0)</pre></div></div></div></div></div>"
      ],
      "text/plain": [
       "VarianceThreshold(threshold=0)"
      ]
     },
     "execution_count": 323,
     "metadata": {},
     "output_type": "execute_result"
    }
   ],
   "source": [
    "from sklearn.feature_selection import VarianceThreshold\n",
    "# Check if there are any constant features\n",
    "var_thres = VarianceThreshold(threshold=0)\n",
    "var_thres.fit(x_train)"
   ]
  },
  {
   "cell_type": "code",
   "execution_count": 324,
   "metadata": {},
   "outputs": [
    {
     "data": {
      "text/plain": [
       "11"
      ]
     },
     "execution_count": 324,
     "metadata": {},
     "output_type": "execute_result"
    }
   ],
   "source": [
    "sum(var_thres.get_support())"
   ]
  },
  {
   "cell_type": "code",
   "execution_count": 325,
   "metadata": {},
   "outputs": [
    {
     "name": "stdout",
     "output_type": "stream",
     "text": [
      "[[0.91719745 0.00546614 0.51824818 ... 0.35933148 0.39955523 0.44415959]\n",
      " [0.87388535 0.01245065 0.71532847 ... 0.24791086 0.73313566 0.63828417]\n",
      " [0.8611465  0.01457637 0.58394161 ... 0.22005571 0.40696812 0.49430674]\n",
      " ...\n",
      " [0.86878981 0.01214698 0.40875912 ... 0.38718663 0.36990363 0.29669426]\n",
      " [0.95286624 0.02277558 0.5620438  ... 0.13091922 0.49592291 0.39408039]\n",
      " [0.92356688 0.01488005 0.43065693 ... 0.24512535 0.43365456 0.37524861]]\n"
     ]
    }
   ],
   "source": [
    "# x_test= st_x.transform(x_test) \n",
    "print(x_test)"
   ]
  },
  {
   "cell_type": "code",
   "execution_count": 326,
   "metadata": {},
   "outputs": [
    {
     "data": {
      "text/html": [
       "<style>#sk-container-id-14 {color: black;background-color: white;}#sk-container-id-14 pre{padding: 0;}#sk-container-id-14 div.sk-toggleable {background-color: white;}#sk-container-id-14 label.sk-toggleable__label {cursor: pointer;display: block;width: 100%;margin-bottom: 0;padding: 0.3em;box-sizing: border-box;text-align: center;}#sk-container-id-14 label.sk-toggleable__label-arrow:before {content: \"▸\";float: left;margin-right: 0.25em;color: #696969;}#sk-container-id-14 label.sk-toggleable__label-arrow:hover:before {color: black;}#sk-container-id-14 div.sk-estimator:hover label.sk-toggleable__label-arrow:before {color: black;}#sk-container-id-14 div.sk-toggleable__content {max-height: 0;max-width: 0;overflow: hidden;text-align: left;background-color: #f0f8ff;}#sk-container-id-14 div.sk-toggleable__content pre {margin: 0.2em;color: black;border-radius: 0.25em;background-color: #f0f8ff;}#sk-container-id-14 input.sk-toggleable__control:checked~div.sk-toggleable__content {max-height: 200px;max-width: 100%;overflow: auto;}#sk-container-id-14 input.sk-toggleable__control:checked~label.sk-toggleable__label-arrow:before {content: \"▾\";}#sk-container-id-14 div.sk-estimator input.sk-toggleable__control:checked~label.sk-toggleable__label {background-color: #d4ebff;}#sk-container-id-14 div.sk-label input.sk-toggleable__control:checked~label.sk-toggleable__label {background-color: #d4ebff;}#sk-container-id-14 input.sk-hidden--visually {border: 0;clip: rect(1px 1px 1px 1px);clip: rect(1px, 1px, 1px, 1px);height: 1px;margin: -1px;overflow: hidden;padding: 0;position: absolute;width: 1px;}#sk-container-id-14 div.sk-estimator {font-family: monospace;background-color: #f0f8ff;border: 1px dotted black;border-radius: 0.25em;box-sizing: border-box;margin-bottom: 0.5em;}#sk-container-id-14 div.sk-estimator:hover {background-color: #d4ebff;}#sk-container-id-14 div.sk-parallel-item::after {content: \"\";width: 100%;border-bottom: 1px solid gray;flex-grow: 1;}#sk-container-id-14 div.sk-label:hover label.sk-toggleable__label {background-color: #d4ebff;}#sk-container-id-14 div.sk-serial::before {content: \"\";position: absolute;border-left: 1px solid gray;box-sizing: border-box;top: 0;bottom: 0;left: 50%;z-index: 0;}#sk-container-id-14 div.sk-serial {display: flex;flex-direction: column;align-items: center;background-color: white;padding-right: 0.2em;padding-left: 0.2em;position: relative;}#sk-container-id-14 div.sk-item {position: relative;z-index: 1;}#sk-container-id-14 div.sk-parallel {display: flex;align-items: stretch;justify-content: center;background-color: white;position: relative;}#sk-container-id-14 div.sk-item::before, #sk-container-id-14 div.sk-parallel-item::before {content: \"\";position: absolute;border-left: 1px solid gray;box-sizing: border-box;top: 0;bottom: 0;left: 50%;z-index: -1;}#sk-container-id-14 div.sk-parallel-item {display: flex;flex-direction: column;z-index: 1;position: relative;background-color: white;}#sk-container-id-14 div.sk-parallel-item:first-child::after {align-self: flex-end;width: 50%;}#sk-container-id-14 div.sk-parallel-item:last-child::after {align-self: flex-start;width: 50%;}#sk-container-id-14 div.sk-parallel-item:only-child::after {width: 0;}#sk-container-id-14 div.sk-dashed-wrapped {border: 1px dashed gray;margin: 0 0.4em 0.5em 0.4em;box-sizing: border-box;padding-bottom: 0.4em;background-color: white;}#sk-container-id-14 div.sk-label label {font-family: monospace;font-weight: bold;display: inline-block;line-height: 1.2em;}#sk-container-id-14 div.sk-label-container {text-align: center;}#sk-container-id-14 div.sk-container {/* jupyter's `normalize.less` sets `[hidden] { display: none; }` but bootstrap.min.css set `[hidden] { display: none !important; }` so we also need the `!important` here to be able to override the default hidden behavior on the sphinx rendered scikit-learn.org. See: https://github.com/scikit-learn/scikit-learn/issues/21755 */display: inline-block !important;position: relative;}#sk-container-id-14 div.sk-text-repr-fallback {display: none;}</style><div id=\"sk-container-id-14\" class=\"sk-top-container\"><div class=\"sk-text-repr-fallback\"><pre>RandomForestClassifier(random_state=0)</pre><b>In a Jupyter environment, please rerun this cell to show the HTML representation or trust the notebook. <br />On GitHub, the HTML representation is unable to render, please try loading this page with nbviewer.org.</b></div><div class=\"sk-container\" hidden><div class=\"sk-item\"><div class=\"sk-estimator sk-toggleable\"><input class=\"sk-toggleable__control sk-hidden--visually\" id=\"sk-estimator-id-14\" type=\"checkbox\" checked><label for=\"sk-estimator-id-14\" class=\"sk-toggleable__label sk-toggleable__label-arrow\">RandomForestClassifier</label><div class=\"sk-toggleable__content\"><pre>RandomForestClassifier(random_state=0)</pre></div></div></div></div></div>"
      ],
      "text/plain": [
       "RandomForestClassifier(random_state=0)"
      ]
     },
     "execution_count": 326,
     "metadata": {},
     "output_type": "execute_result"
    }
   ],
   "source": [
    "from sklearn.ensemble import RandomForestClassifier  \n",
    "classifier= RandomForestClassifier(max_depth= None, random_state=0)  \n",
    "classifier.fit(x_train, y_train)"
   ]
  },
  {
   "cell_type": "code",
   "execution_count": 327,
   "metadata": {},
   "outputs": [
    {
     "name": "stdout",
     "output_type": "stream",
     "text": [
      "['Good' 'Excellent' 'Good' ... 'Medium' 'Good' 'Good']\n"
     ]
    }
   ],
   "source": [
    "y_pred= classifier.predict(x_test)\n",
    "print(y_pred)"
   ]
  },
  {
   "cell_type": "code",
   "execution_count": 328,
   "metadata": {},
   "outputs": [],
   "source": [
    "#Creating the Confusion matrix  \n",
    "from sklearn.metrics import confusion_matrix  \n",
    "cm= confusion_matrix(y_test, y_pred) "
   ]
  },
  {
   "cell_type": "code",
   "execution_count": 329,
   "metadata": {},
   "outputs": [
    {
     "name": "stdout",
     "output_type": "stream",
     "text": [
      "[[ 223    1    0    0]\n",
      " [   0 1005    0    0]\n",
      " [   0    0  303    0]\n",
      " [   0    0    0   37]]\n"
     ]
    }
   ],
   "source": [
    "print(cm)"
   ]
  },
  {
   "cell_type": "code",
   "execution_count": 330,
   "metadata": {},
   "outputs": [
    {
     "data": {
      "image/png": "[encoded data removed]",
      "text/plain": [
       "<Figure size 432x288 with 2 Axes>"
      ]
     },
     "metadata": {
      "needs_background": "light"
     },
     "output_type": "display_data"
    },
    {
     "name": "stdout",
     "output_type": "stream",
     "text": [
      "Accuracy =  0.9993626513702996\n"
     ]
    }
   ],
   "source": [
    "from sklearn import metrics\n",
    "\n",
    "cm = metrics.confusion_matrix(y_test, y_pred)\n",
    "\n",
    "cm_display = metrics.ConfusionMatrixDisplay(confusion_matrix = cm, display_labels = ['Excellent','Good','Medium','Poor'])\n",
    "\n",
    "cm_display.plot()\n",
    "plt.show()\n",
    "\n",
    "# [[659  39   0   0]\n",
    "#  [ 19 673  22   0]\n",
    "#  [  0  18 329  18]\n",
    "#  [  0   1  27 305]]\n",
    "\n",
    "accuracy = metrics.accuracy_score(y_test, y_pred)\n",
    "print(\"Accuracy = \",accuracy)\n"
   ]
  },
  {
   "cell_type": "markdown",
   "metadata": {},
   "source": []
  },
  {
   "cell_type": "markdown",
   "metadata": {},
   "source": []
  }
 ],
 "metadata": {
  "kernelspec": {
   "display_name": "Python 3",
   "language": "python",
   "name": "python3"
  },
  "language_info": {
   "codemirror_mode": {
    "name": "ipython",
    "version": 3
   },
   "file_extension": ".py",
   "mimetype": "text/x-python",
   "name": "python",
   "nbconvert_exporter": "python",
   "pygments_lexer": "ipython3",
   "version": "3.9.6"
  }
 },
 "nbformat": 4,
 "nbformat_minor": 2
}
