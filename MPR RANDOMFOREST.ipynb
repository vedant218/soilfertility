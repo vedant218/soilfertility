{
 "cells": [
  {
   "cell_type": "code",
   "execution_count": 491,
   "metadata": {},
   "outputs": [],
   "source": [
    "import numpy as np\n",
    "import matplotlib.pyplot as plt\n",
    "import pandas as pd"
   ]
  },
  {
   "cell_type": "code",
   "execution_count": 492,
   "metadata": {},
   "outputs": [],
   "source": [
    "df = pd.read_csv('soil_fertility.csv')"
   ]
  },
  {
   "cell_type": "code",
   "execution_count": 493,
   "metadata": {},
   "outputs": [
    {
     "data": {
      "text/html": [
       "<div>\n",
       "<style scoped>\n",
       "    .dataframe tbody tr th:only-of-type {\n",
       "        vertical-align: middle;\n",
       "    }\n",
       "\n",
       "    .dataframe tbody tr th {\n",
       "        vertical-align: top;\n",
       "    }\n",
       "\n",
       "    .dataframe thead th {\n",
       "        text-align: right;\n",
       "    }\n",
       "</style>\n",
       "<table border=\"1\" class=\"dataframe\">\n",
       "  <thead>\n",
       "    <tr style=\"text-align: right;\">\n",
       "      <th></th>\n",
       "      <th>SAMPLE_NO</th>\n",
       "      <th>SEASON</th>\n",
       "      <th>SAMPLE_DATE</th>\n",
       "      <th>FARMER_ENGLISH_NAME</th>\n",
       "      <th>VILLAGE_NAME_ENGLISH</th>\n",
       "      <th>SURVEY_NO</th>\n",
       "      <th>PH</th>\n",
       "      <th>Unnamed: 7</th>\n",
       "      <th>EC</th>\n",
       "      <th>Organinc Carbon</th>\n",
       "      <th>PHOSPHOROUS</th>\n",
       "      <th>POTASH</th>\n",
       "      <th>CALCIUM_CARBONATE</th>\n",
       "      <th>FERROUS</th>\n",
       "      <th>MANAGESE</th>\n",
       "      <th>ZINK</th>\n",
       "      <th>COPPER</th>\n",
       "    </tr>\n",
       "  </thead>\n",
       "  <tbody>\n",
       "    <tr>\n",
       "      <th>0</th>\n",
       "      <td>35902</td>\n",
       "      <td>2019-2020</td>\n",
       "      <td>5/15/2019</td>\n",
       "      <td>ANNASAO  ALIS  KIRTIKUMAR  GUNDAPPA .DANOLE</td>\n",
       "      <td>SHIRDHON</td>\n",
       "      <td>172/75</td>\n",
       "      <td>7.30</td>\n",
       "      <td>0.36</td>\n",
       "      <td>0.42</td>\n",
       "      <td>100.66</td>\n",
       "      <td>997.00</td>\n",
       "      <td>5.2</td>\n",
       "      <td>10.9</td>\n",
       "      <td>6.10</td>\n",
       "      <td>0.60</td>\n",
       "      <td>4.60</td>\n",
       "      <td>NaN</td>\n",
       "    </tr>\n",
       "    <tr>\n",
       "      <th>1</th>\n",
       "      <td>21043</td>\n",
       "      <td>2015-2016</td>\n",
       "      <td>10/12/2015</td>\n",
       "      <td>MAHAVIR  BAPU  PATIL</td>\n",
       "      <td>SHIRATI</td>\n",
       "      <td>492</td>\n",
       "      <td>8.60</td>\n",
       "      <td>NaN</td>\n",
       "      <td>0.44</td>\n",
       "      <td>1.08</td>\n",
       "      <td>34.90</td>\n",
       "      <td>370.0</td>\n",
       "      <td>12.0</td>\n",
       "      <td>13.30</td>\n",
       "      <td>18.50</td>\n",
       "      <td>1.60</td>\n",
       "      <td>6.30</td>\n",
       "    </tr>\n",
       "    <tr>\n",
       "      <th>2</th>\n",
       "      <td>24651</td>\n",
       "      <td>2016-2017</td>\n",
       "      <td>12/22/2016</td>\n",
       "      <td>ADAPPA  DADA  LADGE</td>\n",
       "      <td>CHAND-SHIRADWAD</td>\n",
       "      <td>121/1</td>\n",
       "      <td>8.58</td>\n",
       "      <td>NaN</td>\n",
       "      <td>0.50</td>\n",
       "      <td>0.78</td>\n",
       "      <td>13.30</td>\n",
       "      <td>403.0</td>\n",
       "      <td>9.6</td>\n",
       "      <td>93.20</td>\n",
       "      <td>12.40</td>\n",
       "      <td>1.19</td>\n",
       "      <td>7.00</td>\n",
       "    </tr>\n",
       "    <tr>\n",
       "      <th>3</th>\n",
       "      <td>24976</td>\n",
       "      <td>2016-2017</td>\n",
       "      <td>1/3/2017</td>\n",
       "      <td>GANPATI  KESHAV  MANE</td>\n",
       "      <td>JAMBHALI</td>\n",
       "      <td>664</td>\n",
       "      <td>8.55</td>\n",
       "      <td>NaN</td>\n",
       "      <td>0.25</td>\n",
       "      <td>0.15</td>\n",
       "      <td>16.50</td>\n",
       "      <td>504.0</td>\n",
       "      <td>6.0</td>\n",
       "      <td>5.50</td>\n",
       "      <td>14.30</td>\n",
       "      <td>1.33</td>\n",
       "      <td>7.88</td>\n",
       "    </tr>\n",
       "    <tr>\n",
       "      <th>4</th>\n",
       "      <td>27525</td>\n",
       "      <td>2017-2018</td>\n",
       "      <td>9/18/2017</td>\n",
       "      <td>KUMAR APPA MURCHUTTE</td>\n",
       "      <td>SHEDBAL</td>\n",
       "      <td>797</td>\n",
       "      <td>8.55</td>\n",
       "      <td>NaN</td>\n",
       "      <td>0.48</td>\n",
       "      <td>0.75</td>\n",
       "      <td>1.60</td>\n",
       "      <td>627.0</td>\n",
       "      <td>15.2</td>\n",
       "      <td>6.75</td>\n",
       "      <td>16.55</td>\n",
       "      <td>1.25</td>\n",
       "      <td>4.30</td>\n",
       "    </tr>\n",
       "    <tr>\n",
       "      <th>...</th>\n",
       "      <td>...</td>\n",
       "      <td>...</td>\n",
       "      <td>...</td>\n",
       "      <td>...</td>\n",
       "      <td>...</td>\n",
       "      <td>...</td>\n",
       "      <td>...</td>\n",
       "      <td>...</td>\n",
       "      <td>...</td>\n",
       "      <td>...</td>\n",
       "      <td>...</td>\n",
       "      <td>...</td>\n",
       "      <td>...</td>\n",
       "      <td>...</td>\n",
       "      <td>...</td>\n",
       "      <td>...</td>\n",
       "      <td>...</td>\n",
       "    </tr>\n",
       "    <tr>\n",
       "      <th>10573</th>\n",
       "      <td>10038</td>\n",
       "      <td>2013-2014</td>\n",
       "      <td>4/13/2013</td>\n",
       "      <td>KARYAKARI  SANCHALAK  SHRI DATTA  S.S.S.K.LTD ...</td>\n",
       "      <td>SHIROL</td>\n",
       "      <td>NaN</td>\n",
       "      <td>4.42</td>\n",
       "      <td>NaN</td>\n",
       "      <td>0.07</td>\n",
       "      <td>0.40</td>\n",
       "      <td>1.60</td>\n",
       "      <td>224.0</td>\n",
       "      <td>1.6</td>\n",
       "      <td>5.40</td>\n",
       "      <td>11.00</td>\n",
       "      <td>2.60</td>\n",
       "      <td>0.80</td>\n",
       "    </tr>\n",
       "    <tr>\n",
       "      <th>10574</th>\n",
       "      <td>9888</td>\n",
       "      <td>2012-2013</td>\n",
       "      <td>2/5/2013</td>\n",
       "      <td>KARYAKARI  SANCHALAK  SHRI DATTA  S.S.S.K.LTD ...</td>\n",
       "      <td>SHIROL</td>\n",
       "      <td>NaN</td>\n",
       "      <td>4.22</td>\n",
       "      <td>NaN</td>\n",
       "      <td>0.95</td>\n",
       "      <td>0.80</td>\n",
       "      <td>12.10</td>\n",
       "      <td>493.0</td>\n",
       "      <td>11.2</td>\n",
       "      <td>6.04</td>\n",
       "      <td>8.88</td>\n",
       "      <td>0.08</td>\n",
       "      <td>2.24</td>\n",
       "    </tr>\n",
       "    <tr>\n",
       "      <th>10575</th>\n",
       "      <td>42168</td>\n",
       "      <td>2019-2020</td>\n",
       "      <td>1/27/2020</td>\n",
       "      <td>KARYAKARI  SANCHALAK  SHRI DATTA  S.S.S.K.LTD ...</td>\n",
       "      <td>SHIROL</td>\n",
       "      <td>V.S.H.</td>\n",
       "      <td>4.00</td>\n",
       "      <td>NaN</td>\n",
       "      <td>0.12</td>\n",
       "      <td>0.98</td>\n",
       "      <td>38.40</td>\n",
       "      <td>582.0</td>\n",
       "      <td>2.0</td>\n",
       "      <td>4.30</td>\n",
       "      <td>18.70</td>\n",
       "      <td>0.40</td>\n",
       "      <td>1.60</td>\n",
       "    </tr>\n",
       "    <tr>\n",
       "      <th>10576</th>\n",
       "      <td>20516</td>\n",
       "      <td>2015-2016</td>\n",
       "      <td>9/22/2015</td>\n",
       "      <td>BABU  PUNAPPA  GADAKARI</td>\n",
       "      <td>SADALGA</td>\n",
       "      <td>10319</td>\n",
       "      <td>1.16</td>\n",
       "      <td>NaN</td>\n",
       "      <td>0.21</td>\n",
       "      <td>0.87</td>\n",
       "      <td>2.15</td>\n",
       "      <td>269.0</td>\n",
       "      <td>6.0</td>\n",
       "      <td>22.60</td>\n",
       "      <td>27.20</td>\n",
       "      <td>1.80</td>\n",
       "      <td>10.00</td>\n",
       "    </tr>\n",
       "    <tr>\n",
       "      <th>10577</th>\n",
       "      <td>34414</td>\n",
       "      <td>2018-2019</td>\n",
       "      <td>11/22/2018</td>\n",
       "      <td>PRAMILA  DILIPRAO  KAMAT</td>\n",
       "      <td>DHARANGUTTI</td>\n",
       "      <td>370</td>\n",
       "      <td>0.60</td>\n",
       "      <td>NaN</td>\n",
       "      <td>0.68</td>\n",
       "      <td>0.78</td>\n",
       "      <td>52.00</td>\n",
       "      <td>582.0</td>\n",
       "      <td>6.4</td>\n",
       "      <td>5.10</td>\n",
       "      <td>6.80</td>\n",
       "      <td>0.20</td>\n",
       "      <td>7.80</td>\n",
       "    </tr>\n",
       "  </tbody>\n",
       "</table>\n",
       "<p>10578 rows × 17 columns</p>\n",
       "</div>"
      ],
      "text/plain": [
       "       SAMPLE_NO     SEASON SAMPLE_DATE  \\\n",
       "0          35902  2019-2020   5/15/2019   \n",
       "1          21043  2015-2016  10/12/2015   \n",
       "2          24651  2016-2017  12/22/2016   \n",
       "3          24976  2016-2017    1/3/2017   \n",
       "4          27525  2017-2018   9/18/2017   \n",
       "...          ...        ...         ...   \n",
       "10573      10038  2013-2014   4/13/2013   \n",
       "10574       9888  2012-2013    2/5/2013   \n",
       "10575      42168  2019-2020   1/27/2020   \n",
       "10576      20516  2015-2016   9/22/2015   \n",
       "10577      34414  2018-2019  11/22/2018   \n",
       "\n",
       "                                     FARMER_ENGLISH_NAME VILLAGE_NAME_ENGLISH  \\\n",
       "0            ANNASAO  ALIS  KIRTIKUMAR  GUNDAPPA .DANOLE             SHIRDHON   \n",
       "1                                   MAHAVIR  BAPU  PATIL              SHIRATI   \n",
       "2                                    ADAPPA  DADA  LADGE      CHAND-SHIRADWAD   \n",
       "3                                  GANPATI  KESHAV  MANE             JAMBHALI   \n",
       "4                                   KUMAR APPA MURCHUTTE              SHEDBAL   \n",
       "...                                                  ...                  ...   \n",
       "10573  KARYAKARI  SANCHALAK  SHRI DATTA  S.S.S.K.LTD ...               SHIROL   \n",
       "10574  KARYAKARI  SANCHALAK  SHRI DATTA  S.S.S.K.LTD ...               SHIROL   \n",
       "10575  KARYAKARI  SANCHALAK  SHRI DATTA  S.S.S.K.LTD ...               SHIROL   \n",
       "10576                            BABU  PUNAPPA  GADAKARI              SADALGA   \n",
       "10577                           PRAMILA  DILIPRAO  KAMAT          DHARANGUTTI   \n",
       "\n",
       "      SURVEY_NO    PH  Unnamed: 7    EC  Organinc Carbon  PHOSPHOROUS  POTASH  \\\n",
       "0        172/75  7.30        0.36  0.42           100.66       997.00     5.2   \n",
       "1           492  8.60         NaN  0.44             1.08        34.90   370.0   \n",
       "2         121/1  8.58         NaN  0.50             0.78        13.30   403.0   \n",
       "3           664  8.55         NaN  0.25             0.15        16.50   504.0   \n",
       "4           797  8.55         NaN  0.48             0.75         1.60   627.0   \n",
       "...         ...   ...         ...   ...              ...          ...     ...   \n",
       "10573       NaN  4.42         NaN  0.07             0.40         1.60   224.0   \n",
       "10574       NaN  4.22         NaN  0.95             0.80        12.10   493.0   \n",
       "10575    V.S.H.  4.00         NaN  0.12             0.98        38.40   582.0   \n",
       "10576     10319  1.16         NaN  0.21             0.87         2.15   269.0   \n",
       "10577       370  0.60         NaN  0.68             0.78        52.00   582.0   \n",
       "\n",
       "       CALCIUM_CARBONATE  FERROUS  MANAGESE  ZINK  COPPER  \n",
       "0                   10.9     6.10      0.60  4.60     NaN  \n",
       "1                   12.0    13.30     18.50  1.60    6.30  \n",
       "2                    9.6    93.20     12.40  1.19    7.00  \n",
       "3                    6.0     5.50     14.30  1.33    7.88  \n",
       "4                   15.2     6.75     16.55  1.25    4.30  \n",
       "...                  ...      ...       ...   ...     ...  \n",
       "10573                1.6     5.40     11.00  2.60    0.80  \n",
       "10574               11.2     6.04      8.88  0.08    2.24  \n",
       "10575                2.0     4.30     18.70  0.40    1.60  \n",
       "10576                6.0    22.60     27.20  1.80   10.00  \n",
       "10577                6.4     5.10      6.80  0.20    7.80  \n",
       "\n",
       "[10578 rows x 17 columns]"
      ]
     },
     "execution_count": 493,
     "metadata": {},
     "output_type": "execute_result"
    }
   ],
   "source": [
    "df\n"
   ]
  },
  {
   "cell_type": "code",
   "execution_count": 494,
   "metadata": {},
   "outputs": [
    {
     "data": {
      "text/plain": [
       "<AxesSubplot:>"
      ]
     },
     "execution_count": 494,
     "metadata": {},
     "output_type": "execute_result"
    },
    {
     "data": {
      "image/png": "[encoded data removed]",
      "text/plain": [
       "<Figure size 432x288 with 1 Axes>"
      ]
     },
     "metadata": {
      "needs_background": "light"
     },
     "output_type": "display_data"
    }
   ],
   "source": [
    "import seaborn as sns\n",
    "import matplotlib.pyplot as plt\n",
    "\n",
    "# plt.ylim(0,2)\n",
    "sns.boxplot(df['EC'] )"
   ]
  },
  {
   "cell_type": "code",
   "execution_count": 495,
   "metadata": {},
   "outputs": [
    {
     "name": "stdout",
     "output_type": "stream",
     "text": [
      "       SAMPLE_NO     SEASON SAMPLE_DATE  \\\n",
      "0          35902  2019-2020   5/15/2019   \n",
      "1          21043  2015-2016  10/12/2015   \n",
      "2          24651  2016-2017  12/22/2016   \n",
      "3          24976  2016-2017    1/3/2017   \n",
      "4          27525  2017-2018   9/18/2017   \n",
      "...          ...        ...         ...   \n",
      "10573      10038  2013-2014   4/13/2013   \n",
      "10574       9888  2012-2013    2/5/2013   \n",
      "10575      42168  2019-2020   1/27/2020   \n",
      "10576      20516  2015-2016   9/22/2015   \n",
      "10577      34414  2018-2019  11/22/2018   \n",
      "\n",
      "                                     FARMER_ENGLISH_NAME VILLAGE_NAME_ENGLISH  \\\n",
      "0            ANNASAO  ALIS  KIRTIKUMAR  GUNDAPPA .DANOLE             SHIRDHON   \n",
      "1                                   MAHAVIR  BAPU  PATIL              SHIRATI   \n",
      "2                                    ADAPPA  DADA  LADGE      CHAND-SHIRADWAD   \n",
      "3                                  GANPATI  KESHAV  MANE             JAMBHALI   \n",
      "4                                   KUMAR APPA MURCHUTTE              SHEDBAL   \n",
      "...                                                  ...                  ...   \n",
      "10573  KARYAKARI  SANCHALAK  SHRI DATTA  S.S.S.K.LTD ...               SHIROL   \n",
      "10574  KARYAKARI  SANCHALAK  SHRI DATTA  S.S.S.K.LTD ...               SHIROL   \n",
      "10575  KARYAKARI  SANCHALAK  SHRI DATTA  S.S.S.K.LTD ...               SHIROL   \n",
      "10576                            BABU  PUNAPPA  GADAKARI              SADALGA   \n",
      "10577                           PRAMILA  DILIPRAO  KAMAT          DHARANGUTTI   \n",
      "\n",
      "      SURVEY_NO    PH  Unnamed: 7    EC  Organinc Carbon  PHOSPHOROUS  POTASH  \\\n",
      "0        172/75  7.30        0.36  0.42           100.66       997.00     5.2   \n",
      "1           492  8.60         NaN  0.44             1.08        34.90   370.0   \n",
      "2         121/1  8.58         NaN  0.50             0.78        13.30   403.0   \n",
      "3           664  8.55         NaN  0.25             0.15        16.50   504.0   \n",
      "4           797  8.55         NaN  0.48             0.75         1.60   627.0   \n",
      "...         ...   ...         ...   ...              ...          ...     ...   \n",
      "10573       NaN  4.42         NaN  0.07             0.40         1.60   224.0   \n",
      "10574       NaN  4.22         NaN  0.95             0.80        12.10   493.0   \n",
      "10575    V.S.H.  4.00         NaN  0.12             0.98        38.40   582.0   \n",
      "10576     10319  1.16         NaN  0.21             0.87         2.15   269.0   \n",
      "10577       370  0.60         NaN  0.68             0.78        52.00   582.0   \n",
      "\n",
      "       CALCIUM_CARBONATE  FERROUS  MANAGESE  ZINK  COPPER  \n",
      "0                   10.9     6.10      0.60  4.60     NaN  \n",
      "1                   12.0    13.30     18.50  1.60    6.30  \n",
      "2                    9.6    93.20     12.40  1.19    7.00  \n",
      "3                    6.0     5.50     14.30  1.33    7.88  \n",
      "4                   15.2     6.75     16.55  1.25    4.30  \n",
      "...                  ...      ...       ...   ...     ...  \n",
      "10573                1.6     5.40     11.00  2.60    0.80  \n",
      "10574               11.2     6.04      8.88  0.08    2.24  \n",
      "10575                2.0     4.30     18.70  0.40    1.60  \n",
      "10576                6.0    22.60     27.20  1.80   10.00  \n",
      "10577                6.4     5.10      6.80  0.20    7.80  \n",
      "\n",
      "[9837 rows x 17 columns]\n"
     ]
    }
   ],
   "source": [
    "threshold = 1.25\n",
    "deli = np.where(df[\"EC\"]>threshold)\n",
    "df.drop(deli[0],inplace = True)\n",
    "\n",
    "t2 = 0.01\n",
    "delo = np.where(df[\"EC\"] < t2)\n",
    "df.drop(delo[0],inplace = True)\n",
    "\n",
    "# noisy_data = df[df[\"POTASH\"] > threshold]\n",
    "\n",
    "# mean = df[\"POTASH\"].mean()\n",
    "# df.loc[df[\"POTASH\"] > threshold, \"POTASH\"] = mean\n",
    "\n",
    "print(df)"
   ]
  },
  {
   "cell_type": "code",
   "execution_count": 496,
   "metadata": {},
   "outputs": [],
   "source": [
    "df.reset_index(inplace=True, drop=True)"
   ]
  },
  {
   "cell_type": "code",
   "execution_count": 497,
   "metadata": {},
   "outputs": [
    {
     "data": {
      "text/plain": [
       "<AxesSubplot:>"
      ]
     },
     "execution_count": 497,
     "metadata": {},
     "output_type": "execute_result"
    },
    {
     "data": {
      "image/png": "[encoded data removed]",
      "text/plain": [
       "<Figure size 432x288 with 1 Axes>"
      ]
     },
     "metadata": {
      "needs_background": "light"
     },
     "output_type": "display_data"
    }
   ],
   "source": [
    "plt.ylim(0,2)\n",
    "sns.boxplot(df['Organinc Carbon'])"
   ]
  },
  {
   "cell_type": "code",
   "execution_count": 498,
   "metadata": {},
   "outputs": [
    {
     "name": "stdout",
     "output_type": "stream",
     "text": [
      "      SAMPLE_NO     SEASON SAMPLE_DATE  \\\n",
      "1         21043  2015-2016  10/12/2015   \n",
      "2         24651  2016-2017  12/22/2016   \n",
      "3         24976  2016-2017    1/3/2017   \n",
      "4         27525  2017-2018   9/18/2017   \n",
      "5         26283  2017-2018   7/26/2017   \n",
      "...         ...        ...         ...   \n",
      "9832      10038  2013-2014   4/13/2013   \n",
      "9833       9888  2012-2013    2/5/2013   \n",
      "9834      42168  2019-2020   1/27/2020   \n",
      "9835      20516  2015-2016   9/22/2015   \n",
      "9836      34414  2018-2019  11/22/2018   \n",
      "\n",
      "                                    FARMER_ENGLISH_NAME VILLAGE_NAME_ENGLISH  \\\n",
      "1                                  MAHAVIR  BAPU  PATIL              SHIRATI   \n",
      "2                                   ADAPPA  DADA  LADGE      CHAND-SHIRADWAD   \n",
      "3                                 GANPATI  KESHAV  MANE             JAMBHALI   \n",
      "4                                  KUMAR APPA MURCHUTTE              SHEDBAL   \n",
      "5                                RAMESH SADASHIV BADKAR              SHEDBAL   \n",
      "...                                                 ...                  ...   \n",
      "9832  KARYAKARI  SANCHALAK  SHRI DATTA  S.S.S.K.LTD ...               SHIROL   \n",
      "9833  KARYAKARI  SANCHALAK  SHRI DATTA  S.S.S.K.LTD ...               SHIROL   \n",
      "9834  KARYAKARI  SANCHALAK  SHRI DATTA  S.S.S.K.LTD ...               SHIROL   \n",
      "9835                            BABU  PUNAPPA  GADAKARI              SADALGA   \n",
      "9836                           PRAMILA  DILIPRAO  KAMAT          DHARANGUTTI   \n",
      "\n",
      "     SURVEY_NO    PH  Unnamed: 7    EC  Organinc Carbon  PHOSPHOROUS  POTASH  \\\n",
      "1          492  8.60         NaN  0.44             1.08        34.90   370.0   \n",
      "2        121/1  8.58         NaN  0.50             0.78        13.30   403.0   \n",
      "3          664  8.55         NaN  0.25             0.15        16.50   504.0   \n",
      "4          797  8.55         NaN  0.48             0.75         1.60   627.0   \n",
      "5          487  8.55         NaN  0.22             0.42         1.60   347.0   \n",
      "...        ...   ...         ...   ...              ...          ...     ...   \n",
      "9832       NaN  4.42         NaN  0.07             0.40         1.60   224.0   \n",
      "9833       NaN  4.22         NaN  0.95             0.80        12.10   493.0   \n",
      "9834    V.S.H.  4.00         NaN  0.12             0.98        38.40   582.0   \n",
      "9835     10319  1.16         NaN  0.21             0.87         2.15   269.0   \n",
      "9836       370  0.60         NaN  0.68             0.78        52.00   582.0   \n",
      "\n",
      "      CALCIUM_CARBONATE  FERROUS  MANAGESE  ZINK  COPPER  \n",
      "1                  12.0    13.30     18.50  1.60    6.30  \n",
      "2                   9.6    93.20     12.40  1.19    7.00  \n",
      "3                   6.0     5.50     14.30  1.33    7.88  \n",
      "4                  15.2     6.75     16.55  1.25    4.30  \n",
      "5                  20.0     7.69      9.11  0.16    3.91  \n",
      "...                 ...      ...       ...   ...     ...  \n",
      "9832                1.6     5.40     11.00  2.60    0.80  \n",
      "9833               11.2     6.04      8.88  0.08    2.24  \n",
      "9834                2.0     4.30     18.70  0.40    1.60  \n",
      "9835                6.0    22.60     27.20  1.80   10.00  \n",
      "9836                6.4     5.10      6.80  0.20    7.80  \n",
      "\n",
      "[9777 rows x 17 columns]\n"
     ]
    }
   ],
   "source": [
    "df.reset_index(inplace=True, drop=True)\n",
    "threshold = 1.3\n",
    "\n",
    "deli = np.where(df[\"Organinc Carbon\"]>threshold)\n",
    "df.drop(deli[0],inplace = True)\n",
    "\n",
    "t2 = 0.15\n",
    "delo = np.where(df[\"Organinc Carbon\"] < t2)\n",
    "df.drop(delo[0],inplace = True)\n",
    "\n",
    "\n",
    "print(df)"
   ]
  },
  {
   "cell_type": "code",
   "execution_count": 499,
   "metadata": {},
   "outputs": [
    {
     "data": {
      "text/plain": [
       "<AxesSubplot:>"
      ]
     },
     "execution_count": 499,
     "metadata": {},
     "output_type": "execute_result"
    },
    {
     "data": {
      "image/png": "[encoded data removed]",
      "text/plain": [
       "<Figure size 432x288 with 1 Axes>"
      ]
     },
     "metadata": {
      "needs_background": "light"
     },
     "output_type": "display_data"
    }
   ],
   "source": [
    "df.reset_index(inplace=True, drop=True)\n",
    "\n",
    "sns.boxplot(df['PHOSPHOROUS'])\n",
    "\n"
   ]
  },
  {
   "cell_type": "code",
   "execution_count": 500,
   "metadata": {},
   "outputs": [
    {
     "name": "stdout",
     "output_type": "stream",
     "text": [
      "      SAMPLE_NO     SEASON SAMPLE_DATE  \\\n",
      "0         21043  2015-2016  10/12/2015   \n",
      "1         24651  2016-2017  12/22/2016   \n",
      "2         24976  2016-2017    1/3/2017   \n",
      "3         27525  2017-2018   9/18/2017   \n",
      "4         26283  2017-2018   7/26/2017   \n",
      "...         ...        ...         ...   \n",
      "9772      10038  2013-2014   4/13/2013   \n",
      "9773       9888  2012-2013    2/5/2013   \n",
      "9774      42168  2019-2020   1/27/2020   \n",
      "9775      20516  2015-2016   9/22/2015   \n",
      "9776      34414  2018-2019  11/22/2018   \n",
      "\n",
      "                                    FARMER_ENGLISH_NAME VILLAGE_NAME_ENGLISH  \\\n",
      "0                                  MAHAVIR  BAPU  PATIL              SHIRATI   \n",
      "1                                   ADAPPA  DADA  LADGE      CHAND-SHIRADWAD   \n",
      "2                                 GANPATI  KESHAV  MANE             JAMBHALI   \n",
      "3                                  KUMAR APPA MURCHUTTE              SHEDBAL   \n",
      "4                                RAMESH SADASHIV BADKAR              SHEDBAL   \n",
      "...                                                 ...                  ...   \n",
      "9772  KARYAKARI  SANCHALAK  SHRI DATTA  S.S.S.K.LTD ...               SHIROL   \n",
      "9773  KARYAKARI  SANCHALAK  SHRI DATTA  S.S.S.K.LTD ...               SHIROL   \n",
      "9774  KARYAKARI  SANCHALAK  SHRI DATTA  S.S.S.K.LTD ...               SHIROL   \n",
      "9775                            BABU  PUNAPPA  GADAKARI              SADALGA   \n",
      "9776                           PRAMILA  DILIPRAO  KAMAT          DHARANGUTTI   \n",
      "\n",
      "     SURVEY_NO    PH  Unnamed: 7    EC  Organinc Carbon  PHOSPHOROUS  POTASH  \\\n",
      "0          492  8.60         NaN  0.44             1.08        34.90   370.0   \n",
      "1        121/1  8.58         NaN  0.50             0.78        13.30   403.0   \n",
      "2          664  8.55         NaN  0.25             0.15        16.50   504.0   \n",
      "3          797  8.55         NaN  0.48             0.75         1.60   627.0   \n",
      "4          487  8.55         NaN  0.22             0.42         1.60   347.0   \n",
      "...        ...   ...         ...   ...              ...          ...     ...   \n",
      "9772       NaN  4.42         NaN  0.07             0.40         1.60   224.0   \n",
      "9773       NaN  4.22         NaN  0.95             0.80        12.10   493.0   \n",
      "9774    V.S.H.  4.00         NaN  0.12             0.98        38.40   582.0   \n",
      "9775     10319  1.16         NaN  0.21             0.87         2.15   269.0   \n",
      "9776       370  0.60         NaN  0.68             0.78        52.00   582.0   \n",
      "\n",
      "      CALCIUM_CARBONATE  FERROUS  MANAGESE  ZINK  COPPER  \n",
      "0                  12.0    13.30     18.50  1.60    6.30  \n",
      "1                   9.6    93.20     12.40  1.19    7.00  \n",
      "2                   6.0     5.50     14.30  1.33    7.88  \n",
      "3                  15.2     6.75     16.55  1.25    4.30  \n",
      "4                  20.0     7.69      9.11  0.16    3.91  \n",
      "...                 ...      ...       ...   ...     ...  \n",
      "9772                1.6     5.40     11.00  2.60    0.80  \n",
      "9773               11.2     6.04      8.88  0.08    2.24  \n",
      "9774                2.0     4.30     18.70  0.40    1.60  \n",
      "9775                6.0    22.60     27.20  1.80   10.00  \n",
      "9776                6.4     5.10      6.80  0.20    7.80  \n",
      "\n",
      "[9633 rows x 17 columns]\n"
     ]
    }
   ],
   "source": [
    "df.reset_index(inplace=True, drop=True)\n",
    "threshold = 100\n",
    "\n",
    "deli = np.where(df[\"PHOSPHOROUS\"]>threshold)\n",
    "df.drop(deli[0],inplace = True)\n",
    "\n",
    "t2 = 0.5\n",
    "delo = np.where(df[\"PHOSPHOROUS\"] < t2)\n",
    "df.drop(delo[0],inplace = True)\n",
    "\n",
    "print(df)"
   ]
  },
  {
   "cell_type": "code",
   "execution_count": 501,
   "metadata": {},
   "outputs": [
    {
     "data": {
      "text/plain": [
       "<AxesSubplot:>"
      ]
     },
     "execution_count": 501,
     "metadata": {},
     "output_type": "execute_result"
    },
    {
     "data": {
      "image/png": "[encoded data removed]",
      "text/plain": [
       "<Figure size 432x288 with 1 Axes>"
      ]
     },
     "metadata": {
      "needs_background": "light"
     },
     "output_type": "display_data"
    }
   ],
   "source": [
    "plt.ylim(0,10)\n",
    "sns.boxplot(df['POTASH'])"
   ]
  },
  {
   "cell_type": "code",
   "execution_count": 502,
   "metadata": {},
   "outputs": [
    {
     "name": "stdout",
     "output_type": "stream",
     "text": [
      "      SAMPLE_NO     SEASON SAMPLE_DATE  \\\n",
      "0         21043  2015-2016  10/12/2015   \n",
      "1         24651  2016-2017  12/22/2016   \n",
      "2         24976  2016-2017    1/3/2017   \n",
      "3         27525  2017-2018   9/18/2017   \n",
      "4         26283  2017-2018   7/26/2017   \n",
      "...         ...        ...         ...   \n",
      "9628      10038  2013-2014   4/13/2013   \n",
      "9629       9888  2012-2013    2/5/2013   \n",
      "9630      42168  2019-2020   1/27/2020   \n",
      "9631      20516  2015-2016   9/22/2015   \n",
      "9632      34414  2018-2019  11/22/2018   \n",
      "\n",
      "                                    FARMER_ENGLISH_NAME VILLAGE_NAME_ENGLISH  \\\n",
      "0                                  MAHAVIR  BAPU  PATIL              SHIRATI   \n",
      "1                                   ADAPPA  DADA  LADGE      CHAND-SHIRADWAD   \n",
      "2                                 GANPATI  KESHAV  MANE             JAMBHALI   \n",
      "3                                  KUMAR APPA MURCHUTTE              SHEDBAL   \n",
      "4                                RAMESH SADASHIV BADKAR              SHEDBAL   \n",
      "...                                                 ...                  ...   \n",
      "9628  KARYAKARI  SANCHALAK  SHRI DATTA  S.S.S.K.LTD ...               SHIROL   \n",
      "9629  KARYAKARI  SANCHALAK  SHRI DATTA  S.S.S.K.LTD ...               SHIROL   \n",
      "9630  KARYAKARI  SANCHALAK  SHRI DATTA  S.S.S.K.LTD ...               SHIROL   \n",
      "9631                            BABU  PUNAPPA  GADAKARI              SADALGA   \n",
      "9632                           PRAMILA  DILIPRAO  KAMAT          DHARANGUTTI   \n",
      "\n",
      "     SURVEY_NO    PH  Unnamed: 7    EC  Organinc Carbon  PHOSPHOROUS  POTASH  \\\n",
      "0          492  8.60         NaN  0.44             1.08        34.90   370.0   \n",
      "1        121/1  8.58         NaN  0.50             0.78        13.30   403.0   \n",
      "2          664  8.55         NaN  0.25             0.15        16.50   504.0   \n",
      "3          797  8.55         NaN  0.48             0.75         1.60   627.0   \n",
      "4          487  8.55         NaN  0.22             0.42         1.60   347.0   \n",
      "...        ...   ...         ...   ...              ...          ...     ...   \n",
      "9628       NaN  4.42         NaN  0.07             0.40         1.60   224.0   \n",
      "9629       NaN  4.22         NaN  0.95             0.80        12.10   493.0   \n",
      "9630    V.S.H.  4.00         NaN  0.12             0.98        38.40   582.0   \n",
      "9631     10319  1.16         NaN  0.21             0.87         2.15   269.0   \n",
      "9632       370  0.60         NaN  0.68             0.78        52.00   582.0   \n",
      "\n",
      "      CALCIUM_CARBONATE  FERROUS  MANAGESE  ZINK  COPPER  \n",
      "0                  12.0    13.30     18.50  1.60    6.30  \n",
      "1                   9.6    93.20     12.40  1.19    7.00  \n",
      "2                   6.0     5.50     14.30  1.33    7.88  \n",
      "3                  15.2     6.75     16.55  1.25    4.30  \n",
      "4                  20.0     7.69      9.11  0.16    3.91  \n",
      "...                 ...      ...       ...   ...     ...  \n",
      "9628                1.6     5.40     11.00  2.60    0.80  \n",
      "9629               11.2     6.04      8.88  0.08    2.24  \n",
      "9630                2.0     4.30     18.70  0.40    1.60  \n",
      "9631                6.0    22.60     27.20  1.80   10.00  \n",
      "9632                6.4     5.10      6.80  0.20    7.80  \n",
      "\n",
      "[9294 rows x 17 columns]\n"
     ]
    }
   ],
   "source": [
    "df.reset_index(inplace=True, drop=True)\n",
    "threshold = 1100\n",
    "\n",
    "deli = np.where(df[\"POTASH\"]>threshold)\n",
    "df.drop(deli[0],inplace = True)\n",
    "t2 = 2\n",
    "delo = np.where(df[\"POTASH\"] < t2)\n",
    "df.drop(delo[0],inplace = True)\n",
    "\n",
    "print(df)"
   ]
  },
  {
   "cell_type": "code",
   "execution_count": 503,
   "metadata": {},
   "outputs": [
    {
     "data": {
      "text/plain": [
       "<AxesSubplot:>"
      ]
     },
     "execution_count": 503,
     "metadata": {},
     "output_type": "execute_result"
    },
    {
     "data": {
      "image/png": "[encoded data removed]",
      "text/plain": [
       "<Figure size 432x288 with 1 Axes>"
      ]
     },
     "metadata": {
      "needs_background": "light"
     },
     "output_type": "display_data"
    }
   ],
   "source": [
    "plt.ylim(0,10)\n",
    "sns.boxplot(df['CALCIUM_CARBONATE'])"
   ]
  },
  {
   "cell_type": "code",
   "execution_count": 504,
   "metadata": {},
   "outputs": [
    {
     "name": "stdout",
     "output_type": "stream",
     "text": [
      "      SAMPLE_NO     SEASON SAMPLE_DATE  \\\n",
      "0         21043  2015-2016  10/12/2015   \n",
      "1         24651  2016-2017  12/22/2016   \n",
      "2         24976  2016-2017    1/3/2017   \n",
      "3         27525  2017-2018   9/18/2017   \n",
      "5         27609  2017-2018   9/19/2017   \n",
      "...         ...        ...         ...   \n",
      "9289      10038  2013-2014   4/13/2013   \n",
      "9290       9888  2012-2013    2/5/2013   \n",
      "9291      42168  2019-2020   1/27/2020   \n",
      "9292      20516  2015-2016   9/22/2015   \n",
      "9293      34414  2018-2019  11/22/2018   \n",
      "\n",
      "                                    FARMER_ENGLISH_NAME VILLAGE_NAME_ENGLISH  \\\n",
      "0                                  MAHAVIR  BAPU  PATIL              SHIRATI   \n",
      "1                                   ADAPPA  DADA  LADGE      CHAND-SHIRADWAD   \n",
      "2                                 GANPATI  KESHAV  MANE             JAMBHALI   \n",
      "3                                  KUMAR APPA MURCHUTTE              SHEDBAL   \n",
      "5                               GANPATI  SHIVAJI  PATIL             ARJUNWAD   \n",
      "...                                                 ...                  ...   \n",
      "9289  KARYAKARI  SANCHALAK  SHRI DATTA  S.S.S.K.LTD ...               SHIROL   \n",
      "9290  KARYAKARI  SANCHALAK  SHRI DATTA  S.S.S.K.LTD ...               SHIROL   \n",
      "9291  KARYAKARI  SANCHALAK  SHRI DATTA  S.S.S.K.LTD ...               SHIROL   \n",
      "9292                            BABU  PUNAPPA  GADAKARI              SADALGA   \n",
      "9293                           PRAMILA  DILIPRAO  KAMAT          DHARANGUTTI   \n",
      "\n",
      "     SURVEY_NO    PH  Unnamed: 7    EC  Organinc Carbon  PHOSPHOROUS  POTASH  \\\n",
      "0          492  8.60         NaN  0.44             1.08        34.90   370.0   \n",
      "1        121/1  8.58         NaN  0.50             0.78        13.30   403.0   \n",
      "2          664  8.55         NaN  0.25             0.15        16.50   504.0   \n",
      "3          797  8.55         NaN  0.48             0.75         1.60   627.0   \n",
      "5           43  8.55         NaN  0.40             0.84         1.60   728.0   \n",
      "...        ...   ...         ...   ...              ...          ...     ...   \n",
      "9289       NaN  4.42         NaN  0.07             0.40         1.60   224.0   \n",
      "9290       NaN  4.22         NaN  0.95             0.80        12.10   493.0   \n",
      "9291    V.S.H.  4.00         NaN  0.12             0.98        38.40   582.0   \n",
      "9292     10319  1.16         NaN  0.21             0.87         2.15   269.0   \n",
      "9293       370  0.60         NaN  0.68             0.78        52.00   582.0   \n",
      "\n",
      "      CALCIUM_CARBONATE  FERROUS  MANAGESE  ZINK  COPPER  \n",
      "0                  12.0    13.30     18.50  1.60    6.30  \n",
      "1                   9.6    93.20     12.40  1.19    7.00  \n",
      "2                   6.0     5.50     14.30  1.33    7.88  \n",
      "3                  15.2     6.75     16.55  1.25    4.30  \n",
      "5                  16.8    19.93     13.70  0.30    2.40  \n",
      "...                 ...      ...       ...   ...     ...  \n",
      "9289                1.6     5.40     11.00  2.60    0.80  \n",
      "9290               11.2     6.04      8.88  0.08    2.24  \n",
      "9291                2.0     4.30     18.70  0.40    1.60  \n",
      "9292                6.0    22.60     27.20  1.80   10.00  \n",
      "9293                6.4     5.10      6.80  0.20    7.80  \n",
      "\n",
      "[9185 rows x 17 columns]\n"
     ]
    }
   ],
   "source": [
    "df.reset_index(inplace=True, drop=True)\n",
    "threshold = 18\n",
    "\n",
    "deli = np.where(df[\"CALCIUM_CARBONATE\"]>threshold )\n",
    "df.drop(deli[0],inplace = True)\n",
    "\n",
    "t2 = 1\n",
    "delo = np.where(df[\"PHOSPHOROUS\"] < t2)\n",
    "df.drop(delo[0],inplace = True)\n",
    "\n",
    "print(df)"
   ]
  },
  {
   "cell_type": "code",
   "execution_count": 505,
   "metadata": {},
   "outputs": [
    {
     "data": {
      "text/plain": [
       "<AxesSubplot:>"
      ]
     },
     "execution_count": 505,
     "metadata": {},
     "output_type": "execute_result"
    },
    {
     "data": {
      "image/png": "[encoded data removed]",
      "text/plain": [
       "<Figure size 432x288 with 1 Axes>"
      ]
     },
     "metadata": {
      "needs_background": "light"
     },
     "output_type": "display_data"
    }
   ],
   "source": [
    "plt.ylim(0,1)\n",
    "sns.boxplot(df['FERROUS'])"
   ]
  },
  {
   "cell_type": "code",
   "execution_count": 506,
   "metadata": {},
   "outputs": [
    {
     "name": "stdout",
     "output_type": "stream",
     "text": [
      "      SAMPLE_NO     SEASON SAMPLE_DATE  \\\n",
      "0         21043  2015-2016  10/12/2015   \n",
      "2         24976  2016-2017    1/3/2017   \n",
      "3         27525  2017-2018   9/18/2017   \n",
      "4         27609  2017-2018   9/19/2017   \n",
      "5         27617  2017-2018   9/20/2017   \n",
      "...         ...        ...         ...   \n",
      "9180      10038  2013-2014   4/13/2013   \n",
      "9181       9888  2012-2013    2/5/2013   \n",
      "9182      42168  2019-2020   1/27/2020   \n",
      "9183      20516  2015-2016   9/22/2015   \n",
      "9184      34414  2018-2019  11/22/2018   \n",
      "\n",
      "                                    FARMER_ENGLISH_NAME VILLAGE_NAME_ENGLISH  \\\n",
      "0                                  MAHAVIR  BAPU  PATIL              SHIRATI   \n",
      "2                                 GANPATI  KESHAV  MANE             JAMBHALI   \n",
      "3                                  KUMAR APPA MURCHUTTE              SHEDBAL   \n",
      "4                               GANPATI  SHIVAJI  PATIL             ARJUNWAD   \n",
      "5     KARYAKARI  SANCHALAK  SHRI DATTA  S.S.S.K.LTD ...               SHIROL   \n",
      "...                                                 ...                  ...   \n",
      "9180  KARYAKARI  SANCHALAK  SHRI DATTA  S.S.S.K.LTD ...               SHIROL   \n",
      "9181  KARYAKARI  SANCHALAK  SHRI DATTA  S.S.S.K.LTD ...               SHIROL   \n",
      "9182  KARYAKARI  SANCHALAK  SHRI DATTA  S.S.S.K.LTD ...               SHIROL   \n",
      "9183                            BABU  PUNAPPA  GADAKARI              SADALGA   \n",
      "9184                           PRAMILA  DILIPRAO  KAMAT          DHARANGUTTI   \n",
      "\n",
      "     SURVEY_NO    PH  Unnamed: 7    EC  Organinc Carbon  PHOSPHOROUS  POTASH  \\\n",
      "0          492  8.60         NaN  0.44             1.08        34.90   370.0   \n",
      "2          664  8.55         NaN  0.25             0.15        16.50   504.0   \n",
      "3          797  8.55         NaN  0.48             0.75         1.60   627.0   \n",
      "4           43  8.55         NaN  0.40             0.84         1.60   728.0   \n",
      "5         1700  8.53         NaN  0.18             0.57        10.00   414.0   \n",
      "...        ...   ...         ...   ...              ...          ...     ...   \n",
      "9180       NaN  4.42         NaN  0.07             0.40         1.60   224.0   \n",
      "9181       NaN  4.22         NaN  0.95             0.80        12.10   493.0   \n",
      "9182    V.S.H.  4.00         NaN  0.12             0.98        38.40   582.0   \n",
      "9183     10319  1.16         NaN  0.21             0.87         2.15   269.0   \n",
      "9184       370  0.60         NaN  0.68             0.78        52.00   582.0   \n",
      "\n",
      "      CALCIUM_CARBONATE  FERROUS  MANAGESE  ZINK  COPPER  \n",
      "0                  12.0    13.30     18.50  1.60    6.30  \n",
      "2                   6.0     5.50     14.30  1.33    7.88  \n",
      "3                  15.2     6.75     16.55  1.25    4.30  \n",
      "4                  16.8    19.93     13.70  0.30    2.40  \n",
      "5                  12.0    12.52     31.22  0.64    6.94  \n",
      "...                 ...      ...       ...   ...     ...  \n",
      "9180                1.6     5.40     11.00  2.60    0.80  \n",
      "9181               11.2     6.04      8.88  0.08    2.24  \n",
      "9182                2.0     4.30     18.70  0.40    1.60  \n",
      "9183                6.0    22.60     27.20  1.80   10.00  \n",
      "9184                6.4     5.10      6.80  0.20    7.80  \n",
      "\n",
      "[8778 rows x 17 columns]\n"
     ]
    }
   ],
   "source": [
    "df.reset_index(inplace=True, drop=True)\n",
    "threshold = 26\n",
    "\n",
    "deli = np.where(df[\"FERROUS\"]>threshold)\n",
    "df.drop(deli[0],inplace = True)\n",
    "t2 = 0.1\n",
    "delo = np.where(df[\"PHOSPHOROUS\"] < t2)\n",
    "df.drop(delo[0],inplace = True)\n",
    "\n",
    "print(df)"
   ]
  },
  {
   "cell_type": "code",
   "execution_count": 507,
   "metadata": {},
   "outputs": [
    {
     "data": {
      "text/plain": [
       "<AxesSubplot:>"
      ]
     },
     "execution_count": 507,
     "metadata": {},
     "output_type": "execute_result"
    },
    {
     "data": {
      "image/png": "[encoded data removed]",
      "text/plain": [
       "<Figure size 432x288 with 1 Axes>"
      ]
     },
     "metadata": {
      "needs_background": "light"
     },
     "output_type": "display_data"
    }
   ],
   "source": [
    "plt.ylim(0,1)\n",
    "sns.boxplot(df['MANAGESE'])"
   ]
  },
  {
   "cell_type": "code",
   "execution_count": 508,
   "metadata": {},
   "outputs": [
    {
     "name": "stdout",
     "output_type": "stream",
     "text": [
      "      SAMPLE_NO     SEASON SAMPLE_DATE  \\\n",
      "0         21043  2015-2016  10/12/2015   \n",
      "1         24976  2016-2017    1/3/2017   \n",
      "2         27525  2017-2018   9/18/2017   \n",
      "3         27609  2017-2018   9/19/2017   \n",
      "4         27617  2017-2018   9/20/2017   \n",
      "...         ...        ...         ...   \n",
      "8773      10038  2013-2014   4/13/2013   \n",
      "8774       9888  2012-2013    2/5/2013   \n",
      "8775      42168  2019-2020   1/27/2020   \n",
      "8776      20516  2015-2016   9/22/2015   \n",
      "8777      34414  2018-2019  11/22/2018   \n",
      "\n",
      "                                    FARMER_ENGLISH_NAME VILLAGE_NAME_ENGLISH  \\\n",
      "0                                  MAHAVIR  BAPU  PATIL              SHIRATI   \n",
      "1                                 GANPATI  KESHAV  MANE             JAMBHALI   \n",
      "2                                  KUMAR APPA MURCHUTTE              SHEDBAL   \n",
      "3                               GANPATI  SHIVAJI  PATIL             ARJUNWAD   \n",
      "4     KARYAKARI  SANCHALAK  SHRI DATTA  S.S.S.K.LTD ...               SHIROL   \n",
      "...                                                 ...                  ...   \n",
      "8773  KARYAKARI  SANCHALAK  SHRI DATTA  S.S.S.K.LTD ...               SHIROL   \n",
      "8774  KARYAKARI  SANCHALAK  SHRI DATTA  S.S.S.K.LTD ...               SHIROL   \n",
      "8775  KARYAKARI  SANCHALAK  SHRI DATTA  S.S.S.K.LTD ...               SHIROL   \n",
      "8776                            BABU  PUNAPPA  GADAKARI              SADALGA   \n",
      "8777                           PRAMILA  DILIPRAO  KAMAT          DHARANGUTTI   \n",
      "\n",
      "     SURVEY_NO    PH  Unnamed: 7    EC  Organinc Carbon  PHOSPHOROUS  POTASH  \\\n",
      "0          492  8.60         NaN  0.44             1.08        34.90   370.0   \n",
      "1          664  8.55         NaN  0.25             0.15        16.50   504.0   \n",
      "2          797  8.55         NaN  0.48             0.75         1.60   627.0   \n",
      "3           43  8.55         NaN  0.40             0.84         1.60   728.0   \n",
      "4         1700  8.53         NaN  0.18             0.57        10.00   414.0   \n",
      "...        ...   ...         ...   ...              ...          ...     ...   \n",
      "8773       NaN  4.42         NaN  0.07             0.40         1.60   224.0   \n",
      "8774       NaN  4.22         NaN  0.95             0.80        12.10   493.0   \n",
      "8775    V.S.H.  4.00         NaN  0.12             0.98        38.40   582.0   \n",
      "8776     10319  1.16         NaN  0.21             0.87         2.15   269.0   \n",
      "8777       370  0.60         NaN  0.68             0.78        52.00   582.0   \n",
      "\n",
      "      CALCIUM_CARBONATE  FERROUS  MANAGESE  ZINK  COPPER  \n",
      "0                  12.0    13.30     18.50  1.60    6.30  \n",
      "1                   6.0     5.50     14.30  1.33    7.88  \n",
      "2                  15.2     6.75     16.55  1.25    4.30  \n",
      "3                  16.8    19.93     13.70  0.30    2.40  \n",
      "4                  12.0    12.52     31.22  0.64    6.94  \n",
      "...                 ...      ...       ...   ...     ...  \n",
      "8773                1.6     5.40     11.00  2.60    0.80  \n",
      "8774               11.2     6.04      8.88  0.08    2.24  \n",
      "8775                2.0     4.30     18.70  0.40    1.60  \n",
      "8776                6.0    22.60     27.20  1.80   10.00  \n",
      "8777                6.4     5.10      6.80  0.20    7.80  \n",
      "\n",
      "[8244 rows x 17 columns]\n"
     ]
    }
   ],
   "source": [
    "df.reset_index(inplace=True, drop=True)\n",
    "threshold = 35\n",
    "\n",
    "deli = np.where(df[\"MANAGESE\"]>threshold)\n",
    "df.drop(deli[0],inplace = True)\n",
    "t2 = 0.1\n",
    "delo = np.where(df[\"PHOSPHOROUS\"] < t2)\n",
    "df.drop(delo[0],inplace = True)\n",
    "\n",
    "print(df)"
   ]
  },
  {
   "cell_type": "code",
   "execution_count": 509,
   "metadata": {},
   "outputs": [
    {
     "data": {
      "text/plain": [
       "<AxesSubplot:>"
      ]
     },
     "execution_count": 509,
     "metadata": {},
     "output_type": "execute_result"
    },
    {
     "data": {
      "image/png": "[encoded data removed]",
      "text/plain": [
       "<Figure size 432x288 with 1 Axes>"
      ]
     },
     "metadata": {
      "needs_background": "light"
     },
     "output_type": "display_data"
    }
   ],
   "source": [
    "plt.ylim(0,.1)\n",
    "sns.boxplot(df['ZINK'])"
   ]
  },
  {
   "cell_type": "code",
   "execution_count": 510,
   "metadata": {},
   "outputs": [
    {
     "name": "stdout",
     "output_type": "stream",
     "text": [
      "      SAMPLE_NO     SEASON SAMPLE_DATE  \\\n",
      "0         21043  2015-2016  10/12/2015   \n",
      "1         24976  2016-2017    1/3/2017   \n",
      "2         27525  2017-2018   9/18/2017   \n",
      "3         27609  2017-2018   9/19/2017   \n",
      "4         27617  2017-2018   9/20/2017   \n",
      "...         ...        ...         ...   \n",
      "8239      10038  2013-2014   4/13/2013   \n",
      "8240       9888  2012-2013    2/5/2013   \n",
      "8241      42168  2019-2020   1/27/2020   \n",
      "8242      20516  2015-2016   9/22/2015   \n",
      "8243      34414  2018-2019  11/22/2018   \n",
      "\n",
      "                                    FARMER_ENGLISH_NAME VILLAGE_NAME_ENGLISH  \\\n",
      "0                                  MAHAVIR  BAPU  PATIL              SHIRATI   \n",
      "1                                 GANPATI  KESHAV  MANE             JAMBHALI   \n",
      "2                                  KUMAR APPA MURCHUTTE              SHEDBAL   \n",
      "3                               GANPATI  SHIVAJI  PATIL             ARJUNWAD   \n",
      "4     KARYAKARI  SANCHALAK  SHRI DATTA  S.S.S.K.LTD ...               SHIROL   \n",
      "...                                                 ...                  ...   \n",
      "8239  KARYAKARI  SANCHALAK  SHRI DATTA  S.S.S.K.LTD ...               SHIROL   \n",
      "8240  KARYAKARI  SANCHALAK  SHRI DATTA  S.S.S.K.LTD ...               SHIROL   \n",
      "8241  KARYAKARI  SANCHALAK  SHRI DATTA  S.S.S.K.LTD ...               SHIROL   \n",
      "8242                            BABU  PUNAPPA  GADAKARI              SADALGA   \n",
      "8243                           PRAMILA  DILIPRAO  KAMAT          DHARANGUTTI   \n",
      "\n",
      "     SURVEY_NO    PH  Unnamed: 7    EC  Organinc Carbon  PHOSPHOROUS  POTASH  \\\n",
      "0          492  8.60         NaN  0.44             1.08        34.90   370.0   \n",
      "1          664  8.55         NaN  0.25             0.15        16.50   504.0   \n",
      "2          797  8.55         NaN  0.48             0.75         1.60   627.0   \n",
      "3           43  8.55         NaN  0.40             0.84         1.60   728.0   \n",
      "4         1700  8.53         NaN  0.18             0.57        10.00   414.0   \n",
      "...        ...   ...         ...   ...              ...          ...     ...   \n",
      "8239       NaN  4.42         NaN  0.07             0.40         1.60   224.0   \n",
      "8240       NaN  4.22         NaN  0.95             0.80        12.10   493.0   \n",
      "8241    V.S.H.  4.00         NaN  0.12             0.98        38.40   582.0   \n",
      "8242     10319  1.16         NaN  0.21             0.87         2.15   269.0   \n",
      "8243       370  0.60         NaN  0.68             0.78        52.00   582.0   \n",
      "\n",
      "      CALCIUM_CARBONATE  FERROUS  MANAGESE  ZINK  COPPER  \n",
      "0                  12.0    13.30     18.50  1.60    6.30  \n",
      "1                   6.0     5.50     14.30  1.33    7.88  \n",
      "2                  15.2     6.75     16.55  1.25    4.30  \n",
      "3                  16.8    19.93     13.70  0.30    2.40  \n",
      "4                  12.0    12.52     31.22  0.64    6.94  \n",
      "...                 ...      ...       ...   ...     ...  \n",
      "8239                1.6     5.40     11.00  2.60    0.80  \n",
      "8240               11.2     6.04      8.88  0.08    2.24  \n",
      "8241                2.0     4.30     18.70  0.40    1.60  \n",
      "8242                6.0    22.60     27.20  1.80   10.00  \n",
      "8243                6.4     5.10      6.80  0.20    7.80  \n",
      "\n",
      "[7836 rows x 17 columns]\n"
     ]
    }
   ],
   "source": [
    "df.reset_index(inplace=True, drop=True)\n",
    "threshold = 3.6\n",
    "\n",
    "deli = np.where(df[\"ZINK\"]>threshold)\n",
    "df.drop(deli[0],inplace = True)\n",
    "\n",
    "t2 = 0.01\n",
    "delo = np.where(df[\"PHOSPHOROUS\"] < t2)\n",
    "df.drop(delo[0],inplace = True)\n",
    "\n",
    "print(df)"
   ]
  },
  {
   "cell_type": "code",
   "execution_count": 511,
   "metadata": {},
   "outputs": [
    {
     "data": {
      "text/plain": [
       "<AxesSubplot:>"
      ]
     },
     "execution_count": 511,
     "metadata": {},
     "output_type": "execute_result"
    },
    {
     "data": {
      "image/png": "[encoded data removed]",
      "text/plain": [
       "<Figure size 432x288 with 1 Axes>"
      ]
     },
     "metadata": {
      "needs_background": "light"
     },
     "output_type": "display_data"
    }
   ],
   "source": [
    "plt.ylim(0,0.1)\n",
    "sns.boxplot(df['COPPER'])"
   ]
  },
  {
   "cell_type": "code",
   "execution_count": 512,
   "metadata": {},
   "outputs": [
    {
     "name": "stdout",
     "output_type": "stream",
     "text": [
      "      SAMPLE_NO     SEASON SAMPLE_DATE  \\\n",
      "0         21043  2015-2016  10/12/2015   \n",
      "1         24976  2016-2017    1/3/2017   \n",
      "2         27525  2017-2018   9/18/2017   \n",
      "3         27609  2017-2018   9/19/2017   \n",
      "4         27617  2017-2018   9/20/2017   \n",
      "...         ...        ...         ...   \n",
      "7831      10038  2013-2014   4/13/2013   \n",
      "7832       9888  2012-2013    2/5/2013   \n",
      "7833      42168  2019-2020   1/27/2020   \n",
      "7834      20516  2015-2016   9/22/2015   \n",
      "7835      34414  2018-2019  11/22/2018   \n",
      "\n",
      "                                    FARMER_ENGLISH_NAME VILLAGE_NAME_ENGLISH  \\\n",
      "0                                  MAHAVIR  BAPU  PATIL              SHIRATI   \n",
      "1                                 GANPATI  KESHAV  MANE             JAMBHALI   \n",
      "2                                  KUMAR APPA MURCHUTTE              SHEDBAL   \n",
      "3                               GANPATI  SHIVAJI  PATIL             ARJUNWAD   \n",
      "4     KARYAKARI  SANCHALAK  SHRI DATTA  S.S.S.K.LTD ...               SHIROL   \n",
      "...                                                 ...                  ...   \n",
      "7831  KARYAKARI  SANCHALAK  SHRI DATTA  S.S.S.K.LTD ...               SHIROL   \n",
      "7832  KARYAKARI  SANCHALAK  SHRI DATTA  S.S.S.K.LTD ...               SHIROL   \n",
      "7833  KARYAKARI  SANCHALAK  SHRI DATTA  S.S.S.K.LTD ...               SHIROL   \n",
      "7834                            BABU  PUNAPPA  GADAKARI              SADALGA   \n",
      "7835                           PRAMILA  DILIPRAO  KAMAT          DHARANGUTTI   \n",
      "\n",
      "     SURVEY_NO    PH  Unnamed: 7    EC  Organinc Carbon  PHOSPHOROUS  POTASH  \\\n",
      "0          492  8.60         NaN  0.44             1.08        34.90   370.0   \n",
      "1          664  8.55         NaN  0.25             0.15        16.50   504.0   \n",
      "2          797  8.55         NaN  0.48             0.75         1.60   627.0   \n",
      "3           43  8.55         NaN  0.40             0.84         1.60   728.0   \n",
      "4         1700  8.53         NaN  0.18             0.57        10.00   414.0   \n",
      "...        ...   ...         ...   ...              ...          ...     ...   \n",
      "7831       NaN  4.42         NaN  0.07             0.40         1.60   224.0   \n",
      "7832       NaN  4.22         NaN  0.95             0.80        12.10   493.0   \n",
      "7833    V.S.H.  4.00         NaN  0.12             0.98        38.40   582.0   \n",
      "7834     10319  1.16         NaN  0.21             0.87         2.15   269.0   \n",
      "7835       370  0.60         NaN  0.68             0.78        52.00   582.0   \n",
      "\n",
      "      CALCIUM_CARBONATE  FERROUS  MANAGESE  ZINK  COPPER  \n",
      "0                  12.0    13.30     18.50  1.60    6.30  \n",
      "1                   6.0     5.50     14.30  1.33    7.88  \n",
      "2                  15.2     6.75     16.55  1.25    4.30  \n",
      "3                  16.8    19.93     13.70  0.30    2.40  \n",
      "4                  12.0    12.52     31.22  0.64    6.94  \n",
      "...                 ...      ...       ...   ...     ...  \n",
      "7831                1.6     5.40     11.00  2.60    0.80  \n",
      "7832               11.2     6.04      8.88  0.08    2.24  \n",
      "7833                2.0     4.30     18.70  0.40    1.60  \n",
      "7834                6.0    22.60     27.20  1.80   10.00  \n",
      "7835                6.4     5.10      6.80  0.20    7.80  \n",
      "\n",
      "[7743 rows x 17 columns]\n"
     ]
    }
   ],
   "source": [
    "df.reset_index(inplace=True, drop=True)\n",
    "threshold = 13.5\n",
    "deli = np.where(df[\"COPPER\"]>threshold)\n",
    "df.drop(deli[0],inplace = True)\n",
    "\n",
    "t2 = 0.02\n",
    "delo = np.where(df[\"PHOSPHOROUS\"] < t2)\n",
    "df.drop(delo[0],inplace = True)\n",
    "\n",
    "print(df)"
   ]
  },
  {
   "cell_type": "code",
   "execution_count": 513,
   "metadata": {},
   "outputs": [
    {
     "name": "stdout",
     "output_type": "stream",
     "text": [
      "      SAMPLE_NO     SEASON SAMPLE_DATE  \\\n",
      "0         21043  2015-2016  10/12/2015   \n",
      "1         24976  2016-2017    1/3/2017   \n",
      "2         27525  2017-2018   9/18/2017   \n",
      "3         27609  2017-2018   9/19/2017   \n",
      "4         27617  2017-2018   9/20/2017   \n",
      "...         ...        ...         ...   \n",
      "7831      10038  2013-2014   4/13/2013   \n",
      "7832       9888  2012-2013    2/5/2013   \n",
      "7833      42168  2019-2020   1/27/2020   \n",
      "7834      20516  2015-2016   9/22/2015   \n",
      "7835      34414  2018-2019  11/22/2018   \n",
      "\n",
      "                                    FARMER_ENGLISH_NAME VILLAGE_NAME_ENGLISH  \\\n",
      "0                                  MAHAVIR  BAPU  PATIL              SHIRATI   \n",
      "1                                 GANPATI  KESHAV  MANE             JAMBHALI   \n",
      "2                                  KUMAR APPA MURCHUTTE              SHEDBAL   \n",
      "3                               GANPATI  SHIVAJI  PATIL             ARJUNWAD   \n",
      "4     KARYAKARI  SANCHALAK  SHRI DATTA  S.S.S.K.LTD ...               SHIROL   \n",
      "...                                                 ...                  ...   \n",
      "7831  KARYAKARI  SANCHALAK  SHRI DATTA  S.S.S.K.LTD ...               SHIROL   \n",
      "7832  KARYAKARI  SANCHALAK  SHRI DATTA  S.S.S.K.LTD ...               SHIROL   \n",
      "7833  KARYAKARI  SANCHALAK  SHRI DATTA  S.S.S.K.LTD ...               SHIROL   \n",
      "7834                            BABU  PUNAPPA  GADAKARI              SADALGA   \n",
      "7835                           PRAMILA  DILIPRAO  KAMAT          DHARANGUTTI   \n",
      "\n",
      "     SURVEY_NO       PH  Unnamed: 7        EC  Organinc Carbon  PHOSPHOROUS  \\\n",
      "0          492  1.00000         NaN  0.336066            0.832     0.346517   \n",
      "1          664  0.99375         NaN  0.180328            0.088     0.161815   \n",
      "2          797  0.99375         NaN  0.368852            0.568     0.012247   \n",
      "3           43  0.99375         NaN  0.303279            0.640     0.012247   \n",
      "4         1700  0.99125         NaN  0.122951            0.424     0.096567   \n",
      "...        ...      ...         ...       ...              ...          ...   \n",
      "7831       NaN  0.47750         NaN  0.032787            0.288     0.012247   \n",
      "7832       NaN  0.45250         NaN  0.754098            0.608     0.117647   \n",
      "7833    V.S.H.  0.42500         NaN  0.073770            0.752     0.381650   \n",
      "7834     10319  0.07000         NaN  0.147541            0.664     0.017768   \n",
      "7835       370  0.00000         NaN  0.532787            0.592     0.518169   \n",
      "\n",
      "        POTASH  CALCIUM_CARBONATE   FERROUS  MANAGESE      ZINK    COPPER  \n",
      "0     0.336795           0.642857  0.511351  0.528437  0.442897  0.465875  \n",
      "1     0.458869           0.285714  0.211235  0.408402  0.367688  0.583086  \n",
      "2     0.570921           0.833333  0.259331  0.472706  0.345404  0.317507  \n",
      "3     0.662932           0.928571  0.766449  0.391255  0.080780  0.176558  \n",
      "4     0.376879           0.642857  0.481339  0.891969  0.175487  0.513353  \n",
      "...        ...                ...       ...       ...       ...       ...  \n",
      "7831  0.203790           0.023810  0.207387  0.314090  0.721448  0.057864  \n",
      "7832  0.448848           0.595238  0.232012  0.253501  0.019499  0.164688  \n",
      "7833  0.529926           0.047619  0.165063  0.534153  0.108635  0.117211  \n",
      "7834  0.244785           0.285714  0.869180  0.777079  0.498607  0.740356  \n",
      "7835  0.529926           0.309524  0.195845  0.194055  0.052925  0.577151  \n",
      "\n",
      "[7743 rows x 17 columns]\n"
     ]
    }
   ],
   "source": [
    "from sklearn.preprocessing import MinMaxScaler\n",
    "cols_to_normalize = ['PH','Organinc Carbon','PHOSPHOROUS','POTASH','CALCIUM_CARBONATE','FERROUS','MANAGESE','ZINK','COPPER','EC']\n",
    "scaler = MinMaxScaler()\n",
    "df[cols_to_normalize] = scaler.fit_transform(df[cols_to_normalize])\n",
    "\n",
    "print(df)\n"
   ]
  },
  {
   "cell_type": "code",
   "execution_count": 514,
   "metadata": {},
   "outputs": [],
   "source": [
    "# from sklearn.preprocessing import StandardScaler\n",
    "# st_x= StandardScaler()  \n",
    "# df= st_x.fit_transform(df)  \n",
    "# print(df)"
   ]
  },
  {
   "cell_type": "code",
   "execution_count": 515,
   "metadata": {},
   "outputs": [
    {
     "name": "stdout",
     "output_type": "stream",
     "text": [
      "[[0.05263158 0.10526316 0.00820425 0.00936599 0.01017843 0.01088969\n",
      "  0.01477847 0.01185771 0.01055465 0.01121932]\n",
      " [0.10526316 0.05263158 0.00728538 0.00818706 0.00876816 0.00903844\n",
      "  0.00984246 0.00890218 0.00876036 0.00897545]\n",
      " [0.10526316 0.10526316 0.06563402 0.13099293 0.18394751 0.21779375\n",
      "  0.23645553 0.24926112 0.26386617 0.26926356]\n",
      " [0.10526316 0.10526316 0.13126805 0.06549646 0.12263168 0.16334531\n",
      "  0.20689859 0.21365239 0.21109293 0.2243863 ]\n",
      " [0.10526316 0.10526316 0.13126805 0.13099293 0.06131584 0.10889687\n",
      "  0.17734165 0.17804366 0.1583197  0.17950904]\n",
      " [0.10526316 0.10526316 0.13126805 0.13099293 0.12263168 0.05444844\n",
      "  0.14778471 0.14243493 0.1583197  0.13463178]\n",
      " [0.10526316 0.10526316 0.13126805 0.13099293 0.12263168 0.10889687\n",
      "  0.02955694 0.01780437 0.01319331 0.01494413]\n",
      " [0.10526316 0.10526316 0.13126805 0.13099293 0.12263168 0.10889687\n",
      "  0.05911388 0.03560873 0.01757349 0.02243863]\n",
      " [0.10526316 0.10526316 0.13126805 0.13099293 0.12263168 0.10889687\n",
      "  0.05911388 0.07121746 0.05277323 0.08975452]\n",
      " [0.10526316 0.10526316 0.13126805 0.13099293 0.12263168 0.10889687\n",
      "  0.05911388 0.07121746 0.10554647 0.04487726]]\n"
     ]
    }
   ],
   "source": [
    "import numpy as np\n",
    "\n",
    "criteria = [\"PH\", \"EC\", \"Organinc Carbon\", \"PHOSPHOROUS\", \"POTASH\", \"CALCIUM_CARBONATE\", \"FERROUS\", \"MANAGESE\", \"ZINK\", \"COPPER\"]\n",
    "n = len(criteria)\n",
    "\n",
    "# Initialize an n x n matrix with ones\n",
    "matrix = np.ones((n, n))\n",
    "\n",
    "# Assign comparison values directly to the matrix\n",
    "matrix[0, 1] = 2\n",
    "matrix[0, 2] = 0.125\n",
    "matrix[0, 3] = 0.143\n",
    "matrix[0, 4] = 0.166\n",
    "matrix[0, 5] = 0.2\n",
    "matrix[0, 6] = 0.5\n",
    "matrix[0, 7] = 0.333\n",
    "matrix[0, 8] = 0.2\n",
    "matrix[0, 9] = 0.25\n",
    "matrix[1, 2] = 0.111\n",
    "matrix[1, 3] = 0.125\n",
    "matrix[1, 4] = 0.143\n",
    "matrix[1, 5] = 0.166\n",
    "matrix[1, 6] = 0.333\n",
    "matrix[1, 7] = 0.25\n",
    "matrix[1, 8] = 0.166\n",
    "matrix[1, 9] = 0.2\n",
    "matrix[2, 3] = 2\n",
    "matrix[2, 4] = 3\n",
    "matrix[2, 5] = 4\n",
    "matrix[2, 6] = 8\n",
    "matrix[2, 7] = 7\n",
    "matrix[2, 8] = 5\n",
    "matrix[2, 9] = 6\n",
    "matrix[3, 4] = 2\n",
    "matrix[3, 5] = 3\n",
    "matrix[3, 6] = 7\n",
    "matrix[3, 7] = 6\n",
    "matrix[3, 8] = 4\n",
    "matrix[3, 9] = 5\n",
    "matrix[4, 5] = 2\n",
    "matrix[4, 6] = 6\n",
    "matrix[4, 7] = 5\n",
    "matrix[4, 8] = 3\n",
    "matrix[4, 9] = 4\n",
    "matrix[5, 6] = 5\n",
    "matrix[5, 7] = 4\n",
    "matrix[5, 8] = 3\n",
    "matrix[5, 9] = 3\n",
    "matrix[6, 7] = 0.5\n",
    "matrix[6, 8] = 0.25\n",
    "matrix[6, 9] = 0.333\n",
    "matrix[7, 8] = 0.333\n",
    "matrix[7, 9] = 0.5\n",
    "matrix[8, 9] = 2\n",
    "\n",
    "# Fill in the lower triangle of the matrix using reciprocal values\n",
    "matrix = matrix + np.tril(1/matrix, -1)\n",
    "\n",
    "# Normalize the matrix by column\n",
    "sums = matrix.sum(axis=0)\n",
    "matrix = matrix / sums\n",
    "\n",
    "# Print the resulting matrix\n",
    "print(matrix)\n",
    "\n"
   ]
  },
  {
   "cell_type": "code",
   "execution_count": 516,
   "metadata": {},
   "outputs": [
    {
     "name": "stdout",
     "output_type": "stream",
     "text": [
      "criteria weights:  [0.02449432 0.02276542 0.18277409 0.1549298  0.13362141 0.12330385\n",
      " 0.07798146 0.08390506 0.09771749 0.09850709]\n"
     ]
    }
   ],
   "source": [
    "# sum all columns in each row and divide by the number of criteria\n",
    "final_weights = np.sum(matrix, axis=1) / len(criteria)\n",
    "\n",
    "print(\"criteria weights: \", final_weights)"
   ]
  },
  {
   "cell_type": "code",
   "execution_count": 517,
   "metadata": {},
   "outputs": [
    {
     "name": "stdout",
     "output_type": "stream",
     "text": [
      "1.0\n"
     ]
    }
   ],
   "source": [
    "Sample=final_weights.sum(axis=0)\n",
    "print(Sample)"
   ]
  },
  {
   "cell_type": "code",
   "execution_count": 518,
   "metadata": {},
   "outputs": [
    {
     "name": "stdout",
     "output_type": "stream",
     "text": [
      "      SAMPLE_NO     SEASON SAMPLE_DATE  \\\n",
      "0         21043  2015-2016  10/12/2015   \n",
      "1         24976  2016-2017    1/3/2017   \n",
      "2         27525  2017-2018   9/18/2017   \n",
      "3         27609  2017-2018   9/19/2017   \n",
      "4         27617  2017-2018   9/20/2017   \n",
      "...         ...        ...         ...   \n",
      "7831      10038  2013-2014   4/13/2013   \n",
      "7832       9888  2012-2013    2/5/2013   \n",
      "7833      42168  2019-2020   1/27/2020   \n",
      "7834      20516  2015-2016   9/22/2015   \n",
      "7835      34414  2018-2019  11/22/2018   \n",
      "\n",
      "                                    FARMER_ENGLISH_NAME VILLAGE_NAME_ENGLISH  \\\n",
      "0                                  MAHAVIR  BAPU  PATIL              SHIRATI   \n",
      "1                                 GANPATI  KESHAV  MANE             JAMBHALI   \n",
      "2                                  KUMAR APPA MURCHUTTE              SHEDBAL   \n",
      "3                               GANPATI  SHIVAJI  PATIL             ARJUNWAD   \n",
      "4     KARYAKARI  SANCHALAK  SHRI DATTA  S.S.S.K.LTD ...               SHIROL   \n",
      "...                                                 ...                  ...   \n",
      "7831  KARYAKARI  SANCHALAK  SHRI DATTA  S.S.S.K.LTD ...               SHIROL   \n",
      "7832  KARYAKARI  SANCHALAK  SHRI DATTA  S.S.S.K.LTD ...               SHIROL   \n",
      "7833  KARYAKARI  SANCHALAK  SHRI DATTA  S.S.S.K.LTD ...               SHIROL   \n",
      "7834                            BABU  PUNAPPA  GADAKARI              SADALGA   \n",
      "7835                           PRAMILA  DILIPRAO  KAMAT          DHARANGUTTI   \n",
      "\n",
      "     SURVEY_NO       PH  Unnamed: 7        EC  Organinc Carbon  PHOSPHOROUS  \\\n",
      "0          492  1.00000         NaN  0.336066            0.832     0.346517   \n",
      "1          664  0.99375         NaN  0.180328            0.088     0.161815   \n",
      "2          797  0.99375         NaN  0.368852            0.568     0.012247   \n",
      "3           43  0.99375         NaN  0.303279            0.640     0.012247   \n",
      "4         1700  0.99125         NaN  0.122951            0.424     0.096567   \n",
      "...        ...      ...         ...       ...              ...          ...   \n",
      "7831       NaN  0.47750         NaN  0.032787            0.288     0.012247   \n",
      "7832       NaN  0.45250         NaN  0.754098            0.608     0.117647   \n",
      "7833    V.S.H.  0.42500         NaN  0.073770            0.752     0.381650   \n",
      "7834     10319  0.07000         NaN  0.147541            0.664     0.017768   \n",
      "7835       370  0.00000         NaN  0.532787            0.592     0.518169   \n",
      "\n",
      "        POTASH  CALCIUM_CARBONATE   FERROUS  MANAGESE      ZINK    COPPER  \\\n",
      "0     0.336795           0.642857  0.511351  0.528437  0.442897  0.465875   \n",
      "1     0.458869           0.285714  0.211235  0.408402  0.367688  0.583086   \n",
      "2     0.570921           0.833333  0.259331  0.472706  0.345404  0.317507   \n",
      "3     0.662932           0.928571  0.766449  0.391255  0.080780  0.176558   \n",
      "4     0.376879           0.642857  0.481339  0.891969  0.175487  0.513353   \n",
      "...        ...                ...       ...       ...       ...       ...   \n",
      "7831  0.203790           0.023810  0.207387  0.314090  0.721448  0.057864   \n",
      "7832  0.448848           0.595238  0.232012  0.253501  0.019499  0.164688   \n",
      "7833  0.529926           0.047619  0.165063  0.534153  0.108635  0.117211   \n",
      "7834  0.244785           0.285714  0.869180  0.777079  0.498607  0.740356   \n",
      "7835  0.529926           0.309524  0.195845  0.194055  0.052925  0.577151   \n",
      "\n",
      "       Results  \n",
      "0     0.535554  \n",
      "1     0.310252  \n",
      "2     0.442406  \n",
      "3     0.471079  \n",
      "4     0.429256  \n",
      "...        ...  \n",
      "7831  0.215869  \n",
      "7832  0.348467  \n",
      "7833  0.365197  \n",
      "7834  0.451760  \n",
      "7835  0.403166  \n",
      "\n",
      "[7743 rows x 18 columns]\n"
     ]
    }
   ],
   "source": [
    "# Define the decision matrix using the df dataframe\n",
    "decision_matrix = df[['PH', 'EC', 'Organinc Carbon', 'PHOSPHOROUS', 'POTASH', 'CALCIUM_CARBONATE', 'FERROUS', 'MANAGESE', 'ZINK', 'COPPER']].values  # select only relevant columns\n",
    "\n",
    "# Define the weights for each criterion from AHP analysis\n",
    "weights = final_weights\n",
    "\n",
    "# Expand the weights array to have the same shape as the decision matrix\n",
    "expanded_weights = np.expand_dims(weights, axis=0)\n",
    "expanded_weights = np.repeat(expanded_weights, decision_matrix.shape[0], axis=0)\n",
    "\n",
    "# Calculate the weighted sum for each alternative\n",
    "weighted_sums = np.sum(decision_matrix * expanded_weights, axis=1)\n",
    "\n",
    "df['Results'] = weighted_sums\n",
    "print(df)\n"
   ]
  },
  {
   "cell_type": "code",
   "execution_count": 519,
   "metadata": {},
   "outputs": [
    {
     "name": "stdout",
     "output_type": "stream",
     "text": [
      "           PH        EC  Organinc Carbon  PHOSPHOROUS    POTASH  \\\n",
      "0     1.00000  0.336066            0.832     0.346517  0.336795   \n",
      "1     0.99375  0.180328            0.088     0.161815  0.458869   \n",
      "2     0.99375  0.368852            0.568     0.012247  0.570921   \n",
      "3     0.99375  0.303279            0.640     0.012247  0.662932   \n",
      "4     0.99125  0.122951            0.424     0.096567  0.376879   \n",
      "...       ...       ...              ...          ...       ...   \n",
      "7831  0.47750  0.032787            0.288     0.012247  0.203790   \n",
      "7832  0.45250  0.754098            0.608     0.117647  0.448848   \n",
      "7833  0.42500  0.073770            0.752     0.381650  0.529926   \n",
      "7834  0.07000  0.147541            0.664     0.017768  0.244785   \n",
      "7835  0.00000  0.532787            0.592     0.518169  0.529926   \n",
      "\n",
      "      CALCIUM_CARBONATE   FERROUS  MANAGESE      ZINK    COPPER   Results  \n",
      "0              0.642857  0.511351  0.528437  0.442897  0.465875  0.535554  \n",
      "1              0.285714  0.211235  0.408402  0.367688  0.583086  0.310252  \n",
      "2              0.833333  0.259331  0.472706  0.345404  0.317507  0.442406  \n",
      "3              0.928571  0.766449  0.391255  0.080780  0.176558  0.471079  \n",
      "4              0.642857  0.481339  0.891969  0.175487  0.513353  0.429256  \n",
      "...                 ...       ...       ...       ...       ...       ...  \n",
      "7831           0.023810  0.207387  0.314090  0.721448  0.057864  0.215869  \n",
      "7832           0.595238  0.232012  0.253501  0.019499  0.164688  0.348467  \n",
      "7833           0.047619  0.165063  0.534153  0.108635  0.117211  0.365197  \n",
      "7834           0.285714  0.869180  0.777079  0.498607  0.740356  0.451760  \n",
      "7835           0.309524  0.195845  0.194055  0.052925  0.577151  0.403166  \n",
      "\n",
      "[7743 rows x 11 columns]\n"
     ]
    }
   ],
   "source": [
    "df = df.drop(['SEASON', 'SAMPLE_DATE','FARMER_ENGLISH_NAME','VILLAGE_NAME_ENGLISH','SURVEY_NO','Unnamed: 7','SAMPLE_NO'], axis=1)\n",
    "print(df)"
   ]
  },
  {
   "cell_type": "code",
   "execution_count": 520,
   "metadata": {},
   "outputs": [
    {
     "name": "stdout",
     "output_type": "stream",
     "text": [
      "(array([], dtype=int64),)\n"
     ]
    }
   ],
   "source": [
    "df['Quality'] = pd.cut(df.Results,bins=[0,0.4,0.5,0.7,1],labels=['Poor','Medium','Good','Excellent'])\n",
    "# print(df)\n",
    "\n",
    "test = np.where(df['Results']>0.7)\n",
    "print (test)"
   ]
  },
  {
   "cell_type": "markdown",
   "metadata": {},
   "source": []
  },
  {
   "cell_type": "code",
   "execution_count": 521,
   "metadata": {},
   "outputs": [
    {
     "data": {
      "text/plain": [
       "<AxesSubplot:>"
      ]
     },
     "execution_count": 521,
     "metadata": {},
     "output_type": "execute_result"
    },
    {
     "data": {
      "image/png": "[encoded data removed]",
      "text/plain": [
       "<Figure size 720x576 with 2 Axes>"
      ]
     },
     "metadata": {
      "needs_background": "light"
     },
     "output_type": "display_data"
    }
   ],
   "source": [
    "fig, ax = plt.subplots(figsize =(10,8))\n",
    "sns.heatmap(df[['EC','Organinc Carbon','PHOSPHOROUS','POTASH','CALCIUM_CARBONATE','FERROUS']].corr(), linewidths= .5)"
   ]
  },
  {
   "cell_type": "code",
   "execution_count": 522,
   "metadata": {},
   "outputs": [
    {
     "name": "stdout",
     "output_type": "stream",
     "text": [
      "           PH        EC  Organinc Carbon  PHOSPHOROUS    POTASH  \\\n",
      "0     1.00000  0.336066            0.832     0.346517  0.336795   \n",
      "1     0.99375  0.180328            0.088     0.161815  0.458869   \n",
      "2     0.99375  0.368852            0.568     0.012247  0.570921   \n",
      "3     0.99375  0.303279            0.640     0.012247  0.662932   \n",
      "4     0.99125  0.122951            0.424     0.096567  0.376879   \n",
      "...       ...       ...              ...          ...       ...   \n",
      "7831  0.47750  0.032787            0.288     0.012247  0.203790   \n",
      "7832  0.45250  0.754098            0.608     0.117647  0.448848   \n",
      "7833  0.42500  0.073770            0.752     0.381650  0.529926   \n",
      "7834  0.07000  0.147541            0.664     0.017768  0.244785   \n",
      "7835  0.00000  0.532787            0.592     0.518169  0.529926   \n",
      "\n",
      "      CALCIUM_CARBONATE   FERROUS  MANAGESE      ZINK    COPPER Quality  \n",
      "0              0.642857  0.511351  0.528437  0.442897  0.465875    Good  \n",
      "1              0.285714  0.211235  0.408402  0.367688  0.583086    Poor  \n",
      "2              0.833333  0.259331  0.472706  0.345404  0.317507  Medium  \n",
      "3              0.928571  0.766449  0.391255  0.080780  0.176558  Medium  \n",
      "4              0.642857  0.481339  0.891969  0.175487  0.513353  Medium  \n",
      "...                 ...       ...       ...       ...       ...     ...  \n",
      "7831           0.023810  0.207387  0.314090  0.721448  0.057864    Poor  \n",
      "7832           0.595238  0.232012  0.253501  0.019499  0.164688    Poor  \n",
      "7833           0.047619  0.165063  0.534153  0.108635  0.117211    Poor  \n",
      "7834           0.285714  0.869180  0.777079  0.498607  0.740356  Medium  \n",
      "7835           0.309524  0.195845  0.194055  0.052925  0.577151  Medium  \n",
      "\n",
      "[7743 rows x 11 columns]\n",
      "0         Good\n",
      "1         Poor\n",
      "2       Medium\n",
      "3       Medium\n",
      "4       Medium\n",
      "         ...  \n",
      "7831      Poor\n",
      "7832      Poor\n",
      "7833      Poor\n",
      "7834    Medium\n",
      "7835    Medium\n",
      "Name: Quality, Length: 7743, dtype: category\n",
      "Categories (4, object): ['Poor' < 'Medium' < 'Good' < 'Excellent']\n",
      "Medium       3441\n",
      "Poor         2997\n",
      "Good         1305\n",
      "Excellent       0\n",
      "Name: Quality, dtype: int64\n"
     ]
    }
   ],
   "source": [
    "temp = df.drop(labels =['Results'], axis = 1)\n",
    "y = df['Quality']\n",
    "print (temp)\n",
    "print(y)\n",
    "print(y.value_counts())"
   ]
  },
  {
   "cell_type": "code",
   "execution_count": 523,
   "metadata": {},
   "outputs": [
    {
     "name": "stdout",
     "output_type": "stream",
     "text": [
      "[[1.         0.33606557 0.832      ... 0.44289694 0.46587537 0.53555379]\n",
      " [0.99375    0.18032787 0.088      ... 0.36768802 0.58308605 0.31025199]\n",
      " [0.99375    0.36885246 0.568      ... 0.3454039  0.31750742 0.442406  ]\n",
      " ...\n",
      " [0.425      0.07377049 0.752      ... 0.1086351  0.11721068 0.36519735]\n",
      " [0.07       0.14754098 0.664      ... 0.49860724 0.74035608 0.45176008]\n",
      " [0.         0.53278689 0.592      ... 0.05292479 0.57715134 0.40316583]]\n",
      "['Good', 'Poor', 'Medium', 'Medium', 'Medium', ..., 'Poor', 'Poor', 'Poor', 'Medium', 'Medium']\n",
      "Length: 7743\n",
      "Categories (4, object): ['Poor' < 'Medium' < 'Good' < 'Excellent']\n"
     ]
    }
   ],
   "source": [
    "x = df.iloc[:,:-1].values\n",
    "print(x)\n",
    "y = df.iloc[:,11].values\n",
    "print(y)"
   ]
  },
  {
   "cell_type": "code",
   "execution_count": 524,
   "metadata": {},
   "outputs": [
    {
     "data": {
      "text/plain": [
       "((6194, 11), (1549, 11))"
      ]
     },
     "execution_count": 524,
     "metadata": {},
     "output_type": "execute_result"
    }
   ],
   "source": [
    "from sklearn.model_selection import train_test_split\n",
    "\n",
    "\n",
    "x_train, x_test, y_train, y_test = train_test_split(x, y, test_size= 0.2, random_state=2, shuffle=True)\n",
    "\n",
    "x_train.shape,x_test.shape\n",
    "\n",
    "\n"
   ]
  },
  {
   "cell_type": "code",
   "execution_count": 525,
   "metadata": {},
   "outputs": [
    {
     "name": "stdout",
     "output_type": "stream",
     "text": [
      "['Medium', 'Good', 'Medium', 'Poor', 'Medium', ..., 'Poor', 'Good', 'Medium', 'Medium', 'Poor']\n",
      "Length: 1549\n",
      "Categories (4, object): ['Poor' < 'Medium' < 'Good' < 'Excellent']\n",
      "Poor         611\n",
      "Medium       677\n",
      "Good         261\n",
      "Excellent      0\n",
      "dtype: int64\n"
     ]
    }
   ],
   "source": [
    "print(y_test)\n",
    "print(y_test.value_counts())"
   ]
  },
  {
   "cell_type": "code",
   "execution_count": 526,
   "metadata": {},
   "outputs": [
    {
     "name": "stdout",
     "output_type": "stream",
     "text": [
      "['Poor', 'Poor', 'Medium', 'Poor', 'Medium', ..., 'Poor', 'Poor', 'Poor', 'Medium', 'Poor']\n",
      "Length: 6194\n",
      "Categories (4, object): ['Poor' < 'Medium' < 'Good' < 'Excellent']\n"
     ]
    }
   ],
   "source": [
    "print (y_train)"
   ]
  },
  {
   "cell_type": "code",
   "execution_count": 527,
   "metadata": {},
   "outputs": [
    {
     "data": {
      "text/plain": [
       "((6194, 11), (1549, 11))"
      ]
     },
     "execution_count": 527,
     "metadata": {},
     "output_type": "execute_result"
    }
   ],
   "source": [
    "\n",
    "x_train.shape,x_test.shape"
   ]
  },
  {
   "cell_type": "code",
   "execution_count": 528,
   "metadata": {},
   "outputs": [
    {
     "data": {
      "text/plain": [
       "((6194,), (1549,))"
      ]
     },
     "execution_count": 528,
     "metadata": {},
     "output_type": "execute_result"
    }
   ],
   "source": [
    "\n",
    "y_train.shape,y_test.shape"
   ]
  },
  {
   "cell_type": "code",
   "execution_count": 529,
   "metadata": {},
   "outputs": [
    {
     "data": {
      "text/html": [
       "<style>#sk-container-id-15 {color: black;background-color: white;}#sk-container-id-15 pre{padding: 0;}#sk-container-id-15 div.sk-toggleable {background-color: white;}#sk-container-id-15 label.sk-toggleable__label {cursor: pointer;display: block;width: 100%;margin-bottom: 0;padding: 0.3em;box-sizing: border-box;text-align: center;}#sk-container-id-15 label.sk-toggleable__label-arrow:before {content: \"▸\";float: left;margin-right: 0.25em;color: #696969;}#sk-container-id-15 label.sk-toggleable__label-arrow:hover:before {color: black;}#sk-container-id-15 div.sk-estimator:hover label.sk-toggleable__label-arrow:before {color: black;}#sk-container-id-15 div.sk-toggleable__content {max-height: 0;max-width: 0;overflow: hidden;text-align: left;background-color: #f0f8ff;}#sk-container-id-15 div.sk-toggleable__content pre {margin: 0.2em;color: black;border-radius: 0.25em;background-color: #f0f8ff;}#sk-container-id-15 input.sk-toggleable__control:checked~div.sk-toggleable__content {max-height: 200px;max-width: 100%;overflow: auto;}#sk-container-id-15 input.sk-toggleable__control:checked~label.sk-toggleable__label-arrow:before {content: \"▾\";}#sk-container-id-15 div.sk-estimator input.sk-toggleable__control:checked~label.sk-toggleable__label {background-color: #d4ebff;}#sk-container-id-15 div.sk-label input.sk-toggleable__control:checked~label.sk-toggleable__label {background-color: #d4ebff;}#sk-container-id-15 input.sk-hidden--visually {border: 0;clip: rect(1px 1px 1px 1px);clip: rect(1px, 1px, 1px, 1px);height: 1px;margin: -1px;overflow: hidden;padding: 0;position: absolute;width: 1px;}#sk-container-id-15 div.sk-estimator {font-family: monospace;background-color: #f0f8ff;border: 1px dotted black;border-radius: 0.25em;box-sizing: border-box;margin-bottom: 0.5em;}#sk-container-id-15 div.sk-estimator:hover {background-color: #d4ebff;}#sk-container-id-15 div.sk-parallel-item::after {content: \"\";width: 100%;border-bottom: 1px solid gray;flex-grow: 1;}#sk-container-id-15 div.sk-label:hover label.sk-toggleable__label {background-color: #d4ebff;}#sk-container-id-15 div.sk-serial::before {content: \"\";position: absolute;border-left: 1px solid gray;box-sizing: border-box;top: 0;bottom: 0;left: 50%;z-index: 0;}#sk-container-id-15 div.sk-serial {display: flex;flex-direction: column;align-items: center;background-color: white;padding-right: 0.2em;padding-left: 0.2em;position: relative;}#sk-container-id-15 div.sk-item {position: relative;z-index: 1;}#sk-container-id-15 div.sk-parallel {display: flex;align-items: stretch;justify-content: center;background-color: white;position: relative;}#sk-container-id-15 div.sk-item::before, #sk-container-id-15 div.sk-parallel-item::before {content: \"\";position: absolute;border-left: 1px solid gray;box-sizing: border-box;top: 0;bottom: 0;left: 50%;z-index: -1;}#sk-container-id-15 div.sk-parallel-item {display: flex;flex-direction: column;z-index: 1;position: relative;background-color: white;}#sk-container-id-15 div.sk-parallel-item:first-child::after {align-self: flex-end;width: 50%;}#sk-container-id-15 div.sk-parallel-item:last-child::after {align-self: flex-start;width: 50%;}#sk-container-id-15 div.sk-parallel-item:only-child::after {width: 0;}#sk-container-id-15 div.sk-dashed-wrapped {border: 1px dashed gray;margin: 0 0.4em 0.5em 0.4em;box-sizing: border-box;padding-bottom: 0.4em;background-color: white;}#sk-container-id-15 div.sk-label label {font-family: monospace;font-weight: bold;display: inline-block;line-height: 1.2em;}#sk-container-id-15 div.sk-label-container {text-align: center;}#sk-container-id-15 div.sk-container {/* jupyter's `normalize.less` sets `[hidden] { display: none; }` but bootstrap.min.css set `[hidden] { display: none !important; }` so we also need the `!important` here to be able to override the default hidden behavior on the sphinx rendered scikit-learn.org. See: https://github.com/scikit-learn/scikit-learn/issues/21755 */display: inline-block !important;position: relative;}#sk-container-id-15 div.sk-text-repr-fallback {display: none;}</style><div id=\"sk-container-id-15\" class=\"sk-top-container\"><div class=\"sk-text-repr-fallback\"><pre>VarianceThreshold(threshold=0)</pre><b>In a Jupyter environment, please rerun this cell to show the HTML representation or trust the notebook. <br />On GitHub, the HTML representation is unable to render, please try loading this page with nbviewer.org.</b></div><div class=\"sk-container\" hidden><div class=\"sk-item\"><div class=\"sk-estimator sk-toggleable\"><input class=\"sk-toggleable__control sk-hidden--visually\" id=\"sk-estimator-id-15\" type=\"checkbox\" checked><label for=\"sk-estimator-id-15\" class=\"sk-toggleable__label sk-toggleable__label-arrow\">VarianceThreshold</label><div class=\"sk-toggleable__content\"><pre>VarianceThreshold(threshold=0)</pre></div></div></div></div></div>"
      ],
      "text/plain": [
       "VarianceThreshold(threshold=0)"
      ]
     },
     "execution_count": 529,
     "metadata": {},
     "output_type": "execute_result"
    }
   ],
   "source": [
    "from sklearn.feature_selection import VarianceThreshold\n",
    "# Check if there are any constant features\n",
    "var_thres = VarianceThreshold(threshold=0)\n",
    "var_thres.fit(x_train)"
   ]
  },
  {
   "cell_type": "code",
   "execution_count": 530,
   "metadata": {},
   "outputs": [
    {
     "data": {
      "text/plain": [
       "11"
      ]
     },
     "execution_count": 530,
     "metadata": {},
     "output_type": "execute_result"
    }
   ],
   "source": [
    "sum(var_thres.get_support())"
   ]
  },
  {
   "cell_type": "code",
   "execution_count": 531,
   "metadata": {},
   "outputs": [],
   "source": [
    "# from sklearn.preprocessing import StandardScaler\n",
    "# st_x= StandardScaler()  \n",
    "# x_train= st_x.fit_transform(x_train)  \n",
    "# print(x_train)"
   ]
  },
  {
   "cell_type": "code",
   "execution_count": 532,
   "metadata": {},
   "outputs": [
    {
     "name": "stdout",
     "output_type": "stream",
     "text": [
      "[[0.86       0.59016393 0.712      ... 0.02506964 0.49554896 0.43079302]\n",
      " [0.88125    0.50819672 0.568      ... 0.3454039  0.52522255 0.50281317]\n",
      " [0.8725     0.42622951 0.472      ... 0.1643454  0.27299703 0.42635429]\n",
      " ...\n",
      " [0.89375    0.20491803 0.616      ... 0.21169916 0.55489614 0.40391648]\n",
      " [0.91125    0.95901639 0.904      ... 0.10027855 0.79970326 0.49246897]\n",
      " [0.825      0.87704918 0.608      ... 0.1643454  0.33976261 0.36758353]]\n"
     ]
    }
   ],
   "source": [
    "# x_test= st_x.transform(x_test) \n",
    "print(x_test)"
   ]
  },
  {
   "cell_type": "code",
   "execution_count": 533,
   "metadata": {},
   "outputs": [
    {
     "data": {
      "text/html": [
       "<style>#sk-container-id-16 {color: black;background-color: white;}#sk-container-id-16 pre{padding: 0;}#sk-container-id-16 div.sk-toggleable {background-color: white;}#sk-container-id-16 label.sk-toggleable__label {cursor: pointer;display: block;width: 100%;margin-bottom: 0;padding: 0.3em;box-sizing: border-box;text-align: center;}#sk-container-id-16 label.sk-toggleable__label-arrow:before {content: \"▸\";float: left;margin-right: 0.25em;color: #696969;}#sk-container-id-16 label.sk-toggleable__label-arrow:hover:before {color: black;}#sk-container-id-16 div.sk-estimator:hover label.sk-toggleable__label-arrow:before {color: black;}#sk-container-id-16 div.sk-toggleable__content {max-height: 0;max-width: 0;overflow: hidden;text-align: left;background-color: #f0f8ff;}#sk-container-id-16 div.sk-toggleable__content pre {margin: 0.2em;color: black;border-radius: 0.25em;background-color: #f0f8ff;}#sk-container-id-16 input.sk-toggleable__control:checked~div.sk-toggleable__content {max-height: 200px;max-width: 100%;overflow: auto;}#sk-container-id-16 input.sk-toggleable__control:checked~label.sk-toggleable__label-arrow:before {content: \"▾\";}#sk-container-id-16 div.sk-estimator input.sk-toggleable__control:checked~label.sk-toggleable__label {background-color: #d4ebff;}#sk-container-id-16 div.sk-label input.sk-toggleable__control:checked~label.sk-toggleable__label {background-color: #d4ebff;}#sk-container-id-16 input.sk-hidden--visually {border: 0;clip: rect(1px 1px 1px 1px);clip: rect(1px, 1px, 1px, 1px);height: 1px;margin: -1px;overflow: hidden;padding: 0;position: absolute;width: 1px;}#sk-container-id-16 div.sk-estimator {font-family: monospace;background-color: #f0f8ff;border: 1px dotted black;border-radius: 0.25em;box-sizing: border-box;margin-bottom: 0.5em;}#sk-container-id-16 div.sk-estimator:hover {background-color: #d4ebff;}#sk-container-id-16 div.sk-parallel-item::after {content: \"\";width: 100%;border-bottom: 1px solid gray;flex-grow: 1;}#sk-container-id-16 div.sk-label:hover label.sk-toggleable__label {background-color: #d4ebff;}#sk-container-id-16 div.sk-serial::before {content: \"\";position: absolute;border-left: 1px solid gray;box-sizing: border-box;top: 0;bottom: 0;left: 50%;z-index: 0;}#sk-container-id-16 div.sk-serial {display: flex;flex-direction: column;align-items: center;background-color: white;padding-right: 0.2em;padding-left: 0.2em;position: relative;}#sk-container-id-16 div.sk-item {position: relative;z-index: 1;}#sk-container-id-16 div.sk-parallel {display: flex;align-items: stretch;justify-content: center;background-color: white;position: relative;}#sk-container-id-16 div.sk-item::before, #sk-container-id-16 div.sk-parallel-item::before {content: \"\";position: absolute;border-left: 1px solid gray;box-sizing: border-box;top: 0;bottom: 0;left: 50%;z-index: -1;}#sk-container-id-16 div.sk-parallel-item {display: flex;flex-direction: column;z-index: 1;position: relative;background-color: white;}#sk-container-id-16 div.sk-parallel-item:first-child::after {align-self: flex-end;width: 50%;}#sk-container-id-16 div.sk-parallel-item:last-child::after {align-self: flex-start;width: 50%;}#sk-container-id-16 div.sk-parallel-item:only-child::after {width: 0;}#sk-container-id-16 div.sk-dashed-wrapped {border: 1px dashed gray;margin: 0 0.4em 0.5em 0.4em;box-sizing: border-box;padding-bottom: 0.4em;background-color: white;}#sk-container-id-16 div.sk-label label {font-family: monospace;font-weight: bold;display: inline-block;line-height: 1.2em;}#sk-container-id-16 div.sk-label-container {text-align: center;}#sk-container-id-16 div.sk-container {/* jupyter's `normalize.less` sets `[hidden] { display: none; }` but bootstrap.min.css set `[hidden] { display: none !important; }` so we also need the `!important` here to be able to override the default hidden behavior on the sphinx rendered scikit-learn.org. See: https://github.com/scikit-learn/scikit-learn/issues/21755 */display: inline-block !important;position: relative;}#sk-container-id-16 div.sk-text-repr-fallback {display: none;}</style><div id=\"sk-container-id-16\" class=\"sk-top-container\"><div class=\"sk-text-repr-fallback\"><pre>RandomForestClassifier(criterion=&#x27;entropy&#x27;, n_estimators=10)</pre><b>In a Jupyter environment, please rerun this cell to show the HTML representation or trust the notebook. <br />On GitHub, the HTML representation is unable to render, please try loading this page with nbviewer.org.</b></div><div class=\"sk-container\" hidden><div class=\"sk-item\"><div class=\"sk-estimator sk-toggleable\"><input class=\"sk-toggleable__control sk-hidden--visually\" id=\"sk-estimator-id-16\" type=\"checkbox\" checked><label for=\"sk-estimator-id-16\" class=\"sk-toggleable__label sk-toggleable__label-arrow\">RandomForestClassifier</label><div class=\"sk-toggleable__content\"><pre>RandomForestClassifier(criterion=&#x27;entropy&#x27;, n_estimators=10)</pre></div></div></div></div></div>"
      ],
      "text/plain": [
       "RandomForestClassifier(criterion='entropy', n_estimators=10)"
      ]
     },
     "execution_count": 533,
     "metadata": {},
     "output_type": "execute_result"
    }
   ],
   "source": [
    "from sklearn.ensemble import RandomForestClassifier  \n",
    "classifier= RandomForestClassifier(n_estimators= 10, criterion=\"entropy\")  \n",
    "classifier.fit(x_train, y_train)"
   ]
  },
  {
   "cell_type": "code",
   "execution_count": 534,
   "metadata": {},
   "outputs": [
    {
     "name": "stdout",
     "output_type": "stream",
     "text": [
      "['Medium' 'Good' 'Medium' ... 'Medium' 'Medium' 'Poor']\n"
     ]
    }
   ],
   "source": [
    "y_pred= classifier.predict(x_test)\n",
    "print(y_pred)"
   ]
  },
  {
   "cell_type": "code",
   "execution_count": 535,
   "metadata": {},
   "outputs": [],
   "source": [
    "#Creating the Confusion matrix  \n",
    "from sklearn.metrics import confusion_matrix  \n",
    "cm= confusion_matrix(y_test, y_pred) "
   ]
  },
  {
   "cell_type": "code",
   "execution_count": 536,
   "metadata": {},
   "outputs": [
    {
     "name": "stdout",
     "output_type": "stream",
     "text": [
      "[[260   1   0]\n",
      " [  0 677   0]\n",
      " [  0   0 611]]\n"
     ]
    }
   ],
   "source": [
    "print(cm)"
   ]
  },
  {
   "cell_type": "code",
   "execution_count": 537,
   "metadata": {},
   "outputs": [
    {
     "data": {
      "image/png": "[encoded data removed]",
      "text/plain": [
       "<Figure size 432x288 with 2 Axes>"
      ]
     },
     "metadata": {
      "needs_background": "light"
     },
     "output_type": "display_data"
    },
    {
     "name": "stdout",
     "output_type": "stream",
     "text": [
      "Accuracy =  0.9993544222078761\n"
     ]
    }
   ],
   "source": [
    "from sklearn import metrics\n",
    "\n",
    "cm = metrics.confusion_matrix(y_test, y_pred)\n",
    "\n",
    "cm_display = metrics.ConfusionMatrixDisplay(confusion_matrix = cm, display_labels = ['Good','Medium','Poor'])\n",
    "\n",
    "cm_display.plot()\n",
    "plt.show()\n",
    "\n",
    "# [[659  39   0   0]\n",
    "#  [ 19 673  22   0]\n",
    "#  [  0  18 329  18]\n",
    "#  [  0   1  27 305]]\n",
    "\n",
    "accuracy = metrics.accuracy_score(y_test, y_pred)\n",
    "print(\"Accuracy = \",accuracy)\n"
   ]
  },
  {
   "cell_type": "markdown",
   "metadata": {},
   "source": []
  },
  {
   "cell_type": "markdown",
   "metadata": {},
   "source": []
  }
 ],
 "metadata": {
  "kernelspec": {
   "display_name": "Python 3",
   "language": "python",
   "name": "python3"
  },
  "language_info": {
   "codemirror_mode": {
    "name": "ipython",
    "version": 3
   },
   "file_extension": ".py",
   "mimetype": "text/x-python",
   "name": "python",
   "nbconvert_exporter": "python",
   "pygments_lexer": "ipython3",
   "version": "3.9.6"
  }
 },
 "nbformat": 4,
 "nbformat_minor": 2
}
