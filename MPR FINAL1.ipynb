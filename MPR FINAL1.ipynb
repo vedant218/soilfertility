{
 "cells": [
  {
   "cell_type": "code",
   "execution_count": 109,
   "metadata": {},
   "outputs": [],
   "source": [
    "import numpy as np\n",
    "import matplotlib.pyplot as plt\n",
    "import pandas as pd"
   ]
  },
  {
   "cell_type": "code",
   "execution_count": 110,
   "metadata": {},
   "outputs": [],
   "source": [
    "df = pd.read_csv('soil_fertility.csv')"
   ]
  },
  {
   "cell_type": "code",
   "execution_count": 111,
   "metadata": {},
   "outputs": [
    {
     "data": {
      "text/html": [
       "<div>\n",
       "<style scoped>\n",
       "    .dataframe tbody tr th:only-of-type {\n",
       "        vertical-align: middle;\n",
       "    }\n",
       "\n",
       "    .dataframe tbody tr th {\n",
       "        vertical-align: top;\n",
       "    }\n",
       "\n",
       "    .dataframe thead th {\n",
       "        text-align: right;\n",
       "    }\n",
       "</style>\n",
       "<table border=\"1\" class=\"dataframe\">\n",
       "  <thead>\n",
       "    <tr style=\"text-align: right;\">\n",
       "      <th></th>\n",
       "      <th>SAMPLE_NO</th>\n",
       "      <th>SEASON</th>\n",
       "      <th>SAMPLE_DATE</th>\n",
       "      <th>FARMER_ENGLISH_NAME</th>\n",
       "      <th>VILLAGE_NAME_ENGLISH</th>\n",
       "      <th>SURVEY_NO</th>\n",
       "      <th>PH</th>\n",
       "      <th>Unnamed: 7</th>\n",
       "      <th>EC</th>\n",
       "      <th>Organinc Carbon</th>\n",
       "      <th>PHOSPHOROUS</th>\n",
       "      <th>POTASH</th>\n",
       "      <th>CALCIUM_CARBONATE</th>\n",
       "      <th>FERROUS</th>\n",
       "      <th>MANAGESE</th>\n",
       "      <th>ZINK</th>\n",
       "      <th>COPPER</th>\n",
       "    </tr>\n",
       "  </thead>\n",
       "  <tbody>\n",
       "    <tr>\n",
       "      <th>0</th>\n",
       "      <td>35902</td>\n",
       "      <td>2019-2020</td>\n",
       "      <td>5/15/2019</td>\n",
       "      <td>ANNASAO  ALIS  KIRTIKUMAR  GUNDAPPA .DANOLE</td>\n",
       "      <td>SHIRDHON</td>\n",
       "      <td>172/75</td>\n",
       "      <td>7.30</td>\n",
       "      <td>0.36</td>\n",
       "      <td>0.42</td>\n",
       "      <td>100.66</td>\n",
       "      <td>997.0</td>\n",
       "      <td>5.2</td>\n",
       "      <td>10.9</td>\n",
       "      <td>6.10</td>\n",
       "      <td>0.60</td>\n",
       "      <td>4.60</td>\n",
       "      <td>NaN</td>\n",
       "    </tr>\n",
       "    <tr>\n",
       "      <th>1</th>\n",
       "      <td>21043</td>\n",
       "      <td>2015-2016</td>\n",
       "      <td>10/12/2015</td>\n",
       "      <td>MAHAVIR  BAPU  PATIL</td>\n",
       "      <td>SHIRATI</td>\n",
       "      <td>492</td>\n",
       "      <td>8.60</td>\n",
       "      <td>NaN</td>\n",
       "      <td>0.44</td>\n",
       "      <td>1.08</td>\n",
       "      <td>34.9</td>\n",
       "      <td>370.0</td>\n",
       "      <td>12.0</td>\n",
       "      <td>13.30</td>\n",
       "      <td>18.50</td>\n",
       "      <td>1.60</td>\n",
       "      <td>6.30</td>\n",
       "    </tr>\n",
       "    <tr>\n",
       "      <th>2</th>\n",
       "      <td>24651</td>\n",
       "      <td>2016-2017</td>\n",
       "      <td>12/22/2016</td>\n",
       "      <td>ADAPPA  DADA  LADGE</td>\n",
       "      <td>CHAND-SHIRADWAD</td>\n",
       "      <td>121/1</td>\n",
       "      <td>8.58</td>\n",
       "      <td>NaN</td>\n",
       "      <td>0.50</td>\n",
       "      <td>0.78</td>\n",
       "      <td>13.3</td>\n",
       "      <td>403.0</td>\n",
       "      <td>9.6</td>\n",
       "      <td>93.20</td>\n",
       "      <td>12.40</td>\n",
       "      <td>1.19</td>\n",
       "      <td>7.00</td>\n",
       "    </tr>\n",
       "    <tr>\n",
       "      <th>3</th>\n",
       "      <td>24976</td>\n",
       "      <td>2016-2017</td>\n",
       "      <td>1/3/2017</td>\n",
       "      <td>GANPATI  KESHAV  MANE</td>\n",
       "      <td>JAMBHALI</td>\n",
       "      <td>664</td>\n",
       "      <td>8.55</td>\n",
       "      <td>NaN</td>\n",
       "      <td>0.25</td>\n",
       "      <td>0.15</td>\n",
       "      <td>16.5</td>\n",
       "      <td>504.0</td>\n",
       "      <td>6.0</td>\n",
       "      <td>5.50</td>\n",
       "      <td>14.30</td>\n",
       "      <td>1.33</td>\n",
       "      <td>7.88</td>\n",
       "    </tr>\n",
       "    <tr>\n",
       "      <th>4</th>\n",
       "      <td>27525</td>\n",
       "      <td>2017-2018</td>\n",
       "      <td>9/18/2017</td>\n",
       "      <td>KUMAR APPA MURCHUTTE</td>\n",
       "      <td>SHEDBAL</td>\n",
       "      <td>797</td>\n",
       "      <td>8.55</td>\n",
       "      <td>NaN</td>\n",
       "      <td>0.48</td>\n",
       "      <td>0.75</td>\n",
       "      <td>1.6</td>\n",
       "      <td>627.0</td>\n",
       "      <td>15.2</td>\n",
       "      <td>6.75</td>\n",
       "      <td>16.55</td>\n",
       "      <td>1.25</td>\n",
       "      <td>4.30</td>\n",
       "    </tr>\n",
       "  </tbody>\n",
       "</table>\n",
       "</div>"
      ],
      "text/plain": [
       "   SAMPLE_NO     SEASON SAMPLE_DATE  \\\n",
       "0      35902  2019-2020   5/15/2019   \n",
       "1      21043  2015-2016  10/12/2015   \n",
       "2      24651  2016-2017  12/22/2016   \n",
       "3      24976  2016-2017    1/3/2017   \n",
       "4      27525  2017-2018   9/18/2017   \n",
       "\n",
       "                           FARMER_ENGLISH_NAME VILLAGE_NAME_ENGLISH SURVEY_NO  \\\n",
       "0  ANNASAO  ALIS  KIRTIKUMAR  GUNDAPPA .DANOLE             SHIRDHON    172/75   \n",
       "1                         MAHAVIR  BAPU  PATIL              SHIRATI       492   \n",
       "2                          ADAPPA  DADA  LADGE      CHAND-SHIRADWAD     121/1   \n",
       "3                        GANPATI  KESHAV  MANE             JAMBHALI       664   \n",
       "4                         KUMAR APPA MURCHUTTE              SHEDBAL       797   \n",
       "\n",
       "     PH  Unnamed: 7    EC  Organinc Carbon  PHOSPHOROUS  POTASH  \\\n",
       "0  7.30        0.36  0.42           100.66        997.0     5.2   \n",
       "1  8.60         NaN  0.44             1.08         34.9   370.0   \n",
       "2  8.58         NaN  0.50             0.78         13.3   403.0   \n",
       "3  8.55         NaN  0.25             0.15         16.5   504.0   \n",
       "4  8.55         NaN  0.48             0.75          1.6   627.0   \n",
       "\n",
       "   CALCIUM_CARBONATE  FERROUS  MANAGESE  ZINK  COPPER  \n",
       "0               10.9     6.10      0.60  4.60     NaN  \n",
       "1               12.0    13.30     18.50  1.60    6.30  \n",
       "2                9.6    93.20     12.40  1.19    7.00  \n",
       "3                6.0     5.50     14.30  1.33    7.88  \n",
       "4               15.2     6.75     16.55  1.25    4.30  "
      ]
     },
     "execution_count": 111,
     "metadata": {},
     "output_type": "execute_result"
    }
   ],
   "source": [
    "df.head()"
   ]
  },
  {
   "cell_type": "code",
   "execution_count": 112,
   "metadata": {},
   "outputs": [
    {
     "data": {
      "text/plain": [
       "<AxesSubplot:>"
      ]
     },
     "execution_count": 112,
     "metadata": {},
     "output_type": "execute_result"
    },
    {
     "data": {
      "image/png": "[encoded data removed]",
      "text/plain": [
       "<Figure size 432x288 with 1 Axes>"
      ]
     },
     "metadata": {
      "needs_background": "light"
     },
     "output_type": "display_data"
    }
   ],
   "source": [
    "import seaborn as sns\n",
    "import matplotlib.pyplot as plt\n",
    "\n",
    "plt.ylim(0,1.5)\n",
    "sns.boxplot(df['EC'] )"
   ]
  },
  {
   "cell_type": "code",
   "execution_count": 113,
   "metadata": {},
   "outputs": [
    {
     "name": "stdout",
     "output_type": "stream",
     "text": [
      "       SAMPLE_NO     SEASON SAMPLE_DATE  \\\n",
      "0          35902  2019-2020   5/15/2019   \n",
      "1          21043  2015-2016  10/12/2015   \n",
      "2          24651  2016-2017  12/22/2016   \n",
      "3          24976  2016-2017    1/3/2017   \n",
      "4          27525  2017-2018   9/18/2017   \n",
      "...          ...        ...         ...   \n",
      "10573      10038  2013-2014   4/13/2013   \n",
      "10574       9888  2012-2013    2/5/2013   \n",
      "10575      42168  2019-2020   1/27/2020   \n",
      "10576      20516  2015-2016   9/22/2015   \n",
      "10577      34414  2018-2019  11/22/2018   \n",
      "\n",
      "                                     FARMER_ENGLISH_NAME VILLAGE_NAME_ENGLISH  \\\n",
      "0            ANNASAO  ALIS  KIRTIKUMAR  GUNDAPPA .DANOLE             SHIRDHON   \n",
      "1                                   MAHAVIR  BAPU  PATIL              SHIRATI   \n",
      "2                                    ADAPPA  DADA  LADGE      CHAND-SHIRADWAD   \n",
      "3                                  GANPATI  KESHAV  MANE             JAMBHALI   \n",
      "4                                   KUMAR APPA MURCHUTTE              SHEDBAL   \n",
      "...                                                  ...                  ...   \n",
      "10573  KARYAKARI  SANCHALAK  SHRI DATTA  S.S.S.K.LTD ...               SHIROL   \n",
      "10574  KARYAKARI  SANCHALAK  SHRI DATTA  S.S.S.K.LTD ...               SHIROL   \n",
      "10575  KARYAKARI  SANCHALAK  SHRI DATTA  S.S.S.K.LTD ...               SHIROL   \n",
      "10576                            BABU  PUNAPPA  GADAKARI              SADALGA   \n",
      "10577                           PRAMILA  DILIPRAO  KAMAT          DHARANGUTTI   \n",
      "\n",
      "      SURVEY_NO    PH  Unnamed: 7    EC  Organinc Carbon  PHOSPHOROUS  POTASH  \\\n",
      "0        172/75  7.30        0.36  0.42           100.66       997.00     5.2   \n",
      "1           492  8.60         NaN  0.44             1.08        34.90   370.0   \n",
      "2         121/1  8.58         NaN  0.50             0.78        13.30   403.0   \n",
      "3           664  8.55         NaN  0.25             0.15        16.50   504.0   \n",
      "4           797  8.55         NaN  0.48             0.75         1.60   627.0   \n",
      "...         ...   ...         ...   ...              ...          ...     ...   \n",
      "10573       NaN  4.42         NaN  0.07             0.40         1.60   224.0   \n",
      "10574       NaN  4.22         NaN  0.95             0.80        12.10   493.0   \n",
      "10575    V.S.H.  4.00         NaN  0.12             0.98        38.40   582.0   \n",
      "10576     10319  1.16         NaN  0.21             0.87         2.15   269.0   \n",
      "10577       370  0.60         NaN  0.68             0.78        52.00   582.0   \n",
      "\n",
      "       CALCIUM_CARBONATE  FERROUS  MANAGESE  ZINK  COPPER  \n",
      "0                   10.9     6.10      0.60  4.60     NaN  \n",
      "1                   12.0    13.30     18.50  1.60    6.30  \n",
      "2                    9.6    93.20     12.40  1.19    7.00  \n",
      "3                    6.0     5.50     14.30  1.33    7.88  \n",
      "4                   15.2     6.75     16.55  1.25    4.30  \n",
      "...                  ...      ...       ...   ...     ...  \n",
      "10573                1.6     5.40     11.00  2.60    0.80  \n",
      "10574               11.2     6.04      8.88  0.08    2.24  \n",
      "10575                2.0     4.30     18.70  0.40    1.60  \n",
      "10576                6.0    22.60     27.20  1.80   10.00  \n",
      "10577                6.4     5.10      6.80  0.20    7.80  \n",
      "\n",
      "[9783 rows x 17 columns]\n"
     ]
    }
   ],
   "source": [
    "threshold = 1.2\n",
    "\n",
    "deli = np.where(df[\"EC\"]>threshold)\n",
    "df.drop(deli[0],inplace = True)\n",
    "\n",
    "# noisy_data = df[df[\"POTASH\"] > threshold]\n",
    "\n",
    "# mean = df[\"POTASH\"].mean()\n",
    "# df.loc[df[\"POTASH\"] > threshold, \"POTASH\"] = mean\n",
    "\n",
    "print(df)"
   ]
  },
  {
   "cell_type": "code",
   "execution_count": 114,
   "metadata": {},
   "outputs": [],
   "source": [
    "df.reset_index(inplace=True, drop=True)"
   ]
  },
  {
   "cell_type": "code",
   "execution_count": 115,
   "metadata": {},
   "outputs": [
    {
     "data": {
      "text/plain": [
       "<AxesSubplot:>"
      ]
     },
     "execution_count": 115,
     "metadata": {},
     "output_type": "execute_result"
    },
    {
     "data": {
      "image/png": "[encoded data removed]",
      "text/plain": [
       "<Figure size 432x288 with 1 Axes>"
      ]
     },
     "metadata": {
      "needs_background": "light"
     },
     "output_type": "display_data"
    }
   ],
   "source": [
    "plt.ylim(0,2)\n",
    "sns.boxplot(df['Organinc Carbon'])"
   ]
  },
  {
   "cell_type": "code",
   "execution_count": 116,
   "metadata": {},
   "outputs": [
    {
     "name": "stdout",
     "output_type": "stream",
     "text": [
      "      SAMPLE_NO     SEASON SAMPLE_DATE  \\\n",
      "1         21043  2015-2016  10/12/2015   \n",
      "2         24651  2016-2017  12/22/2016   \n",
      "3         24976  2016-2017    1/3/2017   \n",
      "4         27525  2017-2018   9/18/2017   \n",
      "5         26283  2017-2018   7/26/2017   \n",
      "...         ...        ...         ...   \n",
      "9778      10038  2013-2014   4/13/2013   \n",
      "9779       9888  2012-2013    2/5/2013   \n",
      "9780      42168  2019-2020   1/27/2020   \n",
      "9781      20516  2015-2016   9/22/2015   \n",
      "9782      34414  2018-2019  11/22/2018   \n",
      "\n",
      "                                    FARMER_ENGLISH_NAME VILLAGE_NAME_ENGLISH  \\\n",
      "1                                  MAHAVIR  BAPU  PATIL              SHIRATI   \n",
      "2                                   ADAPPA  DADA  LADGE      CHAND-SHIRADWAD   \n",
      "3                                 GANPATI  KESHAV  MANE             JAMBHALI   \n",
      "4                                  KUMAR APPA MURCHUTTE              SHEDBAL   \n",
      "5                                RAMESH SADASHIV BADKAR              SHEDBAL   \n",
      "...                                                 ...                  ...   \n",
      "9778  KARYAKARI  SANCHALAK  SHRI DATTA  S.S.S.K.LTD ...               SHIROL   \n",
      "9779  KARYAKARI  SANCHALAK  SHRI DATTA  S.S.S.K.LTD ...               SHIROL   \n",
      "9780  KARYAKARI  SANCHALAK  SHRI DATTA  S.S.S.K.LTD ...               SHIROL   \n",
      "9781                            BABU  PUNAPPA  GADAKARI              SADALGA   \n",
      "9782                           PRAMILA  DILIPRAO  KAMAT          DHARANGUTTI   \n",
      "\n",
      "     SURVEY_NO    PH  Unnamed: 7    EC  Organinc Carbon  PHOSPHOROUS  POTASH  \\\n",
      "1          492  8.60         NaN  0.44             1.08        34.90   370.0   \n",
      "2        121/1  8.58         NaN  0.50             0.78        13.30   403.0   \n",
      "3          664  8.55         NaN  0.25             0.15        16.50   504.0   \n",
      "4          797  8.55         NaN  0.48             0.75         1.60   627.0   \n",
      "5          487  8.55         NaN  0.22             0.42         1.60   347.0   \n",
      "...        ...   ...         ...   ...              ...          ...     ...   \n",
      "9778       NaN  4.42         NaN  0.07             0.40         1.60   224.0   \n",
      "9779       NaN  4.22         NaN  0.95             0.80        12.10   493.0   \n",
      "9780    V.S.H.  4.00         NaN  0.12             0.98        38.40   582.0   \n",
      "9781     10319  1.16         NaN  0.21             0.87         2.15   269.0   \n",
      "9782       370  0.60         NaN  0.68             0.78        52.00   582.0   \n",
      "\n",
      "      CALCIUM_CARBONATE  FERROUS  MANAGESE  ZINK  COPPER  \n",
      "1                  12.0    13.30     18.50  1.60    6.30  \n",
      "2                   9.6    93.20     12.40  1.19    7.00  \n",
      "3                   6.0     5.50     14.30  1.33    7.88  \n",
      "4                  15.2     6.75     16.55  1.25    4.30  \n",
      "5                  20.0     7.69      9.11  0.16    3.91  \n",
      "...                 ...      ...       ...   ...     ...  \n",
      "9778                1.6     5.40     11.00  2.60    0.80  \n",
      "9779               11.2     6.04      8.88  0.08    2.24  \n",
      "9780                2.0     4.30     18.70  0.40    1.60  \n",
      "9781                6.0    22.60     27.20  1.80   10.00  \n",
      "9782                6.4     5.10      6.80  0.20    7.80  \n",
      "\n",
      "[9673 rows x 17 columns]\n"
     ]
    }
   ],
   "source": [
    "threshold = 1.25\n",
    "\n",
    "deli = np.where(df[\"Organinc Carbon\"]>threshold)\n",
    "df.drop(deli[0],inplace = True)\n",
    "\n",
    "print(df)"
   ]
  },
  {
   "cell_type": "code",
   "execution_count": 117,
   "metadata": {},
   "outputs": [],
   "source": [
    "df.reset_index(inplace=True, drop=True)"
   ]
  },
  {
   "cell_type": "code",
   "execution_count": 118,
   "metadata": {},
   "outputs": [
    {
     "data": {
      "text/plain": [
       "<AxesSubplot:>"
      ]
     },
     "execution_count": 118,
     "metadata": {},
     "output_type": "execute_result"
    },
    {
     "data": {
      "image/png": "[encoded data removed]",
      "text/plain": [
       "<Figure size 432x288 with 1 Axes>"
      ]
     },
     "metadata": {
      "needs_background": "light"
     },
     "output_type": "display_data"
    }
   ],
   "source": [
    "# plt.ylim(0,5)\n",
    "sns.boxplot(df['PHOSPHOROUS'])"
   ]
  },
  {
   "cell_type": "code",
   "execution_count": 119,
   "metadata": {},
   "outputs": [
    {
     "name": "stdout",
     "output_type": "stream",
     "text": [
      "      SAMPLE_NO     SEASON SAMPLE_DATE  \\\n",
      "0         21043  2015-2016  10/12/2015   \n",
      "1         24651  2016-2017  12/22/2016   \n",
      "2         24976  2016-2017    1/3/2017   \n",
      "3         27525  2017-2018   9/18/2017   \n",
      "4         26283  2017-2018   7/26/2017   \n",
      "...         ...        ...         ...   \n",
      "9668      10038  2013-2014   4/13/2013   \n",
      "9669       9888  2012-2013    2/5/2013   \n",
      "9670      42168  2019-2020   1/27/2020   \n",
      "9671      20516  2015-2016   9/22/2015   \n",
      "9672      34414  2018-2019  11/22/2018   \n",
      "\n",
      "                                    FARMER_ENGLISH_NAME VILLAGE_NAME_ENGLISH  \\\n",
      "0                                  MAHAVIR  BAPU  PATIL              SHIRATI   \n",
      "1                                   ADAPPA  DADA  LADGE      CHAND-SHIRADWAD   \n",
      "2                                 GANPATI  KESHAV  MANE             JAMBHALI   \n",
      "3                                  KUMAR APPA MURCHUTTE              SHEDBAL   \n",
      "4                                RAMESH SADASHIV BADKAR              SHEDBAL   \n",
      "...                                                 ...                  ...   \n",
      "9668  KARYAKARI  SANCHALAK  SHRI DATTA  S.S.S.K.LTD ...               SHIROL   \n",
      "9669  KARYAKARI  SANCHALAK  SHRI DATTA  S.S.S.K.LTD ...               SHIROL   \n",
      "9670  KARYAKARI  SANCHALAK  SHRI DATTA  S.S.S.K.LTD ...               SHIROL   \n",
      "9671                            BABU  PUNAPPA  GADAKARI              SADALGA   \n",
      "9672                           PRAMILA  DILIPRAO  KAMAT          DHARANGUTTI   \n",
      "\n",
      "     SURVEY_NO    PH  Unnamed: 7    EC  Organinc Carbon  PHOSPHOROUS  POTASH  \\\n",
      "0          492  8.60         NaN  0.44             1.08        34.90   370.0   \n",
      "1        121/1  8.58         NaN  0.50             0.78        13.30   403.0   \n",
      "2          664  8.55         NaN  0.25             0.15        16.50   504.0   \n",
      "3          797  8.55         NaN  0.48             0.75         1.60   627.0   \n",
      "4          487  8.55         NaN  0.22             0.42         1.60   347.0   \n",
      "...        ...   ...         ...   ...              ...          ...     ...   \n",
      "9668       NaN  4.42         NaN  0.07             0.40         1.60   224.0   \n",
      "9669       NaN  4.22         NaN  0.95             0.80        12.10   493.0   \n",
      "9670    V.S.H.  4.00         NaN  0.12             0.98        38.40   582.0   \n",
      "9671     10319  1.16         NaN  0.21             0.87         2.15   269.0   \n",
      "9672       370  0.60         NaN  0.68             0.78        52.00   582.0   \n",
      "\n",
      "      CALCIUM_CARBONATE  FERROUS  MANAGESE  ZINK  COPPER  \n",
      "0                  12.0    13.30     18.50  1.60    6.30  \n",
      "1                   9.6    93.20     12.40  1.19    7.00  \n",
      "2                   6.0     5.50     14.30  1.33    7.88  \n",
      "3                  15.2     6.75     16.55  1.25    4.30  \n",
      "4                  20.0     7.69      9.11  0.16    3.91  \n",
      "...                 ...      ...       ...   ...     ...  \n",
      "9668                1.6     5.40     11.00  2.60    0.80  \n",
      "9669               11.2     6.04      8.88  0.08    2.24  \n",
      "9670                2.0     4.30     18.70  0.40    1.60  \n",
      "9671                6.0    22.60     27.20  1.80   10.00  \n",
      "9672                6.4     5.10      6.80  0.20    7.80  \n",
      "\n",
      "[9557 rows x 17 columns]\n"
     ]
    }
   ],
   "source": [
    "df.reset_index(inplace=True, drop=True)\n",
    "threshold = 100\n",
    "\n",
    "deli = np.where(df[\"PHOSPHOROUS\"]>threshold)\n",
    "df.drop(deli[0],inplace = True)\n",
    "\n",
    "print(df)"
   ]
  },
  {
   "cell_type": "code",
   "execution_count": 120,
   "metadata": {},
   "outputs": [
    {
     "data": {
      "text/plain": [
       "<AxesSubplot:>"
      ]
     },
     "execution_count": 120,
     "metadata": {},
     "output_type": "execute_result"
    },
    {
     "data": {
      "image/png": "[encoded data removed]",
      "text/plain": [
       "<Figure size 432x288 with 1 Axes>"
      ]
     },
     "metadata": {
      "needs_background": "light"
     },
     "output_type": "display_data"
    }
   ],
   "source": [
    "plt.ylim(0,2000)\n",
    "sns.boxplot(df['POTASH'])"
   ]
  },
  {
   "cell_type": "code",
   "execution_count": 121,
   "metadata": {},
   "outputs": [
    {
     "name": "stdout",
     "output_type": "stream",
     "text": [
      "      SAMPLE_NO     SEASON SAMPLE_DATE  \\\n",
      "0         21043  2015-2016  10/12/2015   \n",
      "1         24651  2016-2017  12/22/2016   \n",
      "2         24976  2016-2017    1/3/2017   \n",
      "3         27525  2017-2018   9/18/2017   \n",
      "4         26283  2017-2018   7/26/2017   \n",
      "...         ...        ...         ...   \n",
      "9552      10038  2013-2014   4/13/2013   \n",
      "9553       9888  2012-2013    2/5/2013   \n",
      "9554      42168  2019-2020   1/27/2020   \n",
      "9555      20516  2015-2016   9/22/2015   \n",
      "9556      34414  2018-2019  11/22/2018   \n",
      "\n",
      "                                    FARMER_ENGLISH_NAME VILLAGE_NAME_ENGLISH  \\\n",
      "0                                  MAHAVIR  BAPU  PATIL              SHIRATI   \n",
      "1                                   ADAPPA  DADA  LADGE      CHAND-SHIRADWAD   \n",
      "2                                 GANPATI  KESHAV  MANE             JAMBHALI   \n",
      "3                                  KUMAR APPA MURCHUTTE              SHEDBAL   \n",
      "4                                RAMESH SADASHIV BADKAR              SHEDBAL   \n",
      "...                                                 ...                  ...   \n",
      "9552  KARYAKARI  SANCHALAK  SHRI DATTA  S.S.S.K.LTD ...               SHIROL   \n",
      "9553  KARYAKARI  SANCHALAK  SHRI DATTA  S.S.S.K.LTD ...               SHIROL   \n",
      "9554  KARYAKARI  SANCHALAK  SHRI DATTA  S.S.S.K.LTD ...               SHIROL   \n",
      "9555                            BABU  PUNAPPA  GADAKARI              SADALGA   \n",
      "9556                           PRAMILA  DILIPRAO  KAMAT          DHARANGUTTI   \n",
      "\n",
      "     SURVEY_NO    PH  Unnamed: 7    EC  Organinc Carbon  PHOSPHOROUS  POTASH  \\\n",
      "0          492  8.60         NaN  0.44             1.08        34.90   370.0   \n",
      "1        121/1  8.58         NaN  0.50             0.78        13.30   403.0   \n",
      "2          664  8.55         NaN  0.25             0.15        16.50   504.0   \n",
      "3          797  8.55         NaN  0.48             0.75         1.60   627.0   \n",
      "4          487  8.55         NaN  0.22             0.42         1.60   347.0   \n",
      "...        ...   ...         ...   ...              ...          ...     ...   \n",
      "9552       NaN  4.42         NaN  0.07             0.40         1.60   224.0   \n",
      "9553       NaN  4.22         NaN  0.95             0.80        12.10   493.0   \n",
      "9554    V.S.H.  4.00         NaN  0.12             0.98        38.40   582.0   \n",
      "9555     10319  1.16         NaN  0.21             0.87         2.15   269.0   \n",
      "9556       370  0.60         NaN  0.68             0.78        52.00   582.0   \n",
      "\n",
      "      CALCIUM_CARBONATE  FERROUS  MANAGESE  ZINK  COPPER  \n",
      "0                  12.0    13.30     18.50  1.60    6.30  \n",
      "1                   9.6    93.20     12.40  1.19    7.00  \n",
      "2                   6.0     5.50     14.30  1.33    7.88  \n",
      "3                  15.2     6.75     16.55  1.25    4.30  \n",
      "4                  20.0     7.69      9.11  0.16    3.91  \n",
      "...                 ...      ...       ...   ...     ...  \n",
      "9552                1.6     5.40     11.00  2.60    0.80  \n",
      "9553               11.2     6.04      8.88  0.08    2.24  \n",
      "9554                2.0     4.30     18.70  0.40    1.60  \n",
      "9555                6.0    22.60     27.20  1.80   10.00  \n",
      "9556                6.4     5.10      6.80  0.20    7.80  \n",
      "\n",
      "[9050 rows x 17 columns]\n"
     ]
    }
   ],
   "source": [
    "df.reset_index(inplace=True, drop=True)\n",
    "threshold = 1000\n",
    "\n",
    "deli = np.where(df[\"POTASH\"]>threshold)\n",
    "df.drop(deli[0],inplace = True)\n",
    "\n",
    "print(df)"
   ]
  },
  {
   "cell_type": "code",
   "execution_count": 122,
   "metadata": {},
   "outputs": [
    {
     "data": {
      "text/plain": [
       "<AxesSubplot:>"
      ]
     },
     "execution_count": 122,
     "metadata": {},
     "output_type": "execute_result"
    },
    {
     "data": {
      "image/png": "[encoded data removed]",
      "text/plain": [
       "<Figure size 432x288 with 1 Axes>"
      ]
     },
     "metadata": {
      "needs_background": "light"
     },
     "output_type": "display_data"
    }
   ],
   "source": [
    "plt.ylim(0,40)\n",
    "sns.boxplot(df['CALCIUM_CARBONATE'])"
   ]
  },
  {
   "cell_type": "code",
   "execution_count": 123,
   "metadata": {},
   "outputs": [
    {
     "name": "stdout",
     "output_type": "stream",
     "text": [
      "      SAMPLE_NO     SEASON SAMPLE_DATE  \\\n",
      "0         21043  2015-2016  10/12/2015   \n",
      "1         24651  2016-2017  12/22/2016   \n",
      "2         24976  2016-2017    1/3/2017   \n",
      "3         27525  2017-2018   9/18/2017   \n",
      "5         27609  2017-2018   9/19/2017   \n",
      "...         ...        ...         ...   \n",
      "9045      10038  2013-2014   4/13/2013   \n",
      "9046       9888  2012-2013    2/5/2013   \n",
      "9047      42168  2019-2020   1/27/2020   \n",
      "9048      20516  2015-2016   9/22/2015   \n",
      "9049      34414  2018-2019  11/22/2018   \n",
      "\n",
      "                                    FARMER_ENGLISH_NAME VILLAGE_NAME_ENGLISH  \\\n",
      "0                                  MAHAVIR  BAPU  PATIL              SHIRATI   \n",
      "1                                   ADAPPA  DADA  LADGE      CHAND-SHIRADWAD   \n",
      "2                                 GANPATI  KESHAV  MANE             JAMBHALI   \n",
      "3                                  KUMAR APPA MURCHUTTE              SHEDBAL   \n",
      "5                               GANPATI  SHIVAJI  PATIL             ARJUNWAD   \n",
      "...                                                 ...                  ...   \n",
      "9045  KARYAKARI  SANCHALAK  SHRI DATTA  S.S.S.K.LTD ...               SHIROL   \n",
      "9046  KARYAKARI  SANCHALAK  SHRI DATTA  S.S.S.K.LTD ...               SHIROL   \n",
      "9047  KARYAKARI  SANCHALAK  SHRI DATTA  S.S.S.K.LTD ...               SHIROL   \n",
      "9048                            BABU  PUNAPPA  GADAKARI              SADALGA   \n",
      "9049                           PRAMILA  DILIPRAO  KAMAT          DHARANGUTTI   \n",
      "\n",
      "     SURVEY_NO    PH  Unnamed: 7    EC  Organinc Carbon  PHOSPHOROUS  POTASH  \\\n",
      "0          492  8.60         NaN  0.44             1.08        34.90   370.0   \n",
      "1        121/1  8.58         NaN  0.50             0.78        13.30   403.0   \n",
      "2          664  8.55         NaN  0.25             0.15        16.50   504.0   \n",
      "3          797  8.55         NaN  0.48             0.75         1.60   627.0   \n",
      "5           43  8.55         NaN  0.40             0.84         1.60   728.0   \n",
      "...        ...   ...         ...   ...              ...          ...     ...   \n",
      "9045       NaN  4.42         NaN  0.07             0.40         1.60   224.0   \n",
      "9046       NaN  4.22         NaN  0.95             0.80        12.10   493.0   \n",
      "9047    V.S.H.  4.00         NaN  0.12             0.98        38.40   582.0   \n",
      "9048     10319  1.16         NaN  0.21             0.87         2.15   269.0   \n",
      "9049       370  0.60         NaN  0.68             0.78        52.00   582.0   \n",
      "\n",
      "      CALCIUM_CARBONATE  FERROUS  MANAGESE  ZINK  COPPER  \n",
      "0                  12.0    13.30     18.50  1.60    6.30  \n",
      "1                   9.6    93.20     12.40  1.19    7.00  \n",
      "2                   6.0     5.50     14.30  1.33    7.88  \n",
      "3                  15.2     6.75     16.55  1.25    4.30  \n",
      "5                  16.8    19.93     13.70  0.30    2.40  \n",
      "...                 ...      ...       ...   ...     ...  \n",
      "9045                1.6     5.40     11.00  2.60    0.80  \n",
      "9046               11.2     6.04      8.88  0.08    2.24  \n",
      "9047                2.0     4.30     18.70  0.40    1.60  \n",
      "9048                6.0    22.60     27.20  1.80   10.00  \n",
      "9049                6.4     5.10      6.80  0.20    7.80  \n",
      "\n",
      "[8989 rows x 17 columns]\n"
     ]
    }
   ],
   "source": [
    "df.reset_index(inplace=True, drop=True)\n",
    "threshold = 18\n",
    "\n",
    "deli = np.where(df[\"CALCIUM_CARBONATE\"]>threshold )\n",
    "df.drop(deli[0],inplace = True)\n",
    "\n",
    "print(df)"
   ]
  },
  {
   "cell_type": "code",
   "execution_count": 124,
   "metadata": {},
   "outputs": [
    {
     "data": {
      "text/plain": [
       "<AxesSubplot:>"
      ]
     },
     "execution_count": 124,
     "metadata": {},
     "output_type": "execute_result"
    },
    {
     "data": {
      "image/png": "[encoded data removed]",
      "text/plain": [
       "<Figure size 432x288 with 1 Axes>"
      ]
     },
     "metadata": {
      "needs_background": "light"
     },
     "output_type": "display_data"
    }
   ],
   "source": [
    "plt.ylim(0,40)\n",
    "sns.boxplot(df['FERROUS'])"
   ]
  },
  {
   "cell_type": "code",
   "execution_count": 125,
   "metadata": {},
   "outputs": [
    {
     "name": "stdout",
     "output_type": "stream",
     "text": [
      "      SAMPLE_NO     SEASON SAMPLE_DATE  \\\n",
      "0         21043  2015-2016  10/12/2015   \n",
      "2         24976  2016-2017    1/3/2017   \n",
      "3         27525  2017-2018   9/18/2017   \n",
      "4         27609  2017-2018   9/19/2017   \n",
      "5         27617  2017-2018   9/20/2017   \n",
      "...         ...        ...         ...   \n",
      "8984      10038  2013-2014   4/13/2013   \n",
      "8985       9888  2012-2013    2/5/2013   \n",
      "8986      42168  2019-2020   1/27/2020   \n",
      "8987      20516  2015-2016   9/22/2015   \n",
      "8988      34414  2018-2019  11/22/2018   \n",
      "\n",
      "                                    FARMER_ENGLISH_NAME VILLAGE_NAME_ENGLISH  \\\n",
      "0                                  MAHAVIR  BAPU  PATIL              SHIRATI   \n",
      "2                                 GANPATI  KESHAV  MANE             JAMBHALI   \n",
      "3                                  KUMAR APPA MURCHUTTE              SHEDBAL   \n",
      "4                               GANPATI  SHIVAJI  PATIL             ARJUNWAD   \n",
      "5     KARYAKARI  SANCHALAK  SHRI DATTA  S.S.S.K.LTD ...               SHIROL   \n",
      "...                                                 ...                  ...   \n",
      "8984  KARYAKARI  SANCHALAK  SHRI DATTA  S.S.S.K.LTD ...               SHIROL   \n",
      "8985  KARYAKARI  SANCHALAK  SHRI DATTA  S.S.S.K.LTD ...               SHIROL   \n",
      "8986  KARYAKARI  SANCHALAK  SHRI DATTA  S.S.S.K.LTD ...               SHIROL   \n",
      "8987                            BABU  PUNAPPA  GADAKARI              SADALGA   \n",
      "8988                           PRAMILA  DILIPRAO  KAMAT          DHARANGUTTI   \n",
      "\n",
      "     SURVEY_NO    PH  Unnamed: 7    EC  Organinc Carbon  PHOSPHOROUS  POTASH  \\\n",
      "0          492  8.60         NaN  0.44             1.08        34.90   370.0   \n",
      "2          664  8.55         NaN  0.25             0.15        16.50   504.0   \n",
      "3          797  8.55         NaN  0.48             0.75         1.60   627.0   \n",
      "4           43  8.55         NaN  0.40             0.84         1.60   728.0   \n",
      "5         1700  8.53         NaN  0.18             0.57        10.00   414.0   \n",
      "...        ...   ...         ...   ...              ...          ...     ...   \n",
      "8984       NaN  4.42         NaN  0.07             0.40         1.60   224.0   \n",
      "8985       NaN  4.22         NaN  0.95             0.80        12.10   493.0   \n",
      "8986    V.S.H.  4.00         NaN  0.12             0.98        38.40   582.0   \n",
      "8987     10319  1.16         NaN  0.21             0.87         2.15   269.0   \n",
      "8988       370  0.60         NaN  0.68             0.78        52.00   582.0   \n",
      "\n",
      "      CALCIUM_CARBONATE  FERROUS  MANAGESE  ZINK  COPPER  \n",
      "0                  12.0    13.30     18.50  1.60    6.30  \n",
      "2                   6.0     5.50     14.30  1.33    7.88  \n",
      "3                  15.2     6.75     16.55  1.25    4.30  \n",
      "4                  16.8    19.93     13.70  0.30    2.40  \n",
      "5                  12.0    12.52     31.22  0.64    6.94  \n",
      "...                 ...      ...       ...   ...     ...  \n",
      "8984                1.6     5.40     11.00  2.60    0.80  \n",
      "8985               11.2     6.04      8.88  0.08    2.24  \n",
      "8986                2.0     4.30     18.70  0.40    1.60  \n",
      "8987                6.0    22.60     27.20  1.80   10.00  \n",
      "8988                6.4     5.10      6.80  0.20    7.80  \n",
      "\n",
      "[8594 rows x 17 columns]\n"
     ]
    }
   ],
   "source": [
    "df.reset_index(inplace=True, drop=True)\n",
    "threshold = 26\n",
    "\n",
    "deli = np.where(df[\"FERROUS\"]>threshold)\n",
    "df.drop(deli[0],inplace = True)\n",
    "\n",
    "print(df)"
   ]
  },
  {
   "cell_type": "code",
   "execution_count": 126,
   "metadata": {},
   "outputs": [
    {
     "data": {
      "text/plain": [
       "<AxesSubplot:>"
      ]
     },
     "execution_count": 126,
     "metadata": {},
     "output_type": "execute_result"
    },
    {
     "data": {
      "image/png": "[encoded data removed]",
      "text/plain": [
       "<Figure size 432x288 with 1 Axes>"
      ]
     },
     "metadata": {
      "needs_background": "light"
     },
     "output_type": "display_data"
    }
   ],
   "source": [
    "plt.ylim(0,40)\n",
    "sns.boxplot(df['MANAGESE'])"
   ]
  },
  {
   "cell_type": "code",
   "execution_count": 127,
   "metadata": {},
   "outputs": [
    {
     "name": "stdout",
     "output_type": "stream",
     "text": [
      "      SAMPLE_NO     SEASON SAMPLE_DATE  \\\n",
      "0         21043  2015-2016  10/12/2015   \n",
      "1         24976  2016-2017    1/3/2017   \n",
      "2         27525  2017-2018   9/18/2017   \n",
      "3         27609  2017-2018   9/19/2017   \n",
      "4         27617  2017-2018   9/20/2017   \n",
      "...         ...        ...         ...   \n",
      "8589      10038  2013-2014   4/13/2013   \n",
      "8590       9888  2012-2013    2/5/2013   \n",
      "8591      42168  2019-2020   1/27/2020   \n",
      "8592      20516  2015-2016   9/22/2015   \n",
      "8593      34414  2018-2019  11/22/2018   \n",
      "\n",
      "                                    FARMER_ENGLISH_NAME VILLAGE_NAME_ENGLISH  \\\n",
      "0                                  MAHAVIR  BAPU  PATIL              SHIRATI   \n",
      "1                                 GANPATI  KESHAV  MANE             JAMBHALI   \n",
      "2                                  KUMAR APPA MURCHUTTE              SHEDBAL   \n",
      "3                               GANPATI  SHIVAJI  PATIL             ARJUNWAD   \n",
      "4     KARYAKARI  SANCHALAK  SHRI DATTA  S.S.S.K.LTD ...               SHIROL   \n",
      "...                                                 ...                  ...   \n",
      "8589  KARYAKARI  SANCHALAK  SHRI DATTA  S.S.S.K.LTD ...               SHIROL   \n",
      "8590  KARYAKARI  SANCHALAK  SHRI DATTA  S.S.S.K.LTD ...               SHIROL   \n",
      "8591  KARYAKARI  SANCHALAK  SHRI DATTA  S.S.S.K.LTD ...               SHIROL   \n",
      "8592                            BABU  PUNAPPA  GADAKARI              SADALGA   \n",
      "8593                           PRAMILA  DILIPRAO  KAMAT          DHARANGUTTI   \n",
      "\n",
      "     SURVEY_NO    PH  Unnamed: 7    EC  Organinc Carbon  PHOSPHOROUS  POTASH  \\\n",
      "0          492  8.60         NaN  0.44             1.08        34.90   370.0   \n",
      "1          664  8.55         NaN  0.25             0.15        16.50   504.0   \n",
      "2          797  8.55         NaN  0.48             0.75         1.60   627.0   \n",
      "3           43  8.55         NaN  0.40             0.84         1.60   728.0   \n",
      "4         1700  8.53         NaN  0.18             0.57        10.00   414.0   \n",
      "...        ...   ...         ...   ...              ...          ...     ...   \n",
      "8589       NaN  4.42         NaN  0.07             0.40         1.60   224.0   \n",
      "8590       NaN  4.22         NaN  0.95             0.80        12.10   493.0   \n",
      "8591    V.S.H.  4.00         NaN  0.12             0.98        38.40   582.0   \n",
      "8592     10319  1.16         NaN  0.21             0.87         2.15   269.0   \n",
      "8593       370  0.60         NaN  0.68             0.78        52.00   582.0   \n",
      "\n",
      "      CALCIUM_CARBONATE  FERROUS  MANAGESE  ZINK  COPPER  \n",
      "0                  12.0    13.30     18.50  1.60    6.30  \n",
      "1                   6.0     5.50     14.30  1.33    7.88  \n",
      "2                  15.2     6.75     16.55  1.25    4.30  \n",
      "3                  16.8    19.93     13.70  0.30    2.40  \n",
      "4                  12.0    12.52     31.22  0.64    6.94  \n",
      "...                 ...      ...       ...   ...     ...  \n",
      "8589                1.6     5.40     11.00  2.60    0.80  \n",
      "8590               11.2     6.04      8.88  0.08    2.24  \n",
      "8591                2.0     4.30     18.70  0.40    1.60  \n",
      "8592                6.0    22.60     27.20  1.80   10.00  \n",
      "8593                6.4     5.10      6.80  0.20    7.80  \n",
      "\n",
      "[8062 rows x 17 columns]\n"
     ]
    }
   ],
   "source": [
    "df.reset_index(inplace=True, drop=True)\n",
    "threshold = 35\n",
    "\n",
    "deli = np.where(df[\"MANAGESE\"]>threshold)\n",
    "df.drop(deli[0],inplace = True)\n",
    "\n",
    "print(df)"
   ]
  },
  {
   "cell_type": "code",
   "execution_count": 128,
   "metadata": {},
   "outputs": [
    {
     "data": {
      "text/plain": [
       "<AxesSubplot:>"
      ]
     },
     "execution_count": 128,
     "metadata": {},
     "output_type": "execute_result"
    },
    {
     "data": {
      "image/png": "[encoded data removed]",
      "text/plain": [
       "<Figure size 432x288 with 1 Axes>"
      ]
     },
     "metadata": {
      "needs_background": "light"
     },
     "output_type": "display_data"
    }
   ],
   "source": [
    "plt.ylim(0,5)\n",
    "sns.boxplot(df['ZINK'])"
   ]
  },
  {
   "cell_type": "code",
   "execution_count": 129,
   "metadata": {},
   "outputs": [
    {
     "name": "stdout",
     "output_type": "stream",
     "text": [
      "      SAMPLE_NO     SEASON SAMPLE_DATE  \\\n",
      "0         21043  2015-2016  10/12/2015   \n",
      "1         24976  2016-2017    1/3/2017   \n",
      "2         27525  2017-2018   9/18/2017   \n",
      "3         27609  2017-2018   9/19/2017   \n",
      "4         27617  2017-2018   9/20/2017   \n",
      "...         ...        ...         ...   \n",
      "8057      10038  2013-2014   4/13/2013   \n",
      "8058       9888  2012-2013    2/5/2013   \n",
      "8059      42168  2019-2020   1/27/2020   \n",
      "8060      20516  2015-2016   9/22/2015   \n",
      "8061      34414  2018-2019  11/22/2018   \n",
      "\n",
      "                                    FARMER_ENGLISH_NAME VILLAGE_NAME_ENGLISH  \\\n",
      "0                                  MAHAVIR  BAPU  PATIL              SHIRATI   \n",
      "1                                 GANPATI  KESHAV  MANE             JAMBHALI   \n",
      "2                                  KUMAR APPA MURCHUTTE              SHEDBAL   \n",
      "3                               GANPATI  SHIVAJI  PATIL             ARJUNWAD   \n",
      "4     KARYAKARI  SANCHALAK  SHRI DATTA  S.S.S.K.LTD ...               SHIROL   \n",
      "...                                                 ...                  ...   \n",
      "8057  KARYAKARI  SANCHALAK  SHRI DATTA  S.S.S.K.LTD ...               SHIROL   \n",
      "8058  KARYAKARI  SANCHALAK  SHRI DATTA  S.S.S.K.LTD ...               SHIROL   \n",
      "8059  KARYAKARI  SANCHALAK  SHRI DATTA  S.S.S.K.LTD ...               SHIROL   \n",
      "8060                            BABU  PUNAPPA  GADAKARI              SADALGA   \n",
      "8061                           PRAMILA  DILIPRAO  KAMAT          DHARANGUTTI   \n",
      "\n",
      "     SURVEY_NO    PH  Unnamed: 7    EC  Organinc Carbon  PHOSPHOROUS  POTASH  \\\n",
      "0          492  8.60         NaN  0.44             1.08        34.90   370.0   \n",
      "1          664  8.55         NaN  0.25             0.15        16.50   504.0   \n",
      "2          797  8.55         NaN  0.48             0.75         1.60   627.0   \n",
      "3           43  8.55         NaN  0.40             0.84         1.60   728.0   \n",
      "4         1700  8.53         NaN  0.18             0.57        10.00   414.0   \n",
      "...        ...   ...         ...   ...              ...          ...     ...   \n",
      "8057       NaN  4.42         NaN  0.07             0.40         1.60   224.0   \n",
      "8058       NaN  4.22         NaN  0.95             0.80        12.10   493.0   \n",
      "8059    V.S.H.  4.00         NaN  0.12             0.98        38.40   582.0   \n",
      "8060     10319  1.16         NaN  0.21             0.87         2.15   269.0   \n",
      "8061       370  0.60         NaN  0.68             0.78        52.00   582.0   \n",
      "\n",
      "      CALCIUM_CARBONATE  FERROUS  MANAGESE  ZINK  COPPER  \n",
      "0                  12.0    13.30     18.50  1.60    6.30  \n",
      "1                   6.0     5.50     14.30  1.33    7.88  \n",
      "2                  15.2     6.75     16.55  1.25    4.30  \n",
      "3                  16.8    19.93     13.70  0.30    2.40  \n",
      "4                  12.0    12.52     31.22  0.64    6.94  \n",
      "...                 ...      ...       ...   ...     ...  \n",
      "8057                1.6     5.40     11.00  2.60    0.80  \n",
      "8058               11.2     6.04      8.88  0.08    2.24  \n",
      "8059                2.0     4.30     18.70  0.40    1.60  \n",
      "8060                6.0    22.60     27.20  1.80   10.00  \n",
      "8061                6.4     5.10      6.80  0.20    7.80  \n",
      "\n",
      "[7649 rows x 17 columns]\n"
     ]
    }
   ],
   "source": [
    "df.reset_index(inplace=True, drop=True)\n",
    "threshold = 3.5\n",
    "\n",
    "deli = np.where(df[\"ZINK\"]>threshold)\n",
    "df.drop(deli[0],inplace = True)\n",
    "\n",
    "print(df)"
   ]
  },
  {
   "cell_type": "code",
   "execution_count": 130,
   "metadata": {},
   "outputs": [
    {
     "data": {
      "text/plain": [
       "<AxesSubplot:>"
      ]
     },
     "execution_count": 130,
     "metadata": {},
     "output_type": "execute_result"
    },
    {
     "data": {
      "image/png": "[encoded data removed]",
      "text/plain": [
       "<Figure size 432x288 with 1 Axes>"
      ]
     },
     "metadata": {
      "needs_background": "light"
     },
     "output_type": "display_data"
    }
   ],
   "source": [
    "plt.ylim(0,20)\n",
    "sns.boxplot(df['COPPER'])"
   ]
  },
  {
   "cell_type": "code",
   "execution_count": 131,
   "metadata": {},
   "outputs": [
    {
     "name": "stdout",
     "output_type": "stream",
     "text": [
      "      SAMPLE_NO     SEASON SAMPLE_DATE  \\\n",
      "0         21043  2015-2016  10/12/2015   \n",
      "1         24976  2016-2017    1/3/2017   \n",
      "2         27525  2017-2018   9/18/2017   \n",
      "3         27609  2017-2018   9/19/2017   \n",
      "4         27617  2017-2018   9/20/2017   \n",
      "...         ...        ...         ...   \n",
      "7644      10038  2013-2014   4/13/2013   \n",
      "7645       9888  2012-2013    2/5/2013   \n",
      "7646      42168  2019-2020   1/27/2020   \n",
      "7647      20516  2015-2016   9/22/2015   \n",
      "7648      34414  2018-2019  11/22/2018   \n",
      "\n",
      "                                    FARMER_ENGLISH_NAME VILLAGE_NAME_ENGLISH  \\\n",
      "0                                  MAHAVIR  BAPU  PATIL              SHIRATI   \n",
      "1                                 GANPATI  KESHAV  MANE             JAMBHALI   \n",
      "2                                  KUMAR APPA MURCHUTTE              SHEDBAL   \n",
      "3                               GANPATI  SHIVAJI  PATIL             ARJUNWAD   \n",
      "4     KARYAKARI  SANCHALAK  SHRI DATTA  S.S.S.K.LTD ...               SHIROL   \n",
      "...                                                 ...                  ...   \n",
      "7644  KARYAKARI  SANCHALAK  SHRI DATTA  S.S.S.K.LTD ...               SHIROL   \n",
      "7645  KARYAKARI  SANCHALAK  SHRI DATTA  S.S.S.K.LTD ...               SHIROL   \n",
      "7646  KARYAKARI  SANCHALAK  SHRI DATTA  S.S.S.K.LTD ...               SHIROL   \n",
      "7647                            BABU  PUNAPPA  GADAKARI              SADALGA   \n",
      "7648                           PRAMILA  DILIPRAO  KAMAT          DHARANGUTTI   \n",
      "\n",
      "     SURVEY_NO    PH  Unnamed: 7    EC  Organinc Carbon  PHOSPHOROUS  POTASH  \\\n",
      "0          492  8.60         NaN  0.44             1.08        34.90   370.0   \n",
      "1          664  8.55         NaN  0.25             0.15        16.50   504.0   \n",
      "2          797  8.55         NaN  0.48             0.75         1.60   627.0   \n",
      "3           43  8.55         NaN  0.40             0.84         1.60   728.0   \n",
      "4         1700  8.53         NaN  0.18             0.57        10.00   414.0   \n",
      "...        ...   ...         ...   ...              ...          ...     ...   \n",
      "7644       NaN  4.42         NaN  0.07             0.40         1.60   224.0   \n",
      "7645       NaN  4.22         NaN  0.95             0.80        12.10   493.0   \n",
      "7646    V.S.H.  4.00         NaN  0.12             0.98        38.40   582.0   \n",
      "7647     10319  1.16         NaN  0.21             0.87         2.15   269.0   \n",
      "7648       370  0.60         NaN  0.68             0.78        52.00   582.0   \n",
      "\n",
      "      CALCIUM_CARBONATE  FERROUS  MANAGESE  ZINK  COPPER  \n",
      "0                  12.0    13.30     18.50  1.60    6.30  \n",
      "1                   6.0     5.50     14.30  1.33    7.88  \n",
      "2                  15.2     6.75     16.55  1.25    4.30  \n",
      "3                  16.8    19.93     13.70  0.30    2.40  \n",
      "4                  12.0    12.52     31.22  0.64    6.94  \n",
      "...                 ...      ...       ...   ...     ...  \n",
      "7644                1.6     5.40     11.00  2.60    0.80  \n",
      "7645               11.2     6.04      8.88  0.08    2.24  \n",
      "7646                2.0     4.30     18.70  0.40    1.60  \n",
      "7647                6.0    22.60     27.20  1.80   10.00  \n",
      "7648                6.4     5.10      6.80  0.20    7.80  \n",
      "\n",
      "[7503 rows x 17 columns]\n"
     ]
    }
   ],
   "source": [
    "df.reset_index(inplace=True, drop=True)\n",
    "threshold = 12.5\n",
    "deli = np.where(df[\"COPPER\"]>threshold)\n",
    "df.drop(deli[0],inplace = True)\n",
    "\n",
    "print(df)"
   ]
  },
  {
   "cell_type": "code",
   "execution_count": 132,
   "metadata": {},
   "outputs": [
    {
     "name": "stdout",
     "output_type": "stream",
     "text": [
      "      SAMPLE_NO     SEASON SAMPLE_DATE  \\\n",
      "0         21043  2015-2016  10/12/2015   \n",
      "1         24976  2016-2017    1/3/2017   \n",
      "2         27525  2017-2018   9/18/2017   \n",
      "3         27609  2017-2018   9/19/2017   \n",
      "4         27617  2017-2018   9/20/2017   \n",
      "...         ...        ...         ...   \n",
      "7644      10038  2013-2014   4/13/2013   \n",
      "7645       9888  2012-2013    2/5/2013   \n",
      "7646      42168  2019-2020   1/27/2020   \n",
      "7647      20516  2015-2016   9/22/2015   \n",
      "7648      34414  2018-2019  11/22/2018   \n",
      "\n",
      "                                    FARMER_ENGLISH_NAME VILLAGE_NAME_ENGLISH  \\\n",
      "0                                  MAHAVIR  BAPU  PATIL              SHIRATI   \n",
      "1                                 GANPATI  KESHAV  MANE             JAMBHALI   \n",
      "2                                  KUMAR APPA MURCHUTTE              SHEDBAL   \n",
      "3                               GANPATI  SHIVAJI  PATIL             ARJUNWAD   \n",
      "4     KARYAKARI  SANCHALAK  SHRI DATTA  S.S.S.K.LTD ...               SHIROL   \n",
      "...                                                 ...                  ...   \n",
      "7644  KARYAKARI  SANCHALAK  SHRI DATTA  S.S.S.K.LTD ...               SHIROL   \n",
      "7645  KARYAKARI  SANCHALAK  SHRI DATTA  S.S.S.K.LTD ...               SHIROL   \n",
      "7646  KARYAKARI  SANCHALAK  SHRI DATTA  S.S.S.K.LTD ...               SHIROL   \n",
      "7647                            BABU  PUNAPPA  GADAKARI              SADALGA   \n",
      "7648                           PRAMILA  DILIPRAO  KAMAT          DHARANGUTTI   \n",
      "\n",
      "     SURVEY_NO       PH  Unnamed: 7        EC  Organinc Carbon  PHOSPHOROUS  \\\n",
      "0          492  1.00000         NaN  0.350427         0.859504     0.346517   \n",
      "1          664  0.99375         NaN  0.188034         0.090909     0.161815   \n",
      "2          797  0.99375         NaN  0.384615         0.586777     0.012247   \n",
      "3           43  0.99375         NaN  0.316239         0.661157     0.012247   \n",
      "4         1700  0.99125         NaN  0.128205         0.438017     0.096567   \n",
      "...        ...      ...         ...       ...              ...          ...   \n",
      "7644       NaN  0.47750         NaN  0.034188         0.297521     0.012247   \n",
      "7645       NaN  0.45250         NaN  0.786325         0.628099     0.117647   \n",
      "7646    V.S.H.  0.42500         NaN  0.076923         0.776860     0.381650   \n",
      "7647     10319  0.07000         NaN  0.153846         0.685950     0.017768   \n",
      "7648       370  0.00000         NaN  0.555556         0.611570     0.518169   \n",
      "\n",
      "        POTASH  CALCIUM_CARBONATE   FERROUS  MANAGESE      ZINK    COPPER  \n",
      "0     0.368205           0.642857  0.511351  0.528437  0.455587  0.503205  \n",
      "1     0.503230           0.285714  0.211235  0.408402  0.378223  0.629808  \n",
      "2     0.627170           0.833333  0.259331  0.472706  0.355301  0.342949  \n",
      "3     0.728943           0.928571  0.766449  0.391255  0.083095  0.190705  \n",
      "4     0.412541           0.642857  0.481339  0.891969  0.180516  0.554487  \n",
      "...        ...                ...       ...       ...       ...       ...  \n",
      "7644  0.221088           0.023810  0.207387  0.314090  0.742120  0.062500  \n",
      "7645  0.492145           0.595238  0.232012  0.253501  0.020057  0.177885  \n",
      "7646  0.581826           0.047619  0.165063  0.534153  0.111748  0.126603  \n",
      "7647  0.266432           0.285714  0.869180  0.777079  0.512894  0.799679  \n",
      "7648  0.581826           0.309524  0.195845  0.194055  0.054441  0.623397  \n",
      "\n",
      "[7503 rows x 17 columns]\n"
     ]
    }
   ],
   "source": [
    "from sklearn.preprocessing import MinMaxScaler\n",
    "cols_to_normalize = ['PH','Organinc Carbon','PHOSPHOROUS','POTASH','CALCIUM_CARBONATE','FERROUS','MANAGESE','ZINK','COPPER','EC']\n",
    "scaler = MinMaxScaler()\n",
    "df[cols_to_normalize] = scaler.fit_transform(df[cols_to_normalize])\n",
    "\n",
    "print(df)"
   ]
  },
  {
   "cell_type": "code",
   "execution_count": 133,
   "metadata": {},
   "outputs": [
    {
     "name": "stdout",
     "output_type": "stream",
     "text": [
      "[[0.05263158 0.10526316 0.00820425 0.00936599 0.01017843 0.01088969\n",
      "  0.01477847 0.01185771 0.01055465 0.01121932]\n",
      " [0.10526316 0.05263158 0.00728538 0.00818706 0.00876816 0.00903844\n",
      "  0.00984246 0.00890218 0.00876036 0.00897545]\n",
      " [0.10526316 0.10526316 0.06563402 0.13099293 0.18394751 0.21779375\n",
      "  0.23645553 0.24926112 0.26386617 0.26926356]\n",
      " [0.10526316 0.10526316 0.13126805 0.06549646 0.12263168 0.16334531\n",
      "  0.20689859 0.21365239 0.21109293 0.2243863 ]\n",
      " [0.10526316 0.10526316 0.13126805 0.13099293 0.06131584 0.10889687\n",
      "  0.17734165 0.17804366 0.1583197  0.17950904]\n",
      " [0.10526316 0.10526316 0.13126805 0.13099293 0.12263168 0.05444844\n",
      "  0.14778471 0.14243493 0.1583197  0.13463178]\n",
      " [0.10526316 0.10526316 0.13126805 0.13099293 0.12263168 0.10889687\n",
      "  0.02955694 0.01780437 0.01319331 0.01494413]\n",
      " [0.10526316 0.10526316 0.13126805 0.13099293 0.12263168 0.10889687\n",
      "  0.05911388 0.03560873 0.01757349 0.02243863]\n",
      " [0.10526316 0.10526316 0.13126805 0.13099293 0.12263168 0.10889687\n",
      "  0.05911388 0.07121746 0.05277323 0.08975452]\n",
      " [0.10526316 0.10526316 0.13126805 0.13099293 0.12263168 0.10889687\n",
      "  0.05911388 0.07121746 0.10554647 0.04487726]]\n"
     ]
    }
   ],
   "source": [
    "import numpy as np\n",
    "\n",
    "criteria = [\"PH\", \"EC\", \"Organinc Carbon\", \"PHOSPHOROUS\", \"POTASH\", \"CALCIUM_CARBONATE\", \"FERROUS\", \"MANAGESE\", \"ZINK\", \"COPPER\"]\n",
    "n = len(criteria)\n",
    "\n",
    "# Initialize an n x n matrix with ones\n",
    "matrix = np.ones((n, n))\n",
    "\n",
    "# Assign comparison values directly to the matrix\n",
    "matrix[0, 1] = 2\n",
    "matrix[0, 2] = 0.125\n",
    "matrix[0, 3] = 0.143\n",
    "matrix[0, 4] = 0.166\n",
    "matrix[0, 5] = 0.2\n",
    "matrix[0, 6] = 0.5\n",
    "matrix[0, 7] = 0.333\n",
    "matrix[0, 8] = 0.2\n",
    "matrix[0, 9] = 0.25\n",
    "matrix[1, 2] = 0.111\n",
    "matrix[1, 3] = 0.125\n",
    "matrix[1, 4] = 0.143\n",
    "matrix[1, 5] = 0.166\n",
    "matrix[1, 6] = 0.333\n",
    "matrix[1, 7] = 0.25\n",
    "matrix[1, 8] = 0.166\n",
    "matrix[1, 9] = 0.2\n",
    "matrix[2, 3] = 2\n",
    "matrix[2, 4] = 3\n",
    "matrix[2, 5] = 4\n",
    "matrix[2, 6] = 8\n",
    "matrix[2, 7] = 7\n",
    "matrix[2, 8] = 5\n",
    "matrix[2, 9] = 6\n",
    "matrix[3, 4] = 2\n",
    "matrix[3, 5] = 3\n",
    "matrix[3, 6] = 7\n",
    "matrix[3, 7] = 6\n",
    "matrix[3, 8] = 4\n",
    "matrix[3, 9] = 5\n",
    "matrix[4, 5] = 2\n",
    "matrix[4, 6] = 6\n",
    "matrix[4, 7] = 5\n",
    "matrix[4, 8] = 3\n",
    "matrix[4, 9] = 4\n",
    "matrix[5, 6] = 5\n",
    "matrix[5, 7] = 4\n",
    "matrix[5, 8] = 3\n",
    "matrix[5, 9] = 3\n",
    "matrix[6, 7] = 0.5\n",
    "matrix[6, 8] = 0.25\n",
    "matrix[6, 9] = 0.333\n",
    "matrix[7, 8] = 0.333\n",
    "matrix[7, 9] = 0.5\n",
    "matrix[8, 9] = 2\n",
    "\n",
    "# Fill in the lower triangle of the matrix using reciprocal values\n",
    "matrix = matrix + np.tril(1/matrix, -1)\n",
    "\n",
    "# Normalize the matrix by column\n",
    "sums = matrix.sum(axis=0)\n",
    "matrix = matrix / sums\n",
    "\n",
    "# Print the resulting matrix\n",
    "print(matrix)\n",
    "\n"
   ]
  },
  {
   "cell_type": "code",
   "execution_count": 134,
   "metadata": {},
   "outputs": [
    {
     "name": "stdout",
     "output_type": "stream",
     "text": [
      "criteria weights:  [0.02449432 0.02276542 0.18277409 0.1549298  0.13362141 0.12330385\n",
      " 0.07798146 0.08390506 0.09771749 0.09850709]\n"
     ]
    }
   ],
   "source": [
    "# sum all columns in each row and divide by the number of criteria\n",
    "final_weights = np.sum(matrix, axis=1) / len(criteria)\n",
    "\n",
    "print(\"criteria weights: \", final_weights)"
   ]
  },
  {
   "cell_type": "code",
   "execution_count": 135,
   "metadata": {},
   "outputs": [
    {
     "name": "stdout",
     "output_type": "stream",
     "text": [
      "1.0\n"
     ]
    }
   ],
   "source": [
    "Sample=final_weights.sum(axis=0)\n",
    "print(Sample)"
   ]
  },
  {
   "cell_type": "code",
   "execution_count": 136,
   "metadata": {},
   "outputs": [
    {
     "name": "stdout",
     "output_type": "stream",
     "text": [
      "      SAMPLE_NO     SEASON SAMPLE_DATE  \\\n",
      "0         21043  2015-2016  10/12/2015   \n",
      "1         24976  2016-2017    1/3/2017   \n",
      "2         27525  2017-2018   9/18/2017   \n",
      "3         27609  2017-2018   9/19/2017   \n",
      "4         27617  2017-2018   9/20/2017   \n",
      "...         ...        ...         ...   \n",
      "7644      10038  2013-2014   4/13/2013   \n",
      "7645       9888  2012-2013    2/5/2013   \n",
      "7646      42168  2019-2020   1/27/2020   \n",
      "7647      20516  2015-2016   9/22/2015   \n",
      "7648      34414  2018-2019  11/22/2018   \n",
      "\n",
      "                                    FARMER_ENGLISH_NAME VILLAGE_NAME_ENGLISH  \\\n",
      "0                                  MAHAVIR  BAPU  PATIL              SHIRATI   \n",
      "1                                 GANPATI  KESHAV  MANE             JAMBHALI   \n",
      "2                                  KUMAR APPA MURCHUTTE              SHEDBAL   \n",
      "3                               GANPATI  SHIVAJI  PATIL             ARJUNWAD   \n",
      "4     KARYAKARI  SANCHALAK  SHRI DATTA  S.S.S.K.LTD ...               SHIROL   \n",
      "...                                                 ...                  ...   \n",
      "7644  KARYAKARI  SANCHALAK  SHRI DATTA  S.S.S.K.LTD ...               SHIROL   \n",
      "7645  KARYAKARI  SANCHALAK  SHRI DATTA  S.S.S.K.LTD ...               SHIROL   \n",
      "7646  KARYAKARI  SANCHALAK  SHRI DATTA  S.S.S.K.LTD ...               SHIROL   \n",
      "7647                            BABU  PUNAPPA  GADAKARI              SADALGA   \n",
      "7648                           PRAMILA  DILIPRAO  KAMAT          DHARANGUTTI   \n",
      "\n",
      "     SURVEY_NO       PH  Unnamed: 7        EC  Organinc Carbon  PHOSPHOROUS  \\\n",
      "0          492  1.00000         NaN  0.350427         0.859504     0.346517   \n",
      "1          664  0.99375         NaN  0.188034         0.090909     0.161815   \n",
      "2          797  0.99375         NaN  0.384615         0.586777     0.012247   \n",
      "3           43  0.99375         NaN  0.316239         0.661157     0.012247   \n",
      "4         1700  0.99125         NaN  0.128205         0.438017     0.096567   \n",
      "...        ...      ...         ...       ...              ...          ...   \n",
      "7644       NaN  0.47750         NaN  0.034188         0.297521     0.012247   \n",
      "7645       NaN  0.45250         NaN  0.786325         0.628099     0.117647   \n",
      "7646    V.S.H.  0.42500         NaN  0.076923         0.776860     0.381650   \n",
      "7647     10319  0.07000         NaN  0.153846         0.685950     0.017768   \n",
      "7648       370  0.00000         NaN  0.555556         0.611570     0.518169   \n",
      "\n",
      "        POTASH  CALCIUM_CARBONATE   FERROUS  MANAGESE      ZINK    COPPER  \\\n",
      "0     0.368205           0.642857  0.511351  0.528437  0.455587  0.503205   \n",
      "1     0.503230           0.285714  0.211235  0.408402  0.378223  0.629808   \n",
      "2     0.627170           0.833333  0.259331  0.472706  0.355301  0.342949   \n",
      "3     0.728943           0.928571  0.766449  0.391255  0.083095  0.190705   \n",
      "4     0.412541           0.642857  0.481339  0.891969  0.180516  0.554487   \n",
      "...        ...                ...       ...       ...       ...       ...   \n",
      "7644  0.221088           0.023810  0.207387  0.314090  0.742120  0.062500   \n",
      "7645  0.492145           0.595238  0.232012  0.253501  0.020057  0.177885   \n",
      "7646  0.581826           0.047619  0.165063  0.534153  0.111748  0.126603   \n",
      "7647  0.266432           0.285714  0.869180  0.777079  0.512894  0.799679   \n",
      "7648  0.581826           0.309524  0.195845  0.194055  0.054441  0.623397   \n",
      "\n",
      "       Results  \n",
      "0     0.550022  \n",
      "1     0.322519  \n",
      "2     0.457186  \n",
      "3     0.485682  \n",
      "4     0.441246  \n",
      "...        ...  \n",
      "7644  0.222430  \n",
      "7645  0.360014  \n",
      "7646  0.377977  \n",
      "7647  0.466048  \n",
      "7648  0.418900  \n",
      "\n",
      "[7503 rows x 18 columns]\n"
     ]
    }
   ],
   "source": [
    "# Define the decision matrix using the df dataframe\n",
    "decision_matrix = df[['PH', 'EC', 'Organinc Carbon', 'PHOSPHOROUS', 'POTASH', 'CALCIUM_CARBONATE', 'FERROUS', 'MANAGESE', 'ZINK', 'COPPER']].values  # select only relevant columns\n",
    "\n",
    "# Define the weights for each criterion from AHP analysis\n",
    "weights = final_weights\n",
    "\n",
    "# Expand the weights array to have the same shape as the decision matrix\n",
    "expanded_weights = np.expand_dims(weights, axis=0)\n",
    "expanded_weights = np.repeat(expanded_weights, decision_matrix.shape[0], axis=0)\n",
    "\n",
    "# Calculate the weighted sum for each alternative\n",
    "weighted_sums = np.sum(decision_matrix * expanded_weights, axis=1)\n",
    "\n",
    "df['Results'] = weighted_sums\n",
    "print(df)\n"
   ]
  },
  {
   "cell_type": "code",
   "execution_count": 137,
   "metadata": {},
   "outputs": [
    {
     "name": "stdout",
     "output_type": "stream",
     "text": [
      "           PH        EC  Organinc Carbon  PHOSPHOROUS    POTASH  \\\n",
      "0     1.00000  0.350427         0.859504     0.346517  0.368205   \n",
      "1     0.99375  0.188034         0.090909     0.161815  0.503230   \n",
      "2     0.99375  0.384615         0.586777     0.012247  0.627170   \n",
      "3     0.99375  0.316239         0.661157     0.012247  0.728943   \n",
      "4     0.99125  0.128205         0.438017     0.096567  0.412541   \n",
      "...       ...       ...              ...          ...       ...   \n",
      "7644  0.47750  0.034188         0.297521     0.012247  0.221088   \n",
      "7645  0.45250  0.786325         0.628099     0.117647  0.492145   \n",
      "7646  0.42500  0.076923         0.776860     0.381650  0.581826   \n",
      "7647  0.07000  0.153846         0.685950     0.017768  0.266432   \n",
      "7648  0.00000  0.555556         0.611570     0.518169  0.581826   \n",
      "\n",
      "      CALCIUM_CARBONATE   FERROUS  MANAGESE      ZINK    COPPER   Results  \n",
      "0              0.642857  0.511351  0.528437  0.455587  0.503205  0.550022  \n",
      "1              0.285714  0.211235  0.408402  0.378223  0.629808  0.322519  \n",
      "2              0.833333  0.259331  0.472706  0.355301  0.342949  0.457186  \n",
      "3              0.928571  0.766449  0.391255  0.083095  0.190705  0.485682  \n",
      "4              0.642857  0.481339  0.891969  0.180516  0.554487  0.441246  \n",
      "...                 ...       ...       ...       ...       ...       ...  \n",
      "7644           0.023810  0.207387  0.314090  0.742120  0.062500  0.222430  \n",
      "7645           0.595238  0.232012  0.253501  0.020057  0.177885  0.360014  \n",
      "7646           0.047619  0.165063  0.534153  0.111748  0.126603  0.377977  \n",
      "7647           0.285714  0.869180  0.777079  0.512894  0.799679  0.466048  \n",
      "7648           0.309524  0.195845  0.194055  0.054441  0.623397  0.418900  \n",
      "\n",
      "[7503 rows x 11 columns]\n"
     ]
    }
   ],
   "source": [
    "df = df.drop(['SEASON', 'SAMPLE_DATE','FARMER_ENGLISH_NAME','VILLAGE_NAME_ENGLISH','SURVEY_NO','Unnamed: 7','SAMPLE_NO'], axis=1)\n",
    "print(df)"
   ]
  },
  {
   "cell_type": "code",
   "execution_count": 138,
   "metadata": {},
   "outputs": [
    {
     "name": "stdout",
     "output_type": "stream",
     "text": [
      "           PH        EC  Organinc Carbon  PHOSPHOROUS    POTASH  \\\n",
      "0     1.00000  0.350427         0.859504     0.346517  0.368205   \n",
      "1     0.99375  0.188034         0.090909     0.161815  0.503230   \n",
      "2     0.99375  0.384615         0.586777     0.012247  0.627170   \n",
      "3     0.99375  0.316239         0.661157     0.012247  0.728943   \n",
      "4     0.99125  0.128205         0.438017     0.096567  0.412541   \n",
      "...       ...       ...              ...          ...       ...   \n",
      "7644  0.47750  0.034188         0.297521     0.012247  0.221088   \n",
      "7645  0.45250  0.786325         0.628099     0.117647  0.492145   \n",
      "7646  0.42500  0.076923         0.776860     0.381650  0.581826   \n",
      "7647  0.07000  0.153846         0.685950     0.017768  0.266432   \n",
      "7648  0.00000  0.555556         0.611570     0.518169  0.581826   \n",
      "\n",
      "      CALCIUM_CARBONATE   FERROUS  MANAGESE      ZINK    COPPER   Results  \\\n",
      "0              0.642857  0.511351  0.528437  0.455587  0.503205  0.550022   \n",
      "1              0.285714  0.211235  0.408402  0.378223  0.629808  0.322519   \n",
      "2              0.833333  0.259331  0.472706  0.355301  0.342949  0.457186   \n",
      "3              0.928571  0.766449  0.391255  0.083095  0.190705  0.485682   \n",
      "4              0.642857  0.481339  0.891969  0.180516  0.554487  0.441246   \n",
      "...                 ...       ...       ...       ...       ...       ...   \n",
      "7644           0.023810  0.207387  0.314090  0.742120  0.062500  0.222430   \n",
      "7645           0.595238  0.232012  0.253501  0.020057  0.177885  0.360014   \n",
      "7646           0.047619  0.165063  0.534153  0.111748  0.126603  0.377977   \n",
      "7647           0.285714  0.869180  0.777079  0.512894  0.799679  0.466048   \n",
      "7648           0.309524  0.195845  0.194055  0.054441  0.623397  0.418900   \n",
      "\n",
      "     Quality  \n",
      "0       Good  \n",
      "1       Poor  \n",
      "2     Medium  \n",
      "3     Medium  \n",
      "4     Medium  \n",
      "...      ...  \n",
      "7644    Poor  \n",
      "7645    Poor  \n",
      "7646    Poor  \n",
      "7647  Medium  \n",
      "7648  Medium  \n",
      "\n",
      "[7503 rows x 12 columns]\n"
     ]
    }
   ],
   "source": [
    "df['Quality'] = pd.cut(df.Results,bins=[0,0.4,0.5,0.7,1],labels=['Poor','Medium','Good','Excellent'])\n",
    "print(df)"
   ]
  },
  {
   "cell_type": "code",
   "execution_count": null,
   "metadata": {},
   "outputs": [],
   "source": [
    "fig, ax = plt.subplots(figsize =(10,8))\n",
    "sns.heatmap(df['EC','Organinc Carbon','PHOSPHOROUS','POTASH','CALCIUM_CARBONATE','FERROUS'])"
   ]
  },
  {
   "cell_type": "code",
   "execution_count": 139,
   "metadata": {},
   "outputs": [
    {
     "name": "stdout",
     "output_type": "stream",
     "text": [
      "           PH        EC  Organinc Carbon  PHOSPHOROUS    POTASH  \\\n",
      "0     1.00000  0.350427         0.859504     0.346517  0.368205   \n",
      "1     0.99375  0.188034         0.090909     0.161815  0.503230   \n",
      "2     0.99375  0.384615         0.586777     0.012247  0.627170   \n",
      "3     0.99375  0.316239         0.661157     0.012247  0.728943   \n",
      "4     0.99125  0.128205         0.438017     0.096567  0.412541   \n",
      "...       ...       ...              ...          ...       ...   \n",
      "7644  0.47750  0.034188         0.297521     0.012247  0.221088   \n",
      "7645  0.45250  0.786325         0.628099     0.117647  0.492145   \n",
      "7646  0.42500  0.076923         0.776860     0.381650  0.581826   \n",
      "7647  0.07000  0.153846         0.685950     0.017768  0.266432   \n",
      "7648  0.00000  0.555556         0.611570     0.518169  0.581826   \n",
      "\n",
      "      CALCIUM_CARBONATE   FERROUS  MANAGESE      ZINK    COPPER Quality  \n",
      "0              0.642857  0.511351  0.528437  0.455587  0.503205    Good  \n",
      "1              0.285714  0.211235  0.408402  0.378223  0.629808    Poor  \n",
      "2              0.833333  0.259331  0.472706  0.355301  0.342949  Medium  \n",
      "3              0.928571  0.766449  0.391255  0.083095  0.190705  Medium  \n",
      "4              0.642857  0.481339  0.891969  0.180516  0.554487  Medium  \n",
      "...                 ...       ...       ...       ...       ...     ...  \n",
      "7644           0.023810  0.207387  0.314090  0.742120  0.062500    Poor  \n",
      "7645           0.595238  0.232012  0.253501  0.020057  0.177885    Poor  \n",
      "7646           0.047619  0.165063  0.534153  0.111748  0.126603    Poor  \n",
      "7647           0.285714  0.869180  0.777079  0.512894  0.799679  Medium  \n",
      "7648           0.309524  0.195845  0.194055  0.054441  0.623397  Medium  \n",
      "\n",
      "[7503 rows x 11 columns]\n",
      "0       0.550022\n",
      "1       0.322519\n",
      "2       0.457186\n",
      "3       0.485682\n",
      "4       0.441246\n",
      "          ...   \n",
      "7644    0.222430\n",
      "7645    0.360014\n",
      "7646    0.377977\n",
      "7647    0.466048\n",
      "7648    0.418900\n",
      "Name: Results, Length: 7503, dtype: float64\n"
     ]
    }
   ],
   "source": [
    "temp = df.drop(labels =['Results'], axis = 1)\n",
    "y = df['Results']\n",
    "print (temp)\n",
    "print(y)"
   ]
  },
  {
   "cell_type": "code",
   "execution_count": 140,
   "metadata": {},
   "outputs": [
    {
     "name": "stdout",
     "output_type": "stream",
     "text": [
      "[[1.         0.35042735 0.85950413 ... 0.45558739 0.50320513 0.5500221 ]\n",
      " [0.99375    0.18803419 0.09090909 ... 0.3782235  0.62980769 0.32251862]\n",
      " [0.99375    0.38461538 0.58677686 ... 0.35530086 0.34294872 0.45718613]\n",
      " ...\n",
      " [0.425      0.07692308 0.7768595  ... 0.11174785 0.12660256 0.37797706]\n",
      " [0.07       0.15384615 0.68595041 ... 0.51289398 0.79967949 0.46604802]\n",
      " [0.         0.55555556 0.61157025 ... 0.05444126 0.62339744 0.41889978]]\n",
      "['Good', 'Poor', 'Medium', 'Medium', 'Medium', ..., 'Poor', 'Poor', 'Poor', 'Medium', 'Medium']\n",
      "Length: 7503\n",
      "Categories (4, object): ['Poor' < 'Medium' < 'Good' < 'Excellent']\n"
     ]
    }
   ],
   "source": [
    "x = df.iloc[:,:-1].values\n",
    "print(x)\n",
    "y = df.iloc[:,11].values\n",
    "print(y)"
   ]
  },
  {
   "cell_type": "code",
   "execution_count": 141,
   "metadata": {},
   "outputs": [
    {
     "data": {
      "text/plain": [
       "((6002, 11), (1501, 11))"
      ]
     },
     "execution_count": 141,
     "metadata": {},
     "output_type": "execute_result"
    }
   ],
   "source": [
    "from sklearn.model_selection import train_test_split\n",
    "\n",
    "\n",
    "x_train, x_test, y_train, y_test = train_test_split(x, y, test_size= 0.2, random_state=0)\n",
    "\n",
    "x_train.shape,x_test.shape\n"
   ]
  },
  {
   "cell_type": "code",
   "execution_count": 156,
   "metadata": {},
   "outputs": [
    {
     "name": "stdout",
     "output_type": "stream",
     "text": [
      "['Poor', 'Poor', 'Medium', 'Poor', 'Medium', ..., 'Medium', 'Poor', 'Medium', 'Medium', 'Good']\n",
      "Length: 1501\n",
      "Categories (4, object): ['Poor' < 'Medium' < 'Good' < 'Excellent']\n",
      "Poor         516\n",
      "Medium       684\n",
      "Good         300\n",
      "Excellent      1\n",
      "dtype: int64\n"
     ]
    }
   ],
   "source": [
    "print(y_test)\n",
    "print(y_test.value_counts())"
   ]
  },
  {
   "cell_type": "code",
   "execution_count": 142,
   "metadata": {},
   "outputs": [
    {
     "name": "stdout",
     "output_type": "stream",
     "text": [
      "['Medium', 'Medium', 'Good', 'Medium', 'Good', ..., 'Poor', 'Poor', 'Medium', 'Poor', 'Medium']\n",
      "Length: 6002\n",
      "Categories (4, object): ['Poor' < 'Medium' < 'Good' < 'Excellent']\n"
     ]
    }
   ],
   "source": [
    "print (y_train)"
   ]
  },
  {
   "cell_type": "code",
   "execution_count": 143,
   "metadata": {},
   "outputs": [
    {
     "data": {
      "text/plain": [
       "((6002, 11), (1501, 11))"
      ]
     },
     "execution_count": 143,
     "metadata": {},
     "output_type": "execute_result"
    }
   ],
   "source": [
    "\n",
    "x_train.shape,x_test.shape"
   ]
  },
  {
   "cell_type": "code",
   "execution_count": 144,
   "metadata": {},
   "outputs": [
    {
     "data": {
      "text/plain": [
       "((6002,), (1501,))"
      ]
     },
     "execution_count": 144,
     "metadata": {},
     "output_type": "execute_result"
    }
   ],
   "source": [
    "\n",
    "y_train.shape,y_test.shape"
   ]
  },
  {
   "cell_type": "code",
   "execution_count": 145,
   "metadata": {},
   "outputs": [
    {
     "data": {
      "text/html": [
       "<style>#sk-container-id-3 {color: black;background-color: white;}#sk-container-id-3 pre{padding: 0;}#sk-container-id-3 div.sk-toggleable {background-color: white;}#sk-container-id-3 label.sk-toggleable__label {cursor: pointer;display: block;width: 100%;margin-bottom: 0;padding: 0.3em;box-sizing: border-box;text-align: center;}#sk-container-id-3 label.sk-toggleable__label-arrow:before {content: \"▸\";float: left;margin-right: 0.25em;color: #696969;}#sk-container-id-3 label.sk-toggleable__label-arrow:hover:before {color: black;}#sk-container-id-3 div.sk-estimator:hover label.sk-toggleable__label-arrow:before {color: black;}#sk-container-id-3 div.sk-toggleable__content {max-height: 0;max-width: 0;overflow: hidden;text-align: left;background-color: #f0f8ff;}#sk-container-id-3 div.sk-toggleable__content pre {margin: 0.2em;color: black;border-radius: 0.25em;background-color: #f0f8ff;}#sk-container-id-3 input.sk-toggleable__control:checked~div.sk-toggleable__content {max-height: 200px;max-width: 100%;overflow: auto;}#sk-container-id-3 input.sk-toggleable__control:checked~label.sk-toggleable__label-arrow:before {content: \"▾\";}#sk-container-id-3 div.sk-estimator input.sk-toggleable__control:checked~label.sk-toggleable__label {background-color: #d4ebff;}#sk-container-id-3 div.sk-label input.sk-toggleable__control:checked~label.sk-toggleable__label {background-color: #d4ebff;}#sk-container-id-3 input.sk-hidden--visually {border: 0;clip: rect(1px 1px 1px 1px);clip: rect(1px, 1px, 1px, 1px);height: 1px;margin: -1px;overflow: hidden;padding: 0;position: absolute;width: 1px;}#sk-container-id-3 div.sk-estimator {font-family: monospace;background-color: #f0f8ff;border: 1px dotted black;border-radius: 0.25em;box-sizing: border-box;margin-bottom: 0.5em;}#sk-container-id-3 div.sk-estimator:hover {background-color: #d4ebff;}#sk-container-id-3 div.sk-parallel-item::after {content: \"\";width: 100%;border-bottom: 1px solid gray;flex-grow: 1;}#sk-container-id-3 div.sk-label:hover label.sk-toggleable__label {background-color: #d4ebff;}#sk-container-id-3 div.sk-serial::before {content: \"\";position: absolute;border-left: 1px solid gray;box-sizing: border-box;top: 0;bottom: 0;left: 50%;z-index: 0;}#sk-container-id-3 div.sk-serial {display: flex;flex-direction: column;align-items: center;background-color: white;padding-right: 0.2em;padding-left: 0.2em;position: relative;}#sk-container-id-3 div.sk-item {position: relative;z-index: 1;}#sk-container-id-3 div.sk-parallel {display: flex;align-items: stretch;justify-content: center;background-color: white;position: relative;}#sk-container-id-3 div.sk-item::before, #sk-container-id-3 div.sk-parallel-item::before {content: \"\";position: absolute;border-left: 1px solid gray;box-sizing: border-box;top: 0;bottom: 0;left: 50%;z-index: -1;}#sk-container-id-3 div.sk-parallel-item {display: flex;flex-direction: column;z-index: 1;position: relative;background-color: white;}#sk-container-id-3 div.sk-parallel-item:first-child::after {align-self: flex-end;width: 50%;}#sk-container-id-3 div.sk-parallel-item:last-child::after {align-self: flex-start;width: 50%;}#sk-container-id-3 div.sk-parallel-item:only-child::after {width: 0;}#sk-container-id-3 div.sk-dashed-wrapped {border: 1px dashed gray;margin: 0 0.4em 0.5em 0.4em;box-sizing: border-box;padding-bottom: 0.4em;background-color: white;}#sk-container-id-3 div.sk-label label {font-family: monospace;font-weight: bold;display: inline-block;line-height: 1.2em;}#sk-container-id-3 div.sk-label-container {text-align: center;}#sk-container-id-3 div.sk-container {/* jupyter's `normalize.less` sets `[hidden] { display: none; }` but bootstrap.min.css set `[hidden] { display: none !important; }` so we also need the `!important` here to be able to override the default hidden behavior on the sphinx rendered scikit-learn.org. See: https://github.com/scikit-learn/scikit-learn/issues/21755 */display: inline-block !important;position: relative;}#sk-container-id-3 div.sk-text-repr-fallback {display: none;}</style><div id=\"sk-container-id-3\" class=\"sk-top-container\"><div class=\"sk-text-repr-fallback\"><pre>VarianceThreshold(threshold=0)</pre><b>In a Jupyter environment, please rerun this cell to show the HTML representation or trust the notebook. <br />On GitHub, the HTML representation is unable to render, please try loading this page with nbviewer.org.</b></div><div class=\"sk-container\" hidden><div class=\"sk-item\"><div class=\"sk-estimator sk-toggleable\"><input class=\"sk-toggleable__control sk-hidden--visually\" id=\"sk-estimator-id-3\" type=\"checkbox\" checked><label for=\"sk-estimator-id-3\" class=\"sk-toggleable__label sk-toggleable__label-arrow\">VarianceThreshold</label><div class=\"sk-toggleable__content\"><pre>VarianceThreshold(threshold=0)</pre></div></div></div></div></div>"
      ],
      "text/plain": [
       "VarianceThreshold(threshold=0)"
      ]
     },
     "execution_count": 145,
     "metadata": {},
     "output_type": "execute_result"
    }
   ],
   "source": [
    "from sklearn.feature_selection import VarianceThreshold\n",
    "# Check if there are any constant features\n",
    "var_thres = VarianceThreshold(threshold=0)\n",
    "var_thres.fit(x_train)"
   ]
  },
  {
   "cell_type": "code",
   "execution_count": 146,
   "metadata": {},
   "outputs": [
    {
     "data": {
      "text/plain": [
       "11"
      ]
     },
     "execution_count": 146,
     "metadata": {},
     "output_type": "execute_result"
    }
   ],
   "source": [
    "sum(var_thres.get_support())"
   ]
  },
  {
   "cell_type": "code",
   "execution_count": 147,
   "metadata": {},
   "outputs": [
    {
     "name": "stdout",
     "output_type": "stream",
     "text": [
      "[[-0.15636985  0.59700383 -0.28958453 ... -1.05627935  0.1570087\n",
      "   0.40466587]\n",
      " [ 0.86051281  1.03159656  1.76409947 ...  1.30289077 -0.78499348\n",
      "   0.43606311]\n",
      " [-0.10552572  2.03115983  1.0944199  ... -0.52909049 -0.44347078\n",
      "   1.96134897]\n",
      " ...\n",
      " [ 0.65713628 -0.79369288 -1.53965305 ...  0.78888164  1.05772792\n",
      "  -0.25057806]\n",
      " [ 0.37749355 -0.9240707  -0.78068288 ... -0.89812269 -1.01392628\n",
      "  -1.66650732]\n",
      " [ 0.32664941 -0.18526307  0.29080443 ...  1.18427328 -0.0681711\n",
      "   0.07301575]]\n"
     ]
    }
   ],
   "source": [
    "from sklearn.preprocessing import StandardScaler\n",
    "st_x= StandardScaler()  \n",
    "x_train= st_x.fit_transform(x_train)  \n",
    "print(x_train)"
   ]
  },
  {
   "cell_type": "code",
   "execution_count": 148,
   "metadata": {},
   "outputs": [
    {
     "name": "stdout",
     "output_type": "stream",
     "text": [
      "[[ 0.27580528  0.16241111 -1.18249062 ... -0.79268492 -1.41924993\n",
      "  -1.17251364]\n",
      " [ 0.02158461  3.03072309 -0.64674696 ... -0.7795052  -1.21658811\n",
      "  -1.02860283]\n",
      " [-0.10552572  0.51008529 -0.20029392 ...  0.92067885 -0.44347078\n",
      "  -0.40784741]\n",
      " ...\n",
      " [ 0.27580528 -1.05444852 -1.45036244 ... -1.05627935  0.56983834\n",
      "  -0.12510412]\n",
      " [-0.00383745 -0.70677434  1.0051293  ... -1.05627935 -0.18076101\n",
      "   0.46127314]\n",
      " [ 2.30957061 -1.31520415  1.89803538 ... -1.25397517 -0.5372957\n",
      "   0.94237782]]\n"
     ]
    }
   ],
   "source": [
    "x_test= st_x.transform(x_test) \n",
    "print(x_test)"
   ]
  },
  {
   "cell_type": "code",
   "execution_count": 149,
   "metadata": {},
   "outputs": [
    {
     "data": {
      "text/html": [
       "<style>#sk-container-id-4 {color: black;background-color: white;}#sk-container-id-4 pre{padding: 0;}#sk-container-id-4 div.sk-toggleable {background-color: white;}#sk-container-id-4 label.sk-toggleable__label {cursor: pointer;display: block;width: 100%;margin-bottom: 0;padding: 0.3em;box-sizing: border-box;text-align: center;}#sk-container-id-4 label.sk-toggleable__label-arrow:before {content: \"▸\";float: left;margin-right: 0.25em;color: #696969;}#sk-container-id-4 label.sk-toggleable__label-arrow:hover:before {color: black;}#sk-container-id-4 div.sk-estimator:hover label.sk-toggleable__label-arrow:before {color: black;}#sk-container-id-4 div.sk-toggleable__content {max-height: 0;max-width: 0;overflow: hidden;text-align: left;background-color: #f0f8ff;}#sk-container-id-4 div.sk-toggleable__content pre {margin: 0.2em;color: black;border-radius: 0.25em;background-color: #f0f8ff;}#sk-container-id-4 input.sk-toggleable__control:checked~div.sk-toggleable__content {max-height: 200px;max-width: 100%;overflow: auto;}#sk-container-id-4 input.sk-toggleable__control:checked~label.sk-toggleable__label-arrow:before {content: \"▾\";}#sk-container-id-4 div.sk-estimator input.sk-toggleable__control:checked~label.sk-toggleable__label {background-color: #d4ebff;}#sk-container-id-4 div.sk-label input.sk-toggleable__control:checked~label.sk-toggleable__label {background-color: #d4ebff;}#sk-container-id-4 input.sk-hidden--visually {border: 0;clip: rect(1px 1px 1px 1px);clip: rect(1px, 1px, 1px, 1px);height: 1px;margin: -1px;overflow: hidden;padding: 0;position: absolute;width: 1px;}#sk-container-id-4 div.sk-estimator {font-family: monospace;background-color: #f0f8ff;border: 1px dotted black;border-radius: 0.25em;box-sizing: border-box;margin-bottom: 0.5em;}#sk-container-id-4 div.sk-estimator:hover {background-color: #d4ebff;}#sk-container-id-4 div.sk-parallel-item::after {content: \"\";width: 100%;border-bottom: 1px solid gray;flex-grow: 1;}#sk-container-id-4 div.sk-label:hover label.sk-toggleable__label {background-color: #d4ebff;}#sk-container-id-4 div.sk-serial::before {content: \"\";position: absolute;border-left: 1px solid gray;box-sizing: border-box;top: 0;bottom: 0;left: 50%;z-index: 0;}#sk-container-id-4 div.sk-serial {display: flex;flex-direction: column;align-items: center;background-color: white;padding-right: 0.2em;padding-left: 0.2em;position: relative;}#sk-container-id-4 div.sk-item {position: relative;z-index: 1;}#sk-container-id-4 div.sk-parallel {display: flex;align-items: stretch;justify-content: center;background-color: white;position: relative;}#sk-container-id-4 div.sk-item::before, #sk-container-id-4 div.sk-parallel-item::before {content: \"\";position: absolute;border-left: 1px solid gray;box-sizing: border-box;top: 0;bottom: 0;left: 50%;z-index: -1;}#sk-container-id-4 div.sk-parallel-item {display: flex;flex-direction: column;z-index: 1;position: relative;background-color: white;}#sk-container-id-4 div.sk-parallel-item:first-child::after {align-self: flex-end;width: 50%;}#sk-container-id-4 div.sk-parallel-item:last-child::after {align-self: flex-start;width: 50%;}#sk-container-id-4 div.sk-parallel-item:only-child::after {width: 0;}#sk-container-id-4 div.sk-dashed-wrapped {border: 1px dashed gray;margin: 0 0.4em 0.5em 0.4em;box-sizing: border-box;padding-bottom: 0.4em;background-color: white;}#sk-container-id-4 div.sk-label label {font-family: monospace;font-weight: bold;display: inline-block;line-height: 1.2em;}#sk-container-id-4 div.sk-label-container {text-align: center;}#sk-container-id-4 div.sk-container {/* jupyter's `normalize.less` sets `[hidden] { display: none; }` but bootstrap.min.css set `[hidden] { display: none !important; }` so we also need the `!important` here to be able to override the default hidden behavior on the sphinx rendered scikit-learn.org. See: https://github.com/scikit-learn/scikit-learn/issues/21755 */display: inline-block !important;position: relative;}#sk-container-id-4 div.sk-text-repr-fallback {display: none;}</style><div id=\"sk-container-id-4\" class=\"sk-top-container\"><div class=\"sk-text-repr-fallback\"><pre>RandomForestClassifier(criterion=&#x27;entropy&#x27;, n_estimators=10)</pre><b>In a Jupyter environment, please rerun this cell to show the HTML representation or trust the notebook. <br />On GitHub, the HTML representation is unable to render, please try loading this page with nbviewer.org.</b></div><div class=\"sk-container\" hidden><div class=\"sk-item\"><div class=\"sk-estimator sk-toggleable\"><input class=\"sk-toggleable__control sk-hidden--visually\" id=\"sk-estimator-id-4\" type=\"checkbox\" checked><label for=\"sk-estimator-id-4\" class=\"sk-toggleable__label sk-toggleable__label-arrow\">RandomForestClassifier</label><div class=\"sk-toggleable__content\"><pre>RandomForestClassifier(criterion=&#x27;entropy&#x27;, n_estimators=10)</pre></div></div></div></div></div>"
      ],
      "text/plain": [
       "RandomForestClassifier(criterion='entropy', n_estimators=10)"
      ]
     },
     "execution_count": 149,
     "metadata": {},
     "output_type": "execute_result"
    }
   ],
   "source": [
    "from sklearn.ensemble import RandomForestClassifier  \n",
    "classifier= RandomForestClassifier(n_estimators= 10, criterion=\"entropy\")  \n",
    "classifier.fit(x_train, y_train)"
   ]
  },
  {
   "cell_type": "code",
   "execution_count": 150,
   "metadata": {},
   "outputs": [
    {
     "name": "stdout",
     "output_type": "stream",
     "text": [
      "['Poor' 'Poor' 'Medium' ... 'Medium' 'Medium' 'Good']\n"
     ]
    }
   ],
   "source": [
    "y_pred= classifier.predict(x_test)\n",
    "print(y_pred)"
   ]
  },
  {
   "cell_type": "code",
   "execution_count": 151,
   "metadata": {},
   "outputs": [],
   "source": [
    "#Creating the Confusion matrix  \n",
    "from sklearn.metrics import confusion_matrix  \n",
    "cm= confusion_matrix(y_test, y_pred) "
   ]
  },
  {
   "cell_type": "code",
   "execution_count": 152,
   "metadata": {},
   "outputs": [
    {
     "name": "stdout",
     "output_type": "stream",
     "text": [
      "[[  0   1   0   0]\n",
      " [  0 300   0   0]\n",
      " [  0   0 684   0]\n",
      " [  0   0   0 516]]\n"
     ]
    }
   ],
   "source": [
    "print(cm)"
   ]
  },
  {
   "cell_type": "code",
   "execution_count": 153,
   "metadata": {},
   "outputs": [
    {
     "data": {
      "image/png": "[encoded data removed]",
      "text/plain": [
       "<Figure size 432x288 with 2 Axes>"
      ]
     },
     "metadata": {
      "needs_background": "light"
     },
     "output_type": "display_data"
    },
    {
     "name": "stdout",
     "output_type": "stream",
     "text": [
      "Accuracy =  0.9993337774816788\n"
     ]
    }
   ],
   "source": [
    "from sklearn import metrics\n",
    "\n",
    "cm = metrics.confusion_matrix(y_test, y_pred)\n",
    "\n",
    "cm_display = metrics.ConfusionMatrixDisplay(confusion_matrix = cm, display_labels = ['Excellent','Good','Medium','Poor'])\n",
    "\n",
    "cm_display.plot()\n",
    "plt.show()\n",
    "\n",
    "# [[659  39   0   0]\n",
    "#  [ 19 673  22   0]\n",
    "#  [  0  18 329  18]\n",
    "#  [  0   1  27 305]]\n",
    "\n",
    "accuracy = metrics.accuracy_score(y_test, y_pred)\n",
    "print(\"Accuracy = \",accuracy)\n"
   ]
  }
 ],
 "metadata": {
  "kernelspec": {
   "display_name": "Python 3",
   "language": "python",
   "name": "python3"
  },
  "language_info": {
   "codemirror_mode": {
    "name": "ipython",
    "version": 3
   },
   "file_extension": ".py",
   "mimetype": "text/x-python",
   "name": "python",
   "nbconvert_exporter": "python",
   "pygments_lexer": "ipython3",
   "version": "3.9.6"
  }
 },
 "nbformat": 4,
 "nbformat_minor": 2
}
