{
 "cells": [
  {
   "cell_type": "code",
   "execution_count": 387,
   "metadata": {},
   "outputs": [],
   "source": [
    "import numpy as np\n",
    "import matplotlib.pyplot as plt\n",
    "import pandas as pd"
   ]
  },
  {
   "cell_type": "code",
   "execution_count": 388,
   "metadata": {},
   "outputs": [],
   "source": [
    "df = pd.read_csv('soil_fertility.csv')"
   ]
  },
  {
   "cell_type": "code",
   "execution_count": 389,
   "metadata": {},
   "outputs": [
    {
     "data": {
      "text/html": [
       "<div>\n",
       "<style scoped>\n",
       "    .dataframe tbody tr th:only-of-type {\n",
       "        vertical-align: middle;\n",
       "    }\n",
       "\n",
       "    .dataframe tbody tr th {\n",
       "        vertical-align: top;\n",
       "    }\n",
       "\n",
       "    .dataframe thead th {\n",
       "        text-align: right;\n",
       "    }\n",
       "</style>\n",
       "<table border=\"1\" class=\"dataframe\">\n",
       "  <thead>\n",
       "    <tr style=\"text-align: right;\">\n",
       "      <th></th>\n",
       "      <th>SAMPLE_NO</th>\n",
       "      <th>SEASON</th>\n",
       "      <th>SAMPLE_DATE</th>\n",
       "      <th>FARMER_ENGLISH_NAME</th>\n",
       "      <th>VILLAGE_NAME_ENGLISH</th>\n",
       "      <th>SURVEY_NO</th>\n",
       "      <th>PH</th>\n",
       "      <th>Unnamed: 7</th>\n",
       "      <th>EC</th>\n",
       "      <th>Organinc Carbon</th>\n",
       "      <th>PHOSPHOROUS</th>\n",
       "      <th>POTASH</th>\n",
       "      <th>CALCIUM_CARBONATE</th>\n",
       "      <th>FERROUS</th>\n",
       "      <th>MANAGESE</th>\n",
       "      <th>ZINK</th>\n",
       "      <th>COPPER</th>\n",
       "    </tr>\n",
       "  </thead>\n",
       "  <tbody>\n",
       "    <tr>\n",
       "      <th>0</th>\n",
       "      <td>35902</td>\n",
       "      <td>2019-2020</td>\n",
       "      <td>5/15/2019</td>\n",
       "      <td>ANNASAO  ALIS  KIRTIKUMAR  GUNDAPPA .DANOLE</td>\n",
       "      <td>SHIRDHON</td>\n",
       "      <td>172/75</td>\n",
       "      <td>730.00</td>\n",
       "      <td>NaN</td>\n",
       "      <td>0.36</td>\n",
       "      <td>0.42</td>\n",
       "      <td>100.66</td>\n",
       "      <td>997.0</td>\n",
       "      <td>5.2</td>\n",
       "      <td>10.90</td>\n",
       "      <td>6.10</td>\n",
       "      <td>0.60</td>\n",
       "      <td>4.60</td>\n",
       "    </tr>\n",
       "    <tr>\n",
       "      <th>1</th>\n",
       "      <td>21043</td>\n",
       "      <td>2015-2016</td>\n",
       "      <td>10/12/2015</td>\n",
       "      <td>MAHAVIR  BAPU  PATIL</td>\n",
       "      <td>SHIRATI</td>\n",
       "      <td>492</td>\n",
       "      <td>8.60</td>\n",
       "      <td>NaN</td>\n",
       "      <td>0.44</td>\n",
       "      <td>1.08</td>\n",
       "      <td>34.90</td>\n",
       "      <td>370.0</td>\n",
       "      <td>12.0</td>\n",
       "      <td>13.30</td>\n",
       "      <td>18.50</td>\n",
       "      <td>1.60</td>\n",
       "      <td>6.30</td>\n",
       "    </tr>\n",
       "    <tr>\n",
       "      <th>2</th>\n",
       "      <td>24651</td>\n",
       "      <td>2016-2017</td>\n",
       "      <td>12/22/2016</td>\n",
       "      <td>ADAPPA  DADA  LADGE</td>\n",
       "      <td>CHAND-SHIRADWAD</td>\n",
       "      <td>121/1</td>\n",
       "      <td>8.58</td>\n",
       "      <td>NaN</td>\n",
       "      <td>0.50</td>\n",
       "      <td>0.78</td>\n",
       "      <td>13.30</td>\n",
       "      <td>403.0</td>\n",
       "      <td>9.6</td>\n",
       "      <td>93.20</td>\n",
       "      <td>12.40</td>\n",
       "      <td>1.19</td>\n",
       "      <td>7.00</td>\n",
       "    </tr>\n",
       "    <tr>\n",
       "      <th>3</th>\n",
       "      <td>24976</td>\n",
       "      <td>2016-2017</td>\n",
       "      <td>1/3/2017</td>\n",
       "      <td>GANPATI  KESHAV  MANE</td>\n",
       "      <td>JAMBHALI</td>\n",
       "      <td>664</td>\n",
       "      <td>8.55</td>\n",
       "      <td>NaN</td>\n",
       "      <td>0.25</td>\n",
       "      <td>0.15</td>\n",
       "      <td>16.50</td>\n",
       "      <td>504.0</td>\n",
       "      <td>6.0</td>\n",
       "      <td>5.50</td>\n",
       "      <td>14.30</td>\n",
       "      <td>1.33</td>\n",
       "      <td>7.88</td>\n",
       "    </tr>\n",
       "    <tr>\n",
       "      <th>4</th>\n",
       "      <td>27525</td>\n",
       "      <td>2017-2018</td>\n",
       "      <td>9/18/2017</td>\n",
       "      <td>KUMAR APPA MURCHUTTE</td>\n",
       "      <td>SHEDBAL</td>\n",
       "      <td>797</td>\n",
       "      <td>8.55</td>\n",
       "      <td>NaN</td>\n",
       "      <td>0.48</td>\n",
       "      <td>0.75</td>\n",
       "      <td>1.60</td>\n",
       "      <td>627.0</td>\n",
       "      <td>15.2</td>\n",
       "      <td>6.75</td>\n",
       "      <td>16.55</td>\n",
       "      <td>1.25</td>\n",
       "      <td>4.30</td>\n",
       "    </tr>\n",
       "  </tbody>\n",
       "</table>\n",
       "</div>"
      ],
      "text/plain": [
       "   SAMPLE_NO     SEASON SAMPLE_DATE  \\\n",
       "0      35902  2019-2020   5/15/2019   \n",
       "1      21043  2015-2016  10/12/2015   \n",
       "2      24651  2016-2017  12/22/2016   \n",
       "3      24976  2016-2017    1/3/2017   \n",
       "4      27525  2017-2018   9/18/2017   \n",
       "\n",
       "                           FARMER_ENGLISH_NAME VILLAGE_NAME_ENGLISH SURVEY_NO  \\\n",
       "0  ANNASAO  ALIS  KIRTIKUMAR  GUNDAPPA .DANOLE             SHIRDHON    172/75   \n",
       "1                         MAHAVIR  BAPU  PATIL              SHIRATI       492   \n",
       "2                          ADAPPA  DADA  LADGE      CHAND-SHIRADWAD     121/1   \n",
       "3                        GANPATI  KESHAV  MANE             JAMBHALI       664   \n",
       "4                         KUMAR APPA MURCHUTTE              SHEDBAL       797   \n",
       "\n",
       "       PH  Unnamed: 7    EC  Organinc Carbon  PHOSPHOROUS  POTASH  \\\n",
       "0  730.00         NaN  0.36             0.42       100.66   997.0   \n",
       "1    8.60         NaN  0.44             1.08        34.90   370.0   \n",
       "2    8.58         NaN  0.50             0.78        13.30   403.0   \n",
       "3    8.55         NaN  0.25             0.15        16.50   504.0   \n",
       "4    8.55         NaN  0.48             0.75         1.60   627.0   \n",
       "\n",
       "   CALCIUM_CARBONATE  FERROUS  MANAGESE  ZINK  COPPER  \n",
       "0                5.2    10.90      6.10  0.60    4.60  \n",
       "1               12.0    13.30     18.50  1.60    6.30  \n",
       "2                9.6    93.20     12.40  1.19    7.00  \n",
       "3                6.0     5.50     14.30  1.33    7.88  \n",
       "4               15.2     6.75     16.55  1.25    4.30  "
      ]
     },
     "execution_count": 389,
     "metadata": {},
     "output_type": "execute_result"
    }
   ],
   "source": [
    "df.head()"
   ]
  },
  {
   "cell_type": "code",
   "execution_count": 390,
   "metadata": {},
   "outputs": [
    {
     "name": "stdout",
     "output_type": "stream",
     "text": [
      "       SAMPLE_NO     SEASON SAMPLE_DATE  \\\n",
      "0          35902  2019-2020   5/15/2019   \n",
      "1          21043  2015-2016  10/12/2015   \n",
      "2          24651  2016-2017  12/22/2016   \n",
      "3          24976  2016-2017    1/3/2017   \n",
      "4          27525  2017-2018   9/18/2017   \n",
      "...          ...        ...         ...   \n",
      "10571      10033  2013-2014   4/13/2013   \n",
      "10572       6416  2012-2013   6/22/2012   \n",
      "10573      10038  2013-2014   4/13/2013   \n",
      "10575      42168  2019-2020   1/27/2020   \n",
      "10576      20516  2015-2016   9/22/2015   \n",
      "\n",
      "                                     FARMER_ENGLISH_NAME VILLAGE_NAME_ENGLISH  \\\n",
      "0            ANNASAO  ALIS  KIRTIKUMAR  GUNDAPPA .DANOLE             SHIRDHON   \n",
      "1                                   MAHAVIR  BAPU  PATIL              SHIRATI   \n",
      "2                                    ADAPPA  DADA  LADGE      CHAND-SHIRADWAD   \n",
      "3                                  GANPATI  KESHAV  MANE             JAMBHALI   \n",
      "4                                   KUMAR APPA MURCHUTTE              SHEDBAL   \n",
      "...                                                  ...                  ...   \n",
      "10571  KARYAKARI  SANCHALAK  SHRI DATTA  S.S.S.K.LTD ...               SHIROL   \n",
      "10572                                MUKUNDA  RAMU  JONG            KURUNDWAD   \n",
      "10573  KARYAKARI  SANCHALAK  SHRI DATTA  S.S.S.K.LTD ...               SHIROL   \n",
      "10575  KARYAKARI  SANCHALAK  SHRI DATTA  S.S.S.K.LTD ...               SHIROL   \n",
      "10576                            BABU  PUNAPPA  GADAKARI              SADALGA   \n",
      "\n",
      "      SURVEY_NO      PH  Unnamed: 7    EC  Organinc Carbon  PHOSPHOROUS  \\\n",
      "0        172/75  730.00         NaN  0.36             0.42       100.66   \n",
      "1           492    8.60         NaN  0.44             1.08        34.90   \n",
      "2         121/1    8.58         NaN  0.50             0.78        13.30   \n",
      "3           664    8.55         NaN  0.25             0.15        16.50   \n",
      "4           797    8.55         NaN  0.48             0.75         1.60   \n",
      "...         ...     ...         ...   ...              ...          ...   \n",
      "10571        64    4.92         NaN  0.10             1.15        14.10   \n",
      "10572       257    4.68         NaN  0.10             0.50        12.10   \n",
      "10573       NaN    4.42         NaN  0.07             0.40         1.60   \n",
      "10575    V.S.H.    4.00         NaN  0.12             0.98        38.40   \n",
      "10576     10319    1.16         NaN  0.21             0.87         2.15   \n",
      "\n",
      "       POTASH  CALCIUM_CARBONATE  FERROUS  MANAGESE  ZINK  COPPER  \n",
      "0       997.0                5.2    10.90      6.10  0.60    4.60  \n",
      "1       370.0               12.0    13.30     18.50  1.60    6.30  \n",
      "2       403.0                9.6    93.20     12.40  1.19    7.00  \n",
      "3       504.0                6.0     5.50     14.30  1.33    7.88  \n",
      "4       627.0               15.2     6.75     16.55  1.25    4.30  \n",
      "...       ...                ...      ...       ...   ...     ...  \n",
      "10571   358.0                2.0     9.20      4.40  1.40    2.10  \n",
      "10572   493.0                4.4     7.76      6.42  0.46    3.82  \n",
      "10573   224.0                1.6     5.40     11.00  2.60    0.80  \n",
      "10575   582.0                2.0     4.30     18.70  0.40    1.60  \n",
      "10576   269.0                6.0    22.60     27.20  1.80   10.00  \n",
      "\n",
      "[7308 rows x 17 columns]\n"
     ]
    }
   ],
   "source": [
    "threshold = 0.6\n",
    "\n",
    "deli = np.where(df[\"EC\"]>threshold)\n",
    "df.drop(deli[0],inplace = True)\n",
    "\n",
    "# noisy_data = df[df[\"POTASH\"] > threshold]\n",
    "\n",
    "# mean = df[\"POTASH\"].mean()\n",
    "# df.loc[df[\"POTASH\"] > threshold, \"POTASH\"] = mean\n",
    "\n",
    "print(df)"
   ]
  },
  {
   "cell_type": "code",
   "execution_count": 391,
   "metadata": {},
   "outputs": [],
   "source": [
    "df.reset_index(inplace=True, drop=True)"
   ]
  },
  {
   "cell_type": "code",
   "execution_count": 392,
   "metadata": {},
   "outputs": [
    {
     "name": "stdout",
     "output_type": "stream",
     "text": [
      "      SAMPLE_NO     SEASON SAMPLE_DATE  \\\n",
      "0         35902  2019-2020   5/15/2019   \n",
      "2         24651  2016-2017  12/22/2016   \n",
      "3         24976  2016-2017    1/3/2017   \n",
      "4         27525  2017-2018   9/18/2017   \n",
      "5         26283  2017-2018   7/26/2017   \n",
      "...         ...        ...         ...   \n",
      "7301       9624  2012-2013  12/10/2012   \n",
      "7302       9863  2012-2013    2/2/2013   \n",
      "7304       6416  2012-2013   6/22/2012   \n",
      "7305      10038  2013-2014   4/13/2013   \n",
      "7307      20516  2015-2016   9/22/2015   \n",
      "\n",
      "                                    FARMER_ENGLISH_NAME VILLAGE_NAME_ENGLISH  \\\n",
      "0           ANNASAO  ALIS  KIRTIKUMAR  GUNDAPPA .DANOLE             SHIRDHON   \n",
      "2                                   ADAPPA  DADA  LADGE      CHAND-SHIRADWAD   \n",
      "3                                 GANPATI  KESHAV  MANE             JAMBHALI   \n",
      "4                                  KUMAR APPA MURCHUTTE              SHEDBAL   \n",
      "5                                RAMESH SADASHIV BADKAR              SHEDBAL   \n",
      "...                                                 ...                  ...   \n",
      "7301  KARYAKARI  SANCHALAK  SHRI DATTA  S.S.S.K.LTD ...               SHIROL   \n",
      "7302  KARYAKARI  SANCHALAK  SHRI DATTA  S.S.S.K.LTD ...               SHIROL   \n",
      "7304                                MUKUNDA  RAMU  JONG            KURUNDWAD   \n",
      "7305  KARYAKARI  SANCHALAK  SHRI DATTA  S.S.S.K.LTD ...               SHIROL   \n",
      "7307                            BABU  PUNAPPA  GADAKARI              SADALGA   \n",
      "\n",
      "     SURVEY_NO      PH  Unnamed: 7    EC  Organinc Carbon  PHOSPHOROUS  \\\n",
      "0       172/75  730.00         NaN  0.36             0.42       100.66   \n",
      "2        121/1    8.58         NaN  0.50             0.78        13.30   \n",
      "3          664    8.55         NaN  0.25             0.15        16.50   \n",
      "4          797    8.55         NaN  0.48             0.75         1.60   \n",
      "5          487    8.55         NaN  0.22             0.42         1.60   \n",
      "...        ...     ...         ...   ...              ...          ...   \n",
      "7301       680    5.10         NaN  0.15             0.85        13.60   \n",
      "7302   3.00ACR    4.95         NaN  0.12             0.70        11.50   \n",
      "7304       257    4.68         NaN  0.10             0.50        12.10   \n",
      "7305       NaN    4.42         NaN  0.07             0.40         1.60   \n",
      "7307     10319    1.16         NaN  0.21             0.87         2.15   \n",
      "\n",
      "      POTASH  CALCIUM_CARBONATE  FERROUS  MANAGESE  ZINK  COPPER  \n",
      "0      997.0                5.2    10.90      6.10  0.60    4.60  \n",
      "2      403.0                9.6    93.20     12.40  1.19    7.00  \n",
      "3      504.0                6.0     5.50     14.30  1.33    7.88  \n",
      "4      627.0               15.2     6.75     16.55  1.25    4.30  \n",
      "5      347.0               20.0     7.69      9.11  0.16    3.91  \n",
      "...      ...                ...      ...       ...   ...     ...  \n",
      "7301   235.0                2.4    46.00     42.00  1.70    4.20  \n",
      "7302   224.0                1.6    63.00     71.40  1.50    9.10  \n",
      "7304   493.0                4.4     7.76      6.42  0.46    3.82  \n",
      "7305   224.0                1.6     5.40     11.00  2.60    0.80  \n",
      "7307   269.0                6.0    22.60     27.20  1.80   10.00  \n",
      "\n",
      "[5559 rows x 17 columns]\n"
     ]
    }
   ],
   "source": [
    "threshold = 0.91\n",
    "\n",
    "deli = np.where(df[\"Organinc Carbon\"]>threshold)\n",
    "df.drop(deli[0],inplace = True)\n",
    "\n",
    "print(df)"
   ]
  },
  {
   "cell_type": "code",
   "execution_count": 393,
   "metadata": {},
   "outputs": [
    {
     "name": "stdout",
     "output_type": "stream",
     "text": [
      "      SAMPLE_NO     SEASON SAMPLE_DATE  \\\n",
      "1         24651  2016-2017  12/22/2016   \n",
      "2         24976  2016-2017    1/3/2017   \n",
      "3         27525  2017-2018   9/18/2017   \n",
      "4         26283  2017-2018   7/26/2017   \n",
      "5         27609  2017-2018   9/19/2017   \n",
      "...         ...        ...         ...   \n",
      "5554       9624  2012-2013  12/10/2012   \n",
      "5555       9863  2012-2013    2/2/2013   \n",
      "5556       6416  2012-2013   6/22/2012   \n",
      "5557      10038  2013-2014   4/13/2013   \n",
      "5558      20516  2015-2016   9/22/2015   \n",
      "\n",
      "                                    FARMER_ENGLISH_NAME VILLAGE_NAME_ENGLISH  \\\n",
      "1                                   ADAPPA  DADA  LADGE      CHAND-SHIRADWAD   \n",
      "2                                 GANPATI  KESHAV  MANE             JAMBHALI   \n",
      "3                                  KUMAR APPA MURCHUTTE              SHEDBAL   \n",
      "4                                RAMESH SADASHIV BADKAR              SHEDBAL   \n",
      "5                               GANPATI  SHIVAJI  PATIL             ARJUNWAD   \n",
      "...                                                 ...                  ...   \n",
      "5554  KARYAKARI  SANCHALAK  SHRI DATTA  S.S.S.K.LTD ...               SHIROL   \n",
      "5555  KARYAKARI  SANCHALAK  SHRI DATTA  S.S.S.K.LTD ...               SHIROL   \n",
      "5556                                MUKUNDA  RAMU  JONG            KURUNDWAD   \n",
      "5557  KARYAKARI  SANCHALAK  SHRI DATTA  S.S.S.K.LTD ...               SHIROL   \n",
      "5558                            BABU  PUNAPPA  GADAKARI              SADALGA   \n",
      "\n",
      "     SURVEY_NO    PH  Unnamed: 7    EC  Organinc Carbon  PHOSPHOROUS  POTASH  \\\n",
      "1        121/1  8.58         NaN  0.50             0.78        13.30   403.0   \n",
      "2          664  8.55         NaN  0.25             0.15        16.50   504.0   \n",
      "3          797  8.55         NaN  0.48             0.75         1.60   627.0   \n",
      "4          487  8.55         NaN  0.22             0.42         1.60   347.0   \n",
      "5           43  8.55         NaN  0.40             0.84         1.60   728.0   \n",
      "...        ...   ...         ...   ...              ...          ...     ...   \n",
      "5554       680  5.10         NaN  0.15             0.85        13.60   235.0   \n",
      "5555   3.00ACR  4.95         NaN  0.12             0.70        11.50   224.0   \n",
      "5556       257  4.68         NaN  0.10             0.50        12.10   493.0   \n",
      "5557       NaN  4.42         NaN  0.07             0.40         1.60   224.0   \n",
      "5558     10319  1.16         NaN  0.21             0.87         2.15   269.0   \n",
      "\n",
      "      CALCIUM_CARBONATE  FERROUS  MANAGESE  ZINK  COPPER  \n",
      "1                   9.6    93.20     12.40  1.19    7.00  \n",
      "2                   6.0     5.50     14.30  1.33    7.88  \n",
      "3                  15.2     6.75     16.55  1.25    4.30  \n",
      "4                  20.0     7.69      9.11  0.16    3.91  \n",
      "5                  16.8    19.93     13.70  0.30    2.40  \n",
      "...                 ...      ...       ...   ...     ...  \n",
      "5554                2.4    46.00     42.00  1.70    4.20  \n",
      "5555                1.6    63.00     71.40  1.50    9.10  \n",
      "5556                4.4     7.76      6.42  0.46    3.82  \n",
      "5557                1.6     5.40     11.00  2.60    0.80  \n",
      "5558                6.0    22.60     27.20  1.80   10.00  \n",
      "\n",
      "[3681 rows x 17 columns]\n"
     ]
    }
   ],
   "source": [
    "df.reset_index(inplace=True, drop=True)\n",
    "threshold = 27.8\n",
    "\n",
    "deli = np.where(df[\"PHOSPHOROUS\"]>threshold)\n",
    "df.drop(deli[0],inplace = True)\n",
    "\n",
    "print(df)"
   ]
  },
  {
   "cell_type": "code",
   "execution_count": 394,
   "metadata": {},
   "outputs": [
    {
     "name": "stdout",
     "output_type": "stream",
     "text": [
      "      SAMPLE_NO     SEASON SAMPLE_DATE  \\\n",
      "0         24651  2016-2017  12/22/2016   \n",
      "1         24976  2016-2017    1/3/2017   \n",
      "3         26283  2017-2018   7/26/2017   \n",
      "5         27617  2017-2018   9/20/2017   \n",
      "8         24676  2016-2017  12/22/2016   \n",
      "...         ...        ...         ...   \n",
      "3676       9624  2012-2013  12/10/2012   \n",
      "3677       9863  2012-2013    2/2/2013   \n",
      "3678       6416  2012-2013   6/22/2012   \n",
      "3679      10038  2013-2014   4/13/2013   \n",
      "3680      20516  2015-2016   9/22/2015   \n",
      "\n",
      "                                    FARMER_ENGLISH_NAME VILLAGE_NAME_ENGLISH  \\\n",
      "0                                   ADAPPA  DADA  LADGE      CHAND-SHIRADWAD   \n",
      "1                                 GANPATI  KESHAV  MANE             JAMBHALI   \n",
      "3                                RAMESH SADASHIV BADKAR              SHEDBAL   \n",
      "5     KARYAKARI  SANCHALAK  SHRI DATTA  S.S.S.K.LTD ...               SHIROL   \n",
      "8                              BABASO  PUNDLIK  GAIKWAD               TAKALI   \n",
      "...                                                 ...                  ...   \n",
      "3676  KARYAKARI  SANCHALAK  SHRI DATTA  S.S.S.K.LTD ...               SHIROL   \n",
      "3677  KARYAKARI  SANCHALAK  SHRI DATTA  S.S.S.K.LTD ...               SHIROL   \n",
      "3678                                MUKUNDA  RAMU  JONG            KURUNDWAD   \n",
      "3679  KARYAKARI  SANCHALAK  SHRI DATTA  S.S.S.K.LTD ...               SHIROL   \n",
      "3680                            BABU  PUNAPPA  GADAKARI              SADALGA   \n",
      "\n",
      "     SURVEY_NO    PH  Unnamed: 7    EC  Organinc Carbon  PHOSPHOROUS  POTASH  \\\n",
      "0        121/1  8.58         NaN  0.50             0.78        13.30   403.0   \n",
      "1          664  8.55         NaN  0.25             0.15        16.50   504.0   \n",
      "3          487  8.55         NaN  0.22             0.42         1.60   347.0   \n",
      "5         1700  8.53         NaN  0.18             0.57        10.00   414.0   \n",
      "8          921  8.50         NaN  0.29             0.78        21.10   515.0   \n",
      "...        ...   ...         ...   ...              ...          ...     ...   \n",
      "3676       680  5.10         NaN  0.15             0.85        13.60   235.0   \n",
      "3677   3.00ACR  4.95         NaN  0.12             0.70        11.50   224.0   \n",
      "3678       257  4.68         NaN  0.10             0.50        12.10   493.0   \n",
      "3679       NaN  4.42         NaN  0.07             0.40         1.60   224.0   \n",
      "3680     10319  1.16         NaN  0.21             0.87         2.15   269.0   \n",
      "\n",
      "      CALCIUM_CARBONATE  FERROUS  MANAGESE  ZINK  COPPER  \n",
      "0                   9.6    93.20     12.40  1.19    7.00  \n",
      "1                   6.0     5.50     14.30  1.33    7.88  \n",
      "3                  20.0     7.69      9.11  0.16    3.91  \n",
      "5                  12.0    12.52     31.22  0.64    6.94  \n",
      "8                  16.0    87.00     10.80  2.11    8.36  \n",
      "...                 ...      ...       ...   ...     ...  \n",
      "3676                2.4    46.00     42.00  1.70    4.20  \n",
      "3677                1.6    63.00     71.40  1.50    9.10  \n",
      "3678                4.4     7.76      6.42  0.46    3.82  \n",
      "3679                1.6     5.40     11.00  2.60    0.80  \n",
      "3680                6.0    22.60     27.20  1.80   10.00  \n",
      "\n",
      "[2529 rows x 17 columns]\n"
     ]
    }
   ],
   "source": [
    "df.reset_index(inplace=True, drop=True)\n",
    "threshold = 547\n",
    "\n",
    "deli = np.where(df[\"POTASH\"]>threshold)\n",
    "df.drop(deli[0],inplace = True)\n",
    "\n",
    "print(df)"
   ]
  },
  {
   "cell_type": "code",
   "execution_count": 395,
   "metadata": {},
   "outputs": [
    {
     "name": "stdout",
     "output_type": "stream",
     "text": [
      "      SAMPLE_NO     SEASON SAMPLE_DATE  \\\n",
      "1         24976  2016-2017    1/3/2017   \n",
      "15        24485  2016-2017  12/21/2016   \n",
      "17        24973  2016-2017    1/3/2017   \n",
      "23        25000  2016-2017    1/3/2017   \n",
      "24        24998  2016-2017    1/3/2017   \n",
      "...         ...        ...         ...   \n",
      "2524       9624  2012-2013  12/10/2012   \n",
      "2525       9863  2012-2013    2/2/2013   \n",
      "2526       6416  2012-2013   6/22/2012   \n",
      "2527      10038  2013-2014   4/13/2013   \n",
      "2528      20516  2015-2016   9/22/2015   \n",
      "\n",
      "                                    FARMER_ENGLISH_NAME VILLAGE_NAME_ENGLISH  \\\n",
      "1                                 GANPATI  KESHAV  MANE             JAMBHALI   \n",
      "15                               SURESH  GANPATI  PATIL            KURUNDWAD   \n",
      "17                                 NARAYAN  DATTU  MALI             JAMBHALI   \n",
      "23                                 ARUN PANDURANG PATIL      CHAND-SHIRADWAD   \n",
      "24                               PARKASH PANDURAN PATIL      CHAND-SHIRADWAD   \n",
      "...                                                 ...                  ...   \n",
      "2524  KARYAKARI  SANCHALAK  SHRI DATTA  S.S.S.K.LTD ...               SHIROL   \n",
      "2525  KARYAKARI  SANCHALAK  SHRI DATTA  S.S.S.K.LTD ...               SHIROL   \n",
      "2526                                MUKUNDA  RAMU  JONG            KURUNDWAD   \n",
      "2527  KARYAKARI  SANCHALAK  SHRI DATTA  S.S.S.K.LTD ...               SHIROL   \n",
      "2528                            BABU  PUNAPPA  GADAKARI              SADALGA   \n",
      "\n",
      "     SURVEY_NO    PH  Unnamed: 7    EC  Organinc Carbon  PHOSPHOROUS  POTASH  \\\n",
      "1          664  8.55         NaN  0.25             0.15        16.50   504.0   \n",
      "15        1124  8.40         NaN  0.29             0.84        15.20   510.0   \n",
      "17         106  8.35         NaN  0.42             0.57        21.40   437.0   \n",
      "23         983  8.30         NaN  0.20             0.36         9.50   381.0   \n",
      "24         983  8.30         NaN  0.22             0.36        14.10   381.0   \n",
      "...        ...   ...         ...   ...              ...          ...     ...   \n",
      "2524       680  5.10         NaN  0.15             0.85        13.60   235.0   \n",
      "2525   3.00ACR  4.95         NaN  0.12             0.70        11.50   224.0   \n",
      "2526       257  4.68         NaN  0.10             0.50        12.10   493.0   \n",
      "2527       NaN  4.42         NaN  0.07             0.40         1.60   224.0   \n",
      "2528     10319  1.16         NaN  0.21             0.87         2.15   269.0   \n",
      "\n",
      "      CALCIUM_CARBONATE  FERROUS  MANAGESE  ZINK  COPPER  \n",
      "1                   6.0     5.50     14.30  1.33    7.88  \n",
      "15                  7.6    49.00     30.00  2.80    7.60  \n",
      "17                  4.0     6.39     10.00  1.08    7.57  \n",
      "23                  6.8    22.80     20.00  1.83   10.60  \n",
      "24                  7.6    19.80     18.80  1.69    9.72  \n",
      "...                 ...      ...       ...   ...     ...  \n",
      "2524                2.4    46.00     42.00  1.70    4.20  \n",
      "2525                1.6    63.00     71.40  1.50    9.10  \n",
      "2526                4.4     7.76      6.42  0.46    3.82  \n",
      "2527                1.6     5.40     11.00  2.60    0.80  \n",
      "2528                6.0    22.60     27.20  1.80   10.00  \n",
      "\n",
      "[1738 rows x 17 columns]\n"
     ]
    }
   ],
   "source": [
    "df.reset_index(inplace=True, drop=True)\n",
    "threshold = 8.5\n",
    "\n",
    "deli = np.where(df[\"CALCIUM_CARBONATE\"]>threshold)\n",
    "df.drop(deli[0],inplace = True)\n",
    "\n",
    "print(df)"
   ]
  },
  {
   "cell_type": "code",
   "execution_count": 396,
   "metadata": {},
   "outputs": [
    {
     "name": "stdout",
     "output_type": "stream",
     "text": [
      "      SAMPLE_NO     SEASON SAMPLE_DATE  \\\n",
      "0         24976  2016-2017    1/3/2017   \n",
      "2         24973  2016-2017    1/3/2017   \n",
      "5         25187  2016-2017    1/5/2017   \n",
      "6         24645  2016-2017  12/22/2016   \n",
      "9         25018  2016-2017    1/3/2017   \n",
      "...         ...        ...         ...   \n",
      "1724        890  2010-2011    8/5/2010   \n",
      "1729        887  2010-2011    8/5/2010   \n",
      "1732      10036  2013-2014   4/13/2013   \n",
      "1735       6416  2012-2013   6/22/2012   \n",
      "1736      10038  2013-2014   4/13/2013   \n",
      "\n",
      "                                    FARMER_ENGLISH_NAME VILLAGE_NAME_ENGLISH  \\\n",
      "0                                 GANPATI  KESHAV  MANE             JAMBHALI   \n",
      "2                                  NARAYAN  DATTU  MALI             JAMBHALI   \n",
      "5     KARYAKARI  SANCHALAK  SHRI DATTA  S.S.S.K.LTD ...               SHIROL   \n",
      "6                                VIMAL  DAYANAND  PATIL               JANWAD   \n",
      "9                                  SANJAY SADASHIV KORE              RAJAPUR   \n",
      "...                                                 ...                  ...   \n",
      "1724                       GURUNATH  PANDURANG  SANKPAL               SHIROL   \n",
      "1729                          UTTARA AJITSHING  JAGDALE               SHIROL   \n",
      "1732  KARYAKARI  SANCHALAK  SHRI DATTA  S.S.S.K.LTD ...               SHIROL   \n",
      "1735                                MUKUNDA  RAMU  JONG            KURUNDWAD   \n",
      "1736  KARYAKARI  SANCHALAK  SHRI DATTA  S.S.S.K.LTD ...               SHIROL   \n",
      "\n",
      "     SURVEY_NO    PH  Unnamed: 7    EC  Organinc Carbon  PHOSPHOROUS  POTASH  \\\n",
      "0          664  8.55         NaN  0.25             0.15         16.5   504.0   \n",
      "2          106  8.35         NaN  0.42             0.57         21.4   437.0   \n",
      "5          353  8.30         NaN  0.32             0.36          2.3   493.0   \n",
      "6      291/292  8.27         NaN  0.22             0.75         13.3   504.0   \n",
      "9         1001  8.20         NaN  0.20             0.69          7.2   381.0   \n",
      "...        ...   ...         ...   ...              ...          ...     ...   \n",
      "1724       341  5.49         NaN  0.52             0.50         23.0   414.0   \n",
      "1729        67  5.34         NaN  0.57             0.50          9.0   269.0   \n",
      "1732        59  5.20         NaN  0.14             0.90          6.6   336.0   \n",
      "1735       257  4.68         NaN  0.10             0.50         12.1   493.0   \n",
      "1736       NaN  4.42         NaN  0.07             0.40          1.6   224.0   \n",
      "\n",
      "      CALCIUM_CARBONATE  FERROUS  MANAGESE  ZINK  COPPER  \n",
      "0                   6.0     5.50     14.30  1.33    7.88  \n",
      "2                   4.0     6.39     10.00  1.08    7.57  \n",
      "5                   6.0    10.70     14.20  0.33    5.53  \n",
      "6                   4.8     0.25     30.40  2.14    8.50  \n",
      "9                   5.2     5.35     15.00  0.87    9.34  \n",
      "...                 ...      ...       ...   ...     ...  \n",
      "1724                3.2    10.00     15.00  2.00   11.00  \n",
      "1729                3.6     6.00     22.00  2.00   10.00  \n",
      "1732                1.8    11.50      4.80  1.40    1.40  \n",
      "1735                4.4     7.76      6.42  0.46    3.82  \n",
      "1736                1.6     5.40     11.00  2.60    0.80  \n",
      "\n",
      "[1079 rows x 17 columns]\n"
     ]
    }
   ],
   "source": [
    "df.reset_index(inplace=True, drop=True)\n",
    "threshold = 12\n",
    "\n",
    "deli = np.where(df[\"FERROUS\"]>threshold)\n",
    "df.drop(deli[0],inplace = True)\n",
    "\n",
    "print(df)"
   ]
  },
  {
   "cell_type": "code",
   "execution_count": 397,
   "metadata": {},
   "outputs": [
    {
     "name": "stdout",
     "output_type": "stream",
     "text": [
      "      SAMPLE_NO     SEASON SAMPLE_DATE  \\\n",
      "0         24976  2016-2017    1/3/2017   \n",
      "1         24973  2016-2017    1/3/2017   \n",
      "2         25187  2016-2017    1/5/2017   \n",
      "4         25018  2016-2017    1/3/2017   \n",
      "5         25024  2016-2017    1/3/2017   \n",
      "...         ...        ...         ...   \n",
      "1073      29032  2017-2018    2/5/2018   \n",
      "1074        890  2010-2011    8/5/2010   \n",
      "1076      10036  2013-2014   4/13/2013   \n",
      "1077       6416  2012-2013   6/22/2012   \n",
      "1078      10038  2013-2014   4/13/2013   \n",
      "\n",
      "                                    FARMER_ENGLISH_NAME VILLAGE_NAME_ENGLISH  \\\n",
      "0                                 GANPATI  KESHAV  MANE             JAMBHALI   \n",
      "1                                  NARAYAN  DATTU  MALI             JAMBHALI   \n",
      "2     KARYAKARI  SANCHALAK  SHRI DATTA  S.S.S.K.LTD ...               SHIROL   \n",
      "4                                  SANJAY SADASHIV KORE              RAJAPUR   \n",
      "5                                  VIMAL BASPRABHU KORE              RAJAPUR   \n",
      "...                                                 ...                  ...   \n",
      "1073  KARYAKARI  SANCHALAK  SHRI DATTA  S.S.S.K.LTD ...               SHIROL   \n",
      "1074                       GURUNATH  PANDURANG  SANKPAL               SHIROL   \n",
      "1076  KARYAKARI  SANCHALAK  SHRI DATTA  S.S.S.K.LTD ...               SHIROL   \n",
      "1077                                MUKUNDA  RAMU  JONG            KURUNDWAD   \n",
      "1078  KARYAKARI  SANCHALAK  SHRI DATTA  S.S.S.K.LTD ...               SHIROL   \n",
      "\n",
      "            SURVEY_NO    PH  Unnamed: 7    EC  Organinc Carbon  PHOSPHOROUS  \\\n",
      "0                 664  8.55         NaN  0.25             0.15        16.50   \n",
      "1                 106  8.35         NaN  0.42             0.57        21.40   \n",
      "2                 353  8.30         NaN  0.32             0.36         2.30   \n",
      "4                1001  8.20         NaN  0.20             0.69         7.20   \n",
      "5                1001  8.20         NaN  0.18             0.60         6.30   \n",
      "...               ...   ...         ...   ...              ...          ...   \n",
      "1073  KHALCHA.5..1067  5.58         NaN  0.20             0.75         5.02   \n",
      "1074              341  5.49         NaN  0.52             0.50        23.00   \n",
      "1076               59  5.20         NaN  0.14             0.90         6.60   \n",
      "1077              257  4.68         NaN  0.10             0.50        12.10   \n",
      "1078              NaN  4.42         NaN  0.07             0.40         1.60   \n",
      "\n",
      "      POTASH  CALCIUM_CARBONATE  FERROUS  MANAGESE  ZINK  COPPER  \n",
      "0      504.0                6.0     5.50     14.30  1.33    7.88  \n",
      "1      437.0                4.0     6.39     10.00  1.08    7.57  \n",
      "2      493.0                6.0    10.70     14.20  0.33    5.53  \n",
      "4      381.0                5.2     5.35     15.00  0.87    9.34  \n",
      "5      358.0                5.2     9.00     14.20  0.71    9.28  \n",
      "...      ...                ...      ...       ...   ...     ...  \n",
      "1073   347.0                1.6     8.93      8.21  4.43    1.93  \n",
      "1074   414.0                3.2    10.00     15.00  2.00   11.00  \n",
      "1076   336.0                1.8    11.50      4.80  1.40    1.40  \n",
      "1077   493.0                4.4     7.76      6.42  0.46    3.82  \n",
      "1078   224.0                1.6     5.40     11.00  2.60    0.80  \n",
      "\n",
      "[599 rows x 17 columns]\n"
     ]
    }
   ],
   "source": [
    "df.reset_index(inplace=True, drop=True)\n",
    "threshold = 17.5\n",
    "\n",
    "deli = np.where(df[\"MANAGESE\"]>threshold)\n",
    "df.drop(deli[0],inplace = True)\n",
    "\n",
    "print(df)"
   ]
  },
  {
   "cell_type": "code",
   "execution_count": 398,
   "metadata": {},
   "outputs": [
    {
     "name": "stdout",
     "output_type": "stream",
     "text": [
      "     SAMPLE_NO     SEASON SAMPLE_DATE  \\\n",
      "0        24976  2016-2017    1/3/2017   \n",
      "1        24973  2016-2017    1/3/2017   \n",
      "2        25187  2016-2017    1/5/2017   \n",
      "3        25018  2016-2017    1/3/2017   \n",
      "4        25024  2016-2017    1/3/2017   \n",
      "..         ...        ...         ...   \n",
      "583       7217  2012-2013   7/18/2012   \n",
      "584       9294  2012-2013  11/22/2012   \n",
      "593      17574  2014-2015  12/27/2014   \n",
      "596      10036  2013-2014   4/13/2013   \n",
      "597       6416  2012-2013   6/22/2012   \n",
      "\n",
      "                                   FARMER_ENGLISH_NAME VILLAGE_NAME_ENGLISH  \\\n",
      "0                                GANPATI  KESHAV  MANE             JAMBHALI   \n",
      "1                                 NARAYAN  DATTU  MALI             JAMBHALI   \n",
      "2    KARYAKARI  SANCHALAK  SHRI DATTA  S.S.S.K.LTD ...               SHIROL   \n",
      "3                                 SANJAY SADASHIV KORE              RAJAPUR   \n",
      "4                                 VIMAL BASPRABHU KORE              RAJAPUR   \n",
      "..                                                 ...                  ...   \n",
      "583                           NIVRUTTI  SHANKAR  KADAM               UDGAON   \n",
      "584                          BABASO  ANNU  FIRGANNAWAR              BORGAON   \n",
      "593  KARYAKARI  SANCHALAK  SHRI DATTA  S.S.S.K.LTD ...               SHIROL   \n",
      "596  KARYAKARI  SANCHALAK  SHRI DATTA  S.S.S.K.LTD ...               SHIROL   \n",
      "597                                MUKUNDA  RAMU  JONG            KURUNDWAD   \n",
      "\n",
      "    SURVEY_NO    PH  Unnamed: 7    EC  Organinc Carbon  PHOSPHOROUS  POTASH  \\\n",
      "0         664  8.55         NaN  0.25             0.15         16.5   504.0   \n",
      "1         106  8.35         NaN  0.42             0.57         21.4   437.0   \n",
      "2         353  8.30         NaN  0.32             0.36          2.3   493.0   \n",
      "3        1001  8.20         NaN  0.20             0.69          7.2   381.0   \n",
      "4        1001  8.20         NaN  0.18             0.60          6.3   358.0   \n",
      "..        ...   ...         ...   ...              ...          ...     ...   \n",
      "583      1591  6.58         NaN  0.25             0.40         21.1   353.0   \n",
      "584       437  6.55         NaN  0.30             0.40         15.0   200.0   \n",
      "593      2726  6.00         NaN  0.09             0.51         10.0   381.0   \n",
      "596        59  5.20         NaN  0.14             0.90          6.6   336.0   \n",
      "597       257  4.68         NaN  0.10             0.50         12.1   493.0   \n",
      "\n",
      "     CALCIUM_CARBONATE  FERROUS  MANAGESE  ZINK  COPPER  \n",
      "0                  6.0     5.50     14.30  1.33    7.88  \n",
      "1                  4.0     6.39     10.00  1.08    7.57  \n",
      "2                  6.0    10.70     14.20  0.33    5.53  \n",
      "3                  5.2     5.35     15.00  0.87    9.34  \n",
      "4                  5.2     9.00     14.20  0.71    9.28  \n",
      "..                 ...      ...       ...   ...     ...  \n",
      "583                6.0     7.74     16.80  1.18    4.12  \n",
      "584                4.0     4.40      3.70  1.00    5.00  \n",
      "593                1.2     3.60      1.80  0.40    1.20  \n",
      "596                1.8    11.50      4.80  1.40    1.40  \n",
      "597                4.4     7.76      6.42  0.46    3.82  \n",
      "\n",
      "[424 rows x 17 columns]\n"
     ]
    }
   ],
   "source": [
    "df.reset_index(inplace=True, drop=True)\n",
    "threshold = 1.54\n",
    "\n",
    "deli = np.where(df[\"ZINK\"]>threshold)\n",
    "df.drop(deli[0],inplace = True)\n",
    "\n",
    "print(df)"
   ]
  },
  {
   "cell_type": "code",
   "execution_count": 399,
   "metadata": {},
   "outputs": [
    {
     "name": "stdout",
     "output_type": "stream",
     "text": [
      "     SAMPLE_NO     SEASON SAMPLE_DATE  \\\n",
      "2        25187  2016-2017    1/5/2017   \n",
      "8        27629  2017-2018   9/20/2017   \n",
      "9        26471  2017-2018    8/2/2017   \n",
      "10       27025  2017-2018   8/23/2017   \n",
      "11        2491  2011-2012   7/14/2011   \n",
      "..         ...        ...         ...   \n",
      "419       7217  2012-2013   7/18/2012   \n",
      "420       9294  2012-2013  11/22/2012   \n",
      "421      17574  2014-2015  12/27/2014   \n",
      "422      10036  2013-2014   4/13/2013   \n",
      "423       6416  2012-2013   6/22/2012   \n",
      "\n",
      "                                   FARMER_ENGLISH_NAME VILLAGE_NAME_ENGLISH  \\\n",
      "2    KARYAKARI  SANCHALAK  SHRI DATTA  S.S.S.K.LTD ...               SHIROL   \n",
      "8    KARYAKARI  SANCHALAK  SHRI DATTA  S.S.S.K.LTD ...               SHIROL   \n",
      "9                    PRADDYUMNAKUMAR  ANAPPA  CHOUGULE              BORGAON   \n",
      "10                              KONDIBA  HIWARA  UGARE             ARJUNWAD   \n",
      "11             ADAGONDA  RAIGONDA  PATIL  (PALGOUNDAR)              SHEDBAL   \n",
      "..                                                 ...                  ...   \n",
      "419                           NIVRUTTI  SHANKAR  KADAM               UDGAON   \n",
      "420                          BABASO  ANNU  FIRGANNAWAR              BORGAON   \n",
      "421  KARYAKARI  SANCHALAK  SHRI DATTA  S.S.S.K.LTD ...               SHIROL   \n",
      "422  KARYAKARI  SANCHALAK  SHRI DATTA  S.S.S.K.LTD ...               SHIROL   \n",
      "423                                MUKUNDA  RAMU  JONG            KURUNDWAD   \n",
      "\n",
      "    SURVEY_NO    PH  Unnamed: 7    EC  Organinc Carbon  PHOSPHOROUS  POTASH  \\\n",
      "2         353  8.30         NaN  0.32             0.36          2.3   493.0   \n",
      "8         430  8.15         NaN  0.20             0.90          8.6   538.0   \n",
      "9         238  8.15         NaN  0.35             0.60          6.6   347.0   \n",
      "10        654  8.12         NaN  0.38             0.42         10.4   538.0   \n",
      "11        402  8.11         NaN  0.36             0.40          4.5   310.0   \n",
      "..        ...   ...         ...   ...              ...          ...     ...   \n",
      "419      1591  6.58         NaN  0.25             0.40         21.1   353.0   \n",
      "420       437  6.55         NaN  0.30             0.40         15.0   200.0   \n",
      "421      2726  6.00         NaN  0.09             0.51         10.0   381.0   \n",
      "422        59  5.20         NaN  0.14             0.90          6.6   336.0   \n",
      "423       257  4.68         NaN  0.10             0.50         12.1   493.0   \n",
      "\n",
      "     CALCIUM_CARBONATE  FERROUS  MANAGESE  ZINK  COPPER  \n",
      "2                  6.0    10.70     14.20  0.33    5.53  \n",
      "8                  7.2     1.40      2.80  0.13    2.72  \n",
      "9                  7.6     4.34     14.28  0.70    2.64  \n",
      "10                 8.4    10.65     15.70  0.75    5.25  \n",
      "11                 6.4     6.00     13.00  1.20    4.40  \n",
      "..                 ...      ...       ...   ...     ...  \n",
      "419                6.0     7.74     16.80  1.18    4.12  \n",
      "420                4.0     4.40      3.70  1.00    5.00  \n",
      "421                1.2     3.60      1.80  0.40    1.20  \n",
      "422                1.8    11.50      4.80  1.40    1.40  \n",
      "423                4.4     7.76      6.42  0.46    3.82  \n",
      "\n",
      "[322 rows x 17 columns]\n"
     ]
    }
   ],
   "source": [
    "df.reset_index(inplace=True, drop=True)\n",
    "threshold = 6\n",
    "deli = np.where(df[\"COPPER\"]>threshold)\n",
    "df.drop(deli[0],inplace = True)\n",
    "\n",
    "print(df)"
   ]
  },
  {
   "cell_type": "code",
   "execution_count": 400,
   "metadata": {},
   "outputs": [
    {
     "name": "stdout",
     "output_type": "stream",
     "text": [
      "     SAMPLE_NO     SEASON SAMPLE_DATE  \\\n",
      "2        25187  2016-2017    1/5/2017   \n",
      "8        27629  2017-2018   9/20/2017   \n",
      "9        26471  2017-2018    8/2/2017   \n",
      "10       27025  2017-2018   8/23/2017   \n",
      "11        2491  2011-2012   7/14/2011   \n",
      "..         ...        ...         ...   \n",
      "419       7217  2012-2013   7/18/2012   \n",
      "420       9294  2012-2013  11/22/2012   \n",
      "421      17574  2014-2015  12/27/2014   \n",
      "422      10036  2013-2014   4/13/2013   \n",
      "423       6416  2012-2013   6/22/2012   \n",
      "\n",
      "                                   FARMER_ENGLISH_NAME VILLAGE_NAME_ENGLISH  \\\n",
      "2    KARYAKARI  SANCHALAK  SHRI DATTA  S.S.S.K.LTD ...               SHIROL   \n",
      "8    KARYAKARI  SANCHALAK  SHRI DATTA  S.S.S.K.LTD ...               SHIROL   \n",
      "9                    PRADDYUMNAKUMAR  ANAPPA  CHOUGULE              BORGAON   \n",
      "10                              KONDIBA  HIWARA  UGARE             ARJUNWAD   \n",
      "11             ADAGONDA  RAIGONDA  PATIL  (PALGOUNDAR)              SHEDBAL   \n",
      "..                                                 ...                  ...   \n",
      "419                           NIVRUTTI  SHANKAR  KADAM               UDGAON   \n",
      "420                          BABASO  ANNU  FIRGANNAWAR              BORGAON   \n",
      "421  KARYAKARI  SANCHALAK  SHRI DATTA  S.S.S.K.LTD ...               SHIROL   \n",
      "422  KARYAKARI  SANCHALAK  SHRI DATTA  S.S.S.K.LTD ...               SHIROL   \n",
      "423                                MUKUNDA  RAMU  JONG            KURUNDWAD   \n",
      "\n",
      "    SURVEY_NO        PH  Unnamed: 7        EC  Organinc Carbon  PHOSPHOROUS  \\\n",
      "2         353  1.000000         NaN  0.490909         0.225352     0.074161   \n",
      "8         430  0.958564         NaN  0.272727         0.985915     0.320062   \n",
      "9         238  0.958564         NaN  0.545455         0.563380     0.241998   \n",
      "10        654  0.950276         NaN  0.600000         0.309859     0.390320   \n",
      "11        402  0.947514         NaN  0.563636         0.281690     0.160031   \n",
      "..        ...       ...         ...       ...              ...          ...   \n",
      "419      1591  0.524862         NaN  0.363636         0.281690     0.807963   \n",
      "420       437  0.516575         NaN  0.454545         0.281690     0.569867   \n",
      "421      2726  0.364641         NaN  0.072727         0.436620     0.374707   \n",
      "422        59  0.143646         NaN  0.163636         0.985915     0.241998   \n",
      "423       257  0.000000         NaN  0.090909         0.422535     0.456674   \n",
      "\n",
      "       POTASH  CALCIUM_CARBONATE   FERROUS  MANAGESE      ZINK    COPPER  \n",
      "2    0.914669           0.666667  0.891122  0.807243  0.203947  0.916667  \n",
      "8    1.000000           0.833333  0.112228  0.141355  0.072368  0.418440  \n",
      "9    0.637819           0.888889  0.358459  0.811916  0.447368  0.404255  \n",
      "10   1.000000           1.000000  0.886935  0.894860  0.480263  0.867021  \n",
      "11   0.567658           0.722222  0.497487  0.737150  0.776316  0.716312  \n",
      "..        ...                ...       ...       ...       ...       ...  \n",
      "419  0.649196           0.666667  0.643216  0.959112  0.763158  0.666667  \n",
      "420  0.359072           0.388889  0.363484  0.193925  0.644737  0.822695  \n",
      "421  0.702291           0.000000  0.296482  0.082944  0.250000  0.148936  \n",
      "422  0.616960           0.083333  0.958124  0.258178  0.907895  0.184397  \n",
      "423  0.914669           0.444444  0.644891  0.352804  0.289474  0.613475  \n",
      "\n",
      "[322 rows x 17 columns]\n"
     ]
    }
   ],
   "source": [
    "from sklearn.preprocessing import MinMaxScaler\n",
    "cols_to_normalize = ['PH','Organinc Carbon','PHOSPHOROUS','POTASH','CALCIUM_CARBONATE','FERROUS','MANAGESE','ZINK','COPPER','EC']\n",
    "scaler = MinMaxScaler()\n",
    "df[cols_to_normalize] = scaler.fit_transform(df[cols_to_normalize])\n",
    "\n",
    "print(df)"
   ]
  },
  {
   "cell_type": "code",
   "execution_count": 401,
   "metadata": {},
   "outputs": [
    {
     "name": "stdout",
     "output_type": "stream",
     "text": [
      "[[0.05263158 0.10526316 0.00820425 0.00936599 0.01017843 0.01088969\n",
      "  0.01477847 0.01185771 0.01055465 0.01121932]\n",
      " [0.10526316 0.05263158 0.00728538 0.00818706 0.00876816 0.00903844\n",
      "  0.00984246 0.00890218 0.00876036 0.00897545]\n",
      " [0.10526316 0.10526316 0.06563402 0.13099293 0.18394751 0.21779375\n",
      "  0.23645553 0.24926112 0.26386617 0.26926356]\n",
      " [0.10526316 0.10526316 0.13126805 0.06549646 0.12263168 0.16334531\n",
      "  0.20689859 0.21365239 0.21109293 0.2243863 ]\n",
      " [0.10526316 0.10526316 0.13126805 0.13099293 0.06131584 0.10889687\n",
      "  0.17734165 0.17804366 0.1583197  0.17950904]\n",
      " [0.10526316 0.10526316 0.13126805 0.13099293 0.12263168 0.05444844\n",
      "  0.14778471 0.14243493 0.1583197  0.13463178]\n",
      " [0.10526316 0.10526316 0.13126805 0.13099293 0.12263168 0.10889687\n",
      "  0.02955694 0.01780437 0.01319331 0.01494413]\n",
      " [0.10526316 0.10526316 0.13126805 0.13099293 0.12263168 0.10889687\n",
      "  0.05911388 0.03560873 0.01757349 0.02243863]\n",
      " [0.10526316 0.10526316 0.13126805 0.13099293 0.12263168 0.10889687\n",
      "  0.05911388 0.07121746 0.05277323 0.08975452]\n",
      " [0.10526316 0.10526316 0.13126805 0.13099293 0.12263168 0.10889687\n",
      "  0.05911388 0.07121746 0.10554647 0.04487726]]\n"
     ]
    }
   ],
   "source": [
    "import numpy as np\n",
    "\n",
    "criteria = [\"PH\", \"EC\", \"Organinc Carbon\", \"PHOSPHOROUS\", \"POTASH\", \"CALCIUM_CARBONATE\", \"FERROUS\", \"MANAGESE\", \"ZINK\", \"COPPER\"]\n",
    "n = len(criteria)\n",
    "\n",
    "# Initialize an n x n matrix with ones\n",
    "matrix = np.ones((n, n))\n",
    "\n",
    "# Assign comparison values directly to the matrix\n",
    "matrix[0, 1] = 2\n",
    "matrix[0, 2] = 0.125\n",
    "matrix[0, 3] = 0.143\n",
    "matrix[0, 4] = 0.166\n",
    "matrix[0, 5] = 0.2\n",
    "matrix[0, 6] = 0.5\n",
    "matrix[0, 7] = 0.333\n",
    "matrix[0, 8] = 0.2\n",
    "matrix[0, 9] = 0.25\n",
    "matrix[1, 2] = 0.111\n",
    "matrix[1, 3] = 0.125\n",
    "matrix[1, 4] = 0.143\n",
    "matrix[1, 5] = 0.166\n",
    "matrix[1, 6] = 0.333\n",
    "matrix[1, 7] = 0.25\n",
    "matrix[1, 8] = 0.166\n",
    "matrix[1, 9] = 0.2\n",
    "matrix[2, 3] = 2\n",
    "matrix[2, 4] = 3\n",
    "matrix[2, 5] = 4\n",
    "matrix[2, 6] = 8\n",
    "matrix[2, 7] = 7\n",
    "matrix[2, 8] = 5\n",
    "matrix[2, 9] = 6\n",
    "matrix[3, 4] = 2\n",
    "matrix[3, 5] = 3\n",
    "matrix[3, 6] = 7\n",
    "matrix[3, 7] = 6\n",
    "matrix[3, 8] = 4\n",
    "matrix[3, 9] = 5\n",
    "matrix[4, 5] = 2\n",
    "matrix[4, 6] = 6\n",
    "matrix[4, 7] = 5\n",
    "matrix[4, 8] = 3\n",
    "matrix[4, 9] = 4\n",
    "matrix[5, 6] = 5\n",
    "matrix[5, 7] = 4\n",
    "matrix[5, 8] = 3\n",
    "matrix[5, 9] = 3\n",
    "matrix[6, 7] = 0.5\n",
    "matrix[6, 8] = 0.25\n",
    "matrix[6, 9] = 0.333\n",
    "matrix[7, 8] = 0.333\n",
    "matrix[7, 9] = 0.5\n",
    "matrix[8, 9] = 2\n",
    "\n",
    "# Fill in the lower triangle of the matrix using reciprocal values\n",
    "matrix = matrix + np.tril(1/matrix, -1)\n",
    "\n",
    "# Normalize the matrix by column\n",
    "sums = matrix.sum(axis=0)\n",
    "matrix = matrix / sums\n",
    "\n",
    "# Print the resulting matrix\n",
    "print(matrix)\n",
    "\n"
   ]
  },
  {
   "cell_type": "code",
   "execution_count": 402,
   "metadata": {},
   "outputs": [
    {
     "name": "stdout",
     "output_type": "stream",
     "text": [
      "criteria weights:  [0.02449432 0.02276542 0.18277409 0.1549298  0.13362141 0.12330385\n",
      " 0.07798146 0.08390506 0.09771749 0.09850709]\n"
     ]
    }
   ],
   "source": [
    "# sum all columns in each row and divide by the number of criteria\n",
    "final_weights = np.sum(matrix, axis=1) / len(criteria)\n",
    "\n",
    "print(\"criteria weights: \", final_weights)"
   ]
  },
  {
   "cell_type": "code",
   "execution_count": 403,
   "metadata": {},
   "outputs": [
    {
     "name": "stdout",
     "output_type": "stream",
     "text": [
      "1.0\n"
     ]
    }
   ],
   "source": [
    "Sample=final_weights.sum(axis=0)\n",
    "print(Sample)"
   ]
  },
  {
   "cell_type": "code",
   "execution_count": 404,
   "metadata": {},
   "outputs": [
    {
     "name": "stdout",
     "output_type": "stream",
     "text": [
      "     SAMPLE_NO     SEASON SAMPLE_DATE  \\\n",
      "2        25187  2016-2017    1/5/2017   \n",
      "8        27629  2017-2018   9/20/2017   \n",
      "9        26471  2017-2018    8/2/2017   \n",
      "10       27025  2017-2018   8/23/2017   \n",
      "11        2491  2011-2012   7/14/2011   \n",
      "..         ...        ...         ...   \n",
      "419       7217  2012-2013   7/18/2012   \n",
      "420       9294  2012-2013  11/22/2012   \n",
      "421      17574  2014-2015  12/27/2014   \n",
      "422      10036  2013-2014   4/13/2013   \n",
      "423       6416  2012-2013   6/22/2012   \n",
      "\n",
      "                                   FARMER_ENGLISH_NAME VILLAGE_NAME_ENGLISH  \\\n",
      "2    KARYAKARI  SANCHALAK  SHRI DATTA  S.S.S.K.LTD ...               SHIROL   \n",
      "8    KARYAKARI  SANCHALAK  SHRI DATTA  S.S.S.K.LTD ...               SHIROL   \n",
      "9                    PRADDYUMNAKUMAR  ANAPPA  CHOUGULE              BORGAON   \n",
      "10                              KONDIBA  HIWARA  UGARE             ARJUNWAD   \n",
      "11             ADAGONDA  RAIGONDA  PATIL  (PALGOUNDAR)              SHEDBAL   \n",
      "..                                                 ...                  ...   \n",
      "419                           NIVRUTTI  SHANKAR  KADAM               UDGAON   \n",
      "420                          BABASO  ANNU  FIRGANNAWAR              BORGAON   \n",
      "421  KARYAKARI  SANCHALAK  SHRI DATTA  S.S.S.K.LTD ...               SHIROL   \n",
      "422  KARYAKARI  SANCHALAK  SHRI DATTA  S.S.S.K.LTD ...               SHIROL   \n",
      "423                                MUKUNDA  RAMU  JONG            KURUNDWAD   \n",
      "\n",
      "    SURVEY_NO        PH  Unnamed: 7        EC  Organinc Carbon  PHOSPHOROUS  \\\n",
      "2         353  1.000000         NaN  0.490909         0.225352     0.074161   \n",
      "8         430  0.958564         NaN  0.272727         0.985915     0.320062   \n",
      "9         238  0.958564         NaN  0.545455         0.563380     0.241998   \n",
      "10        654  0.950276         NaN  0.600000         0.309859     0.390320   \n",
      "11        402  0.947514         NaN  0.563636         0.281690     0.160031   \n",
      "..        ...       ...         ...       ...              ...          ...   \n",
      "419      1591  0.524862         NaN  0.363636         0.281690     0.807963   \n",
      "420       437  0.516575         NaN  0.454545         0.281690     0.569867   \n",
      "421      2726  0.364641         NaN  0.072727         0.436620     0.374707   \n",
      "422        59  0.143646         NaN  0.163636         0.985915     0.241998   \n",
      "423       257  0.000000         NaN  0.090909         0.422535     0.456674   \n",
      "\n",
      "       POTASH  CALCIUM_CARBONATE   FERROUS  MANAGESE      ZINK    COPPER  \\\n",
      "2    0.914669           0.666667  0.891122  0.807243  0.203947  0.916667   \n",
      "8    1.000000           0.833333  0.112228  0.141355  0.072368  0.418440   \n",
      "9    0.637819           0.888889  0.358459  0.811916  0.447368  0.404255   \n",
      "10   1.000000           1.000000  0.886935  0.894860  0.480263  0.867021   \n",
      "11   0.567658           0.722222  0.497487  0.737150  0.776316  0.716312   \n",
      "..        ...                ...       ...       ...       ...       ...   \n",
      "419  0.649196           0.666667  0.643216  0.959112  0.763158  0.666667   \n",
      "420  0.359072           0.388889  0.363484  0.193925  0.644737  0.822695   \n",
      "421  0.702291           0.000000  0.296482  0.082944  0.250000  0.148936   \n",
      "422  0.616960           0.083333  0.958124  0.258178  0.907895  0.184397   \n",
      "423  0.914669           0.444444  0.644891  0.352804  0.289474  0.613475   \n",
      "\n",
      "      Results  \n",
      "2    0.540220  \n",
      "8    0.564753  \n",
      "9    0.550805  \n",
      "10   0.687553  \n",
      "11   0.524290  \n",
      "..        ...  \n",
      "419  0.637625  \n",
      "420  0.447367  \n",
      "421  0.311465  \n",
      "422  0.520911  \n",
      "423  0.495682  \n",
      "\n",
      "[322 rows x 18 columns]\n"
     ]
    }
   ],
   "source": [
    "# Define the decision matrix using the df dataframe\n",
    "decision_matrix = df[['PH', 'EC', 'Organinc Carbon', 'PHOSPHOROUS', 'POTASH', 'CALCIUM_CARBONATE', 'FERROUS', 'MANAGESE', 'ZINK', 'COPPER']].values  # select only relevant columns\n",
    "\n",
    "# Define the weights for each criterion from AHP analysis\n",
    "weights = final_weights\n",
    "\n",
    "# Expand the weights array to have the same shape as the decision matrix\n",
    "expanded_weights = np.expand_dims(weights, axis=0)\n",
    "expanded_weights = np.repeat(expanded_weights, decision_matrix.shape[0], axis=0)\n",
    "\n",
    "# Calculate the weighted sum for each alternative\n",
    "weighted_sums = np.sum(decision_matrix * expanded_weights, axis=1)\n",
    "\n",
    "df['Results'] = weighted_sums\n",
    "print(df)\n"
   ]
  },
  {
   "cell_type": "code",
   "execution_count": 405,
   "metadata": {},
   "outputs": [
    {
     "name": "stdout",
     "output_type": "stream",
     "text": [
      "           PH        EC  Organinc Carbon  PHOSPHOROUS    POTASH  \\\n",
      "2    1.000000  0.490909         0.225352     0.074161  0.914669   \n",
      "8    0.958564  0.272727         0.985915     0.320062  1.000000   \n",
      "9    0.958564  0.545455         0.563380     0.241998  0.637819   \n",
      "10   0.950276  0.600000         0.309859     0.390320  1.000000   \n",
      "11   0.947514  0.563636         0.281690     0.160031  0.567658   \n",
      "..        ...       ...              ...          ...       ...   \n",
      "419  0.524862  0.363636         0.281690     0.807963  0.649196   \n",
      "420  0.516575  0.454545         0.281690     0.569867  0.359072   \n",
      "421  0.364641  0.072727         0.436620     0.374707  0.702291   \n",
      "422  0.143646  0.163636         0.985915     0.241998  0.616960   \n",
      "423  0.000000  0.090909         0.422535     0.456674  0.914669   \n",
      "\n",
      "     CALCIUM_CARBONATE   FERROUS  MANAGESE      ZINK    COPPER   Results  \n",
      "2             0.666667  0.891122  0.807243  0.203947  0.916667  0.540220  \n",
      "8             0.833333  0.112228  0.141355  0.072368  0.418440  0.564753  \n",
      "9             0.888889  0.358459  0.811916  0.447368  0.404255  0.550805  \n",
      "10            1.000000  0.886935  0.894860  0.480263  0.867021  0.687553  \n",
      "11            0.722222  0.497487  0.737150  0.776316  0.716312  0.524290  \n",
      "..                 ...       ...       ...       ...       ...       ...  \n",
      "419           0.666667  0.643216  0.959112  0.763158  0.666667  0.637625  \n",
      "420           0.388889  0.363484  0.193925  0.644737  0.822695  0.447367  \n",
      "421           0.000000  0.296482  0.082944  0.250000  0.148936  0.311465  \n",
      "422           0.083333  0.958124  0.258178  0.907895  0.184397  0.520911  \n",
      "423           0.444444  0.644891  0.352804  0.289474  0.613475  0.495682  \n",
      "\n",
      "[322 rows x 11 columns]\n"
     ]
    }
   ],
   "source": [
    "df = df.drop(['SEASON', 'SAMPLE_DATE','FARMER_ENGLISH_NAME','VILLAGE_NAME_ENGLISH','SURVEY_NO','Unnamed: 7','SAMPLE_NO'], axis=1)\n",
    "print(df)"
   ]
  },
  {
   "cell_type": "code",
   "execution_count": 406,
   "metadata": {},
   "outputs": [
    {
     "name": "stdout",
     "output_type": "stream",
     "text": [
      "           PH        EC  Organinc Carbon  PHOSPHOROUS    POTASH  \\\n",
      "2    1.000000  0.490909         0.225352     0.074161  0.914669   \n",
      "8    0.958564  0.272727         0.985915     0.320062  1.000000   \n",
      "9    0.958564  0.545455         0.563380     0.241998  0.637819   \n",
      "10   0.950276  0.600000         0.309859     0.390320  1.000000   \n",
      "11   0.947514  0.563636         0.281690     0.160031  0.567658   \n",
      "..        ...       ...              ...          ...       ...   \n",
      "419  0.524862  0.363636         0.281690     0.807963  0.649196   \n",
      "420  0.516575  0.454545         0.281690     0.569867  0.359072   \n",
      "421  0.364641  0.072727         0.436620     0.374707  0.702291   \n",
      "422  0.143646  0.163636         0.985915     0.241998  0.616960   \n",
      "423  0.000000  0.090909         0.422535     0.456674  0.914669   \n",
      "\n",
      "     CALCIUM_CARBONATE   FERROUS  MANAGESE      ZINK    COPPER   Results  \\\n",
      "2             0.666667  0.891122  0.807243  0.203947  0.916667  0.540220   \n",
      "8             0.833333  0.112228  0.141355  0.072368  0.418440  0.564753   \n",
      "9             0.888889  0.358459  0.811916  0.447368  0.404255  0.550805   \n",
      "10            1.000000  0.886935  0.894860  0.480263  0.867021  0.687553   \n",
      "11            0.722222  0.497487  0.737150  0.776316  0.716312  0.524290   \n",
      "..                 ...       ...       ...       ...       ...       ...   \n",
      "419           0.666667  0.643216  0.959112  0.763158  0.666667  0.637625   \n",
      "420           0.388889  0.363484  0.193925  0.644737  0.822695  0.447367   \n",
      "421           0.000000  0.296482  0.082944  0.250000  0.148936  0.311465   \n",
      "422           0.083333  0.958124  0.258178  0.907895  0.184397  0.520911   \n",
      "423           0.444444  0.644891  0.352804  0.289474  0.613475  0.495682   \n",
      "\n",
      "    Quality  \n",
      "2      Good  \n",
      "8      Good  \n",
      "9      Good  \n",
      "10     Good  \n",
      "11     Good  \n",
      "..      ...  \n",
      "419    Good  \n",
      "420  Medium  \n",
      "421    Poor  \n",
      "422    Good  \n",
      "423  Medium  \n",
      "\n",
      "[322 rows x 12 columns]\n"
     ]
    }
   ],
   "source": [
    "df['Quality'] = pd.cut(df.Results,bins=[0,0.4,0.5,0.7,1],labels=['Poor','Medium','Good','Excellent'])\n",
    "print(df)"
   ]
  },
  {
   "cell_type": "code",
   "execution_count": 407,
   "metadata": {},
   "outputs": [
    {
     "name": "stdout",
     "output_type": "stream",
     "text": [
      "[[1.         0.70909091 0.51578947 ... 0.15915916 0.36910377 0.49299638]\n",
      " [0.99327957 0.36363636 0.02631579 ... 0.13213213 0.46226415 0.32107046]\n",
      " [0.99327957 0.30909091 0.16842105 ... 0.01501502 0.22818396 0.28000531]\n",
      " ...\n",
      " [0.47311828 0.09090909 0.21052632 ... 0.04504505 0.22287736 0.26910998]\n",
      " [0.43817204 0.03636364 0.15789474 ... 0.25925926 0.04481132 0.14602192]\n",
      " [0.         0.29090909 0.40526316 ... 0.17917918 0.58726415 0.29896406]]\n",
      "2      0.540220\n",
      "8      0.564753\n",
      "9      0.550805\n",
      "10     0.687553\n",
      "11     0.524290\n",
      "         ...   \n",
      "419    0.637625\n",
      "420    0.447367\n",
      "421    0.311465\n",
      "422    0.520911\n",
      "423    0.495682\n",
      "Name: Results, Length: 322, dtype: float64\n"
     ]
    }
   ],
   "source": [
    "temp = df.drop(labels =['Results'], axis = 1)\n",
    "y = df['Results']\n",
    "print (x)\n",
    "print(y)"
   ]
  },
  {
   "cell_type": "code",
   "execution_count": 408,
   "metadata": {},
   "outputs": [
    {
     "name": "stdout",
     "output_type": "stream",
     "text": [
      "[[1.         0.49090909 0.22535211 ... 0.20394737 0.91666667 0.54022047]\n",
      " [0.95856354 0.27272727 0.98591549 ... 0.07236842 0.41843972 0.56475279]\n",
      " [0.95856354 0.54545455 0.56338028 ... 0.44736842 0.40425532 0.55080533]\n",
      " ...\n",
      " [0.36464088 0.07272727 0.43661972 ... 0.25       0.14893617 0.31146465]\n",
      " [0.14364641 0.16363636 0.98591549 ... 0.90789474 0.18439716 0.52091066]\n",
      " [0.         0.09090909 0.42253521 ... 0.28947368 0.61347518 0.49568153]]\n",
      "['Good', 'Good', 'Good', 'Good', 'Good', ..., 'Good', 'Medium', 'Poor', 'Good', 'Medium']\n",
      "Length: 322\n",
      "Categories (4, object): ['Poor' < 'Medium' < 'Good' < 'Excellent']\n"
     ]
    }
   ],
   "source": [
    "x = df.iloc[:,:-1].values\n",
    "print(x)\n",
    "y = df.iloc[:,11].values\n",
    "print(y)"
   ]
  },
  {
   "cell_type": "code",
   "execution_count": 409,
   "metadata": {},
   "outputs": [
    {
     "data": {
      "text/plain": [
       "((257, 11), (65, 11))"
      ]
     },
     "execution_count": 409,
     "metadata": {},
     "output_type": "execute_result"
    }
   ],
   "source": [
    "from sklearn.model_selection import train_test_split\n",
    "\n",
    "\n",
    "x_train, x_test, y_train, y_test = train_test_split(x, y, test_size= 0.2, random_state=0)\n",
    "\n",
    "x_train.shape,x_test.shape"
   ]
  },
  {
   "cell_type": "code",
   "execution_count": 410,
   "metadata": {},
   "outputs": [
    {
     "name": "stdout",
     "output_type": "stream",
     "text": [
      "['Medium', 'Good', 'Good', 'Excellent', 'Good', ..., 'Good', 'Good', 'Excellent', 'Good', 'Good']\n",
      "Length: 257\n",
      "Categories (4, object): ['Poor' < 'Medium' < 'Good' < 'Excellent']\n"
     ]
    }
   ],
   "source": [
    "print (y_train)"
   ]
  },
  {
   "cell_type": "code",
   "execution_count": 411,
   "metadata": {},
   "outputs": [
    {
     "data": {
      "text/plain": [
       "((257, 11), (65, 11))"
      ]
     },
     "execution_count": 411,
     "metadata": {},
     "output_type": "execute_result"
    }
   ],
   "source": [
    "\n",
    "x_train.shape,x_test.shape"
   ]
  },
  {
   "cell_type": "code",
   "execution_count": 412,
   "metadata": {},
   "outputs": [
    {
     "data": {
      "text/plain": [
       "((257,), (65,))"
      ]
     },
     "execution_count": 412,
     "metadata": {},
     "output_type": "execute_result"
    }
   ],
   "source": [
    "\n",
    "y_train.shape,y_test.shape"
   ]
  },
  {
   "cell_type": "code",
   "execution_count": 413,
   "metadata": {},
   "outputs": [
    {
     "data": {
      "text/html": [
       "<style>#sk-container-id-22 {color: black;background-color: white;}#sk-container-id-22 pre{padding: 0;}#sk-container-id-22 div.sk-toggleable {background-color: white;}#sk-container-id-22 label.sk-toggleable__label {cursor: pointer;display: block;width: 100%;margin-bottom: 0;padding: 0.3em;box-sizing: border-box;text-align: center;}#sk-container-id-22 label.sk-toggleable__label-arrow:before {content: \"▸\";float: left;margin-right: 0.25em;color: #696969;}#sk-container-id-22 label.sk-toggleable__label-arrow:hover:before {color: black;}#sk-container-id-22 div.sk-estimator:hover label.sk-toggleable__label-arrow:before {color: black;}#sk-container-id-22 div.sk-toggleable__content {max-height: 0;max-width: 0;overflow: hidden;text-align: left;background-color: #f0f8ff;}#sk-container-id-22 div.sk-toggleable__content pre {margin: 0.2em;color: black;border-radius: 0.25em;background-color: #f0f8ff;}#sk-container-id-22 input.sk-toggleable__control:checked~div.sk-toggleable__content {max-height: 200px;max-width: 100%;overflow: auto;}#sk-container-id-22 input.sk-toggleable__control:checked~label.sk-toggleable__label-arrow:before {content: \"▾\";}#sk-container-id-22 div.sk-estimator input.sk-toggleable__control:checked~label.sk-toggleable__label {background-color: #d4ebff;}#sk-container-id-22 div.sk-label input.sk-toggleable__control:checked~label.sk-toggleable__label {background-color: #d4ebff;}#sk-container-id-22 input.sk-hidden--visually {border: 0;clip: rect(1px 1px 1px 1px);clip: rect(1px, 1px, 1px, 1px);height: 1px;margin: -1px;overflow: hidden;padding: 0;position: absolute;width: 1px;}#sk-container-id-22 div.sk-estimator {font-family: monospace;background-color: #f0f8ff;border: 1px dotted black;border-radius: 0.25em;box-sizing: border-box;margin-bottom: 0.5em;}#sk-container-id-22 div.sk-estimator:hover {background-color: #d4ebff;}#sk-container-id-22 div.sk-parallel-item::after {content: \"\";width: 100%;border-bottom: 1px solid gray;flex-grow: 1;}#sk-container-id-22 div.sk-label:hover label.sk-toggleable__label {background-color: #d4ebff;}#sk-container-id-22 div.sk-serial::before {content: \"\";position: absolute;border-left: 1px solid gray;box-sizing: border-box;top: 0;bottom: 0;left: 50%;z-index: 0;}#sk-container-id-22 div.sk-serial {display: flex;flex-direction: column;align-items: center;background-color: white;padding-right: 0.2em;padding-left: 0.2em;position: relative;}#sk-container-id-22 div.sk-item {position: relative;z-index: 1;}#sk-container-id-22 div.sk-parallel {display: flex;align-items: stretch;justify-content: center;background-color: white;position: relative;}#sk-container-id-22 div.sk-item::before, #sk-container-id-22 div.sk-parallel-item::before {content: \"\";position: absolute;border-left: 1px solid gray;box-sizing: border-box;top: 0;bottom: 0;left: 50%;z-index: -1;}#sk-container-id-22 div.sk-parallel-item {display: flex;flex-direction: column;z-index: 1;position: relative;background-color: white;}#sk-container-id-22 div.sk-parallel-item:first-child::after {align-self: flex-end;width: 50%;}#sk-container-id-22 div.sk-parallel-item:last-child::after {align-self: flex-start;width: 50%;}#sk-container-id-22 div.sk-parallel-item:only-child::after {width: 0;}#sk-container-id-22 div.sk-dashed-wrapped {border: 1px dashed gray;margin: 0 0.4em 0.5em 0.4em;box-sizing: border-box;padding-bottom: 0.4em;background-color: white;}#sk-container-id-22 div.sk-label label {font-family: monospace;font-weight: bold;display: inline-block;line-height: 1.2em;}#sk-container-id-22 div.sk-label-container {text-align: center;}#sk-container-id-22 div.sk-container {/* jupyter's `normalize.less` sets `[hidden] { display: none; }` but bootstrap.min.css set `[hidden] { display: none !important; }` so we also need the `!important` here to be able to override the default hidden behavior on the sphinx rendered scikit-learn.org. See: https://github.com/scikit-learn/scikit-learn/issues/21755 */display: inline-block !important;position: relative;}#sk-container-id-22 div.sk-text-repr-fallback {display: none;}</style><div id=\"sk-container-id-22\" class=\"sk-top-container\"><div class=\"sk-text-repr-fallback\"><pre>VarianceThreshold(threshold=0)</pre><b>In a Jupyter environment, please rerun this cell to show the HTML representation or trust the notebook. <br />On GitHub, the HTML representation is unable to render, please try loading this page with nbviewer.org.</b></div><div class=\"sk-container\" hidden><div class=\"sk-item\"><div class=\"sk-estimator sk-toggleable\"><input class=\"sk-toggleable__control sk-hidden--visually\" id=\"sk-estimator-id-22\" type=\"checkbox\" checked><label for=\"sk-estimator-id-22\" class=\"sk-toggleable__label sk-toggleable__label-arrow\">VarianceThreshold</label><div class=\"sk-toggleable__content\"><pre>VarianceThreshold(threshold=0)</pre></div></div></div></div></div>"
      ],
      "text/plain": [
       "VarianceThreshold(threshold=0)"
      ]
     },
     "execution_count": 413,
     "metadata": {},
     "output_type": "execute_result"
    }
   ],
   "source": [
    "from sklearn.feature_selection import VarianceThreshold\n",
    "# Check if there are any constant features\n",
    "var_thres = VarianceThreshold(threshold=0)\n",
    "var_thres.fit(x_train)"
   ]
  },
  {
   "cell_type": "code",
   "execution_count": 414,
   "metadata": {},
   "outputs": [
    {
     "data": {
      "text/plain": [
       "11"
      ]
     },
     "execution_count": 414,
     "metadata": {},
     "output_type": "execute_result"
    }
   ],
   "source": [
    "sum(var_thres.get_support())"
   ]
  },
  {
   "cell_type": "code",
   "execution_count": 415,
   "metadata": {},
   "outputs": [
    {
     "name": "stdout",
     "output_type": "stream",
     "text": [
      "[[ 0.13145111 -1.17614827  0.24192723 ... -1.30701947 -1.64246051\n",
      "  -0.5748799 ]\n",
      " [-0.45438014  0.596923    1.03613725 ...  0.02458787 -2.00597442\n",
      "   0.39241631]\n",
      " [-0.21028379 -0.40524772 -1.06284637 ... -1.30701947  0.67080982\n",
      "  -0.14613786]\n",
      " ...\n",
      " [ 0.3999571  -1.25323833  1.77361798 ...  0.94460748  0.47252951\n",
      "   1.64797367]\n",
      " [ 0.96137872  0.51983294  1.2630544  ... -1.18596425 -0.68410566\n",
      "   1.03657856]\n",
      " [ 0.13145111  1.13655338 -0.26863635 ... -0.09646734 -0.91543269\n",
      "   0.19384405]]\n"
     ]
    }
   ],
   "source": [
    "from sklearn.preprocessing import StandardScaler\n",
    "st_x= StandardScaler()  \n",
    "x_train= st_x.fit_transform(x_train)  \n",
    "print(x_train)"
   ]
  },
  {
   "cell_type": "code",
   "execution_count": 416,
   "metadata": {},
   "outputs": [
    {
     "name": "stdout",
     "output_type": "stream",
     "text": [
      "[[-1.13784993  1.36782355  0.63903224 -0.53527888 -0.21476988  0.47545982\n",
      "  -1.09480106 -1.63355989  1.21092895 -1.77464739 -0.53236784]\n",
      " [ 0.66846309 -1.4845085   0.07173937  2.19410151  0.39491394  0.71688867\n",
      "   0.10794026 -0.28690225 -1.06490904 -1.37808676  0.48120174]\n",
      " [ 1.40075216 -1.40741844  0.24192723  1.89903336 -0.11467254 -1.93882864\n",
      "  -0.02138676  0.32521486 -0.33857777 -0.84933926  0.02298414]\n",
      " [-0.72288613  1.59909371  0.41211509 -0.1664437   0.90450042  1.19974636\n",
      "   0.25343316  1.44014245 -1.06490904 -0.68410566  0.6687262 ]\n",
      " [ 0.25349929  1.52200366  0.07173937 -0.97788111  0.09462191 -0.97311325\n",
      "   0.17260377  1.50572643 -1.06490904  0.73690326 -0.23823776]\n",
      " [ 0.18027038  0.98237327 -0.9493878   0.05485742  1.3685881  -0.00739787\n",
      "   0.23726728 -0.54923815 -0.58068819 -0.98152613 -0.44788793]\n",
      " [ 0.49759564 -1.79286872 -1.06284637  0.32041875 -2.15301844 -0.24882671\n",
      "   0.49592133  0.71871872  0.14564308 -0.32059175 -0.86417193]\n",
      " [-0.28351269 -0.55942783  1.77361798  0.09911764 -0.01457519  0.47545982\n",
      "   1.56286928  0.84988667 -0.09646734 -1.04761957  1.11119852]\n",
      " [ 0.66846309  0.51983294  1.48997155 -0.4526598   0.731605   -0.24882671\n",
      "  -0.66802188  0.19404691  1.11408478  1.66221139  1.27812301]\n",
      " [ 0.15586075  1.75327382  1.31978369 -1.30245608  1.259391    0.47545982\n",
      "  -0.63569013 -0.02456635 -1.30701947 -0.12231144  0.13209224]\n",
      " [ 0.03381257 -0.71360794 -1.63013924 -0.3729914  -1.13384549 -0.00739787\n",
      "   0.54118579 -0.82906312 -0.58068819 -0.18840487 -1.48685127]\n",
      " [ 0.03381257 -0.790698    0.24192723  1.04333572 -0.21476988  1.19974636\n",
      "   1.30421523 -0.48365418  0.14564308  0.86909014  1.1673269 ]\n",
      " [ 0.49759564 -1.71577866 -0.4955535  -0.66805955 -1.03374815 -0.97311325\n",
      "   1.53053752  0.41266016  1.3561952   0.34034263 -0.28139752]\n",
      " [-0.21028379 -0.32815767 -0.4955535   1.16136298 -1.943724    0.47545982\n",
      "  -1.44398403  0.63127341 -0.09646734  0.73690326 -0.15532586]\n",
      " [-0.18587415  1.75327382  0.07173937 -0.57953911 -0.52416167  1.44117521\n",
      "  -0.92667593 -0.5929608  -0.82279862 -1.37808676 -0.73530583]\n",
      " [ 0.66846309  0.36565283  1.54670084 -1.30245608 -0.01457519 -0.00739787\n",
      "  -0.47403135 -0.4180702  -1.06490904  0.34034263 -0.17734768]\n",
      " [ 1.22988471  1.4449136   0.41211509  0.73351416  0.39491394  0.47545982\n",
      "   0.0756085   1.27618251 -0.94385383 -0.61801222  0.7117912 ]\n",
      " [-0.52760905 -0.55942783  0.63903224 -0.01890962 -0.8244537  -0.49025556\n",
      "  -0.15071379 -0.89901936  0.14564308 -1.17980645 -0.61892791]\n",
      " [ 0.52200528 -0.32815767  1.60343012  1.45643113  0.90450042  0.47545982\n",
      "  -0.5063631  -1.86091767  0.14564308 -1.24589988  0.87377151]\n",
      " [ 0.42436674 -1.33032839 -1.06284637  1.01382891 -0.11467254 -0.00739787\n",
      "   0.81923889 -0.68040611  0.3877535   0.34034263  0.04417623]\n",
      " [-0.16146451  0.67401305 -0.43882421 -0.3729914   0.70430573 -0.00739787\n",
      "   1.59520104  1.15594522 -0.09646734 -0.78324582  0.21645816]\n",
      " [ 0.64405346  0.98237327  0.75249082 -1.47949697 -0.62425901 -1.2145421\n",
      "   1.76979252  1.33958036  0.097221    0.02970347 -0.02072856]\n",
      " [ 0.13145111 -0.0968875  -0.4955535   0.57122668  0.70430573  0.71688867\n",
      "  -1.44398403 -0.02456635  1.11408478  1.66221139  0.82217103]\n",
      " [ 0.00940293  0.51983294  0.63903224 -1.3467163  -0.52416167 -2.18025748\n",
      "   0.81923889  1.06849992  1.3561952   1.46393108  0.14941744]\n",
      " [ 0.57082455  0.98237327  0.92267868 -1.14016859  0.70430573 -0.00739787\n",
      "   0.54441897 -0.1557343  -0.96806487 -0.65105894 -0.13629893]\n",
      " [ 0.13145111 -1.63868861  1.43324226  1.16136298  1.00459776 -0.73168441\n",
      "  -1.08833471 -0.70226743  0.87197435  1.06737045  1.21656441]\n",
      " [ 0.0582222  -0.94487811  1.77361798  1.75149929 -0.52416167 -0.24882671\n",
      "   0.8839024   1.11222257  0.82355227  1.18633864  2.15699039]\n",
      " [-1.43076556  0.21147272  0.63903224  1.01382891 -1.03374815 -1.2145421\n",
      "   0.17260377 -0.2431796  -1.74281823  0.34034263 -0.3382694 ]\n",
      " [ 1.74248705  0.82819316  0.07173937 -0.9483743  -0.11467254 -0.00739787\n",
      "   1.72452806  0.01915631 -0.12067839  0.05614085  0.03698387]\n",
      " [ 1.74248705  1.59909371  0.75249082  0.32041875  1.41408689  0.23403098\n",
      "   0.70607775  0.98105462 -0.70174341  0.24120247  1.27161511]\n",
      " [-0.21028379 -1.33032839  1.77361798  1.60396521  0.2948166  -0.24882671\n",
      "   0.14027202 -1.24880056 -1.30701947  0.8029967   0.98262071]\n",
      " [-0.57642832 -0.01979745 -0.4955535  -0.44675844 -0.62425901 -1.93882864\n",
      "  -0.02138676 -0.28690225 -1.30701947  0.34034263 -1.43470794]\n",
      " [ 1.30311361 -0.40524772  0.24192723 -1.14016859  0.19471925 -0.24882671\n",
      "   0.75780855  0.80616402 -1.08912008 -0.28754503 -0.38033798]\n",
      " [ 0.13145111 -1.02196816  1.43324226  0.73351416  0.2948166  -0.49025556\n",
      "   1.46587401  1.3964198  -0.58068819 -0.51887207  1.12916108]\n",
      " [ 1.30311361 -1.17614827  1.43324226 -0.44675844  1.41408689  0.47545982\n",
      "   1.4012105  -0.27597159 -0.82279862  1.46393108  1.32157739]\n",
      " [-0.6984765  -0.32815767  0.07173937 -0.01890962  0.19471925 -0.24882671\n",
      "   1.78919157  0.84988667 -1.54912989  0.34034263  0.19650869]\n",
      " [ 0.741692    1.13655338 -0.4955535  -1.57686946 -2.76270226  0.95831752\n",
      "  -0.89434418  0.41266016 -1.30701947  0.73690326 -1.4859943 ]\n",
      " [ 1.54720997  0.98237327  1.43324226 -1.14016859 -0.36946577  1.68260405\n",
      "   0.0497431  -0.92743908 -1.59755198  1.4374937   0.39986454]\n",
      " [ 0.37554747  0.28856277 -0.4955535  -0.31397777  0.09462191 -0.97311325\n",
      "   0.10794026  0.19404691  1.59830563  1.3317442   0.25703606]\n",
      " [ 0.3999571  -0.40524772  0.63903224 -0.24021073 -0.09647302  1.19974636\n",
      "  -1.01720485  0.32521486  1.25935103  0.49896688  0.80561169]\n",
      " [ 0.49759564  1.36782355  0.41211509  1.47118454  0.19471925 -0.49025556\n",
      "   1.23955172  1.11222257  0.26669829 -0.35363847  1.23503132]\n",
      " [ 0.13145111 -1.17614827 -1.06284637  0.57122668 -0.8244537  -0.49025556\n",
      "  -1.44398403 -1.51113647  1.11408478  1.19955733 -0.67515204]\n",
      " [ 0.20468002 -1.02196816  1.2630544   1.47118454  1.21389221 -0.00739787\n",
      "  -0.31237257 -1.33624587  0.87197435 -0.38668519  1.19619268]\n",
      " [ 0.71728236  0.21147272 -0.09844849  1.89903336 -0.21476988  0.95831752\n",
      "  -1.15299822 -1.77347237 -1.30701947 -1.70855395 -0.43972603]\n",
      " [ 0.27790892  0.36565283  0.07173937 -0.31397777  0.49501128  1.19974636\n",
      "   0.49592133 -0.02456635 -0.09646734 -0.45277863  0.34910633]\n",
      " [ 0.25349929 -0.01979745 -1.06284637 -0.71231978  0.09462191  0.71688867\n",
      "  -0.40936784  1.28711317 -0.82279862 -0.32059175 -0.61863645]\n",
      " [ 0.27790892  0.596923    0.58230295 -0.31987913  0.90450042 -1.93882864\n",
      "   0.49915451  0.28149221  0.07300995  0.94840226  0.3001906 ]\n",
      " [-0.28351269 -0.40524772 -1.63013924 -0.10743007 -0.62425901 -1.93882864\n",
      "  -1.89662861 -0.02456635 -0.33857777 -0.98152613 -2.21348776]\n",
      " [-0.03941634 -0.86778805  0.07173937 -0.66805955  0.7771038  -0.97311325\n",
      "  -1.12066647  0.84988667 -0.58068819  1.00127701 -0.26668835]\n",
      " [ 0.13145111  1.75327382  1.60343012  1.01382891  1.62338134 -0.73168441\n",
      "  -0.24770906 -0.87715803 -0.82279862  1.39783764  1.35188155]\n",
      " [-1.01580176 -0.32815767 -0.4955535   1.47118454 -0.21476988 -1.69739979\n",
      "   1.78919157  0.58755076 -1.45228572 -0.32059175 -0.18119823]\n",
      " [-0.94257285 -0.55942783  1.20632511  1.16136298 -1.54333462 -0.97311325\n",
      "  -0.86201242  1.06849992 -1.30701947  0.73690326  0.16978763]\n",
      " [ 0.71728236 -1.4845085   1.83034727  1.98755381 -0.52416167  0.23403098\n",
      "  -0.02138676 -1.20507791 -1.30701947 -0.18840487  0.81191076]\n",
      " [ 0.64405346  1.36782355  1.77361798  0.6007335   1.3685881   0.95831752\n",
      "  -0.99133944  0.76244137  0.14564308 -0.45277863  1.63932069]\n",
      " [ 0.8149209  -0.86778805 -0.4955535   0.79252779 -2.15301844 -1.2145421\n",
      "  -1.24999349 -0.3306249  -0.33857777  0.07596888 -1.23027118]\n",
      " [ 0.27790892 -1.33032839 -2.19743211 -0.60904592 -0.72435636 -0.97311325\n",
      "   0.49592133 -1.77347237  0.62986393 -0.32059175 -1.94884243]\n",
      " [-0.50319941  1.67618377 -0.4955535   0.65974713 -0.01457519 -0.00739787\n",
      "   0.49592133  0.19404691  0.14564308  1.66221139  0.71704535]\n",
      " [ 0.741692   -1.33032839  0.07173937  0.26140512  0.49501128 -2.18025748\n",
      "   0.88713558 -0.7000813  -0.50805507 -0.15535816 -0.53084892]\n",
      " [-1.04021139 -1.02196816  1.60343012  0.52696646  0.39491394 -1.2145421\n",
      "  -0.15394696 -0.58858854 -0.89543174 -0.94187007 -0.02379779]\n",
      " [-0.23469342 -0.0968875  -1.06284637 -1.33196289 -2.76270226 -0.49025556\n",
      "   1.27188348  1.46200378  1.11408478  0.34034263 -0.95134215]\n",
      " [ 1.37634252  0.98237327  0.07173937 -0.24021073  0.39491394  1.44117521\n",
      "   0.26959904  1.3089745  -1.18596425 -0.65105894  0.39383772]\n",
      " [ 1.86453523 -1.33032839  1.77361798 -0.3729914   1.62338134  0.95831752\n",
      "  -1.63797456 -1.59858177 -1.47649676 -0.50565338  0.13737661]\n",
      " [ 0.59523419 -0.0968875  -0.77919994 -0.66805955 -0.01457519 -0.73168441\n",
      "  -0.28004081 -0.25192413 -0.91964279  0.94840226 -0.90904179]\n",
      " [ 1.74248705 -0.94487811  1.2630544  -0.9483743  -0.01457519  0.71688867\n",
      "  -2.01948929 -1.75161105 -0.53226611 -1.39130545 -0.90308989]\n",
      " [-0.13705488  0.13438266  1.20632511 -1.32458619  0.70430573 -1.2145421\n",
      "  -0.34470432  0.67499607  0.62986393  1.26565076  0.43078231]]\n"
     ]
    }
   ],
   "source": [
    "x_test= st_x.transform(x_test) \n",
    "print(x_test)"
   ]
  },
  {
   "cell_type": "code",
   "execution_count": 417,
   "metadata": {},
   "outputs": [
    {
     "data": {
      "text/html": [
       "<style>#sk-container-id-23 {color: black;background-color: white;}#sk-container-id-23 pre{padding: 0;}#sk-container-id-23 div.sk-toggleable {background-color: white;}#sk-container-id-23 label.sk-toggleable__label {cursor: pointer;display: block;width: 100%;margin-bottom: 0;padding: 0.3em;box-sizing: border-box;text-align: center;}#sk-container-id-23 label.sk-toggleable__label-arrow:before {content: \"▸\";float: left;margin-right: 0.25em;color: #696969;}#sk-container-id-23 label.sk-toggleable__label-arrow:hover:before {color: black;}#sk-container-id-23 div.sk-estimator:hover label.sk-toggleable__label-arrow:before {color: black;}#sk-container-id-23 div.sk-toggleable__content {max-height: 0;max-width: 0;overflow: hidden;text-align: left;background-color: #f0f8ff;}#sk-container-id-23 div.sk-toggleable__content pre {margin: 0.2em;color: black;border-radius: 0.25em;background-color: #f0f8ff;}#sk-container-id-23 input.sk-toggleable__control:checked~div.sk-toggleable__content {max-height: 200px;max-width: 100%;overflow: auto;}#sk-container-id-23 input.sk-toggleable__control:checked~label.sk-toggleable__label-arrow:before {content: \"▾\";}#sk-container-id-23 div.sk-estimator input.sk-toggleable__control:checked~label.sk-toggleable__label {background-color: #d4ebff;}#sk-container-id-23 div.sk-label input.sk-toggleable__control:checked~label.sk-toggleable__label {background-color: #d4ebff;}#sk-container-id-23 input.sk-hidden--visually {border: 0;clip: rect(1px 1px 1px 1px);clip: rect(1px, 1px, 1px, 1px);height: 1px;margin: -1px;overflow: hidden;padding: 0;position: absolute;width: 1px;}#sk-container-id-23 div.sk-estimator {font-family: monospace;background-color: #f0f8ff;border: 1px dotted black;border-radius: 0.25em;box-sizing: border-box;margin-bottom: 0.5em;}#sk-container-id-23 div.sk-estimator:hover {background-color: #d4ebff;}#sk-container-id-23 div.sk-parallel-item::after {content: \"\";width: 100%;border-bottom: 1px solid gray;flex-grow: 1;}#sk-container-id-23 div.sk-label:hover label.sk-toggleable__label {background-color: #d4ebff;}#sk-container-id-23 div.sk-serial::before {content: \"\";position: absolute;border-left: 1px solid gray;box-sizing: border-box;top: 0;bottom: 0;left: 50%;z-index: 0;}#sk-container-id-23 div.sk-serial {display: flex;flex-direction: column;align-items: center;background-color: white;padding-right: 0.2em;padding-left: 0.2em;position: relative;}#sk-container-id-23 div.sk-item {position: relative;z-index: 1;}#sk-container-id-23 div.sk-parallel {display: flex;align-items: stretch;justify-content: center;background-color: white;position: relative;}#sk-container-id-23 div.sk-item::before, #sk-container-id-23 div.sk-parallel-item::before {content: \"\";position: absolute;border-left: 1px solid gray;box-sizing: border-box;top: 0;bottom: 0;left: 50%;z-index: -1;}#sk-container-id-23 div.sk-parallel-item {display: flex;flex-direction: column;z-index: 1;position: relative;background-color: white;}#sk-container-id-23 div.sk-parallel-item:first-child::after {align-self: flex-end;width: 50%;}#sk-container-id-23 div.sk-parallel-item:last-child::after {align-self: flex-start;width: 50%;}#sk-container-id-23 div.sk-parallel-item:only-child::after {width: 0;}#sk-container-id-23 div.sk-dashed-wrapped {border: 1px dashed gray;margin: 0 0.4em 0.5em 0.4em;box-sizing: border-box;padding-bottom: 0.4em;background-color: white;}#sk-container-id-23 div.sk-label label {font-family: monospace;font-weight: bold;display: inline-block;line-height: 1.2em;}#sk-container-id-23 div.sk-label-container {text-align: center;}#sk-container-id-23 div.sk-container {/* jupyter's `normalize.less` sets `[hidden] { display: none; }` but bootstrap.min.css set `[hidden] { display: none !important; }` so we also need the `!important` here to be able to override the default hidden behavior on the sphinx rendered scikit-learn.org. See: https://github.com/scikit-learn/scikit-learn/issues/21755 */display: inline-block !important;position: relative;}#sk-container-id-23 div.sk-text-repr-fallback {display: none;}</style><div id=\"sk-container-id-23\" class=\"sk-top-container\"><div class=\"sk-text-repr-fallback\"><pre>RandomForestClassifier(criterion=&#x27;entropy&#x27;, n_estimators=10)</pre><b>In a Jupyter environment, please rerun this cell to show the HTML representation or trust the notebook. <br />On GitHub, the HTML representation is unable to render, please try loading this page with nbviewer.org.</b></div><div class=\"sk-container\" hidden><div class=\"sk-item\"><div class=\"sk-estimator sk-toggleable\"><input class=\"sk-toggleable__control sk-hidden--visually\" id=\"sk-estimator-id-23\" type=\"checkbox\" checked><label for=\"sk-estimator-id-23\" class=\"sk-toggleable__label sk-toggleable__label-arrow\">RandomForestClassifier</label><div class=\"sk-toggleable__content\"><pre>RandomForestClassifier(criterion=&#x27;entropy&#x27;, n_estimators=10)</pre></div></div></div></div></div>"
      ],
      "text/plain": [
       "RandomForestClassifier(criterion='entropy', n_estimators=10)"
      ]
     },
     "execution_count": 417,
     "metadata": {},
     "output_type": "execute_result"
    }
   ],
   "source": [
    "from sklearn.ensemble import RandomForestClassifier  \n",
    "classifier= RandomForestClassifier(n_estimators= 10, criterion=\"entropy\")  \n",
    "classifier.fit(x_train, y_train)"
   ]
  },
  {
   "cell_type": "code",
   "execution_count": 418,
   "metadata": {},
   "outputs": [
    {
     "name": "stdout",
     "output_type": "stream",
     "text": [
      "['Medium' 'Good' 'Good' 'Good' 'Good' 'Good' 'Medium' 'Good' 'Good' 'Good'\n",
      " 'Medium' 'Good' 'Good' 'Good' 'Medium' 'Good' 'Good' 'Medium' 'Good'\n",
      " 'Good' 'Good' 'Good' 'Good' 'Good' 'Good' 'Good' 'Excellent' 'Good'\n",
      " 'Good' 'Good' 'Good' 'Medium' 'Good' 'Good' 'Good' 'Good' 'Medium' 'Good'\n",
      " 'Good' 'Good' 'Good' 'Medium' 'Good' 'Good' 'Good' 'Medium' 'Good' 'Poor'\n",
      " 'Good' 'Good' 'Good' 'Good' 'Good' 'Excellent' 'Medium' 'Poor' 'Good'\n",
      " 'Medium' 'Good' 'Medium' 'Good' 'Good' 'Medium' 'Medium' 'Good']\n"
     ]
    }
   ],
   "source": [
    "y_pred= classifier.predict(x_test)\n",
    "print(y_pred)"
   ]
  },
  {
   "cell_type": "code",
   "execution_count": 419,
   "metadata": {},
   "outputs": [],
   "source": [
    "#Creating the Confusion matrix  \n",
    "from sklearn.metrics import confusion_matrix  \n",
    "cm= confusion_matrix(y_test, y_pred) "
   ]
  },
  {
   "cell_type": "code",
   "execution_count": 420,
   "metadata": {},
   "outputs": [
    {
     "name": "stdout",
     "output_type": "stream",
     "text": [
      "[[ 2  0  0  0]\n",
      " [ 0 47  0  0]\n",
      " [ 0  0 12  0]\n",
      " [ 0  0  2  2]]\n"
     ]
    }
   ],
   "source": [
    "print(cm)"
   ]
  },
  {
   "cell_type": "code",
   "execution_count": 421,
   "metadata": {},
   "outputs": [
    {
     "data": {
      "image/png": "[encoded data removed]",
      "text/plain": [
       "<Figure size 432x288 with 2 Axes>"
      ]
     },
     "metadata": {
      "needs_background": "light"
     },
     "output_type": "display_data"
    }
   ],
   "source": [
    "from sklearn import metrics\n",
    "\n",
    "cm = metrics.confusion_matrix(y_test, y_pred)\n",
    "\n",
    "cm_display = metrics.ConfusionMatrixDisplay(confusion_matrix = cm, display_labels = ['Excellent','Good','Medium','Poor'])\n",
    "\n",
    "cm_display.plot()\n",
    "plt.show()\n",
    "\n",
    "# [[659  39   0   0]\n",
    "#  [ 19 673  22   0]\n",
    "#  [  0  18 329  18]\n",
    "#  [  0   1  27 305]]\n",
    "\n"
   ]
  },
  {
   "cell_type": "code",
   "execution_count": 422,
   "metadata": {},
   "outputs": [
    {
     "name": "stdout",
     "output_type": "stream",
     "text": [
      "Accuracy =  0.9692307692307692\n"
     ]
    }
   ],
   "source": [
    "accuracy = metrics.accuracy_score(y_test, y_pred)\n",
    "print(\"Accuracy = \",accuracy)\n"
   ]
  }
 ],
 "metadata": {
  "kernelspec": {
   "display_name": "Python 3",
   "language": "python",
   "name": "python3"
  },
  "language_info": {
   "codemirror_mode": {
    "name": "ipython",
    "version": 3
   },
   "file_extension": ".py",
   "mimetype": "text/x-python",
   "name": "python",
   "nbconvert_exporter": "python",
   "pygments_lexer": "ipython3",
   "version": "3.9.6"
  }
 },
 "nbformat": 4,
 "nbformat_minor": 2
}
