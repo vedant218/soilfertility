{
 "cells": [
  {
   "cell_type": "code",
   "execution_count": 30,
   "id": "9c04b494-187e-4def-9487-36c0824d7fd6",
   "metadata": {},
   "outputs": [
    {
     "name": "stdout",
     "output_type": "stream",
     "text": [
      "  VILLAGE_NAME_ENGLISH    PH    EC  Organinc Carbon  PHOSPHOROUS  POTASH  \\\n",
      "0            KURUNDWAD  7.22  0.42              0.6         12.9   400.0   \n",
      "1             ARJUNWAD  7.59  1.10              0.7         26.0   560.0   \n",
      "2             ARJUNWAD  7.58  0.42              0.6         19.0   227.0   \n",
      "\n",
      "   CALCIUM_CARBONATE  FERROUS  MANAGESE  ZINK  COPPER  Total Rating Value  \n",
      "0                5.6     14.4      38.0  0.04    2.14              481.32  \n",
      "1                7.2     26.0      40.0  0.60    5.00              674.19  \n",
      "2                6.8     23.0      38.0  0.40    4.00              326.80  \n"
     ]
    }
   ],
   "source": [
    "import numpy as np\n",
    "import matplotlib.pyplot as plt\n",
    "import pandas as pd\n",
    "\n",
    "data = pd.read_csv('soil_dataset.csv')\n",
    "print(data.head(3))\n"
   ]
  },
  {
   "cell_type": "code",
   "execution_count": 31,
   "id": "9888a275-c6ad-408b-9d66-ba5076bca2a8",
   "metadata": {},
   "outputs": [
    {
     "name": "stdout",
     "output_type": "stream",
     "text": [
      "      VILLAGE_NAME_ENGLISH    PH    EC  Organinc Carbon  PHOSPHOROUS  POTASH  \\\n",
      "0                KURUNDWAD  7.22  0.42             0.60         12.9   400.0   \n",
      "1                 ARJUNWAD  7.59  1.10             0.70         26.0   560.0   \n",
      "2                 ARJUNWAD  7.58  0.42             0.60         19.0   227.0   \n",
      "3                 ARJUNWAD  7.52  0.45             0.50          8.0   188.0   \n",
      "4                 ARJUNWAD  7.78  0.66             0.60          5.0   248.0   \n",
      "...                    ...   ...   ...              ...          ...     ...   \n",
      "10573               SHIROL  7.76  0.22             0.39         63.2   470.0   \n",
      "10574               SHIROL  7.20  0.28             0.36         93.8   717.0   \n",
      "10575          DATTANAGAR   8.08  0.38             0.72         83.2  3750.0   \n",
      "10576               SHIROL  8.08  0.30             0.87         98.5  4255.0   \n",
      "10577             ARJUNWAD  8.41  0.37             0.18         17.8   711.0   \n",
      "\n",
      "       CALCIUM_CARBONATE  FERROUS  MANAGESE  ZINK  COPPER  Total Rating Value  \\\n",
      "0                    5.6     14.4      38.0  0.04    2.14              481.32   \n",
      "1                    7.2     26.0      40.0  0.60    5.00              674.19   \n",
      "2                    6.8     23.0      38.0  0.40    4.00              326.80   \n",
      "3                    6.8     26.0      41.0  0.30    4.00              282.57   \n",
      "4                    7.2     25.0      33.0  0.30    4.00              331.54   \n",
      "...                  ...      ...       ...   ...     ...                 ...   \n",
      "10573                5.6     24.2      16.0  2.11   10.20              599.68   \n",
      "10574                4.4     25.2     171.8  1.80   10.00             1031.84   \n",
      "10575               11.2     31.8      15.6  1.26    9.98             3912.22   \n",
      "10576                7.2     26.5      16.9  1.64   16.40             4431.39   \n",
      "10577               14.0     20.0      14.4  0.98    9.11              796.25   \n",
      "\n",
      "         Quality  \n",
      "0         Medium  \n",
      "1           Good  \n",
      "2           Poor  \n",
      "3           Poor  \n",
      "4           Poor  \n",
      "...          ...  \n",
      "10573       Good  \n",
      "10574  Excellent  \n",
      "10575  Excellent  \n",
      "10576  Excellent  \n",
      "10577  Excellent  \n",
      "\n",
      "[10578 rows x 13 columns]\n"
     ]
    }
   ],
   "source": [
    "data['Quality'] = pd.cut(data[\"Total Rating Value\"],bins=[0,400,500,700,10000],labels=['Poor','Medium','Good','Excellent'])\n",
    "print(data)"
   ]
  },
  {
   "cell_type": "code",
   "execution_count": 32,
   "id": "a6bf2c62-7d89-4e65-9c70-e12a3a9c4df9",
   "metadata": {},
   "outputs": [
    {
     "data": {
      "text/plain": [
       "Good         3729\n",
       "Excellent    3327\n",
       "Medium       1833\n",
       "Poor         1689\n",
       "Name: Quality, dtype: int64"
      ]
     },
     "execution_count": 32,
     "metadata": {},
     "output_type": "execute_result"
    }
   ],
   "source": [
    "data['Quality'].value_counts()"
   ]
  },
  {
   "cell_type": "code",
   "execution_count": 33,
   "id": "ab5a7761-fb82-4dbb-b3be-1b64408cfdad",
   "metadata": {},
   "outputs": [
    {
     "data": {
      "image/png": "[encoded data removed]",
      "text/plain": [
       "<Figure size 432x288 with 1 Axes>"
      ]
     },
     "metadata": {
      "needs_background": "light"
     },
     "output_type": "display_data"
    }
   ],
   "source": [
    "data['Quality'].value_counts().plot(kind='barh')\n",
    "plt.show()"
   ]
  },
  {
   "cell_type": "code",
   "execution_count": 34,
   "id": "9afca43a-0b19-429c-af67-0dccc1b7989b",
   "metadata": {},
   "outputs": [
    {
     "data": {
      "text/plain": [
       "<AxesSubplot:>"
      ]
     },
     "execution_count": 34,
     "metadata": {},
     "output_type": "execute_result"
    },
    {
     "data": {
      "image/png": "[encoded data removed]",
      "text/plain": [
       "<Figure size 432x288 with 1 Axes>"
      ]
     },
     "metadata": {
      "needs_background": "light"
     },
     "output_type": "display_data"
    }
   ],
   "source": [
    "import seaborn as sns\n",
    "sns.boxplot(data['Total Rating Value'])"
   ]
  },
  {
   "cell_type": "code",
   "execution_count": 35,
   "id": "75c53d57-faf7-4e63-98bb-3b327c17db2e",
   "metadata": {},
   "outputs": [
    {
     "name": "stdout",
     "output_type": "stream",
     "text": [
      "[  798  2561  2951  3057  3064  3075  3744  3745  3898  3996  4773  4779\n",
      "  4967  5202  6601  7937  8053  8054  8232  8262  8279  8844 10433 10434\n",
      " 10436 10437 10438 10575 10576]\n"
     ]
    }
   ],
   "source": [
    "deli = np.where(data['Total Rating Value']>1300)\n",
    "print(deli[0])"
   ]
  },
  {
   "cell_type": "code",
   "execution_count": 36,
   "id": "99fd5c8d-6d44-4836-a868-b2d9640be7aa",
   "metadata": {},
   "outputs": [
    {
     "name": "stdout",
     "output_type": "stream",
     "text": [
      "      VILLAGE_NAME_ENGLISH    PH    EC  Organinc Carbon  PHOSPHOROUS  POTASH  \\\n",
      "0                KURUNDWAD  7.22  0.42             0.60         12.9   400.0   \n",
      "1                 ARJUNWAD  7.59  1.10             0.70         26.0   560.0   \n",
      "2                 ARJUNWAD  7.58  0.42             0.60         19.0   227.0   \n",
      "3                 ARJUNWAD  7.52  0.45             0.50          8.0   188.0   \n",
      "4                 ARJUNWAD  7.78  0.66             0.60          5.0   248.0   \n",
      "...                    ...   ...   ...              ...          ...     ...   \n",
      "10573               SHIROL  7.76  0.22             0.39         63.2   470.0   \n",
      "10574               SHIROL  7.20  0.28             0.36         93.8   717.0   \n",
      "10575          DATTANAGAR   8.08  0.38             0.72         83.2  3750.0   \n",
      "10576               SHIROL  8.08  0.30             0.87         98.5  4255.0   \n",
      "10577             ARJUNWAD  8.41  0.37             0.18         17.8   711.0   \n",
      "\n",
      "       CALCIUM_CARBONATE  FERROUS  MANAGESE  ZINK  COPPER  Total Rating Value  \\\n",
      "0                    5.6     14.4      38.0  0.04    2.14              481.32   \n",
      "1                    7.2     26.0      40.0  0.60    5.00              674.19   \n",
      "2                    6.8     23.0      38.0  0.40    4.00              326.80   \n",
      "3                    6.8     26.0      41.0  0.30    4.00              282.57   \n",
      "4                    7.2     25.0      33.0  0.30    4.00              331.54   \n",
      "...                  ...      ...       ...   ...     ...                 ...   \n",
      "10573                5.6     24.2      16.0  2.11   10.20              599.68   \n",
      "10574                4.4     25.2     171.8  1.80   10.00             1031.84   \n",
      "10575               11.2     31.8      15.6  1.26    9.98             3912.22   \n",
      "10576                7.2     26.5      16.9  1.64   16.40             4431.39   \n",
      "10577               14.0     20.0      14.4  0.98    9.11              796.25   \n",
      "\n",
      "         Quality  \n",
      "0         Medium  \n",
      "1           Good  \n",
      "2           Poor  \n",
      "3           Poor  \n",
      "4           Poor  \n",
      "...          ...  \n",
      "10573       Good  \n",
      "10574  Excellent  \n",
      "10575  Excellent  \n",
      "10576  Excellent  \n",
      "10577  Excellent  \n",
      "\n",
      "[10578 rows x 13 columns]\n",
      "      VILLAGE_NAME_ENGLISH    PH    EC  Organinc Carbon  PHOSPHOROUS  POTASH  \\\n",
      "0                KURUNDWAD  7.22  0.42             0.60        12.90   400.0   \n",
      "1                 ARJUNWAD  7.59  1.10             0.70        26.00   560.0   \n",
      "2                 ARJUNWAD  7.58  0.42             0.60        19.00   227.0   \n",
      "3                 ARJUNWAD  7.52  0.45             0.50         8.00   188.0   \n",
      "4                 ARJUNWAD  7.78  0.66             0.60         5.00   248.0   \n",
      "...                    ...   ...   ...              ...          ...     ...   \n",
      "10571               SHIROL  7.38  0.40             0.65         0.55   997.0   \n",
      "10572               SHIROL  7.80  0.26             0.60        59.30   806.0   \n",
      "10573               SHIROL  7.76  0.22             0.39        63.20   470.0   \n",
      "10574               SHIROL  7.20  0.28             0.36        93.80   717.0   \n",
      "10577             ARJUNWAD  8.41  0.37             0.18        17.80   711.0   \n",
      "\n",
      "       CALCIUM_CARBONATE  FERROUS  MANAGESE  ZINK  COPPER  Total Rating Value  \\\n",
      "0                    5.6     14.4      38.0  0.04    2.14              481.32   \n",
      "1                    7.2     26.0      40.0  0.60    5.00              674.19   \n",
      "2                    6.8     23.0      38.0  0.40    4.00              326.80   \n",
      "3                    6.8     26.0      41.0  0.30    4.00              282.57   \n",
      "4                    7.2     25.0      33.0  0.30    4.00              331.54   \n",
      "...                  ...      ...       ...   ...     ...                 ...   \n",
      "10571                5.6     26.2      16.0  2.00   12.80             1068.58   \n",
      "10572                6.8     24.2      16.5  2.28   12.40              936.14   \n",
      "10573                5.6     24.2      16.0  2.11   10.20              599.68   \n",
      "10574                4.4     25.2     171.8  1.80   10.00             1031.84   \n",
      "10577               14.0     20.0      14.4  0.98    9.11              796.25   \n",
      "\n",
      "         Quality  \n",
      "0         Medium  \n",
      "1           Good  \n",
      "2           Poor  \n",
      "3           Poor  \n",
      "4           Poor  \n",
      "...          ...  \n",
      "10571  Excellent  \n",
      "10572  Excellent  \n",
      "10573       Good  \n",
      "10574  Excellent  \n",
      "10577  Excellent  \n",
      "\n",
      "[10549 rows x 13 columns]\n"
     ]
    }
   ],
   "source": [
    "print(data)\n",
    "data.drop(deli[0], inplace = True)\n",
    "print(data)"
   ]
  },
  {
   "cell_type": "code",
   "execution_count": 37,
   "id": "a1763b98-89a3-4642-9709-ca7cc6d0a344",
   "metadata": {},
   "outputs": [
    {
     "data": {
      "text/plain": [
       "<AxesSubplot:>"
      ]
     },
     "execution_count": 37,
     "metadata": {},
     "output_type": "execute_result"
    },
    {
     "data": {
      "image/png": "[encoded data removed]",
      "text/plain": [
       "<Figure size 432x288 with 1 Axes>"
      ]
     },
     "metadata": {
      "needs_background": "light"
     },
     "output_type": "display_data"
    }
   ],
   "source": [
    "import seaborn as sns\n",
    "sns.boxplot(data['Total Rating Value'])"
   ]
  },
  {
   "cell_type": "code",
   "execution_count": 38,
   "id": "56cba478-c640-4854-85aa-402b61c151d6",
   "metadata": {},
   "outputs": [
    {
     "name": "stdout",
     "output_type": "stream",
     "text": [
      "[['KURUNDWAD' 7.22 0.42 ... 38.0 0.04 2.14]\n",
      " ['ARJUNWAD' 7.59 1.1 ... 40.0 0.6 5.0]\n",
      " ['ARJUNWAD' 7.58 0.42 ... 38.0 0.4 4.0]\n",
      " ...\n",
      " ['SHIROL' 7.76 0.22 ... 16.0 2.11 10.2]\n",
      " ['SHIROL' 7.2 0.28 ... 171.8 1.8 10.0]\n",
      " ['ARJUNWAD' 8.41 0.37 ... 14.4 0.98 9.11]]\n",
      "['Medium', 'Good', 'Poor', 'Poor', 'Poor', ..., 'Excellent', 'Excellent', 'Good', 'Excellent', 'Excellent']\n",
      "Length: 10549\n",
      "Categories (4, object): ['Poor' < 'Medium' < 'Good' < 'Excellent']\n"
     ]
    }
   ],
   "source": [
    "x = data.iloc[:,:-2].values\n",
    "print(x)\n",
    "y = data.iloc[:,12].values\n",
    "print(y)"
   ]
  },
  {
   "cell_type": "code",
   "execution_count": 39,
   "id": "e1d47ed1-5cd0-4a1c-8c96-f905cf899267",
   "metadata": {},
   "outputs": [
    {
     "name": "stdout",
     "output_type": "stream",
     "text": [
      "{'AKIWAT': 0, 'ARJUNWAD': 1, 'BORGAON': 2, 'CHAND-SHIRADWAD': 3, 'CHINCHWAD': 4, 'DATTANAGAR ': 5, 'DHARANGUTTI': 6, 'JAMBHALI': 7, 'JANWAD': 8, 'KURUNDWAD': 9, 'MANGAVATI': 10, 'NANDANI': 11, 'RAJAPUR': 12, 'SADALGA': 13, 'SHAHAPUR': 14, 'SHEDBAL': 15, 'SHIRATI': 16, 'SHIRDHON': 17, 'SHIRGUPPI': 18, 'SHIROL': 19, 'TAKALI': 20, 'TERWAD': 21, 'UDGAON': 22} hi\n",
      "[[9 7.22 0.42 ... 38.0 0.04 2.14]\n",
      " [1 7.59 1.1 ... 40.0 0.6 5.0]\n",
      " [1 7.58 0.42 ... 38.0 0.4 4.0]\n",
      " ...\n",
      " [19 7.76 0.22 ... 16.0 2.11 10.2]\n",
      " [19 7.2 0.28 ... 171.8 1.8 10.0]\n",
      " [1 8.41 0.37 ... 14.4 0.98 9.11]]\n"
     ]
    }
   ],
   "source": [
    "from sklearn.preprocessing import LabelEncoder  \n",
    "label_encoder_x= LabelEncoder()  \n",
    "\n",
    "\n",
    "\n",
    "label_encoder_x.fit(x[:,0])\n",
    "x_name_mapping = dict(zip(label_encoder_x.classes_, label_encoder_x.transform(label_encoder_x.classes_)))\n",
    "print(x_name_mapping,\"hi\")\n",
    "\n",
    "\n",
    "x[:, 0]= label_encoder_x.fit_transform(x[:, 0]) \n",
    "print(x)\n",
    "\n"
   ]
  },
  {
   "cell_type": "code",
   "execution_count": 40,
   "id": "b1374133-c762-475d-a04a-fa98b6cf517f",
   "metadata": {},
   "outputs": [
    {
     "name": "stdout",
     "output_type": "stream",
     "text": [
      "[[0.0 0.0 0.0 ... 38.0 0.04 2.14]\n",
      " [0.0 1.0 0.0 ... 40.0 0.6 5.0]\n",
      " [0.0 1.0 0.0 ... 38.0 0.4 4.0]\n",
      " ...\n",
      " [0.0 0.0 0.0 ... 16.0 2.11 10.2]\n",
      " [0.0 0.0 0.0 ... 171.8 1.8 10.0]\n",
      " [0.0 1.0 0.0 ... 14.4 0.98 9.11]]\n"
     ]
    }
   ],
   "source": [
    "from sklearn.preprocessing import OneHotEncoder\n",
    "from sklearn.compose import ColumnTransformer\n",
    "\n",
    "ct = ColumnTransformer([(\"VILLAGE_NAME_ENGLISH\", OneHotEncoder(), [0])], remainder = 'passthrough')\n",
    "x = ct.fit_transform(x)\n",
    "print(x)"
   ]
  },
  {
   "cell_type": "code",
   "execution_count": 41,
   "id": "cb0c8ec1-9991-49d5-9a9e-f1d7f56b57c4",
   "metadata": {},
   "outputs": [],
   "source": [
    "from sklearn.model_selection import train_test_split  \n",
    "x_train, x_test, y_train, y_test= train_test_split(x, y, test_size= 0.2, random_state=0)"
   ]
  },
  {
   "cell_type": "code",
   "execution_count": 42,
   "id": "b23bdec1-22b0-4aa0-8284-e67b77eae754",
   "metadata": {},
   "outputs": [
    {
     "name": "stdout",
     "output_type": "stream",
     "text": [
      "[[0.0 0.0 0.0 ... 1.6 0.8 0.6]\n",
      " [0.0 0.0 0.0 ... 10.5 0.5 6.1]\n",
      " [0.0 0.0 0.0 ... 18.0 0.6 8.4]\n",
      " ...\n",
      " [0.0 0.0 0.0 ... 15.6 0.84 6.26]\n",
      " [0.0 0.0 0.0 ... 7.5 1.5 10.8]\n",
      " [0.0 0.0 0.0 ... 30.0 1.2 1.0]]\n"
     ]
    }
   ],
   "source": [
    "print(x_train)"
   ]
  },
  {
   "cell_type": "code",
   "execution_count": 43,
   "id": "6631e6da-3c3a-4803-bfed-4e2e2ea2ed0c",
   "metadata": {},
   "outputs": [
    {
     "name": "stdout",
     "output_type": "stream",
     "text": [
      "[[0.0 0.0 0.0 ... 36.0 2.4 3.6]\n",
      " [0.0 0.0 0.0 ... 6.97 4.0 7.1]\n",
      " [0.0 0.0 0.0 ... 16.4 2.44 11.46]\n",
      " ...\n",
      " [0.0 0.0 0.0 ... 9.1 1.8 3.6]\n",
      " [0.0 0.0 0.0 ... 26.0 5.6 9.0]\n",
      " [0.0 0.0 0.0 ... 23.4 1.32 10.0]]\n"
     ]
    }
   ],
   "source": [
    "print(x_test)"
   ]
  },
  {
   "cell_type": "code",
   "execution_count": 44,
   "id": "42a7f806-ab26-4a98-93be-35ed33045369",
   "metadata": {},
   "outputs": [
    {
     "name": "stdout",
     "output_type": "stream",
     "text": [
      "['Poor', 'Excellent', 'Poor', 'Good', 'Good', ..., 'Good', 'Medium', 'Good', 'Excellent', 'Medium']\n",
      "Length: 8439\n",
      "Categories (4, object): ['Poor' < 'Medium' < 'Good' < 'Excellent']\n",
      "Poor         1356\n",
      "Medium       1468\n",
      "Good         3015\n",
      "Excellent    2600\n",
      "dtype: int64\n"
     ]
    }
   ],
   "source": [
    "print(y_train)\n",
    "print(y_train.value_counts())"
   ]
  },
  {
   "cell_type": "code",
   "execution_count": 45,
   "id": "9150ad9d-c2f6-4913-9340-a88f727039bd",
   "metadata": {},
   "outputs": [
    {
     "name": "stdout",
     "output_type": "stream",
     "text": [
      "['Poor', 'Excellent', 'Medium', 'Excellent', 'Excellent', ..., 'Good', 'Excellent', 'Excellent', 'Excellent', 'Good']\n",
      "Length: 2110\n",
      "Categories (4, object): ['Poor' < 'Medium' < 'Good' < 'Excellent']\n",
      "Poor         333\n",
      "Medium       365\n",
      "Good         714\n",
      "Excellent    698\n",
      "dtype: int64\n"
     ]
    }
   ],
   "source": [
    "print(y_test)\n",
    "print(y_test.value_counts())"
   ]
  },
  {
   "cell_type": "code",
   "execution_count": 46,
   "id": "c8f04331-1202-4926-9f57-640d81696a7b",
   "metadata": {},
   "outputs": [
    {
     "name": "stdout",
     "output_type": "stream",
     "text": [
      "[[-0.15135749 -0.21017192 -0.21139839 ... -1.02290572 -0.32825945\n",
      "  -1.46896398]\n",
      " [-0.15135749 -0.21017192 -0.21139839 ... -0.44252682 -0.46132589\n",
      "   0.09165789]\n",
      " [-0.15135749 -0.21017192 -0.21139839 ...  0.04655651 -0.41697041\n",
      "   0.74428159]\n",
      " ...\n",
      " [-0.15135749 -0.21017192 -0.21139839 ... -0.10995015 -0.31051726\n",
      "   0.1370578 ]\n",
      " [-0.15135749 -0.21017192 -0.21139839 ... -0.63816016 -0.0177711\n",
      "   1.42528022]\n",
      " [-0.15135749 -0.21017192 -0.21139839 ...  0.82908986 -0.15083754\n",
      "  -1.35546421]]\n"
     ]
    }
   ],
   "source": [
    "from sklearn.preprocessing import StandardScaler\n",
    "st_x= StandardScaler()  \n",
    "x_train= st_x.fit_transform(x_train)  \n",
    "print(x_train)"
   ]
  },
  {
   "cell_type": "code",
   "execution_count": 47,
   "id": "4b03c663-e95f-4cf5-9a09-8aeb73c422f8",
   "metadata": {},
   "outputs": [
    {
     "name": "stdout",
     "output_type": "stream",
     "text": [
      "[[-0.15135749 -0.21017192 -0.21139839 ...  1.22035653  0.38142821\n",
      "  -0.61771569]\n",
      " [-0.15135749 -0.21017192 -0.21139839 ... -0.67272205  1.09111587\n",
      "   0.37540732]\n",
      " [-0.15135749 -0.21017192 -0.21139839 ... -0.05778126  0.3991704\n",
      "   1.61255485]\n",
      " ...\n",
      " [-0.15135749 -0.21017192 -0.21139839 ... -0.53382238  0.11529534\n",
      "  -0.61771569]\n",
      " [-0.15135749 -0.21017192 -0.21139839 ...  0.56824541  1.80080353\n",
      "   0.91453125]\n",
      " [-0.15135749 -0.21017192 -0.21139839 ...  0.39869652 -0.09761096\n",
      "   1.19828068]]\n"
     ]
    }
   ],
   "source": [
    "x_test= st_x.transform(x_test) \n",
    "print(x_test)"
   ]
  },
  {
   "cell_type": "code",
   "execution_count": 48,
   "id": "57bc2b7f-273a-4f2a-a238-469d9048a9ff",
   "metadata": {},
   "outputs": [
    {
     "data": {
      "text/html": [
       "<style>#sk-container-id-1 {color: black;background-color: white;}#sk-container-id-1 pre{padding: 0;}#sk-container-id-1 div.sk-toggleable {background-color: white;}#sk-container-id-1 label.sk-toggleable__label {cursor: pointer;display: block;width: 100%;margin-bottom: 0;padding: 0.3em;box-sizing: border-box;text-align: center;}#sk-container-id-1 label.sk-toggleable__label-arrow:before {content: \"▸\";float: left;margin-right: 0.25em;color: #696969;}#sk-container-id-1 label.sk-toggleable__label-arrow:hover:before {color: black;}#sk-container-id-1 div.sk-estimator:hover label.sk-toggleable__label-arrow:before {color: black;}#sk-container-id-1 div.sk-toggleable__content {max-height: 0;max-width: 0;overflow: hidden;text-align: left;background-color: #f0f8ff;}#sk-container-id-1 div.sk-toggleable__content pre {margin: 0.2em;color: black;border-radius: 0.25em;background-color: #f0f8ff;}#sk-container-id-1 input.sk-toggleable__control:checked~div.sk-toggleable__content {max-height: 200px;max-width: 100%;overflow: auto;}#sk-container-id-1 input.sk-toggleable__control:checked~label.sk-toggleable__label-arrow:before {content: \"▾\";}#sk-container-id-1 div.sk-estimator input.sk-toggleable__control:checked~label.sk-toggleable__label {background-color: #d4ebff;}#sk-container-id-1 div.sk-label input.sk-toggleable__control:checked~label.sk-toggleable__label {background-color: #d4ebff;}#sk-container-id-1 input.sk-hidden--visually {border: 0;clip: rect(1px 1px 1px 1px);clip: rect(1px, 1px, 1px, 1px);height: 1px;margin: -1px;overflow: hidden;padding: 0;position: absolute;width: 1px;}#sk-container-id-1 div.sk-estimator {font-family: monospace;background-color: #f0f8ff;border: 1px dotted black;border-radius: 0.25em;box-sizing: border-box;margin-bottom: 0.5em;}#sk-container-id-1 div.sk-estimator:hover {background-color: #d4ebff;}#sk-container-id-1 div.sk-parallel-item::after {content: \"\";width: 100%;border-bottom: 1px solid gray;flex-grow: 1;}#sk-container-id-1 div.sk-label:hover label.sk-toggleable__label {background-color: #d4ebff;}#sk-container-id-1 div.sk-serial::before {content: \"\";position: absolute;border-left: 1px solid gray;box-sizing: border-box;top: 0;bottom: 0;left: 50%;z-index: 0;}#sk-container-id-1 div.sk-serial {display: flex;flex-direction: column;align-items: center;background-color: white;padding-right: 0.2em;padding-left: 0.2em;position: relative;}#sk-container-id-1 div.sk-item {position: relative;z-index: 1;}#sk-container-id-1 div.sk-parallel {display: flex;align-items: stretch;justify-content: center;background-color: white;position: relative;}#sk-container-id-1 div.sk-item::before, #sk-container-id-1 div.sk-parallel-item::before {content: \"\";position: absolute;border-left: 1px solid gray;box-sizing: border-box;top: 0;bottom: 0;left: 50%;z-index: -1;}#sk-container-id-1 div.sk-parallel-item {display: flex;flex-direction: column;z-index: 1;position: relative;background-color: white;}#sk-container-id-1 div.sk-parallel-item:first-child::after {align-self: flex-end;width: 50%;}#sk-container-id-1 div.sk-parallel-item:last-child::after {align-self: flex-start;width: 50%;}#sk-container-id-1 div.sk-parallel-item:only-child::after {width: 0;}#sk-container-id-1 div.sk-dashed-wrapped {border: 1px dashed gray;margin: 0 0.4em 0.5em 0.4em;box-sizing: border-box;padding-bottom: 0.4em;background-color: white;}#sk-container-id-1 div.sk-label label {font-family: monospace;font-weight: bold;display: inline-block;line-height: 1.2em;}#sk-container-id-1 div.sk-label-container {text-align: center;}#sk-container-id-1 div.sk-container {/* jupyter's `normalize.less` sets `[hidden] { display: none; }` but bootstrap.min.css set `[hidden] { display: none !important; }` so we also need the `!important` here to be able to override the default hidden behavior on the sphinx rendered scikit-learn.org. See: https://github.com/scikit-learn/scikit-learn/issues/21755 */display: inline-block !important;position: relative;}#sk-container-id-1 div.sk-text-repr-fallback {display: none;}</style><div id=\"sk-container-id-1\" class=\"sk-top-container\"><div class=\"sk-text-repr-fallback\"><pre>RandomForestClassifier(criterion=&#x27;entropy&#x27;, n_estimators=10)</pre><b>In a Jupyter environment, please rerun this cell to show the HTML representation or trust the notebook. <br />On GitHub, the HTML representation is unable to render, please try loading this page with nbviewer.org.</b></div><div class=\"sk-container\" hidden><div class=\"sk-item\"><div class=\"sk-estimator sk-toggleable\"><input class=\"sk-toggleable__control sk-hidden--visually\" id=\"sk-estimator-id-1\" type=\"checkbox\" checked><label for=\"sk-estimator-id-1\" class=\"sk-toggleable__label sk-toggleable__label-arrow\">RandomForestClassifier</label><div class=\"sk-toggleable__content\"><pre>RandomForestClassifier(criterion=&#x27;entropy&#x27;, n_estimators=10)</pre></div></div></div></div></div>"
      ],
      "text/plain": [
       "RandomForestClassifier(criterion='entropy', n_estimators=10)"
      ]
     },
     "execution_count": 48,
     "metadata": {},
     "output_type": "execute_result"
    }
   ],
   "source": [
    "from sklearn.ensemble import RandomForestClassifier  \n",
    "classifier= RandomForestClassifier(n_estimators= 10, criterion=\"entropy\")  \n",
    "classifier.fit(x_train, y_train)"
   ]
  },
  {
   "cell_type": "code",
   "execution_count": 49,
   "id": "1d9888cd-5181-437f-8e8a-015303ef4991",
   "metadata": {},
   "outputs": [
    {
     "name": "stdout",
     "output_type": "stream",
     "text": [
      "['Poor' 'Excellent' 'Medium' ... 'Excellent' 'Excellent' 'Good']\n"
     ]
    }
   ],
   "source": [
    "y_pred= classifier.predict(x_test)\n",
    "print(y_pred)"
   ]
  },
  {
   "cell_type": "code",
   "execution_count": 50,
   "id": "96afab31-09bf-4d83-90e9-eeec861a5aee",
   "metadata": {},
   "outputs": [],
   "source": [
    "#Creating the Confusion matrix  \n",
    "from sklearn.metrics import confusion_matrix  \n",
    "cm= confusion_matrix(y_test, y_pred) "
   ]
  },
  {
   "cell_type": "code",
   "execution_count": 51,
   "id": "fa2aa1b7-0163-42b7-aa9e-1398bc5f60c0",
   "metadata": {},
   "outputs": [
    {
     "name": "stdout",
     "output_type": "stream",
     "text": [
      "[[661  37   0   0]\n",
      " [ 13 674  26   1]\n",
      " [  0  27 321  17]\n",
      " [  0   0  36 297]]\n"
     ]
    }
   ],
   "source": [
    "print(cm)"
   ]
  },
  {
   "cell_type": "code",
   "execution_count": 52,
   "id": "66761293-a285-481f-83b6-71a5db1dd7b0",
   "metadata": {},
   "outputs": [
    {
     "data": {
      "image/png": "[encoded data removed]",
      "text/plain": [
       "<Figure size 432x288 with 2 Axes>"
      ]
     },
     "metadata": {
      "needs_background": "light"
     },
     "output_type": "display_data"
    },
    {
     "name": "stdout",
     "output_type": "stream",
     "text": [
      "Accuracy =  0.9255924170616113\n"
     ]
    }
   ],
   "source": [
    "from sklearn import metrics\n",
    "\n",
    "cm = metrics.confusion_matrix(y_test, y_pred)\n",
    "\n",
    "cm_display = metrics.ConfusionMatrixDisplay(confusion_matrix = cm, display_labels = ['Excellent','Good','Medium','Poor'])\n",
    "\n",
    "cm_display.plot()\n",
    "plt.show()\n",
    "\n",
    "# [[659  39   0   0]\n",
    "#  [ 19 673  22   0]\n",
    "#  [  0  18 329  18]\n",
    "#  [  0   1  27 305]]\n",
    "\n",
    "\n",
    "accuracy = metrics.accuracy_score(y_test, y_pred)\n",
    "print(\"Accuracy = \",accuracy)\n",
    "\n"
   ]
  },
  {
   "cell_type": "code",
   "execution_count": null,
   "id": "1b158067-58a1-4297-8ce3-204579d142af",
   "metadata": {},
   "outputs": [],
   "source": []
  }
 ],
 "metadata": {
  "kernelspec": {
   "display_name": "Python 3 (ipykernel)",
   "language": "python",
   "name": "python3"
  },
  "language_info": {
   "codemirror_mode": {
    "name": "ipython",
    "version": 3
   },
   "file_extension": ".py",
   "mimetype": "text/x-python",
   "name": "python",
   "nbconvert_exporter": "python",
   "pygments_lexer": "ipython3",
   "version": "3.9.6"
  },
  "vscode": {
   "interpreter": {
    "hash": "addace58715fedcd6d164199c8c730c961a2c5229accd11ffa569316b8190781"
   }
  }
 },
 "nbformat": 4,
 "nbformat_minor": 5
}
